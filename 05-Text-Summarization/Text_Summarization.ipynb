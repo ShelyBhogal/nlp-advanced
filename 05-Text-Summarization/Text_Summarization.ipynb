{
 "cells": [
  {
   "cell_type": "markdown",
   "id": "e06c2003",
   "metadata": {},
   "source": [
    "# Text Summarization\n",
    "\n",
    "In this exercise, the dataset contains documents of BBC News articles related to business, entertainment, politics, sports and technology. Each document is comprised of several paragraphs that are separated by newline character ('\\n'). Within each paragraph, you can have multiple sentences, which in turn have multiple words. You need to perform sentence-based tokenization and then vectorization on a text document before feeding it into a summarization function.\n",
    "\n",
    "**NOTE:** It is best to use TF-IDF vectorization and sort sentences by their scores indicating the most valuable sentences for summarizing.\n",
    "\n",
    "(data downloaded from https://www.kaggle.com/datasets/shivamkushwaha/bbc-full-text-document-classification)"
   ]
  },
  {
   "cell_type": "code",
   "execution_count": 1,
   "id": "58f3c020",
   "metadata": {},
   "outputs": [],
   "source": [
    "import pandas as pd\n",
    "import numpy as np\n",
    "\n",
    "# For display\n",
    "import textwrap\n",
    "\n",
    "# For tokenization\n",
    "import nltk\n",
    "from nltk.corpus import stopwords\n",
    "from nltk import word_tokenize\n",
    "from nltk.stem import WordNetLemmatizer, PorterStemmer\n",
    "\n",
    "# For vectorization\n",
    "from sklearn.feature_extraction.text import TfidfVectorizer"
   ]
  },
  {
   "cell_type": "code",
   "execution_count": 2,
   "id": "aeb077bd",
   "metadata": {},
   "outputs": [
    {
     "name": "stderr",
     "output_type": "stream",
     "text": [
      "[nltk_data] Downloading package punkt to\n",
      "[nltk_data]     C:\\Users\\shmel\\AppData\\Roaming\\nltk_data...\n",
      "[nltk_data]   Package punkt is already up-to-date!\n",
      "[nltk_data] Downloading package stopwords to\n",
      "[nltk_data]     C:\\Users\\shmel\\AppData\\Roaming\\nltk_data...\n",
      "[nltk_data]   Package stopwords is already up-to-date!\n"
     ]
    },
    {
     "data": {
      "text/plain": [
       "True"
      ]
     },
     "execution_count": 2,
     "metadata": {},
     "output_type": "execute_result"
    }
   ],
   "source": [
    "nltk.download('punkt')\n",
    "nltk.download('stopwords')"
   ]
  },
  {
   "cell_type": "code",
   "execution_count": 2,
   "id": "fcc45dd9",
   "metadata": {},
   "outputs": [],
   "source": [
    "df = pd.read_csv('data/bbc_text_cls.csv')"
   ]
  },
  {
   "cell_type": "code",
   "execution_count": 3,
   "id": "eb15c848",
   "metadata": {},
   "outputs": [
    {
     "data": {
      "text/html": [
       "<div>\n",
       "<style scoped>\n",
       "    .dataframe tbody tr th:only-of-type {\n",
       "        vertical-align: middle;\n",
       "    }\n",
       "\n",
       "    .dataframe tbody tr th {\n",
       "        vertical-align: top;\n",
       "    }\n",
       "\n",
       "    .dataframe thead th {\n",
       "        text-align: right;\n",
       "    }\n",
       "</style>\n",
       "<table border=\"1\" class=\"dataframe\">\n",
       "  <thead>\n",
       "    <tr style=\"text-align: right;\">\n",
       "      <th></th>\n",
       "      <th>text</th>\n",
       "      <th>labels</th>\n",
       "    </tr>\n",
       "  </thead>\n",
       "  <tbody>\n",
       "    <tr>\n",
       "      <th>0</th>\n",
       "      <td>Ad sales boost Time Warner profit\\n\\nQuarterly...</td>\n",
       "      <td>business</td>\n",
       "    </tr>\n",
       "    <tr>\n",
       "      <th>1</th>\n",
       "      <td>Dollar gains on Greenspan speech\\n\\nThe dollar...</td>\n",
       "      <td>business</td>\n",
       "    </tr>\n",
       "    <tr>\n",
       "      <th>2</th>\n",
       "      <td>Yukos unit buyer faces loan claim\\n\\nThe owner...</td>\n",
       "      <td>business</td>\n",
       "    </tr>\n",
       "    <tr>\n",
       "      <th>3</th>\n",
       "      <td>High fuel prices hit BA's profits\\n\\nBritish A...</td>\n",
       "      <td>business</td>\n",
       "    </tr>\n",
       "    <tr>\n",
       "      <th>4</th>\n",
       "      <td>Pernod takeover talk lifts Domecq\\n\\nShares in...</td>\n",
       "      <td>business</td>\n",
       "    </tr>\n",
       "  </tbody>\n",
       "</table>\n",
       "</div>"
      ],
      "text/plain": [
       "                                                text    labels\n",
       "0  Ad sales boost Time Warner profit\\n\\nQuarterly...  business\n",
       "1  Dollar gains on Greenspan speech\\n\\nThe dollar...  business\n",
       "2  Yukos unit buyer faces loan claim\\n\\nThe owner...  business\n",
       "3  High fuel prices hit BA's profits\\n\\nBritish A...  business\n",
       "4  Pernod takeover talk lifts Domecq\\n\\nShares in...  business"
      ]
     },
     "execution_count": 3,
     "metadata": {},
     "output_type": "execute_result"
    }
   ],
   "source": [
    "df.head()"
   ]
  },
  {
   "cell_type": "code",
   "execution_count": 4,
   "id": "8c64d2e2",
   "metadata": {},
   "outputs": [
    {
     "data": {
      "image/png": "[encoded data removed]",
      "text/plain": [
       "<Figure size 640x480 with 1 Axes>"
      ]
     },
     "metadata": {},
     "output_type": "display_data"
    }
   ],
   "source": [
    "# Plot class distribution - fairly well-balanced dataset\n",
    "\n",
    "df['labels'].hist();"
   ]
  },
  {
   "cell_type": "code",
   "execution_count": 6,
   "id": "f7c72e47",
   "metadata": {},
   "outputs": [
    {
     "data": {
      "text/plain": [
       "(2225, 2)"
      ]
     },
     "execution_count": 6,
     "metadata": {},
     "output_type": "execute_result"
    }
   ],
   "source": [
    "df.shape"
   ]
  },
  {
   "cell_type": "markdown",
   "id": "96843ba7",
   "metadata": {},
   "source": [
    "## View document examples"
   ]
  },
  {
   "cell_type": "code",
   "execution_count": 7,
   "id": "590b4b99",
   "metadata": {},
   "outputs": [
    {
     "data": {
      "text/plain": [
       "[\"Muslim police stops 'more likely'\",\n",
       " '',\n",
       " 'UK Muslims should accept that people of Islamic appearance are more likely to be stopped and searched by police, a Home Office minister has said.',\n",
       " '',\n",
       " 'Hazel Blears said innocent Muslims would be targeted because of the search for Islamic extremists. Qualifications for religious leaders to enter the UK could also be made tougher, she told a Commons inquiry. Her comments have been described as \"irresponsible\" and \"outrageous\" by the Islamic Human Rights Commission (IHRC).',\n",
       " '',\n",
       " '\"The threat is most likely to come from those people associated with an extreme form of Islam, or who are falsely hiding behind Islam,\" the Salford MP told the Commons home affairs committee.',\n",
       " '',\n",
       " '\"It means that some of our counter-terrorism powers will be disproportionately experienced by the Muslim community.\" It was a reality that should be recognised, she said. \"If a threat is from a particular place then our action is going to be targeted at that area,\" she added. On ministers of religions, such as imams, she said faith groups would be asked what other qualifications and skills, such as civic knowledge and ability to engage the community, should be demanded. Last year, ministers introduced a requirement that ministers should speak English to a certain level.',\n",
       " '',\n",
       " 'IHRC chairman Massoud Shadjareh accused Ms Blears of \"playing an Islamophobia card\" in the run-up to a general election.',\n",
       " '',\n",
       " '\"She is demonising and alienating our community,\" he said. \"It is a legitimisation for a backlash and for racists to have an onslaught on our community. \"This sort of comment is just music to the ears of racists.\" Later, the prime minister\\'s official spokesman urged people to put Ms Blears\\' comments into context. The minister had been saying she understood there was a perception that stop and search was aimed at one community, but that was not what was happening, the spokesman said.',\n",
       " '',\n",
       " '\"What is happening is that those powers are aimed at those who are suspected of carrying out or planning certain activity who happen to come from one community. \"It is not aimed at a particular community, it is not police policy to aim these powers at a particular community,\" he added. Statistics showed that of the 17 people found guilty of terrorist acts in the UK since the 11 September attacks, only four of the 12 whose ethnic backgrounds were known were Muslim, he added Figures published last week showed that people from ethnic minorities were increasingly likely to be targeted by police stop and search tactics.',\n",
       " '',\n",
       " 'Figures showed that, for 2003/2004, Asians were 1.9 times more likely to be stopped and searched, compared with 1.7 times more likely in the previous year. Separate figures on police searches in England and Wales carried out under the Terrorism Act 2000 showed that ethnic minorities were more likely to be targeted. Muslim groups have repeatedly claimed that their communities are being victimised under terror laws. In 2003/2004, 12.5% searches under the laws were on Asian people, even though they make up 4.7% of the population. Last July, the police were accused of Islamophobia by Muslim groups after stop and search figures showed the numbers of Asians targeted had risen by 300% since the introduction of anti-terror laws.']"
      ]
     },
     "execution_count": 7,
     "metadata": {},
     "output_type": "execute_result"
    }
   ],
   "source": [
    "# View text example - split text at every '\\n' into list\n",
    "\n",
    "df.loc[1000, 'text'].split('\\n')"
   ]
  },
  {
   "cell_type": "markdown",
   "id": "fc415dbc",
   "metadata": {},
   "source": [
    "**Note that every article starts with a heading or title (first-occurring single sentence ending with '\\n')**"
   ]
  },
  {
   "cell_type": "code",
   "execution_count": 8,
   "id": "91cf3508",
   "metadata": {},
   "outputs": [
    {
     "data": {
      "text/plain": [
       "[\"Muslim police stops 'more likely'\",\n",
       " '\\nUK Muslims should accept that people of Islamic appearance are more likely to be stopped and searched by police, a Home Office minister has said.\\n\\nHazel Blears said innocent Muslims would be targeted because of the search for Islamic extremists. Qualifications for religious leaders to enter the UK could also be made tougher, she told a Commons inquiry. Her comments have been described as \"irresponsible\" and \"outrageous\" by the Islamic Human Rights Commission (IHRC).\\n\\n\"The threat is most likely to come from those people associated with an extreme form of Islam, or who are falsely hiding behind Islam,\" the Salford MP told the Commons home affairs committee.\\n\\n\"It means that some of our counter-terrorism powers will be disproportionately experienced by the Muslim community.\" It was a reality that should be recognised, she said. \"If a threat is from a particular place then our action is going to be targeted at that area,\" she added. On ministers of religions, such as imams, she said faith groups would be asked what other qualifications and skills, such as civic knowledge and ability to engage the community, should be demanded. Last year, ministers introduced a requirement that ministers should speak English to a certain level.\\n\\nIHRC chairman Massoud Shadjareh accused Ms Blears of \"playing an Islamophobia card\" in the run-up to a general election.\\n\\n\"She is demonising and alienating our community,\" he said. \"It is a legitimisation for a backlash and for racists to have an onslaught on our community. \"This sort of comment is just music to the ears of racists.\" Later, the prime minister\\'s official spokesman urged people to put Ms Blears\\' comments into context. The minister had been saying she understood there was a perception that stop and search was aimed at one community, but that was not what was happening, the spokesman said.\\n\\n\"What is happening is that those powers are aimed at those who are suspected of carrying out or planning certain activity who happen to come from one community. \"It is not aimed at a particular community, it is not police policy to aim these powers at a particular community,\" he added. Statistics showed that of the 17 people found guilty of terrorist acts in the UK since the 11 September attacks, only four of the 12 whose ethnic backgrounds were known were Muslim, he added Figures published last week showed that people from ethnic minorities were increasingly likely to be targeted by police stop and search tactics.\\n\\nFigures showed that, for 2003/2004, Asians were 1.9 times more likely to be stopped and searched, compared with 1.7 times more likely in the previous year. Separate figures on police searches in England and Wales carried out under the Terrorism Act 2000 showed that ethnic minorities were more likely to be targeted. Muslim groups have repeatedly claimed that their communities are being victimised under terror laws. In 2003/2004, 12.5% searches under the laws were on Asian people, even though they make up 4.7% of the population. Last July, the police were accused of Islamophobia by Muslim groups after stop and search figures showed the numbers of Asians targeted had risen by 300% since the introduction of anti-terror laws.']"
      ]
     },
     "execution_count": 8,
     "metadata": {},
     "output_type": "execute_result"
    }
   ],
   "source": [
    "# Split text once only, at 1st-occuring '\\n', so output is two strings in a list\n",
    "\n",
    "df.loc[1000, 'text'].split('\\n', 1)"
   ]
  },
  {
   "cell_type": "markdown",
   "id": "8dca584b",
   "metadata": {},
   "source": [
    "**By using `split()` function on a document, you can separate the text document into the title and the body, output in a list.**\n",
    "\n",
    "You do this because it is only the body of the article that you want to process. You can use the article title at the end, to compare with the summary output to assess the extraction process."
   ]
  },
  {
   "cell_type": "code",
   "execution_count": 10,
   "id": "a292e168",
   "metadata": {},
   "outputs": [
    {
     "data": {
      "text/plain": [
       "\"Muslim police stops 'more likely'\""
      ]
     },
     "execution_count": 10,
     "metadata": {},
     "output_type": "execute_result"
    }
   ],
   "source": [
    "# View article title (type of summary in itself)\n",
    "\n",
    "df.loc[1000, 'text'].split('\\n', 1)[0]"
   ]
  },
  {
   "cell_type": "code",
   "execution_count": 11,
   "id": "574e0bdb",
   "metadata": {},
   "outputs": [
    {
     "data": {
      "text/plain": [
       "'\\nUK Muslims should accept that people of Islamic appearance are more likely to be stopped and searched by police, a Home Office minister has said.\\n\\nHazel Blears said innocent Muslims would be targeted because of the search for Islamic extremists. Qualifications for religious leaders to enter the UK could also be made tougher, she told a Commons inquiry. Her comments have been described as \"irresponsible\" and \"outrageous\" by the Islamic Human Rights Commission (IHRC).\\n\\n\"The threat is most likely to come from those people associated with an extreme form of Islam, or who are falsely hiding behind Islam,\" the Salford MP told the Commons home affairs committee.\\n\\n\"It means that some of our counter-terrorism powers will be disproportionately experienced by the Muslim community.\" It was a reality that should be recognised, she said. \"If a threat is from a particular place then our action is going to be targeted at that area,\" she added. On ministers of religions, such as imams, she said faith groups would be asked what other qualifications and skills, such as civic knowledge and ability to engage the community, should be demanded. Last year, ministers introduced a requirement that ministers should speak English to a certain level.\\n\\nIHRC chairman Massoud Shadjareh accused Ms Blears of \"playing an Islamophobia card\" in the run-up to a general election.\\n\\n\"She is demonising and alienating our community,\" he said. \"It is a legitimisation for a backlash and for racists to have an onslaught on our community. \"This sort of comment is just music to the ears of racists.\" Later, the prime minister\\'s official spokesman urged people to put Ms Blears\\' comments into context. The minister had been saying she understood there was a perception that stop and search was aimed at one community, but that was not what was happening, the spokesman said.\\n\\n\"What is happening is that those powers are aimed at those who are suspected of carrying out or planning certain activity who happen to come from one community. \"It is not aimed at a particular community, it is not police policy to aim these powers at a particular community,\" he added. Statistics showed that of the 17 people found guilty of terrorist acts in the UK since the 11 September attacks, only four of the 12 whose ethnic backgrounds were known were Muslim, he added Figures published last week showed that people from ethnic minorities were increasingly likely to be targeted by police stop and search tactics.\\n\\nFigures showed that, for 2003/2004, Asians were 1.9 times more likely to be stopped and searched, compared with 1.7 times more likely in the previous year. Separate figures on police searches in England and Wales carried out under the Terrorism Act 2000 showed that ethnic minorities were more likely to be targeted. Muslim groups have repeatedly claimed that their communities are being victimised under terror laws. In 2003/2004, 12.5% searches under the laws were on Asian people, even though they make up 4.7% of the population. Last July, the police were accused of Islamophobia by Muslim groups after stop and search figures showed the numbers of Asians targeted had risen by 300% since the introduction of anti-terror laws.'"
      ]
     },
     "execution_count": 11,
     "metadata": {},
     "output_type": "execute_result"
    }
   ],
   "source": [
    "# View article body (for summarization)\n",
    "\n",
    "df.loc[1000, 'text'].split('\\n', 1)[1]"
   ]
  },
  {
   "cell_type": "markdown",
   "id": "fb481422",
   "metadata": {},
   "source": [
    "## 1) Obtain randomly-sampled document"
   ]
  },
  {
   "cell_type": "code",
   "execution_count": 12,
   "id": "15a17291",
   "metadata": {},
   "outputs": [],
   "source": [
    "# Obtain random business document\n",
    "\n",
    "business_doc = df[df.labels == 'business']['text'].sample()"
   ]
  },
  {
   "cell_type": "code",
   "execution_count": 13,
   "id": "23cd8464",
   "metadata": {},
   "outputs": [
    {
     "data": {
      "text/plain": [
       "179    Dollar drops on reserves concerns\\n\\nThe US do...\n",
       "Name: text, dtype: object"
      ]
     },
     "execution_count": 13,
     "metadata": {},
     "output_type": "execute_result"
    }
   ],
   "source": [
    "# Pandas Series\n",
    "\n",
    "business_doc"
   ]
  },
  {
   "cell_type": "code",
   "execution_count": 14,
   "id": "883a0ea6",
   "metadata": {},
   "outputs": [
    {
     "data": {
      "text/plain": [
       "'Dollar drops on reserves concerns\\n\\nThe US dollar has dropped against major currencies on concerns that central banks may cut the amount of dollars they hold in their foreign reserves.\\n\\nComments by South Korea\\'s central bank at the end of last week have sparked the recent round of dollar declines. South Korea, which has about $200bn in foreign reserves, said it plans instead to boost holdings of currencies such as the Australian and Canadian dollar. Analysts reckon that other nations may follow suit and now ditch the dollar. At 1300 GMT, the euro was up 0.9% on the day at 1.3187 euros per US dollar. The British pound had added 0.5% to break through the $1.90 level, while the dollar had fallen by 1.3% against the Japanese yen to trade at 104.16 yen.\\n\\nAt the start of the year, the US currency, which had lost 7% against the euro in the final three months of 2004 and had fallen to record lows, staged something of a recovery.\\n\\nAnalysts, however, pointed to the dollar\\'s inability recently to extend that rally despite positive economic and corporate data, and highlighted the fact that many of the US\\'s economic problems had not disappeared. The focus once again has been on the country\\'s massive trade and budget deficits, with predictions of more dollar weakness to come. \"The comments from Korea came at a time when sentiment towards the dollar was already softening,\" said Ian Gunner, a trader at Mellon Financial. On Tuesday, traders in Asia said that both South Korea and Taiwan had withdrawn their bids to buy dollars at the start of the session. Mansoor Mohi-Uddin, chief currency strategist at UBS, said that there was a sentiment in the market that \"central banks from Asia and the Middle East are buying euros\". A report last month already showed that the dollar was losing its allure as a currency that offered rock-steady returns and stability. Compiled by Central Banking Publications and sponsored by the UK\\'s Royal Bank of Scotland, the survey found 39 nations out of 65 questioned were increasing their euro holdings, with 29 cutting back on the US dollar.'"
      ]
     },
     "execution_count": 14,
     "metadata": {},
     "output_type": "execute_result"
    }
   ],
   "source": [
    "# To access text use .iloc[0]\n",
    "\n",
    "business_doc.iloc[0]"
   ]
  },
  {
   "cell_type": "code",
   "execution_count": 15,
   "id": "815e4681",
   "metadata": {},
   "outputs": [],
   "source": [
    "# Function to view full text wrapped beautifully - note that text must be input directly (not Series)\n",
    "\n",
    "def wrap(x):\n",
    "    return textwrap.fill(x, replace_whitespace=False, fix_sentence_endings=True)"
   ]
  },
  {
   "cell_type": "code",
   "execution_count": 16,
   "id": "29ab95ad",
   "metadata": {},
   "outputs": [
    {
     "name": "stdout",
     "output_type": "stream",
     "text": [
      "Dollar drops on reserves concerns\n",
      "\n",
      "The US dollar has dropped against\n",
      "major currencies on concerns that central banks may cut the amount of\n",
      "dollars they hold in their foreign reserves.\n",
      "\n",
      "Comments by South\n",
      "Korea's central bank at the end of last week have sparked the recent\n",
      "round of dollar declines.  South Korea, which has about $200bn in\n",
      "foreign reserves, said it plans instead to boost holdings of\n",
      "currencies such as the Australian and Canadian dollar.  Analysts\n",
      "reckon that other nations may follow suit and now ditch the dollar.\n",
      "At 1300 GMT, the euro was up 0.9% on the day at 1.3187 euros per US\n",
      "dollar.  The British pound had added 0.5% to break through the $1.90\n",
      "level, while the dollar had fallen by 1.3% against the Japanese yen to\n",
      "trade at 104.16 yen.\n",
      "\n",
      "At the start of the year, the US currency, which\n",
      "had lost 7% against the euro in the final three months of 2004 and had\n",
      "fallen to record lows, staged something of a recovery.\n",
      "\n",
      "Analysts,\n",
      "however, pointed to the dollar's inability recently to extend that\n",
      "rally despite positive economic and corporate data, and highlighted\n",
      "the fact that many of the US's economic problems had not disappeared.\n",
      "The focus once again has been on the country's massive trade and\n",
      "budget deficits, with predictions of more dollar weakness to come.\n",
      "\"The comments from Korea came at a time when sentiment towards the\n",
      "dollar was already softening,\" said Ian Gunner, a trader at Mellon\n",
      "Financial.  On Tuesday, traders in Asia said that both South Korea and\n",
      "Taiwan had withdrawn their bids to buy dollars at the start of the\n",
      "session.  Mansoor Mohi-Uddin, chief currency strategist at UBS, said\n",
      "that there was a sentiment in the market that \"central banks from Asia\n",
      "and the Middle East are buying euros\". A report last month already\n",
      "showed that the dollar was losing its allure as a currency that\n",
      "offered rock-steady returns and stability.  Compiled by Central\n",
      "Banking Publications and sponsored by the UK's Royal Bank of Scotland,\n",
      "the survey found 39 nations out of 65 questioned were increasing their\n",
      "euro holdings, with 29 cutting back on the US dollar.\n"
     ]
    }
   ],
   "source": [
    "# Print wrapped text from business doc - use .iloc[0] on Series\n",
    "\n",
    "print(wrap(business_doc.iloc[0]))"
   ]
  },
  {
   "cell_type": "markdown",
   "id": "3a49e96f",
   "metadata": {},
   "source": [
    "## 2) Tokenize the document body into sentences"
   ]
  },
  {
   "cell_type": "code",
   "execution_count": 17,
   "id": "6443751c",
   "metadata": {},
   "outputs": [],
   "source": [
    "# Input article body to NLTK function (omit article title)\n",
    "\n",
    "sentences = nltk.sent_tokenize(business_doc.iloc[0].split(\"\\n\", 1)[1])"
   ]
  },
  {
   "cell_type": "code",
   "execution_count": 18,
   "id": "5210a30b",
   "metadata": {},
   "outputs": [
    {
     "data": {
      "text/plain": [
       "['\\nThe US dollar has dropped against major currencies on concerns that central banks may cut the amount of dollars they hold in their foreign reserves.',\n",
       " \"Comments by South Korea's central bank at the end of last week have sparked the recent round of dollar declines.\",\n",
       " 'South Korea, which has about $200bn in foreign reserves, said it plans instead to boost holdings of currencies such as the Australian and Canadian dollar.',\n",
       " 'Analysts reckon that other nations may follow suit and now ditch the dollar.',\n",
       " 'At 1300 GMT, the euro was up 0.9% on the day at 1.3187 euros per US dollar.',\n",
       " 'The British pound had added 0.5% to break through the $1.90 level, while the dollar had fallen by 1.3% against the Japanese yen to trade at 104.16 yen.',\n",
       " 'At the start of the year, the US currency, which had lost 7% against the euro in the final three months of 2004 and had fallen to record lows, staged something of a recovery.',\n",
       " \"Analysts, however, pointed to the dollar's inability recently to extend that rally despite positive economic and corporate data, and highlighted the fact that many of the US's economic problems had not disappeared.\",\n",
       " \"The focus once again has been on the country's massive trade and budget deficits, with predictions of more dollar weakness to come.\",\n",
       " '\"The comments from Korea came at a time when sentiment towards the dollar was already softening,\" said Ian Gunner, a trader at Mellon Financial.',\n",
       " 'On Tuesday, traders in Asia said that both South Korea and Taiwan had withdrawn their bids to buy dollars at the start of the session.',\n",
       " 'Mansoor Mohi-Uddin, chief currency strategist at UBS, said that there was a sentiment in the market that \"central banks from Asia and the Middle East are buying euros\".',\n",
       " 'A report last month already showed that the dollar was losing its allure as a currency that offered rock-steady returns and stability.',\n",
       " \"Compiled by Central Banking Publications and sponsored by the UK's Royal Bank of Scotland, the survey found 39 nations out of 65 questioned were increasing their euro holdings, with 29 cutting back on the US dollar.\"]"
      ]
     },
     "execution_count": 18,
     "metadata": {},
     "output_type": "execute_result"
    }
   ],
   "source": [
    "sentences"
   ]
  },
  {
   "cell_type": "markdown",
   "id": "0f0b9c13",
   "metadata": {},
   "source": [
    "## 3) Use TF-IDF Vectorizer to score each sentence"
   ]
  },
  {
   "cell_type": "code",
   "execution_count": 19,
   "id": "782d1bf1",
   "metadata": {},
   "outputs": [],
   "source": [
    "# Use TF-IDF vectorizer with stopwords removed and L1 regularization\n",
    "\n",
    "featurizer = TfidfVectorizer(stop_words=stopwords.words('english'), norm='l1')"
   ]
  },
  {
   "cell_type": "code",
   "execution_count": 20,
   "id": "d7199ad0",
   "metadata": {},
   "outputs": [],
   "source": [
    "# Train vectorizer on sentences from business article & transform sentences to TF-IDF matrix\n",
    "\n",
    "X = featurizer.fit_transform(sentences)"
   ]
  },
  {
   "cell_type": "code",
   "execution_count": 21,
   "id": "2a5abbaa",
   "metadata": {},
   "outputs": [],
   "source": [
    "# Function to obtain average TF-IDF score from each row in sparse matrix\n",
    "\n",
    "def get_sentence_score(tfidf_row):\n",
    "    # Return average of non-zero values from vector representation of a sentence \n",
    "    x = tfidf_row[tfidf_row != 0] \n",
    "    \n",
    "    return x.mean()"
   ]
  },
  {
   "cell_type": "code",
   "execution_count": 22,
   "id": "92e02c57",
   "metadata": {},
   "outputs": [],
   "source": [
    "# Set up empty array for scoring each sentence\n",
    "scores = np.zeros(len(sentences))\n",
    "\n",
    "# Loop through sentences and add TF-IDF score using function above\n",
    "for i in range(len(sentences)):\n",
    "    score = get_sentence_score(X[i, :])\n",
    "    scores[i] = score\n",
    "    \n",
    "\n",
    "# THESE TWO CODE BLOCKS CAN BE DONE IN ONE LINE USING LIST COMPREHENSION"
   ]
  },
  {
   "cell_type": "code",
   "execution_count": 23,
   "id": "f5cae298",
   "metadata": {},
   "outputs": [
    {
     "data": {
      "text/plain": [
       "array([0.06666667, 0.07692308, 0.07142857, 0.125     , 0.11111111,\n",
       "       0.07692308, 0.0625    , 0.05263158, 0.1       , 0.06666667,\n",
       "       0.07692308, 0.05882353, 0.07142857, 0.04347826])"
      ]
     },
     "execution_count": 23,
     "metadata": {},
     "output_type": "execute_result"
    }
   ],
   "source": [
    "# Array populated with TF-IDF scores for each sentence from business article\n",
    "\n",
    "scores"
   ]
  },
  {
   "cell_type": "code",
   "execution_count": 24,
   "id": "2f85342d",
   "metadata": {},
   "outputs": [
    {
     "data": {
      "text/plain": [
       "14"
      ]
     },
     "execution_count": 24,
     "metadata": {},
     "output_type": "execute_result"
    }
   ],
   "source": [
    "len(scores)"
   ]
  },
  {
   "cell_type": "code",
   "execution_count": 25,
   "id": "8653b329",
   "metadata": {},
   "outputs": [],
   "source": [
    "# Obtain index numbers of sorted TF-IDF scores, in descending order\n",
    "\n",
    "sort_idx = np.argsort(-scores)"
   ]
  },
  {
   "cell_type": "code",
   "execution_count": 26,
   "id": "9b537bbc",
   "metadata": {},
   "outputs": [
    {
     "data": {
      "text/plain": [
       "array([ 3,  4,  8,  1,  5, 10,  2, 12,  0,  9,  6, 11,  7, 13],\n",
       "      dtype=int64)"
      ]
     },
     "execution_count": 26,
     "metadata": {},
     "output_type": "execute_result"
    }
   ],
   "source": [
    "sort_idx"
   ]
  },
  {
   "cell_type": "markdown",
   "id": "4a817711",
   "metadata": {},
   "source": [
    "**There are many options for how to choose which sentences to include:**\n",
    "\n",
    "* top N number of sentences\n",
    "* top N number of words or characters.\n",
    "* top X% of sentences or top X% of words\n",
    "* sentences with scores > greater than the average score\n",
    "* sentences with scores > greater than the factor * average score\n",
    "\n",
    "**NOTE:** You also don't have to sort the output. Sometimes, it will make more sense in ascending order.\n",
    "\n",
    "In this exercise, you will pick the top five sentences and print out the average TF-IDF score with the sentence:\n"
   ]
  },
  {
   "cell_type": "code",
   "execution_count": 27,
   "id": "f589c462",
   "metadata": {},
   "outputs": [
    {
     "name": "stdout",
     "output_type": "stream",
     "text": [
      "Generated summary:\n",
      "\n",
      "0.12: Analysts reckon that other nations may follow suit and now ditch\n",
      "the dollar.\n",
      "0.11: At 1300 GMT, the euro was up 0.9% on the day at 1.3187 euros per\n",
      "US dollar.\n",
      "0.10: The focus once again has been on the country's massive trade and\n",
      "budget deficits, with predictions of more dollar weakness to come.\n",
      "0.08: Comments by South Korea's central bank at the end of last week\n",
      "have sparked the recent round of dollar declines.\n",
      "0.08: The British pound had added 0.5% to break through the $1.90\n",
      "level, while the dollar had fallen by 1.3% against the Japanese yen to\n",
      "trade at 104.16 yen.\n"
     ]
    }
   ],
   "source": [
    "print(\"Generated summary:\\n\")\n",
    "\n",
    "for i in sort_idx[:5]:\n",
    "    print(wrap(\"%.2f: %s\" % (scores[i], sentences[i])))"
   ]
  },
  {
   "cell_type": "code",
   "execution_count": 32,
   "id": "82fd1af5",
   "metadata": {},
   "outputs": [
    {
     "data": {
      "text/plain": [
       "array([3, 4, 8, 1, 5], dtype=int64)"
      ]
     },
     "execution_count": 32,
     "metadata": {},
     "output_type": "execute_result"
    }
   ],
   "source": [
    "# You may want to see the sentences in the order in which they were originally printed\n",
    "\n",
    "sort_idx[:5]"
   ]
  },
  {
   "cell_type": "code",
   "execution_count": 28,
   "id": "036c3aca",
   "metadata": {},
   "outputs": [
    {
     "data": {
      "text/plain": [
       "'Dollar drops on reserves concerns'"
      ]
     },
     "execution_count": 28,
     "metadata": {},
     "output_type": "execute_result"
    }
   ],
   "source": [
    "# Obtain article title to compare\n",
    "\n",
    "business_doc.iloc[0].split(\"\\n\", 1)[0]"
   ]
  },
  {
   "cell_type": "code",
   "execution_count": 30,
   "id": "66f527f7",
   "metadata": {},
   "outputs": [
    {
     "name": "stdout",
     "output_type": "stream",
     "text": [
      "\n",
      "The US dollar has dropped against major currencies on concerns that\n",
      "central banks may cut the amount of dollars they hold in their foreign\n",
      "reserves.\n",
      "\n",
      "Comments by South Korea's central bank at the end of last\n",
      "week have sparked the recent round of dollar declines.  South Korea,\n",
      "which has about $200bn in foreign reserves, said it plans instead to\n",
      "boost holdings of currencies such as the Australian and Canadian\n",
      "dollar.  Analysts reckon that other nations may follow suit and now\n",
      "ditch the dollar.  At 1300 GMT, the euro was up 0.9% on the day at\n",
      "1.3187 euros per US dollar.  The British pound had added 0.5% to break\n",
      "through the $1.90 level, while the dollar had fallen by 1.3% against\n",
      "the Japanese yen to trade at 104.16 yen.\n",
      "\n",
      "At the start of the year,\n",
      "the US currency, which had lost 7% against the euro in the final three\n",
      "months of 2004 and had fallen to record lows, staged something of a\n",
      "recovery.\n",
      "\n",
      "Analysts, however, pointed to the dollar's inability\n",
      "recently to extend that rally despite positive economic and corporate\n",
      "data, and highlighted the fact that many of the US's economic problems\n",
      "had not disappeared.  The focus once again has been on the country's\n",
      "massive trade and budget deficits, with predictions of more dollar\n",
      "weakness to come.  \"The comments from Korea came at a time when\n",
      "sentiment towards the dollar was already softening,\" said Ian Gunner,\n",
      "a trader at Mellon Financial.  On Tuesday, traders in Asia said that\n",
      "both South Korea and Taiwan had withdrawn their bids to buy dollars at\n",
      "the start of the session.  Mansoor Mohi-Uddin, chief currency\n",
      "strategist at UBS, said that there was a sentiment in the market that\n",
      "\"central banks from Asia and the Middle East are buying euros\". A\n",
      "report last month already showed that the dollar was losing its allure\n",
      "as a currency that offered rock-steady returns and stability.\n",
      "Compiled by Central Banking Publications and sponsored by the UK's\n",
      "Royal Bank of Scotland, the survey found 39 nations out of 65\n",
      "questioned were increasing their euro holdings, with 29 cutting back\n",
      "on the US dollar.\n"
     ]
    }
   ],
   "source": [
    "# Obtain original body to compare\n",
    "\n",
    "print(wrap(business_doc.iloc[0].split(\"\\n\", 1)[1]))"
   ]
  },
  {
   "cell_type": "markdown",
   "id": "b51a21cb",
   "metadata": {},
   "source": [
    "# Create function to summarize document"
   ]
  },
  {
   "cell_type": "code",
   "execution_count": 33,
   "id": "f7835fa9",
   "metadata": {},
   "outputs": [],
   "source": [
    "# Function to summarize artice\n",
    "\n",
    "def summarize(text):\n",
    "    # Extract sentences by tokenization\n",
    "    sents = nltk.sent_tokenize(text)\n",
    "    \n",
    "    # Perform TF-IDF vectorization \n",
    "    X = featurizer.fit_transform(sents)\n",
    "    \n",
    "    # Compute scores for each sentence\n",
    "    scores = np.zeros(len(sents))\n",
    "    for i in range(len(sents)):\n",
    "        score = get_sentence_score(X[i,:])\n",
    "        scores[i] = score\n",
    "        \n",
    "    # Sort the scores\n",
    "    sort_idx = np.argsort(-scores)\n",
    "    \n",
    "    # Print summary\n",
    "    for i in sort_idx[:5]:\n",
    "        print(wrap(\"%.2f: %s\" % (scores[i], sents[i])))"
   ]
  },
  {
   "cell_type": "code",
   "execution_count": 39,
   "id": "31e07d28",
   "metadata": {},
   "outputs": [],
   "source": [
    "# Obtain random entertainment article\n",
    "\n",
    "doc = df[df.labels == 'entertainment']['text'].sample()"
   ]
  },
  {
   "cell_type": "code",
   "execution_count": 40,
   "id": "34606044",
   "metadata": {},
   "outputs": [
    {
     "name": "stdout",
     "output_type": "stream",
     "text": [
      "0.25: If this isn't one of the films of the year, I don't know what\n",
      "is.\"\n",
      "0.10: The awards, which were hosted by Jack Dee, are to be screened on\n",
      "ITV London on Tuesday at 2300 GMT.\n",
      "0.09: Other winners included Paddy Considine, who was crowned best\n",
      "actor for his role in Dead Man's Shoes.\n",
      "0.08: Pawlikowski won the best screenplay statuette, while Roger\n",
      "Deakins won the Technical Achievement Award for his cinematography on\n",
      "The Village and The Ladykillers.\n",
      "0.08: Simon Pegg, who stars in and co-wrote Shaun of the Dead, won the\n",
      "2004 Peter Sellers Award For Comedy.\n"
     ]
    }
   ],
   "source": [
    "# Summarize the entertainment article body\n",
    "\n",
    "summarize(doc.iloc[0].split(\"\\n\", 1)[1])"
   ]
  },
  {
   "cell_type": "code",
   "execution_count": 41,
   "id": "340994e1",
   "metadata": {},
   "outputs": [
    {
     "data": {
      "text/plain": [
       "'Vera Drake scoops film award'"
      ]
     },
     "execution_count": 41,
     "metadata": {},
     "output_type": "execute_result"
    }
   ],
   "source": [
    "# Title for random entertainment article\n",
    "\n",
    "doc.iloc[0].split(\"\\n\", 1)[0]"
   ]
  },
  {
   "cell_type": "code",
   "execution_count": 42,
   "id": "231d86bf",
   "metadata": {},
   "outputs": [
    {
     "name": "stdout",
     "output_type": "stream",
     "text": [
      "\n",
      "Oscar hopefuls Mike Leigh and Imelda Staunton were both winners at\n",
      "the 2004 Evening Standard British Film Awards.\n",
      "\n",
      "Vera Drake - Leigh's\n",
      "1950s drama about a backstreet abortionist - was named best film and\n",
      "Staunton, who played the title role, was named best actress.  Other\n",
      "winners included Paddy Considine, who was crowned best actor for his\n",
      "role in Dead Man's Shoes.  Bridget Jones: The Edge of Reason was named\n",
      "Evening Standard Readers' Film of 2004 at the central London ceremony.\n",
      "Leigh was presented with his winner's statuette by Timothy Spall and\n",
      "Staunton's award was announced by Patrick Stewart, during the\n",
      "glittering ceremony at The Savoy on Sunday night.  Evening Standard\n",
      "film critic Derek Malcolm said: \"He [Leigh] has never made a film that\n",
      "is better controlled and technically more secure... If this isn't one\n",
      "of the films of the year, I don't know what is.\"  The Alexander Walker\n",
      "Special Award - which honours those who have made a supreme\n",
      "contribution to British film - went to Tim Bevan and Eric Fellner, the\n",
      "co-chairmen of Working Title films.  The production company is behind\n",
      "films such as My Beautiful Laundrette, Billy Elliot, About A Boy,\n",
      "Shaun of The Dead and Bridget Jones: The Edge of Reason.\n",
      "\n",
      "Simon Pegg,\n",
      "who stars in and co-wrote Shaun of the Dead, won the 2004 Peter\n",
      "Sellers Award For Comedy.  Other winners included Emily Blunt and\n",
      "Nathalie Press who were jointly named ITV London Most Promising\n",
      "Newcomer Award for their performances in Pawel Pawlikowski's rites-of-\n",
      "passage story, My Summer of Love.  Pawlikowski won the best screenplay\n",
      "statuette, while Roger Deakins won the Technical Achievement Award for\n",
      "his cinematography on The Village and The Ladykillers.  Guests at the\n",
      "ceremony included Dame Judi Dench, Kim Cattrall, Charles Dance, Bill\n",
      "Nighy and Colin Firth.  The awards, which were hosted by Jack Dee, are\n",
      "to be screened on ITV London on Tuesday at 2300 GMT.\n"
     ]
    }
   ],
   "source": [
    "# Body of original random entertainment article\n",
    "\n",
    "print(wrap(doc.iloc[0].split(\"\\n\", 1)[1]))"
   ]
  },
  {
   "cell_type": "markdown",
   "id": "d381f54b",
   "metadata": {},
   "source": [
    "#### Based on your own understanding, how well is the document summarized?"
   ]
  },
  {
   "cell_type": "code",
   "execution_count": null,
   "id": "00b76218",
   "metadata": {},
   "outputs": [],
   "source": []
  }
 ],
 "metadata": {
  "kernelspec": {
   "display_name": "Python 3 (ipykernel)",
   "language": "python",
   "name": "python3"
  },
  "language_info": {
   "codemirror_mode": {
    "name": "ipython",
    "version": 3
   },
   "file_extension": ".py",
   "mimetype": "text/x-python",
   "name": "python",
   "nbconvert_exporter": "python",
   "pygments_lexer": "ipython3",
   "version": "3.9.16"
  }
 },
 "nbformat": 4,
 "nbformat_minor": 5
}
