{
 "cells": [
  {
   "cell_type": "code",
   "execution_count": 28,
   "id": "794ae98a",
   "metadata": {},
   "outputs": [],
   "source": [
    "import numpy as np\n",
    "import pandas as pd\n",
    "\n",
    "# Vectorization functions from SciKit-Learn\n",
    "from sklearn.feature_extraction.text import CountVectorizer\n",
    "from sklearn.naive_bayes import MultinomialNB\n",
    "from sklearn.model_selection import train_test_split\n",
    "\n",
    "# Tokenization functions from NLTK\n",
    "import nltk\n",
    "from nltk import word_tokenize\n",
    "from nltk.stem import WordNetLemmatizer, PorterStemmer\n",
    "from nltk.corpus import wordnet"
   ]
  },
  {
   "cell_type": "code",
   "execution_count": 2,
   "id": "fcaaeb41",
   "metadata": {},
   "outputs": [
    {
     "name": "stderr",
     "output_type": "stream",
     "text": [
      "[nltk_data] Downloading package punkt to\n",
      "[nltk_data]     C:\\Users\\shmel\\AppData\\Roaming\\nltk_data...\n",
      "[nltk_data]   Unzipping tokenizers\\punkt.zip.\n"
     ]
    },
    {
     "data": {
      "text/plain": [
       "True"
      ]
     },
     "execution_count": 2,
     "metadata": {},
     "output_type": "execute_result"
    }
   ],
   "source": [
    "# Only need to download once\n",
    "\n",
    "#nltk.download(\"wordnet\")\n",
    "#nltk.download('punkt')\n",
    "#nltk.download('averaged_perceptron_tagger')\n",
    "#nltk.download('omw-1.4')"
   ]
  },
  {
   "cell_type": "markdown",
   "id": "f62e3444",
   "metadata": {},
   "source": [
    "You can use command line to download data from internet, as long as the URL link is valid:\n",
    "\n",
    "`!wget -nc https://lazyprogrammer.me/course_files/nlp/bbc_text_cls.csv`\n",
    "\n",
    "Note that file is already stored in repo folder.\n",
    "\n",
    "# Exploratory data analysis"
   ]
  },
  {
   "cell_type": "code",
   "execution_count": 3,
   "id": "ba4875c8",
   "metadata": {},
   "outputs": [],
   "source": [
    "df = pd.read_csv('data/bbc_text_cls.csv')"
   ]
  },
  {
   "cell_type": "code",
   "execution_count": 4,
   "id": "d10fbb0e",
   "metadata": {},
   "outputs": [
    {
     "data": {
      "text/html": [
       "<div>\n",
       "<style scoped>\n",
       "    .dataframe tbody tr th:only-of-type {\n",
       "        vertical-align: middle;\n",
       "    }\n",
       "\n",
       "    .dataframe tbody tr th {\n",
       "        vertical-align: top;\n",
       "    }\n",
       "\n",
       "    .dataframe thead th {\n",
       "        text-align: right;\n",
       "    }\n",
       "</style>\n",
       "<table border=\"1\" class=\"dataframe\">\n",
       "  <thead>\n",
       "    <tr style=\"text-align: right;\">\n",
       "      <th></th>\n",
       "      <th>text</th>\n",
       "      <th>labels</th>\n",
       "    </tr>\n",
       "  </thead>\n",
       "  <tbody>\n",
       "    <tr>\n",
       "      <th>0</th>\n",
       "      <td>Ad sales boost Time Warner profit\\n\\nQuarterly...</td>\n",
       "      <td>business</td>\n",
       "    </tr>\n",
       "    <tr>\n",
       "      <th>1</th>\n",
       "      <td>Dollar gains on Greenspan speech\\n\\nThe dollar...</td>\n",
       "      <td>business</td>\n",
       "    </tr>\n",
       "    <tr>\n",
       "      <th>2</th>\n",
       "      <td>Yukos unit buyer faces loan claim\\n\\nThe owner...</td>\n",
       "      <td>business</td>\n",
       "    </tr>\n",
       "    <tr>\n",
       "      <th>3</th>\n",
       "      <td>High fuel prices hit BA's profits\\n\\nBritish A...</td>\n",
       "      <td>business</td>\n",
       "    </tr>\n",
       "    <tr>\n",
       "      <th>4</th>\n",
       "      <td>Pernod takeover talk lifts Domecq\\n\\nShares in...</td>\n",
       "      <td>business</td>\n",
       "    </tr>\n",
       "  </tbody>\n",
       "</table>\n",
       "</div>"
      ],
      "text/plain": [
       "                                                text    labels\n",
       "0  Ad sales boost Time Warner profit\\n\\nQuarterly...  business\n",
       "1  Dollar gains on Greenspan speech\\n\\nThe dollar...  business\n",
       "2  Yukos unit buyer faces loan claim\\n\\nThe owner...  business\n",
       "3  High fuel prices hit BA's profits\\n\\nBritish A...  business\n",
       "4  Pernod takeover talk lifts Domecq\\n\\nShares in...  business"
      ]
     },
     "execution_count": 4,
     "metadata": {},
     "output_type": "execute_result"
    }
   ],
   "source": [
    "df.head()"
   ]
  },
  {
   "cell_type": "code",
   "execution_count": 5,
   "id": "ed6f4de8",
   "metadata": {},
   "outputs": [
    {
     "data": {
      "text/plain": [
       "(2225, 2)"
      ]
     },
     "execution_count": 5,
     "metadata": {},
     "output_type": "execute_result"
    }
   ],
   "source": [
    "# 2,225 rows and 2 columns \n",
    "\n",
    "df.shape"
   ]
  },
  {
   "cell_type": "code",
   "execution_count": 41,
   "id": "3ee31f8f",
   "metadata": {},
   "outputs": [
    {
     "data": {
      "text/plain": [
       "'Ad sales boost Time Warner profit\\n\\nQuarterly profits at US media giant TimeWarner jumped 76% to $1.13bn (£600m) for the three months to December, from $639m year-earlier.\\n\\nThe firm, which is now one of the biggest investors in Google, benefited from sales of high-speed internet connections and higher advert sales. TimeWarner said fourth quarter sales rose 2% to $11.1bn from $10.9bn. Its profits were buoyed by one-off gains which offset a profit dip at Warner Bros, and less users for AOL.\\n\\nTime Warner said on Friday that it now owns 8% of search-engine Google. But its own internet business, AOL, had has mixed fortunes. It lost 464,000 subscribers in the fourth quarter profits were lower than in the preceding three quarters. However, the company said AOL\\'s underlying profit before exceptional items rose 8% on the back of stronger internet advertising revenues. It hopes to increase subscribers by offering the online service free to TimeWarner internet customers and will try to sign up AOL\\'s existing customers for high-speed broadband. TimeWarner also has to restate 2000 and 2003 results following a probe by the US Securities Exchange Commission (SEC), which is close to concluding.\\n\\nTime Warner\\'s fourth quarter profits were slightly better than analysts\\' expectations. But its film division saw profits slump 27% to $284m, helped by box-office flops Alexander and Catwoman, a sharp contrast to year-earlier, when the third and final film in the Lord of the Rings trilogy boosted results. For the full-year, TimeWarner posted a profit of $3.36bn, up 27% from its 2003 performance, while revenues grew 6.4% to $42.09bn. \"Our financial performance was strong, meeting or exceeding all of our full-year objectives and greatly enhancing our flexibility,\" chairman and chief executive Richard Parsons said. For 2005, TimeWarner is projecting operating earnings growth of around 5%, and also expects higher revenue and wider profit margins.\\n\\nTimeWarner is to restate its accounts as part of efforts to resolve an inquiry into AOL by US market regulators. It has already offered to pay $300m to settle charges, in a deal that is under review by the SEC. The company said it was unable to estimate the amount it needed to set aside for legal reserves, which it previously set at $500m. It intends to adjust the way it accounts for a deal with German music publisher Bertelsmann\\'s purchase of a stake in AOL Europe, which it had reported as advertising revenue. It will now book the sale of its stake in AOL Europe as a loss on the value of that stake.'"
      ]
     },
     "execution_count": 41,
     "metadata": {},
     "output_type": "execute_result"
    }
   ],
   "source": [
    "# Belongs to business category\n",
    "\n",
    "df['text'][0]"
   ]
  },
  {
   "cell_type": "code",
   "execution_count": 6,
   "id": "ffa07a06",
   "metadata": {},
   "outputs": [],
   "source": [
    "inputs = df['text']\n",
    "\n",
    "labels = df['labels']"
   ]
  },
  {
   "cell_type": "code",
   "execution_count": 12,
   "id": "bbb67763",
   "metadata": {},
   "outputs": [
    {
     "data": {
      "image/png": "[encoded data removed]",
      "text/plain": [
       "<Figure size 1000x500 with 1 Axes>"
      ]
     },
     "metadata": {},
     "output_type": "display_data"
    }
   ],
   "source": [
    "labels.hist(figsize=(10, 5));"
   ]
  },
  {
   "cell_type": "code",
   "execution_count": 13,
   "id": "3e8444f0",
   "metadata": {},
   "outputs": [],
   "source": [
    "# The text entries can belong to one of five categories - majority in business and sport but not too much variation\n",
    "# Well-balanced dataset"
   ]
  },
  {
   "cell_type": "code",
   "execution_count": 45,
   "id": "f8841d6d",
   "metadata": {},
   "outputs": [
    {
     "data": {
      "text/plain": [
       "'Gallery unveils interactive tree\\n\\nA Christmas tree that can receive text messages has been unveiled at London\\'s Tate Britain art gallery.\\n\\nThe spruce has an antenna which can receive Bluetooth texts sent by visitors to the Tate. The messages will be \"unwrapped\" by sculptor Richard Wentworth, who is responsible for decorating the tree with broken plates and light bulbs. It is the 17th year that the gallery has invited an artist to dress their Christmas tree. Artists who have decorated the Tate tree in previous years include Tracey Emin in 2002.\\n\\nThe plain green Norway spruce is displayed in the gallery\\'s foyer. Its light bulb adornments are dimmed, ordinary domestic ones joined together with string. The plates decorating the branches will be auctioned off for the children\\'s charity ArtWorks. Wentworth worked as an assistant to sculptor Henry Moore in the late 1960s. His reputation as a sculptor grew in the 1980s, while he has been one of the most influential teachers during the last two decades. Wentworth is also known for his photography of mundane, everyday subjects such as a cigarette packet jammed under the wonky leg of a table.'"
      ]
     },
     "execution_count": 45,
     "metadata": {},
     "output_type": "execute_result"
    }
   ],
   "source": [
    "df[df['labels'] == 'entertainment']['text'].loc[510]"
   ]
  },
  {
   "cell_type": "code",
   "execution_count": 51,
   "id": "dc861b0f",
   "metadata": {},
   "outputs": [],
   "source": [
    "# Split input and label columns into training and test sets\n",
    "\n",
    "input_train, input_test, Y_train, Y_test = train_test_split(inputs, labels, random_state=123)"
   ]
  },
  {
   "cell_type": "code",
   "execution_count": 52,
   "id": "477ba312",
   "metadata": {},
   "outputs": [],
   "source": [
    "# Instantiate vectorizer object\n",
    "\n",
    "vectorizer = CountVectorizer()"
   ]
  },
  {
   "cell_type": "code",
   "execution_count": 53,
   "id": "ef3950b5",
   "metadata": {},
   "outputs": [],
   "source": [
    "# Train vectorizer with training set and vectorize training set\n",
    "X_train = vectorizer.fit_transform(input_train)\n",
    "\n",
    "# Vectorize test set\n",
    "X_test = vectorizer.transform(input_test)"
   ]
  },
  {
   "cell_type": "code",
   "execution_count": 54,
   "id": "714e3956",
   "metadata": {},
   "outputs": [
    {
     "data": {
      "text/plain": [
       "(1668, 26287)"
      ]
     },
     "execution_count": 54,
     "metadata": {},
     "output_type": "execute_result"
    }
   ],
   "source": [
    "# Sparse matrix with 1,668 rows (no of text samples) and 26,287 columns (no of words)\n",
    "\n",
    "X_train.shape"
   ]
  },
  {
   "cell_type": "code",
   "execution_count": 55,
   "id": "9e6062c3",
   "metadata": {},
   "outputs": [
    {
     "data": {
      "text/plain": [
       "<1668x26287 sparse matrix of type '<class 'numpy.int64'>'\n",
       "\twith 337411 stored elements in Compressed Sparse Row format>"
      ]
     },
     "execution_count": 55,
     "metadata": {},
     "output_type": "execute_result"
    }
   ],
   "source": [
    "X_train"
   ]
  },
  {
   "cell_type": "code",
   "execution_count": 58,
   "id": "547b5b4f",
   "metadata": {},
   "outputs": [
    {
     "name": "stdout",
     "output_type": "stream",
     "text": [
      "The sum of non-zero values: 337411\n"
     ]
    }
   ],
   "source": [
    "# How much do all non-zero values in matrix add up to - matches number of stored elements, i.e. every value equals one\n",
    "print(\"The sum of non-zero values:\", (X_train != 0).sum())"
   ]
  },
  {
   "cell_type": "code",
   "execution_count": 57,
   "id": "d8eb8851",
   "metadata": {},
   "outputs": [
    {
     "name": "stdout",
     "output_type": "stream",
     "text": [
      "The number of non-zero values: 337411\n"
     ]
    }
   ],
   "source": [
    "# Number of non-zero values\n",
    "\n",
    "print(\"The number of non-zero values:\", X_train.nnz)"
   ]
  },
  {
   "cell_type": "code",
   "execution_count": 59,
   "id": "9d955a6d",
   "metadata": {},
   "outputs": [
    {
     "data": {
      "text/plain": [
       "0.7695239935415004"
      ]
     },
     "execution_count": 59,
     "metadata": {},
     "output_type": "execute_result"
    }
   ],
   "source": [
    "# What percentage of values are non-zero? Approx. 0.8% of matrix is non-zero values\n",
    "# Divide the sum of non-zero values by the product of rows-by-cols\n",
    "\n",
    "(X_train != 0).sum() / np.prod(X_train.shape) * 100"
   ]
  },
  {
   "cell_type": "code",
   "execution_count": 60,
   "id": "c5f7fd5d",
   "metadata": {},
   "outputs": [
    {
     "data": {
      "text/plain": [
       "0.7695239935415004"
      ]
     },
     "execution_count": 60,
     "metadata": {},
     "output_type": "execute_result"
    }
   ],
   "source": [
    "# Alternative using nnz method\n",
    "sparsity = (100.0 * X_train.nnz / (X_train.shape[0] * X_train.shape[1]))\n",
    "\n",
    "sparsity"
   ]
  },
  {
   "cell_type": "code",
   "execution_count": 61,
   "id": "1d316b83",
   "metadata": {},
   "outputs": [
    {
     "name": "stdout",
     "output_type": "stream",
     "text": [
      "Training score: 0.992\n",
      "Test score: 0.971\n"
     ]
    }
   ],
   "source": [
    "# Instantiate Multinomial probabilistic model\n",
    "model = MultinomialNB()\n",
    "\n",
    "# Train model with vectorized input\n",
    "model.fit(X_train, Y_train)\n",
    "\n",
    "# Print accuracy scores\n",
    "print(\"Training score:\", round(model.score(X_train, Y_train), 3))\n",
    "print(\"Test score:\", round(model.score(X_test, Y_test), 3))"
   ]
  },
  {
   "cell_type": "code",
   "execution_count": null,
   "id": "5cc8dfbe",
   "metadata": {},
   "outputs": [],
   "source": [
    "# Very good scores ~97% accuracy with 26,287 words"
   ]
  },
  {
   "cell_type": "code",
   "execution_count": 66,
   "id": "0b832032",
   "metadata": {},
   "outputs": [],
   "source": [
    "# Use custom function from lemmatization session to obtain correct part-of-speech tag\n",
    "\n",
    "def get_wordnet_pos(treebank_tag):\n",
    "    if treebank_tag.startswith('J') or treebank_tag.startswith('I'):\n",
    "        return wordnet.ADJ\n",
    "    elif treebank_tag.startswith('V'):\n",
    "        return wordnet.VERB\n",
    "    elif treebank_tag.startswith('N'):\n",
    "        return wordnet.NOUN\n",
    "    elif treebank_tag.startswith('R'):\n",
    "        return wordnet.ADV\n",
    "    else:\n",
    "        return wordnet.NOUN"
   ]
  },
  {
   "cell_type": "markdown",
   "id": "67971f7d",
   "metadata": {},
   "source": [
    "You could create a Class object to tokenize and lemmatize words with correct part-of-speech tagging:\n",
    "\n",
    "`class LemmaTokenizer:`\n",
    "    \n",
    "    def __init__(self):\n",
    "        \n",
    "        self.wnl = WordNetLemmatizer()\n",
    "        \n",
    "        def __call__(self, doc):\n",
    "            \n",
    "            tokens = word_tokenize(doc)\n",
    "            \n",
    "            words_and_tags = nltk.pos_tag(tokens)\n",
    "            \n",
    "            return [self.wnl.lemmatize(word, pos=get_wordnet_pos(tag)) for word, tag in words_and_tags]\n",
    "            \n",
    "            \n",
    "Then call the Class object in the `tokenizer` argument of count vectorizer."
   ]
  },
  {
   "cell_type": "markdown",
   "id": "0792861d",
   "metadata": {},
   "source": [
    "You can check whether Class object is callable:\n",
    "\n",
    "`callable(LemmaTokenizer)`"
   ]
  },
  {
   "cell_type": "code",
   "execution_count": 92,
   "id": "4e718cdb",
   "metadata": {},
   "outputs": [],
   "source": [
    "# Function that uses part-of-speech tagging function to tokenize and lemmatize text sample\n",
    "\n",
    "def lemmaTokenizer(doc):\n",
    "    wnl = WordNetLemmatizer()\n",
    "    tokens = word_tokenize(doc)\n",
    "    words_and_tags = nltk.pos_tag(tokens)\n",
    "    return [wnl.lemmatize(word, pos=get_wordnet_pos(tag)) for word, tag in words_and_tags]"
   ]
  },
  {
   "cell_type": "code",
   "execution_count": 94,
   "id": "289c9867",
   "metadata": {},
   "outputs": [
    {
     "name": "stdout",
     "output_type": "stream",
     "text": [
      "train score: 0.992\n",
      "test score: 0.968\n"
     ]
    }
   ],
   "source": [
    "# Count vectorize text with function above and classify text using NB probabilities\n",
    "\n",
    "vectorizer = CountVectorizer(tokenizer=lemmaTokenizer, analyzer='word')\n",
    "\n",
    "X_train = vectorizer.fit_transform(input_train)\n",
    "X_test = vectorizer.transform(input_test)\n",
    "\n",
    "model = MultinomialNB()\n",
    "model.fit(X_train, Y_train)\n",
    "\n",
    "print(\"train score:\", round(model.score(X_train, Y_train), 3))\n",
    "print(\"test score:\", round(model.score(X_test, Y_test), 3))"
   ]
  },
  {
   "cell_type": "code",
   "execution_count": null,
   "id": "066b07de",
   "metadata": {},
   "outputs": [],
   "source": [
    "X_train.shape"
   ]
  },
  {
   "cell_type": "code",
   "execution_count": null,
   "id": "9aae5d94",
   "metadata": {},
   "outputs": [],
   "source": [
    "# Interestingly, with lemmatization it is slightly worse, ~96.8% with words"
   ]
  },
  {
   "cell_type": "markdown",
   "id": "5e773e47",
   "metadata": {},
   "source": [
    "You can create a Class object to stem the words instead of lemmatization:\n",
    "\n",
    "`class StemTokenizer:`\n",
    "\n",
    "    def __init__(self):\n",
    "    \n",
    "        self.porter = PorterStemmer()\n",
    "        \n",
    "        def __call__(self, doc):\n",
    "        \n",
    "            tokens = word_tokenize(doc)\n",
    "            \n",
    "            return [self.porter.stem(t) for t in tokens]\n",
    "            \n",
    "            \n",
    "And call the Class object in tokenizer argument for the count vectorizer."
   ]
  },
  {
   "cell_type": "code",
   "execution_count": 96,
   "id": "d64c07f0",
   "metadata": {},
   "outputs": [],
   "source": [
    "# Function to stem words in text sample per Porter rules\n",
    "\n",
    "def stem_tokenizer(doc):\n",
    "    porter = PorterStemmer()\n",
    "    tokens = word_tokenize(doc)\n",
    "    return [porter.stem(t) for t in tokens]"
   ]
  },
  {
   "cell_type": "code",
   "execution_count": 98,
   "id": "3b1180f2",
   "metadata": {},
   "outputs": [
    {
     "name": "stdout",
     "output_type": "stream",
     "text": [
      "Training score: 0.989\n",
      "Test score: 0.969\n"
     ]
    }
   ],
   "source": [
    "# Count vectorize text with stemming tokenizer and classify text using NB probabilities\n",
    "\n",
    "vectorizer = CountVectorizer(tokenizer=stem_tokenizer, analyzer='word')\n",
    "\n",
    "X_train = vectorizer.fit_transform(input_train)\n",
    "X_test = vectorizer.transform(input_test)\n",
    "\n",
    "model = MultinomialNB()\n",
    "model.fit(X_train, Y_train)\n",
    "\n",
    "print(\"Training score:\", round(model.score(X_train, Y_train), 3))\n",
    "print(\"Test score:\", round(model.score(X_test, Y_test), 3))"
   ]
  },
  {
   "cell_type": "code",
   "execution_count": null,
   "id": "c38851c3",
   "metadata": {},
   "outputs": [],
   "source": [
    "X_train.shape"
   ]
  },
  {
   "cell_type": "code",
   "execution_count": null,
   "id": "c49dd8c7",
   "metadata": {},
   "outputs": [],
   "source": [
    "# Results about the same as with lemmatization, ~96.9% accuracy with words"
   ]
  },
  {
   "cell_type": "code",
   "execution_count": 85,
   "id": "f9bba5f2",
   "metadata": {},
   "outputs": [],
   "source": [
    "# Lets try without any stemming or lemmatization at all, i.e. simple splitting method\n",
    "\n",
    "def simple_tokenizer(s):\n",
    "    return s.split()"
   ]
  },
  {
   "cell_type": "code",
   "execution_count": 91,
   "id": "1643b2e4",
   "metadata": {},
   "outputs": [
    {
     "name": "stdout",
     "output_type": "stream",
     "text": [
      "train score: 0.995\n",
      "test score: 0.971\n"
     ]
    }
   ],
   "source": [
    "# Count vectorize with basic splitting method and classify text using NB probabilities\n",
    "vectorizer = CountVectorizer(tokenizer=simple_tokenizer, analyzer='word')\n",
    "\n",
    "X_train = vectorizer.fit_transform(input_train)\n",
    "X_test = vectorizer.transform(input_test)\n",
    "\n",
    "model = MultinomialNB()\n",
    "model.fit(X_train, Y_train)\n",
    "\n",
    "print(\"train score:\", round(model.score(X_train, Y_train), 3))\n",
    "print(\"test score:\", round(model.score(X_test, Y_test), 3))"
   ]
  },
  {
   "cell_type": "code",
   "execution_count": null,
   "id": "24619851",
   "metadata": {},
   "outputs": [],
   "source": [
    "# The results are the same as using the default tokenizer, if not slightly better."
   ]
  },
  {
   "cell_type": "markdown",
   "id": "071a7e15",
   "metadata": {},
   "source": [
    "# What is the vector dimensionality in each case?\n",
    "# Compare them and consider why they are larger / smaller\n"
   ]
  },
  {
   "cell_type": "code",
   "execution_count": 99,
   "id": "cf9a2f91",
   "metadata": {},
   "outputs": [
    {
     "data": {
      "text/plain": [
       "(1668, 22828)"
      ]
     },
     "execution_count": 99,
     "metadata": {},
     "output_type": "execute_result"
    }
   ],
   "source": [
    "# 22,828 words - less than the number of tokens from default tokenizer, which explains higher score\n",
    "\n",
    "X_train.shape"
   ]
  },
  {
   "cell_type": "markdown",
   "id": "d63e237a",
   "metadata": {},
   "source": [
    "**The training set that yielded the greatest number of words, i.e. largest vocabulary, was by using process.**\n",
    "\n",
    "**The training set that yielded the least number of words, i.e. smallest vocabulary, was by using process.**\n",
    "\n",
    "According the probability results, the best method of tokenization is to use the simple string-splitting tokenizer, but this is only relevant for a single model instance. More testing is required.\n",
    "\n",
    "It is worth noting that lemmatization tokenization took the longest to compute.\n"
   ]
  }
 ],
 "metadata": {
  "kernelspec": {
   "display_name": "Python 3 (ipykernel)",
   "language": "python",
   "name": "python3"
  },
  "language_info": {
   "codemirror_mode": {
    "name": "ipython",
    "version": 3
   },
   "file_extension": ".py",
   "mimetype": "text/x-python",
   "name": "python",
   "nbconvert_exporter": "python",
   "pygments_lexer": "ipython3",
   "version": "3.7.16"
  }
 },
 "nbformat": 4,
 "nbformat_minor": 5
}
