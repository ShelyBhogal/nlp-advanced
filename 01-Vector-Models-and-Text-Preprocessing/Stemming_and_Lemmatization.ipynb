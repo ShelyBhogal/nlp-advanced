{
 "cells": [
  {
   "cell_type": "code",
   "execution_count": 1,
   "id": "3d81f2a2",
   "metadata": {},
   "outputs": [
    {
     "name": "stdout",
     "output_type": "stream",
     "text": [
      "s is a token\n",
      "o is a token\n",
      "m is a token\n",
      "e is a token\n",
      "  is a token\n",
      "s is a token\n",
      "t is a token\n",
      "r is a token\n",
      "i is a token\n",
      "n is a token\n",
      "g is a token\n"
     ]
    }
   ],
   "source": [
    "# Character-based tokenization using Python\n",
    "\n",
    "s = 'some string'\n",
    "\n",
    "for c in s:\n",
    "    print(f\"{c} is a token\")"
   ]
  },
  {
   "cell_type": "code",
   "execution_count": 3,
   "id": "fa18f440",
   "metadata": {},
   "outputs": [
    {
     "data": {
      "text/plain": [
       "['my', 'sample', 'text']"
      ]
     },
     "execution_count": 3,
     "metadata": {},
     "output_type": "execute_result"
    }
   ],
   "source": [
    "# Word-based tokenization using Python\n",
    "\n",
    "text = 'my sample text'\n",
    "\n",
    "split_text = [word for word in text.split()]\n",
    "\n",
    "split_text"
   ]
  },
  {
   "cell_type": "markdown",
   "id": "bd494985",
   "metadata": {},
   "source": [
    "**Import NLTK library**"
   ]
  },
  {
   "cell_type": "code",
   "execution_count": 2,
   "id": "04ed01a7",
   "metadata": {},
   "outputs": [],
   "source": [
    "import nltk"
   ]
  },
  {
   "cell_type": "markdown",
   "id": "4a0b1c36",
   "metadata": {},
   "source": [
    "# Stemming\n",
    "\n",
    "**Refers to chopping off ends of words in an effort to remove variations of a word, e.g. running to run (this should happen after tokenization).**"
   ]
  },
  {
   "cell_type": "code",
   "execution_count": 4,
   "id": "dd71131b",
   "metadata": {},
   "outputs": [],
   "source": [
    "from nltk.stem import PorterStemmer"
   ]
  },
  {
   "cell_type": "code",
   "execution_count": 5,
   "id": "4ee2f435",
   "metadata": {},
   "outputs": [],
   "source": [
    "# Initialize stemmer object\n",
    "\n",
    "porter = PorterStemmer()"
   ]
  },
  {
   "cell_type": "code",
   "execution_count": 6,
   "id": "2ce6fdcc",
   "metadata": {},
   "outputs": [
    {
     "data": {
      "text/plain": [
       "'walk'"
      ]
     },
     "execution_count": 6,
     "metadata": {},
     "output_type": "execute_result"
    }
   ],
   "source": [
    "porter.stem(\"walking\")"
   ]
  },
  {
   "cell_type": "code",
   "execution_count": 7,
   "id": "f66aeaaf",
   "metadata": {},
   "outputs": [
    {
     "data": {
      "text/plain": [
       "'walk'"
      ]
     },
     "execution_count": 7,
     "metadata": {},
     "output_type": "execute_result"
    }
   ],
   "source": [
    "porter.stem(\"walked\")"
   ]
  },
  {
   "cell_type": "code",
   "execution_count": 8,
   "id": "0cb51a27",
   "metadata": {},
   "outputs": [
    {
     "data": {
      "text/plain": [
       "'walk'"
      ]
     },
     "execution_count": 8,
     "metadata": {},
     "output_type": "execute_result"
    }
   ],
   "source": [
    "porter.stem(\"walks\")"
   ]
  },
  {
   "cell_type": "code",
   "execution_count": 9,
   "id": "592f375e",
   "metadata": {},
   "outputs": [
    {
     "data": {
      "text/plain": [
       "'ran'"
      ]
     },
     "execution_count": 9,
     "metadata": {},
     "output_type": "execute_result"
    }
   ],
   "source": [
    "# There is no stemming rule for this sequence of letters\n",
    "\n",
    "porter.stem(\"ran\")"
   ]
  },
  {
   "cell_type": "code",
   "execution_count": 10,
   "id": "ea04edd0",
   "metadata": {},
   "outputs": [
    {
     "data": {
      "text/plain": [
       "'run'"
      ]
     },
     "execution_count": 10,
     "metadata": {},
     "output_type": "execute_result"
    }
   ],
   "source": [
    "porter.stem(\"running\")"
   ]
  },
  {
   "cell_type": "code",
   "execution_count": 11,
   "id": "183592ef",
   "metadata": {},
   "outputs": [
    {
     "data": {
      "text/plain": [
       "'boss'"
      ]
     },
     "execution_count": 11,
     "metadata": {},
     "output_type": "execute_result"
    }
   ],
   "source": [
    "porter.stem(\"bosses\")"
   ]
  },
  {
   "cell_type": "code",
   "execution_count": 12,
   "id": "4c2de41a",
   "metadata": {},
   "outputs": [
    {
     "data": {
      "text/plain": [
       "'replac'"
      ]
     },
     "execution_count": 12,
     "metadata": {},
     "output_type": "execute_result"
    }
   ],
   "source": [
    "# Not a word!\n",
    "\n",
    "porter.stem(\"replacement\")"
   ]
  },
  {
   "cell_type": "code",
   "execution_count": 13,
   "id": "4f549859",
   "metadata": {},
   "outputs": [],
   "source": [
    "sentence = \"Lemmatization is more sophisticated than stemming\".split()"
   ]
  },
  {
   "cell_type": "code",
   "execution_count": 14,
   "id": "1e5f733e",
   "metadata": {},
   "outputs": [
    {
     "data": {
      "text/plain": [
       "['Lemmatization', 'is', 'more', 'sophisticated', 'than', 'stemming']"
      ]
     },
     "execution_count": 14,
     "metadata": {},
     "output_type": "execute_result"
    }
   ],
   "source": [
    "sentence"
   ]
  },
  {
   "cell_type": "code",
   "execution_count": 15,
   "id": "27fcd0c4",
   "metadata": {},
   "outputs": [
    {
     "name": "stdout",
     "output_type": "stream",
     "text": [
      "lemmat is more sophist than stem "
     ]
    }
   ],
   "source": [
    "# Stem an entire sentence (split sentence first)\n",
    "# Use end argument to ensure all text is printed on a line and not in a list\n",
    "\n",
    "for token in sentence:\n",
    "    print(porter.stem(token), end=\" \")"
   ]
  },
  {
   "cell_type": "code",
   "execution_count": 16,
   "id": "0ec6aae5",
   "metadata": {},
   "outputs": [
    {
     "data": {
      "text/plain": [
       "'unnecessari'"
      ]
     },
     "execution_count": 16,
     "metadata": {},
     "output_type": "execute_result"
    }
   ],
   "source": [
    "# Porter rule changes y to i at end of words, which makes no sense!\n",
    "\n",
    "porter.stem(\"unnecessary\")"
   ]
  },
  {
   "cell_type": "code",
   "execution_count": 17,
   "id": "06c92931",
   "metadata": {},
   "outputs": [
    {
     "data": {
      "text/plain": [
       "'berri'"
      ]
     },
     "execution_count": 17,
     "metadata": {},
     "output_type": "execute_result"
    }
   ],
   "source": [
    "porter.stem(\"berry\")"
   ]
  },
  {
   "cell_type": "code",
   "execution_count": 36,
   "id": "3b485f96",
   "metadata": {},
   "outputs": [
    {
     "data": {
      "text/plain": [
       "'wa'"
      ]
     },
     "execution_count": 36,
     "metadata": {},
     "output_type": "execute_result"
    }
   ],
   "source": [
    "# Stemmer rules this as plural form so removes the 's'\n",
    "\n",
    "porter.stem('was')"
   ]
  },
  {
   "cell_type": "code",
   "execution_count": 39,
   "id": "2c17148a",
   "metadata": {},
   "outputs": [
    {
     "data": {
      "text/plain": [
       "'is'"
      ]
     },
     "execution_count": 39,
     "metadata": {},
     "output_type": "execute_result"
    }
   ],
   "source": [
    "porter.stem('is')"
   ]
  },
  {
   "cell_type": "code",
   "execution_count": 18,
   "id": "bce98d68",
   "metadata": {},
   "outputs": [],
   "source": [
    "# As you can see, stemming is quite crude pre-process"
   ]
  },
  {
   "cell_type": "markdown",
   "id": "876687ef",
   "metadata": {},
   "source": [
    "# Lemmatization\n",
    "\n",
    "**Lemmatization is considered more sophisticated approach since it uses a lexical database as reference before reducing the word to its root.**"
   ]
  },
  {
   "cell_type": "code",
   "execution_count": 19,
   "id": "c71cbcfa",
   "metadata": {},
   "outputs": [],
   "source": [
    "from nltk.stem import WordNetLemmatizer"
   ]
  },
  {
   "cell_type": "code",
   "execution_count": 20,
   "id": "e115afa3",
   "metadata": {},
   "outputs": [
    {
     "name": "stderr",
     "output_type": "stream",
     "text": [
      "[nltk_data] Downloading package wordnet to\n",
      "[nltk_data]     C:\\Users\\shmel\\AppData\\Roaming\\nltk_data...\n",
      "[nltk_data]   Package wordnet is already up-to-date!\n"
     ]
    },
    {
     "data": {
      "text/plain": [
       "True"
      ]
     },
     "execution_count": 20,
     "metadata": {},
     "output_type": "execute_result"
    }
   ],
   "source": [
    "# Only need to use once\n",
    "\n",
    "#nltk.download(\"wordnet\")"
   ]
  },
  {
   "cell_type": "code",
   "execution_count": 24,
   "id": "ef39f2a3",
   "metadata": {},
   "outputs": [
    {
     "name": "stderr",
     "output_type": "stream",
     "text": [
      "[nltk_data] Downloading package omw-1.4 to\n",
      "[nltk_data]     C:\\Users\\shmel\\AppData\\Roaming\\nltk_data...\n"
     ]
    },
    {
     "data": {
      "text/plain": [
       "True"
      ]
     },
     "execution_count": 24,
     "metadata": {},
     "output_type": "execute_result"
    }
   ],
   "source": [
    "# NLTK told me to download this!\n",
    "\n",
    "nltk.download('omw-1.4')"
   ]
  },
  {
   "cell_type": "code",
   "execution_count": 25,
   "id": "1f311c78",
   "metadata": {},
   "outputs": [],
   "source": [
    "from nltk.corpus import wordnet"
   ]
  },
  {
   "cell_type": "code",
   "execution_count": 26,
   "id": "4d21776a",
   "metadata": {},
   "outputs": [],
   "source": [
    "# Initialize lemmatizer object\n",
    "\n",
    "lemmatizer = WordNetLemmatizer()"
   ]
  },
  {
   "cell_type": "code",
   "execution_count": 27,
   "id": "e7402632",
   "metadata": {},
   "outputs": [
    {
     "data": {
      "text/plain": [
       "'walking'"
      ]
     },
     "execution_count": 27,
     "metadata": {},
     "output_type": "execute_result"
    }
   ],
   "source": [
    "# Walking is not a noun so remains unchanged\n",
    "\n",
    "lemmatizer.lemmatize('walking')"
   ]
  },
  {
   "cell_type": "code",
   "execution_count": 28,
   "id": "b1c9e9d2",
   "metadata": {},
   "outputs": [
    {
     "data": {
      "text/plain": [
       "'walk'"
      ]
     },
     "execution_count": 28,
     "metadata": {},
     "output_type": "execute_result"
    }
   ],
   "source": [
    "# Changing the lemmatizer focus to verbs finds the root of the walking\n",
    "\n",
    "lemmatizer.lemmatize('walking', pos='v')"
   ]
  },
  {
   "cell_type": "code",
   "execution_count": 29,
   "id": "81ee38fc",
   "metadata": {},
   "outputs": [
    {
     "data": {
      "text/plain": [
       "'going'"
      ]
     },
     "execution_count": 29,
     "metadata": {},
     "output_type": "execute_result"
    }
   ],
   "source": [
    "lemmatizer.lemmatize('going')"
   ]
  },
  {
   "cell_type": "code",
   "execution_count": 30,
   "id": "0b8850f7",
   "metadata": {},
   "outputs": [
    {
     "data": {
      "text/plain": [
       "'go'"
      ]
     },
     "execution_count": 30,
     "metadata": {},
     "output_type": "execute_result"
    }
   ],
   "source": [
    "lemmatizer.lemmatize('going', pos='v')"
   ]
  },
  {
   "cell_type": "code",
   "execution_count": 31,
   "id": "e10560fc",
   "metadata": {},
   "outputs": [
    {
     "data": {
      "text/plain": [
       "'ran'"
      ]
     },
     "execution_count": 31,
     "metadata": {},
     "output_type": "execute_result"
    }
   ],
   "source": [
    "lemmatizer.lemmatize('ran')"
   ]
  },
  {
   "cell_type": "code",
   "execution_count": 33,
   "id": "ec498318",
   "metadata": {},
   "outputs": [
    {
     "data": {
      "text/plain": [
       "'run'"
      ]
     },
     "execution_count": 33,
     "metadata": {},
     "output_type": "execute_result"
    }
   ],
   "source": [
    "lemmatizer.lemmatize('ran', pos='v')"
   ]
  },
  {
   "cell_type": "code",
   "execution_count": 34,
   "id": "5f88bffe",
   "metadata": {},
   "outputs": [
    {
     "data": {
      "text/plain": [
       "'mouse'"
      ]
     },
     "execution_count": 34,
     "metadata": {},
     "output_type": "execute_result"
    }
   ],
   "source": [
    "lemmatizer.lemmatize('mice')"
   ]
  },
  {
   "cell_type": "code",
   "execution_count": 35,
   "id": "2398f4cc",
   "metadata": {},
   "outputs": [
    {
     "data": {
      "text/plain": [
       "'mice'"
      ]
     },
     "execution_count": 35,
     "metadata": {},
     "output_type": "execute_result"
    }
   ],
   "source": [
    "# Changing the lemmatizer focus to adjectives keeps the plural of mouse the same\n",
    "\n",
    "lemmatizer.lemmatize('mice', pos='a')"
   ]
  },
  {
   "cell_type": "code",
   "execution_count": 37,
   "id": "ae34b76c",
   "metadata": {},
   "outputs": [
    {
     "data": {
      "text/plain": [
       "'wa'"
      ]
     },
     "execution_count": 37,
     "metadata": {},
     "output_type": "execute_result"
    }
   ],
   "source": [
    "# Same as porter.stemmer object, it is considered plural noun and removes 's'\n",
    "\n",
    "lemmatizer.lemmatize('was')"
   ]
  },
  {
   "cell_type": "code",
   "execution_count": 38,
   "id": "45af581d",
   "metadata": {},
   "outputs": [
    {
     "data": {
      "text/plain": [
       "'be'"
      ]
     },
     "execution_count": 38,
     "metadata": {},
     "output_type": "execute_result"
    }
   ],
   "source": [
    "lemmatizer.lemmatize('was', pos='v')"
   ]
  },
  {
   "cell_type": "code",
   "execution_count": 40,
   "id": "86de5728",
   "metadata": {},
   "outputs": [
    {
     "data": {
      "text/plain": [
       "'is'"
      ]
     },
     "execution_count": 40,
     "metadata": {},
     "output_type": "execute_result"
    }
   ],
   "source": [
    "lemmatizer.lemmatize('is')"
   ]
  },
  {
   "cell_type": "code",
   "execution_count": 41,
   "id": "ab6d957e",
   "metadata": {},
   "outputs": [
    {
     "data": {
      "text/plain": [
       "'be'"
      ]
     },
     "execution_count": 41,
     "metadata": {},
     "output_type": "execute_result"
    }
   ],
   "source": [
    "lemmatizer.lemmatize('is', pos='v')"
   ]
  },
  {
   "cell_type": "code",
   "execution_count": 42,
   "id": "92f3d5da",
   "metadata": {},
   "outputs": [
    {
     "data": {
      "text/plain": [
       "'better'"
      ]
     },
     "execution_count": 42,
     "metadata": {},
     "output_type": "execute_result"
    }
   ],
   "source": [
    "lemmatizer.lemmatize('better')"
   ]
  },
  {
   "cell_type": "code",
   "execution_count": 43,
   "id": "2e1cc2a2",
   "metadata": {},
   "outputs": [
    {
     "data": {
      "text/plain": [
       "'good'"
      ]
     },
     "execution_count": 43,
     "metadata": {},
     "output_type": "execute_result"
    }
   ],
   "source": [
    "lemmatizer.lemmatize('better', pos='a')"
   ]
  },
  {
   "cell_type": "markdown",
   "id": "1056d303",
   "metadata": {},
   "source": [
    "**Lemmatization has its disadvantages, since you need to input the correct part-of-speech tag for each word!**\n",
    "\n",
    "There is part-of-speech tagging functionality available in NLTK: `nltk.pos_tag()`"
   ]
  },
  {
   "cell_type": "code",
   "execution_count": 44,
   "id": "68a29792",
   "metadata": {},
   "outputs": [],
   "source": [
    "# Custom function to extract correct lemma for each word in text\n",
    "# Input parameter is the part-of-speech tag \n",
    "\n",
    "def get_pos_tag(treebank_tag):\n",
    "    if treebank_tag.startswith('J'):\n",
    "        return wordnet.ADJ\n",
    "    elif treebank_tag.startswith('V'):\n",
    "        return wordnet.VERB\n",
    "    elif treebank_tag.startswith('N'):\n",
    "        return wordnet.NOUN\n",
    "    elif treebank_tag.startswith('R'):\n",
    "        return wordnet.ADV\n",
    "    else:\n",
    "        return wordnet.NOUN"
   ]
  },
  {
   "cell_type": "code",
   "execution_count": 45,
   "id": "ac974355",
   "metadata": {},
   "outputs": [
    {
     "name": "stderr",
     "output_type": "stream",
     "text": [
      "[nltk_data] Downloading package averaged_perceptron_tagger to\n",
      "[nltk_data]     C:\\Users\\shmel\\AppData\\Roaming\\nltk_data...\n",
      "[nltk_data]   Unzipping taggers\\averaged_perceptron_tagger.zip.\n"
     ]
    },
    {
     "data": {
      "text/plain": [
       "True"
      ]
     },
     "execution_count": 45,
     "metadata": {},
     "output_type": "execute_result"
    }
   ],
   "source": [
    "nltk.download('averaged_perceptron_tagger')"
   ]
  },
  {
   "cell_type": "code",
   "execution_count": 47,
   "id": "6641f997",
   "metadata": {},
   "outputs": [
    {
     "data": {
      "text/plain": [
       "['Donald', 'Trump', 'has', 'a', 'devoted', 'nutbag', 'following']"
      ]
     },
     "execution_count": 47,
     "metadata": {},
     "output_type": "execute_result"
    }
   ],
   "source": [
    "sentence = 'Donald Trump has a devoted nutbag following'.split()\n",
    "\n",
    "sentence"
   ]
  },
  {
   "cell_type": "code",
   "execution_count": 48,
   "id": "af298133",
   "metadata": {},
   "outputs": [
    {
     "data": {
      "text/plain": [
       "[('Donald', 'NNP'),\n",
       " ('Trump', 'NNP'),\n",
       " ('has', 'VBZ'),\n",
       " ('a', 'DT'),\n",
       " ('devoted', 'VBN'),\n",
       " ('nutbag', 'NN'),\n",
       " ('following', 'VBG')]"
      ]
     },
     "execution_count": 48,
     "metadata": {},
     "output_type": "execute_result"
    }
   ],
   "source": [
    "words_and_tags = nltk.pos_tag(sentence)\n",
    "\n",
    "words_and_tags"
   ]
  },
  {
   "cell_type": "code",
   "execution_count": 49,
   "id": "40e88662",
   "metadata": {},
   "outputs": [],
   "source": [
    "# NNP is noun\n",
    "# VBZ is verb\n",
    "# DT is determinative (word that references a noun)\n",
    "# VBN is past-participle verb\n",
    "# NN is noun\n",
    "# VBG is verb in the gerund\n",
    "\n",
    "# The full list of tags can be found in documentation online"
   ]
  },
  {
   "cell_type": "code",
   "execution_count": 50,
   "id": "9381c2b8",
   "metadata": {},
   "outputs": [
    {
     "name": "stdout",
     "output_type": "stream",
     "text": [
      "Donald Trump have a devote nutbag follow "
     ]
    }
   ],
   "source": [
    "# Unpack tuple in For Loop \n",
    "for word, tag in words_and_tags:\n",
    "    lemma = lemmatizer.lemmatize(word, pos=get_pos_tag(tag))\n",
    "    print(lemma, end=\" \")"
   ]
  },
  {
   "cell_type": "code",
   "execution_count": 51,
   "id": "d173c6d2",
   "metadata": {},
   "outputs": [],
   "source": [
    "text = 'The cat was following the bird as it flew by'.split()"
   ]
  },
  {
   "cell_type": "code",
   "execution_count": 52,
   "id": "6b304cc5",
   "metadata": {},
   "outputs": [
    {
     "data": {
      "text/plain": [
       "[('The', 'DT'),\n",
       " ('cat', 'NN'),\n",
       " ('was', 'VBD'),\n",
       " ('following', 'VBG'),\n",
       " ('the', 'DT'),\n",
       " ('bird', 'NN'),\n",
       " ('as', 'IN'),\n",
       " ('it', 'PRP'),\n",
       " ('flew', 'VBD'),\n",
       " ('by', 'IN')]"
      ]
     },
     "execution_count": 52,
     "metadata": {},
     "output_type": "execute_result"
    }
   ],
   "source": [
    "ws_and_ts = nltk.pos_tag(text)\n",
    "\n",
    "ws_and_ts"
   ]
  },
  {
   "cell_type": "code",
   "execution_count": 53,
   "id": "ef470072",
   "metadata": {},
   "outputs": [
    {
     "name": "stdout",
     "output_type": "stream",
     "text": [
      "The cat be follow the bird a it fly by "
     ]
    }
   ],
   "source": [
    "for w, t in ws_and_ts:\n",
    "    lemma = lemmatizer.lemmatize(w, pos=get_pos_tag(t))\n",
    "    print(lemma, end=\" \")"
   ]
  },
  {
   "cell_type": "code",
   "execution_count": 54,
   "id": "a90080b2",
   "metadata": {},
   "outputs": [],
   "source": [
    "# Note that 'as' has been reduced to a - treated as plural noun, the 's' was removed\n",
    "# pos_tag function labelled 'as' with IN tag, which means preposition\n",
    "# Update custom function rule - if starts with 'I' return wordnet adjective\n",
    "\n",
    "def get_wordnet_pos(speech_tag):\n",
    "    if speech_tag.startswith('J') or speech_tag.startswith('I'):\n",
    "        return wordnet.ADJ\n",
    "    elif speech_tag.startswith('V'):\n",
    "        return wordnet.VERB\n",
    "    elif speech_tag.startswith('N'):\n",
    "        return wordnet.NOUN\n",
    "    elif speech_tag.startswith('R'):\n",
    "        return wordnet.ADV\n",
    "    else:\n",
    "        return wordnet.NOUN"
   ]
  },
  {
   "cell_type": "code",
   "execution_count": 55,
   "id": "49dc2f2a",
   "metadata": {},
   "outputs": [
    {
     "name": "stdout",
     "output_type": "stream",
     "text": [
      "The cat be follow the bird as it fly by "
     ]
    }
   ],
   "source": [
    "for w, t in ws_and_ts:\n",
    "    lemma = lemmatizer.lemmatize(w, pos=get_wordnet_pos(t))\n",
    "    print(lemma, end=\" \")"
   ]
  },
  {
   "cell_type": "code",
   "execution_count": 56,
   "id": "14cb5c7d",
   "metadata": {},
   "outputs": [
    {
     "name": "stdout",
     "output_type": "stream",
     "text": [
      "Donald Trump have a devote nutbag follow "
     ]
    }
   ],
   "source": [
    "# BOOM! Check that the other sentence is still correct using updated function\n",
    "\n",
    "for word, tag in words_and_tags:\n",
    "    lemma = lemmatizer.lemmatize(word, pos=get_wordnet_pos(tag))\n",
    "    print(lemma, end=\" \")"
   ]
  },
  {
   "cell_type": "markdown",
   "id": "621fb68c",
   "metadata": {},
   "source": [
    "**Perfect!**"
   ]
  }
 ],
 "metadata": {
  "kernelspec": {
   "display_name": "Python 3 (ipykernel)",
   "language": "python",
   "name": "python3"
  },
  "language_info": {
   "codemirror_mode": {
    "name": "ipython",
    "version": 3
   },
   "file_extension": ".py",
   "mimetype": "text/x-python",
   "name": "python",
   "nbconvert_exporter": "python",
   "pygments_lexer": "ipython3",
   "version": "3.7.16"
  }
 },
 "nbformat": 4,
 "nbformat_minor": 5
}
