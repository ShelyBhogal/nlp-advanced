{
 "cells": [
  {
   "cell_type": "markdown",
   "id": "15f04c86",
   "metadata": {},
   "source": [
    "# Text Classification using LSTM\n",
    "\n",
    "TensorFlow function `LSTM` provides the 'recurrent' looping within the hidden layers of a neural network, while addressing the vanishing gradient problem at the same time. You can use this RNN to classify large text documents. Since you are dealing with word sequences, you need to create an embedding layer to set up the **T x D** array as input to the RNN layer.\n",
    "\n",
    "The important variables to remember are:\n",
    "\n",
    "    V true vocabulary size\n",
    "    N number of samples\n",
    "    T sequence length\n",
    "    D number of input features\n",
    "    M number of hidden neurons\n",
    "    K number of neurons in outer dense layer\n",
    "\n",
    "The dataset has been taken from BBC News archives, with 2,225 articles related to business, entertainment, politics, sports and technology."
   ]
  },
  {
   "cell_type": "code",
   "execution_count": 1,
   "id": "9283027b",
   "metadata": {},
   "outputs": [],
   "source": [
    "import numpy as np\n",
    "import pandas as pd\n",
    "import matplotlib.pyplot as plt\n",
    "\n",
    "from sklearn.model_selection import train_test_split\n",
    "\n",
    "%matplotlib inline"
   ]
  },
  {
   "cell_type": "code",
   "execution_count": 2,
   "id": "c0f95d39",
   "metadata": {},
   "outputs": [],
   "source": [
    "import tensorflow as tf\n",
    "from tensorflow.keras.preprocessing.text import Tokenizer\n",
    "from tensorflow.keras.preprocessing.sequence import pad_sequences\n",
    "from tensorflow.keras.layers import Dense, Input, GlobalMaxPooling1D\n",
    "from tensorflow.keras.layers import LSTM, GRU, SimpleRNN, Embedding\n",
    "from tensorflow.keras.models import Model\n",
    "from tensorflow.keras.losses import SparseCategoricalCrossentropy"
   ]
  },
  {
   "cell_type": "code",
   "execution_count": 3,
   "id": "b0cce66e",
   "metadata": {},
   "outputs": [],
   "source": [
    "df = pd.read_csv('data/bbc_text_cls.csv')"
   ]
  },
  {
   "cell_type": "code",
   "execution_count": 4,
   "id": "1eb229bc",
   "metadata": {},
   "outputs": [
    {
     "data": {
      "text/html": [
       "<div>\n",
       "<style scoped>\n",
       "    .dataframe tbody tr th:only-of-type {\n",
       "        vertical-align: middle;\n",
       "    }\n",
       "\n",
       "    .dataframe tbody tr th {\n",
       "        vertical-align: top;\n",
       "    }\n",
       "\n",
       "    .dataframe thead th {\n",
       "        text-align: right;\n",
       "    }\n",
       "</style>\n",
       "<table border=\"1\" class=\"dataframe\">\n",
       "  <thead>\n",
       "    <tr style=\"text-align: right;\">\n",
       "      <th></th>\n",
       "      <th>text</th>\n",
       "      <th>labels</th>\n",
       "    </tr>\n",
       "  </thead>\n",
       "  <tbody>\n",
       "    <tr>\n",
       "      <th>0</th>\n",
       "      <td>Ad sales boost Time Warner profit\\n\\nQuarterly...</td>\n",
       "      <td>business</td>\n",
       "    </tr>\n",
       "    <tr>\n",
       "      <th>1</th>\n",
       "      <td>Dollar gains on Greenspan speech\\n\\nThe dollar...</td>\n",
       "      <td>business</td>\n",
       "    </tr>\n",
       "    <tr>\n",
       "      <th>2</th>\n",
       "      <td>Yukos unit buyer faces loan claim\\n\\nThe owner...</td>\n",
       "      <td>business</td>\n",
       "    </tr>\n",
       "    <tr>\n",
       "      <th>3</th>\n",
       "      <td>High fuel prices hit BA's profits\\n\\nBritish A...</td>\n",
       "      <td>business</td>\n",
       "    </tr>\n",
       "    <tr>\n",
       "      <th>4</th>\n",
       "      <td>Pernod takeover talk lifts Domecq\\n\\nShares in...</td>\n",
       "      <td>business</td>\n",
       "    </tr>\n",
       "  </tbody>\n",
       "</table>\n",
       "</div>"
      ],
      "text/plain": [
       "                                                text    labels\n",
       "0  Ad sales boost Time Warner profit\\n\\nQuarterly...  business\n",
       "1  Dollar gains on Greenspan speech\\n\\nThe dollar...  business\n",
       "2  Yukos unit buyer faces loan claim\\n\\nThe owner...  business\n",
       "3  High fuel prices hit BA's profits\\n\\nBritish A...  business\n",
       "4  Pernod takeover talk lifts Domecq\\n\\nShares in...  business"
      ]
     },
     "execution_count": 4,
     "metadata": {},
     "output_type": "execute_result"
    }
   ],
   "source": [
    "df.head()"
   ]
  },
  {
   "cell_type": "code",
   "execution_count": 5,
   "id": "e29dde0c",
   "metadata": {},
   "outputs": [],
   "source": [
    "# Convert labels to integers in new column\n",
    "\n",
    "df['targets'] = df['labels'].astype(\"category\").cat.codes"
   ]
  },
  {
   "cell_type": "code",
   "execution_count": 6,
   "id": "cf0eb7b4",
   "metadata": {},
   "outputs": [
    {
     "data": {
      "text/html": [
       "<div>\n",
       "<style scoped>\n",
       "    .dataframe tbody tr th:only-of-type {\n",
       "        vertical-align: middle;\n",
       "    }\n",
       "\n",
       "    .dataframe tbody tr th {\n",
       "        vertical-align: top;\n",
       "    }\n",
       "\n",
       "    .dataframe thead th {\n",
       "        text-align: right;\n",
       "    }\n",
       "</style>\n",
       "<table border=\"1\" class=\"dataframe\">\n",
       "  <thead>\n",
       "    <tr style=\"text-align: right;\">\n",
       "      <th></th>\n",
       "      <th>text</th>\n",
       "      <th>labels</th>\n",
       "      <th>targets</th>\n",
       "    </tr>\n",
       "  </thead>\n",
       "  <tbody>\n",
       "    <tr>\n",
       "      <th>0</th>\n",
       "      <td>Ad sales boost Time Warner profit\\n\\nQuarterly...</td>\n",
       "      <td>business</td>\n",
       "      <td>0</td>\n",
       "    </tr>\n",
       "    <tr>\n",
       "      <th>1</th>\n",
       "      <td>Dollar gains on Greenspan speech\\n\\nThe dollar...</td>\n",
       "      <td>business</td>\n",
       "      <td>0</td>\n",
       "    </tr>\n",
       "    <tr>\n",
       "      <th>2</th>\n",
       "      <td>Yukos unit buyer faces loan claim\\n\\nThe owner...</td>\n",
       "      <td>business</td>\n",
       "      <td>0</td>\n",
       "    </tr>\n",
       "    <tr>\n",
       "      <th>3</th>\n",
       "      <td>High fuel prices hit BA's profits\\n\\nBritish A...</td>\n",
       "      <td>business</td>\n",
       "      <td>0</td>\n",
       "    </tr>\n",
       "    <tr>\n",
       "      <th>4</th>\n",
       "      <td>Pernod takeover talk lifts Domecq\\n\\nShares in...</td>\n",
       "      <td>business</td>\n",
       "      <td>0</td>\n",
       "    </tr>\n",
       "  </tbody>\n",
       "</table>\n",
       "</div>"
      ],
      "text/plain": [
       "                                                text    labels  targets\n",
       "0  Ad sales boost Time Warner profit\\n\\nQuarterly...  business        0\n",
       "1  Dollar gains on Greenspan speech\\n\\nThe dollar...  business        0\n",
       "2  Yukos unit buyer faces loan claim\\n\\nThe owner...  business        0\n",
       "3  High fuel prices hit BA's profits\\n\\nBritish A...  business        0\n",
       "4  Pernod takeover talk lifts Domecq\\n\\nShares in...  business        0"
      ]
     },
     "execution_count": 6,
     "metadata": {},
     "output_type": "execute_result"
    }
   ],
   "source": [
    "df.head()"
   ]
  },
  {
   "cell_type": "code",
   "execution_count": 16,
   "id": "2dd59fd8",
   "metadata": {},
   "outputs": [
    {
     "data": {
      "text/plain": [
       "(2225, 3)"
      ]
     },
     "execution_count": 16,
     "metadata": {},
     "output_type": "execute_result"
    }
   ],
   "source": [
    "# 2,225 documents\n",
    "\n",
    "df.shape"
   ]
  },
  {
   "cell_type": "code",
   "execution_count": 7,
   "id": "750fe53c",
   "metadata": {},
   "outputs": [
    {
     "data": {
      "text/plain": [
       "5"
      ]
     },
     "execution_count": 7,
     "metadata": {},
     "output_type": "execute_result"
    }
   ],
   "source": [
    "# Note number of classes\n",
    "\n",
    "K = df['targets'].max() + 1\n",
    "\n",
    "K"
   ]
  },
  {
   "cell_type": "code",
   "execution_count": 8,
   "id": "7f937069",
   "metadata": {},
   "outputs": [],
   "source": [
    "# Train-test split data\n",
    "\n",
    "df_train, df_test = train_test_split(df, test_size=0.3)"
   ]
  },
  {
   "cell_type": "code",
   "execution_count": 18,
   "id": "bf7e9dd0",
   "metadata": {},
   "outputs": [
    {
     "name": "stdout",
     "output_type": "stream",
     "text": [
      "Number of samples (N): 1557\n"
     ]
    }
   ],
   "source": [
    "print(\"Number of samples (N):\", df_train.shape[0])"
   ]
  },
  {
   "cell_type": "markdown",
   "id": "d554c0c5",
   "metadata": {},
   "source": [
    "## Tokenize text data\n",
    "\n",
    "Use the TensorFlow `Tokenizer` function to convert text documents to sequences of integers. This also generates mapping dictionaries, from which you can find the true vocabulary size (**V**), i.e. all the words, not just the 2000 words reserved for the tokenizer. The **V** variable is used as input size for the embedding layer of the LSTM neural network.\n",
    "\n",
    "After transforming the text data to sequences of integers, you can access the maximum sequence length by 'padding' the tokenized vectors (with `pad_sequences` function). The sequence length (**T**) matches the number of columns in tokenized training data, i.e. the longest document."
   ]
  },
  {
   "cell_type": "code",
   "execution_count": 9,
   "id": "adedef4d",
   "metadata": {},
   "outputs": [],
   "source": [
    "# Set tokenizer vocab \n",
    "MAX_VOCAB_SIZE = 2000\n",
    "\n",
    "tokenizer = Tokenizer(num_words=MAX_VOCAB_SIZE)\n",
    "\n",
    "# Train tokenizer\n",
    "tokenizer.fit_on_texts(df_train['text'])"
   ]
  },
  {
   "cell_type": "code",
   "execution_count": 10,
   "id": "4acefe16",
   "metadata": {},
   "outputs": [],
   "source": [
    "# Transform text data\n",
    "\n",
    "sequences_train = tokenizer.texts_to_sequences(df_train['text'])\n",
    "\n",
    "sequences_test = tokenizer.texts_to_sequences(df_test['text'])"
   ]
  },
  {
   "cell_type": "code",
   "execution_count": 11,
   "id": "78085214",
   "metadata": {},
   "outputs": [],
   "source": [
    "# Obtain word-to-index mapping from tokenizer\n",
    "\n",
    "word2idx = tokenizer.word_index\n",
    "\n",
    "V = len(word2idx)"
   ]
  },
  {
   "cell_type": "code",
   "execution_count": 12,
   "id": "bd530dd7",
   "metadata": {},
   "outputs": [
    {
     "name": "stdout",
     "output_type": "stream",
     "text": [
      "True vocabulary size is 27609 unique tokens\n"
     ]
    }
   ],
   "source": [
    "print('True vocabulary size is %s unique tokens' % V)"
   ]
  },
  {
   "cell_type": "code",
   "execution_count": 13,
   "id": "3a954277",
   "metadata": {},
   "outputs": [
    {
     "name": "stdout",
     "output_type": "stream",
     "text": [
      "Shape of data train tensor: (1557, 3474)\n",
      "Max sequence length: 3474\n"
     ]
    }
   ],
   "source": [
    "# Pad sequences so that we get a N x T matrix (documents by max sequence length)\n",
    "\n",
    "data_train = pad_sequences(sequences_train)\n",
    "\n",
    "print('Shape of data train tensor:', data_train.shape)\n",
    "print('Max sequence length:', data_train.shape[1])"
   ]
  },
  {
   "cell_type": "code",
   "execution_count": 14,
   "id": "dc6a2371",
   "metadata": {},
   "outputs": [
    {
     "data": {
      "text/plain": [
       "3474"
      ]
     },
     "execution_count": 14,
     "metadata": {},
     "output_type": "execute_result"
    }
   ],
   "source": [
    "# Get sequence length (T) from training data, i.e. maximum sequence length\n",
    "\n",
    "T = data_train.shape[1]\n",
    "\n",
    "T"
   ]
  },
  {
   "cell_type": "code",
   "execution_count": 15,
   "id": "b8f9dbdb",
   "metadata": {},
   "outputs": [
    {
     "name": "stdout",
     "output_type": "stream",
     "text": [
      "Shape of data test tensor: (668, 3474)\n"
     ]
    }
   ],
   "source": [
    "data_test = pad_sequences(sequences_test, maxlen=T)\n",
    "\n",
    "print('Shape of data test tensor:', data_test.shape)"
   ]
  },
  {
   "cell_type": "markdown",
   "id": "0629f089",
   "metadata": {},
   "source": [
    "You impose the same sequence length on the test data because in the real world, you would not know the true sequence length so you assume based on the training data.\n",
    "\n",
    "## Build the model\n",
    "\n",
    "As with CNN models, RNNs work with **word embeddings** before entering the recurrent hidden states so you need to implement an embedding layer. The embedding dimensionality is a hyperparameter, which you can modify to improve results. Essentially, it is the recommended length of the word vector in the embedding matrix.\n",
    "\n",
    "NOTE: You actually want the size of the embedding matrix to be **(V + 1) x D**, because the first index starts from 1 and not 0. If the final index of the embedding matrix is V, then it actually has the size V + 1.\n"
   ]
  },
  {
   "cell_type": "code",
   "execution_count": 19,
   "id": "da53eb99",
   "metadata": {},
   "outputs": [],
   "source": [
    "# Embedding dimensionality\n",
    "\n",
    "D = 20"
   ]
  },
  {
   "cell_type": "code",
   "execution_count": 20,
   "id": "82710f14",
   "metadata": {},
   "outputs": [],
   "source": [
    "# Input training data of T length (sequence length by features)\n",
    "i = Input(shape=(T,))\n",
    "\n",
    "# Embedding matrix V x D (vocab size by embedding dimensions)\n",
    "x = Embedding(V + 1, D)(i)\n",
    "\n",
    "# Output is T x M (sequence length by features)\n",
    "x = LSTM(32, return_sequences=True)(x)\n",
    "\n",
    "# Flatten data\n",
    "x = GlobalMaxPooling1D()(x)\n",
    "\n",
    "# Output is T x K (sequence length by output nodes)\n",
    "x = Dense(K)(x)\n",
    "\n",
    "model = Model(i, x)"
   ]
  },
  {
   "cell_type": "markdown",
   "id": "3c27bdfc",
   "metadata": {},
   "source": [
    "**EXERCISE: You can try other models:**\n",
    "\n",
    "**1) Multiple LSTM layers**\n",
    "\n",
    "**2) GRU instead of LSTM**\n",
    "\n",
    "**3) SimpleRNN instead of LSTM**\n",
    "\n",
    "**4) `return_sequences=False`, and no global max pooling, i.e. many-to-one classification**\n",
    "\n",
    "**5) For hidden layers, try different numbers of hidden units**\n",
    "\n",
    "**6) Different combinations of all the above**\n",
    "\n",
    "**Common FAQ: \"How can I choose the best combination of hyperparameters?\" Unfortunately, testing with the above options is the solution - there is no shortcut!**"
   ]
  },
  {
   "cell_type": "code",
   "execution_count": 21,
   "id": "21a53186",
   "metadata": {},
   "outputs": [],
   "source": [
    "# Compile model\n",
    "\n",
    "model.compile(loss=SparseCategoricalCrossentropy(from_logits=True), optimizer='adam', metrics=['accuracy'])"
   ]
  },
  {
   "cell_type": "code",
   "execution_count": 22,
   "id": "5604d9bd",
   "metadata": {},
   "outputs": [
    {
     "name": "stdout",
     "output_type": "stream",
     "text": [
      "Training model...\n",
      "Epoch 1/50\n",
      "49/49 [==============================] - 65s 1s/step - loss: 1.5998 - accuracy: 0.2620 - val_loss: 1.5824 - val_accuracy: 0.4581\n",
      "Epoch 2/50\n",
      "49/49 [==============================] - 64s 1s/step - loss: 1.5580 - accuracy: 0.3834 - val_loss: 1.4179 - val_accuracy: 0.4611\n",
      "Epoch 3/50\n",
      "49/49 [==============================] - 67s 1s/step - loss: 1.3139 - accuracy: 0.4900 - val_loss: 1.4660 - val_accuracy: 0.5419\n",
      "Epoch 4/50\n",
      "49/49 [==============================] - 66s 1s/step - loss: 1.2418 - accuracy: 0.6346 - val_loss: 1.0975 - val_accuracy: 0.6093\n",
      "Epoch 5/50\n",
      "49/49 [==============================] - 67s 1s/step - loss: 1.0019 - accuracy: 0.6410 - val_loss: 0.9476 - val_accuracy: 0.7275\n",
      "Epoch 6/50\n",
      "49/49 [==============================] - 67s 1s/step - loss: 0.8577 - accuracy: 0.7367 - val_loss: 0.7898 - val_accuracy: 0.7201\n",
      "Epoch 7/50\n",
      "49/49 [==============================] - 67s 1s/step - loss: 0.6915 - accuracy: 0.7399 - val_loss: 0.7568 - val_accuracy: 0.6766\n",
      "Epoch 8/50\n",
      "49/49 [==============================] - 69s 1s/step - loss: 0.5705 - accuracy: 0.7836 - val_loss: 0.6532 - val_accuracy: 0.7665\n",
      "Epoch 9/50\n",
      "49/49 [==============================] - 67s 1s/step - loss: 0.5232 - accuracy: 0.8112 - val_loss: 0.5263 - val_accuracy: 0.8458\n",
      "Epoch 10/50\n",
      "49/49 [==============================] - 1080s 22s/step - loss: 0.3799 - accuracy: 0.9171 - val_loss: 0.4155 - val_accuracy: 0.8967\n",
      "Epoch 11/50\n",
      "49/49 [==============================] - 66s 1s/step - loss: 0.3166 - accuracy: 0.9486 - val_loss: 0.5021 - val_accuracy: 0.8653\n",
      "Epoch 12/50\n",
      "49/49 [==============================] - 65s 1s/step - loss: 0.3295 - accuracy: 0.9371 - val_loss: 0.3638 - val_accuracy: 0.8997\n",
      "Epoch 13/50\n",
      "49/49 [==============================] - 71s 1s/step - loss: 0.2344 - accuracy: 0.9692 - val_loss: 0.3276 - val_accuracy: 0.9102\n",
      "Epoch 14/50\n",
      "49/49 [==============================] - 67s 1s/step - loss: 0.1999 - accuracy: 0.9737 - val_loss: 0.2991 - val_accuracy: 0.9162\n",
      "Epoch 15/50\n",
      "49/49 [==============================] - 74s 2s/step - loss: 0.1675 - accuracy: 0.9807 - val_loss: 0.2689 - val_accuracy: 0.9222\n",
      "Epoch 16/50\n",
      "49/49 [==============================] - 72s 1s/step - loss: 0.1296 - accuracy: 0.9846 - val_loss: 0.2739 - val_accuracy: 0.9251\n",
      "Epoch 17/50\n",
      "49/49 [==============================] - 71s 1s/step - loss: 0.1030 - accuracy: 0.9852 - val_loss: 0.2256 - val_accuracy: 0.9281\n",
      "Epoch 18/50\n",
      "49/49 [==============================] - 73s 1s/step - loss: 0.0953 - accuracy: 0.9814 - val_loss: 0.2880 - val_accuracy: 0.9207\n",
      "Epoch 19/50\n",
      "49/49 [==============================] - 73s 1s/step - loss: 0.0922 - accuracy: 0.9884 - val_loss: 0.2511 - val_accuracy: 0.9266\n",
      "Epoch 20/50\n",
      "49/49 [==============================] - 70s 1s/step - loss: 0.0774 - accuracy: 0.9917 - val_loss: 0.2635 - val_accuracy: 0.9222\n",
      "Epoch 21/50\n",
      "49/49 [==============================] - 75s 2s/step - loss: 0.6552 - accuracy: 0.7990 - val_loss: 0.5397 - val_accuracy: 0.8249\n",
      "Epoch 22/50\n",
      "49/49 [==============================] - 73s 1s/step - loss: 0.2578 - accuracy: 0.9576 - val_loss: 0.2335 - val_accuracy: 0.9476\n",
      "Epoch 23/50\n",
      "49/49 [==============================] - 74s 2s/step - loss: 0.1388 - accuracy: 0.9846 - val_loss: 0.1675 - val_accuracy: 0.9596\n",
      "Epoch 24/50\n",
      "49/49 [==============================] - 73s 1s/step - loss: 0.0944 - accuracy: 0.9917 - val_loss: 0.1516 - val_accuracy: 0.9536\n",
      "Epoch 25/50\n",
      "49/49 [==============================] - 72s 1s/step - loss: 0.0748 - accuracy: 0.9949 - val_loss: 0.1475 - val_accuracy: 0.9536\n",
      "Epoch 26/50\n",
      "49/49 [==============================] - 74s 2s/step - loss: 0.0630 - accuracy: 0.9949 - val_loss: 0.1364 - val_accuracy: 0.9671\n",
      "Epoch 27/50\n",
      "49/49 [==============================] - 74s 2s/step - loss: 0.0517 - accuracy: 0.9961 - val_loss: 0.1571 - val_accuracy: 0.9551\n",
      "Epoch 28/50\n",
      "49/49 [==============================] - 72s 1s/step - loss: 0.0431 - accuracy: 0.9968 - val_loss: 0.1360 - val_accuracy: 0.9611\n",
      "Epoch 29/50\n",
      "49/49 [==============================] - 73s 1s/step - loss: 0.0378 - accuracy: 0.9974 - val_loss: 0.1564 - val_accuracy: 0.9536\n",
      "Epoch 30/50\n",
      "49/49 [==============================] - 74s 2s/step - loss: 0.0332 - accuracy: 0.9974 - val_loss: 0.1582 - val_accuracy: 0.9536\n",
      "Epoch 31/50\n",
      "49/49 [==============================] - 79s 2s/step - loss: 0.0299 - accuracy: 0.9981 - val_loss: 0.1589 - val_accuracy: 0.9521\n",
      "Epoch 32/50\n",
      "49/49 [==============================] - 74s 2s/step - loss: 0.0305 - accuracy: 0.9981 - val_loss: 0.1318 - val_accuracy: 0.9551\n",
      "Epoch 33/50\n",
      "49/49 [==============================] - 77s 2s/step - loss: 0.0250 - accuracy: 0.9987 - val_loss: 0.1235 - val_accuracy: 0.9596\n",
      "Epoch 34/50\n",
      "49/49 [==============================] - 72s 1s/step - loss: 0.0228 - accuracy: 0.9987 - val_loss: 0.1403 - val_accuracy: 0.9506\n",
      "Epoch 35/50\n",
      "49/49 [==============================] - 76s 2s/step - loss: 0.0208 - accuracy: 0.9987 - val_loss: 0.1423 - val_accuracy: 0.9551\n",
      "Epoch 36/50\n",
      "49/49 [==============================] - 74s 2s/step - loss: 0.0190 - accuracy: 0.9994 - val_loss: 0.1539 - val_accuracy: 0.9551\n",
      "Epoch 37/50\n",
      "49/49 [==============================] - 74s 2s/step - loss: 0.0307 - accuracy: 0.9961 - val_loss: 0.2622 - val_accuracy: 0.9192\n",
      "Epoch 38/50\n",
      "49/49 [==============================] - 71s 1s/step - loss: 0.1181 - accuracy: 0.9769 - val_loss: 0.1304 - val_accuracy: 0.9626\n",
      "Epoch 39/50\n",
      "49/49 [==============================] - 69s 1s/step - loss: 0.0458 - accuracy: 0.9968 - val_loss: 0.0959 - val_accuracy: 0.9686\n",
      "Epoch 40/50\n",
      "49/49 [==============================] - 69s 1s/step - loss: 0.0313 - accuracy: 0.9987 - val_loss: 0.0886 - val_accuracy: 0.9701\n",
      "Epoch 41/50\n",
      "49/49 [==============================] - 69s 1s/step - loss: 0.0240 - accuracy: 1.0000 - val_loss: 0.0888 - val_accuracy: 0.9731\n",
      "Epoch 42/50\n",
      "49/49 [==============================] - 72s 1s/step - loss: 0.0194 - accuracy: 1.0000 - val_loss: 0.0944 - val_accuracy: 0.9656\n",
      "Epoch 43/50\n",
      "49/49 [==============================] - 80s 2s/step - loss: 0.0166 - accuracy: 1.0000 - val_loss: 0.0943 - val_accuracy: 0.9641\n",
      "Epoch 44/50\n",
      "49/49 [==============================] - 81s 2s/step - loss: 0.0154 - accuracy: 0.9994 - val_loss: 0.0960 - val_accuracy: 0.9671\n",
      "Epoch 45/50\n",
      "49/49 [==============================] - 81s 2s/step - loss: 0.0132 - accuracy: 1.0000 - val_loss: 0.0997 - val_accuracy: 0.9641\n",
      "Epoch 46/50\n",
      "49/49 [==============================] - 82s 2s/step - loss: 0.0117 - accuracy: 1.0000 - val_loss: 0.1015 - val_accuracy: 0.9611\n",
      "Epoch 47/50\n",
      "49/49 [==============================] - 85s 2s/step - loss: 0.0112 - accuracy: 0.9994 - val_loss: 0.1028 - val_accuracy: 0.9611\n",
      "Epoch 48/50\n",
      "49/49 [==============================] - 80s 2s/step - loss: 0.0098 - accuracy: 1.0000 - val_loss: 0.1063 - val_accuracy: 0.9626\n",
      "Epoch 49/50\n",
      "49/49 [==============================] - 78s 2s/step - loss: 0.0089 - accuracy: 1.0000 - val_loss: 0.1056 - val_accuracy: 0.9626\n",
      "Epoch 50/50\n",
      "49/49 [==============================] - 74s 2s/step - loss: 0.0083 - accuracy: 1.0000 - val_loss: 0.1130 - val_accuracy: 0.9596\n"
     ]
    }
   ],
   "source": [
    "# Fit model (takes approx 1.5 hrs)\n",
    "\n",
    "print('Training model...')\n",
    "\n",
    "r = model.fit(data_train, \n",
    "              df_train['targets'], \n",
    "              epochs=50, \n",
    "              validation_data=(data_test, df_test['targets']))"
   ]
  },
  {
   "cell_type": "code",
   "execution_count": 23,
   "id": "72f683b3",
   "metadata": {},
   "outputs": [
    {
     "data": {
      "image/png": "[encoded data removed]",
      "text/plain": [
       "<Figure size 640x480 with 1 Axes>"
      ]
     },
     "metadata": {},
     "output_type": "display_data"
    }
   ],
   "source": [
    "# Plot loss per epoch\n",
    "\n",
    "plt.plot(r.history['loss'], label='train loss')\n",
    "plt.plot(r.history['val_loss'], label='val loss')\n",
    "plt.legend();"
   ]
  },
  {
   "cell_type": "code",
   "execution_count": 24,
   "id": "2474426e",
   "metadata": {},
   "outputs": [
    {
     "data": {
      "image/png": "[encoded data removed]",
      "text/plain": [
       "<Figure size 640x480 with 1 Axes>"
      ]
     },
     "metadata": {},
     "output_type": "display_data"
    }
   ],
   "source": [
    "# Plot accuracy per epoch\n",
    "\n",
    "plt.plot(r.history['accuracy'], label='train acc')\n",
    "plt.plot(r.history['val_accuracy'], label='val acc')\n",
    "plt.legend();"
   ]
  },
  {
   "cell_type": "markdown",
   "id": "076a5226",
   "metadata": {},
   "source": [
    "**As expected, the performance on the training set is better than the test set, but both show spikes in losses around 20 epochs.**\n",
    "\n",
    "**Also, the training loss continues to decrease while the test loss increases at the end, which indicates overfitting. It may improve results to regularize the model.**"
   ]
  },
  {
   "cell_type": "code",
   "execution_count": null,
   "id": "32147bc9",
   "metadata": {},
   "outputs": [],
   "source": []
  }
 ],
 "metadata": {
  "kernelspec": {
   "display_name": "Python 3 (ipykernel)",
   "language": "python",
   "name": "python3"
  },
  "language_info": {
   "codemirror_mode": {
    "name": "ipython",
    "version": 3
   },
   "file_extension": ".py",
   "mimetype": "text/x-python",
   "name": "python",
   "nbconvert_exporter": "python",
   "pygments_lexer": "ipython3",
   "version": "3.9.16"
  }
 },
 "nbformat": 4,
 "nbformat_minor": 5
}
