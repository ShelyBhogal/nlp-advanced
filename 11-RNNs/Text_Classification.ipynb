{
 "cells": [
  {
   "cell_type": "markdown",
   "id": "15f04c86",
   "metadata": {},
   "source": [
    "# Text Classification using LSTM\n",
    "\n",
    "TensorFlow function `LSTM` provides the 'recurrent' looping within the hidden layers of a neural network, while addressing the vanishing gradient problem at the same time. You can use this RNN to classify large text documents. Since you are dealing with word sequences, you need to create an embedding layer to set up the **T x D** array as input to the RNN layer.\n",
    "\n",
    "The important variables to remember are:\n",
    "\n",
    "    V vocabulary size of corpus\n",
    "    N number of samples\n",
    "    T sequence length\n",
    "    D number of input features\n",
    "    M number of hidden neurons\n",
    "    K number of neurons in outer dense layer\n",
    "\n",
    "The dataset has been taken from BBC News archives, with 2,225 articles related to business, entertainment, politics, sports and technology."
   ]
  },
  {
   "cell_type": "code",
   "execution_count": 1,
   "id": "9283027b",
   "metadata": {},
   "outputs": [],
   "source": [
    "import numpy as np\n",
    "import pandas as pd\n",
    "import matplotlib.pyplot as plt\n",
    "\n",
    "from sklearn.model_selection import train_test_split\n",
    "\n",
    "%matplotlib inline"
   ]
  },
  {
   "cell_type": "code",
   "execution_count": 2,
   "id": "c0f95d39",
   "metadata": {},
   "outputs": [],
   "source": [
    "import tensorflow as tf\n",
    "from tensorflow.keras.preprocessing.text import Tokenizer\n",
    "from tensorflow.keras.preprocessing.sequence import pad_sequences\n",
    "from tensorflow.keras.layers import Dense, Input, GlobalMaxPooling1D\n",
    "from tensorflow.keras.layers import LSTM, GRU, SimpleRNN, Embedding\n",
    "from tensorflow.keras.models import Model\n",
    "from tensorflow.keras.losses import SparseCategoricalCrossentropy"
   ]
  },
  {
   "cell_type": "code",
   "execution_count": 3,
   "id": "b0cce66e",
   "metadata": {},
   "outputs": [],
   "source": [
    "df = pd.read_csv('data/bbc_text_cls.csv')"
   ]
  },
  {
   "cell_type": "code",
   "execution_count": 4,
   "id": "1eb229bc",
   "metadata": {},
   "outputs": [
    {
     "data": {
      "text/html": [
       "<div>\n",
       "<style scoped>\n",
       "    .dataframe tbody tr th:only-of-type {\n",
       "        vertical-align: middle;\n",
       "    }\n",
       "\n",
       "    .dataframe tbody tr th {\n",
       "        vertical-align: top;\n",
       "    }\n",
       "\n",
       "    .dataframe thead th {\n",
       "        text-align: right;\n",
       "    }\n",
       "</style>\n",
       "<table border=\"1\" class=\"dataframe\">\n",
       "  <thead>\n",
       "    <tr style=\"text-align: right;\">\n",
       "      <th></th>\n",
       "      <th>text</th>\n",
       "      <th>labels</th>\n",
       "    </tr>\n",
       "  </thead>\n",
       "  <tbody>\n",
       "    <tr>\n",
       "      <th>0</th>\n",
       "      <td>Ad sales boost Time Warner profit\\n\\nQuarterly...</td>\n",
       "      <td>business</td>\n",
       "    </tr>\n",
       "    <tr>\n",
       "      <th>1</th>\n",
       "      <td>Dollar gains on Greenspan speech\\n\\nThe dollar...</td>\n",
       "      <td>business</td>\n",
       "    </tr>\n",
       "    <tr>\n",
       "      <th>2</th>\n",
       "      <td>Yukos unit buyer faces loan claim\\n\\nThe owner...</td>\n",
       "      <td>business</td>\n",
       "    </tr>\n",
       "    <tr>\n",
       "      <th>3</th>\n",
       "      <td>High fuel prices hit BA's profits\\n\\nBritish A...</td>\n",
       "      <td>business</td>\n",
       "    </tr>\n",
       "    <tr>\n",
       "      <th>4</th>\n",
       "      <td>Pernod takeover talk lifts Domecq\\n\\nShares in...</td>\n",
       "      <td>business</td>\n",
       "    </tr>\n",
       "  </tbody>\n",
       "</table>\n",
       "</div>"
      ],
      "text/plain": [
       "                                                text    labels\n",
       "0  Ad sales boost Time Warner profit\\n\\nQuarterly...  business\n",
       "1  Dollar gains on Greenspan speech\\n\\nThe dollar...  business\n",
       "2  Yukos unit buyer faces loan claim\\n\\nThe owner...  business\n",
       "3  High fuel prices hit BA's profits\\n\\nBritish A...  business\n",
       "4  Pernod takeover talk lifts Domecq\\n\\nShares in...  business"
      ]
     },
     "execution_count": 4,
     "metadata": {},
     "output_type": "execute_result"
    }
   ],
   "source": [
    "df.head()"
   ]
  },
  {
   "cell_type": "code",
   "execution_count": 5,
   "id": "e29dde0c",
   "metadata": {},
   "outputs": [],
   "source": [
    "# Convert labels to integers in new column\n",
    "\n",
    "df['targets'] = df['labels'].astype(\"category\").cat.codes"
   ]
  },
  {
   "cell_type": "code",
   "execution_count": 6,
   "id": "cf0eb7b4",
   "metadata": {},
   "outputs": [
    {
     "data": {
      "text/html": [
       "<div>\n",
       "<style scoped>\n",
       "    .dataframe tbody tr th:only-of-type {\n",
       "        vertical-align: middle;\n",
       "    }\n",
       "\n",
       "    .dataframe tbody tr th {\n",
       "        vertical-align: top;\n",
       "    }\n",
       "\n",
       "    .dataframe thead th {\n",
       "        text-align: right;\n",
       "    }\n",
       "</style>\n",
       "<table border=\"1\" class=\"dataframe\">\n",
       "  <thead>\n",
       "    <tr style=\"text-align: right;\">\n",
       "      <th></th>\n",
       "      <th>text</th>\n",
       "      <th>labels</th>\n",
       "      <th>targets</th>\n",
       "    </tr>\n",
       "  </thead>\n",
       "  <tbody>\n",
       "    <tr>\n",
       "      <th>0</th>\n",
       "      <td>Ad sales boost Time Warner profit\\n\\nQuarterly...</td>\n",
       "      <td>business</td>\n",
       "      <td>0</td>\n",
       "    </tr>\n",
       "    <tr>\n",
       "      <th>1</th>\n",
       "      <td>Dollar gains on Greenspan speech\\n\\nThe dollar...</td>\n",
       "      <td>business</td>\n",
       "      <td>0</td>\n",
       "    </tr>\n",
       "    <tr>\n",
       "      <th>2</th>\n",
       "      <td>Yukos unit buyer faces loan claim\\n\\nThe owner...</td>\n",
       "      <td>business</td>\n",
       "      <td>0</td>\n",
       "    </tr>\n",
       "    <tr>\n",
       "      <th>3</th>\n",
       "      <td>High fuel prices hit BA's profits\\n\\nBritish A...</td>\n",
       "      <td>business</td>\n",
       "      <td>0</td>\n",
       "    </tr>\n",
       "    <tr>\n",
       "      <th>4</th>\n",
       "      <td>Pernod takeover talk lifts Domecq\\n\\nShares in...</td>\n",
       "      <td>business</td>\n",
       "      <td>0</td>\n",
       "    </tr>\n",
       "  </tbody>\n",
       "</table>\n",
       "</div>"
      ],
      "text/plain": [
       "                                                text    labels  targets\n",
       "0  Ad sales boost Time Warner profit\\n\\nQuarterly...  business        0\n",
       "1  Dollar gains on Greenspan speech\\n\\nThe dollar...  business        0\n",
       "2  Yukos unit buyer faces loan claim\\n\\nThe owner...  business        0\n",
       "3  High fuel prices hit BA's profits\\n\\nBritish A...  business        0\n",
       "4  Pernod takeover talk lifts Domecq\\n\\nShares in...  business        0"
      ]
     },
     "execution_count": 6,
     "metadata": {},
     "output_type": "execute_result"
    }
   ],
   "source": [
    "df.head()"
   ]
  },
  {
   "cell_type": "code",
   "execution_count": 7,
   "id": "2dd59fd8",
   "metadata": {},
   "outputs": [
    {
     "data": {
      "text/plain": [
       "(2225, 3)"
      ]
     },
     "execution_count": 7,
     "metadata": {},
     "output_type": "execute_result"
    }
   ],
   "source": [
    "# 2,225 documents\n",
    "\n",
    "df.shape"
   ]
  },
  {
   "cell_type": "code",
   "execution_count": 8,
   "id": "750fe53c",
   "metadata": {},
   "outputs": [
    {
     "data": {
      "text/plain": [
       "5"
      ]
     },
     "execution_count": 8,
     "metadata": {},
     "output_type": "execute_result"
    }
   ],
   "source": [
    "# Note number of classes\n",
    "\n",
    "K = df['targets'].max() + 1\n",
    "\n",
    "K"
   ]
  },
  {
   "cell_type": "code",
   "execution_count": 9,
   "id": "7f937069",
   "metadata": {},
   "outputs": [],
   "source": [
    "# Train-test split data\n",
    "\n",
    "df_train, df_test = train_test_split(df, test_size=0.3)"
   ]
  },
  {
   "cell_type": "code",
   "execution_count": 10,
   "id": "bf7e9dd0",
   "metadata": {},
   "outputs": [
    {
     "name": "stdout",
     "output_type": "stream",
     "text": [
      "Number of training samples (N): 1557\n"
     ]
    }
   ],
   "source": [
    "print(\"Number of training samples (N):\", df_train.shape[0])"
   ]
  },
  {
   "cell_type": "markdown",
   "id": "d554c0c5",
   "metadata": {},
   "source": [
    "## Tokenize text data\n",
    "\n",
    "Use the TensorFlow `Tokenizer` function to convert text documents to sequences of integers. This also generates mapping dictionaries, from which you can find the true vocabulary size (**V**), i.e. all the words, not just the 2000 words reserved for the tokenizer. The **V** variable is used as input size for the embedding layer of the LSTM neural network.\n",
    "\n",
    "After transforming the text data to sequences of integers, you can access the maximum sequence length by 'padding' the tokenized vectors (with `pad_sequences` function). The sequence length (**T**) matches the number of columns in tokenized training data, i.e. the longest document."
   ]
  },
  {
   "cell_type": "code",
   "execution_count": 11,
   "id": "adedef4d",
   "metadata": {},
   "outputs": [],
   "source": [
    "# Set tokenizer vocab \n",
    "MAX_VOCAB_SIZE = 2000\n",
    "\n",
    "tokenizer = Tokenizer(num_words=MAX_VOCAB_SIZE)\n",
    "\n",
    "# Train tokenizer\n",
    "tokenizer.fit_on_texts(df_train['text'])"
   ]
  },
  {
   "cell_type": "code",
   "execution_count": 12,
   "id": "4acefe16",
   "metadata": {},
   "outputs": [],
   "source": [
    "# Transform text data\n",
    "\n",
    "sequences_train = tokenizer.texts_to_sequences(df_train['text'])\n",
    "\n",
    "sequences_test = tokenizer.texts_to_sequences(df_test['text'])"
   ]
  },
  {
   "cell_type": "code",
   "execution_count": 13,
   "id": "78085214",
   "metadata": {},
   "outputs": [],
   "source": [
    "# Obtain word-to-index mapping from tokenizer\n",
    "\n",
    "word2idx = tokenizer.word_index\n",
    "\n",
    "V = len(word2idx)"
   ]
  },
  {
   "cell_type": "code",
   "execution_count": 14,
   "id": "bd530dd7",
   "metadata": {},
   "outputs": [
    {
     "name": "stdout",
     "output_type": "stream",
     "text": [
      "True vocabulary size is 27785 unique tokens\n"
     ]
    }
   ],
   "source": [
    "print('True vocabulary size is %s unique tokens' % V)"
   ]
  },
  {
   "cell_type": "code",
   "execution_count": 15,
   "id": "3a954277",
   "metadata": {},
   "outputs": [
    {
     "name": "stdout",
     "output_type": "stream",
     "text": [
      "Shape of data train tensor: (1557, 2820)\n",
      "Max sequence length: 2820\n"
     ]
    }
   ],
   "source": [
    "# Pad sequences so that we get a N x T matrix (documents by max sequence length)\n",
    "\n",
    "data_train = pad_sequences(sequences_train)\n",
    "\n",
    "print('Shape of data train tensor:', data_train.shape)\n",
    "print('Max sequence length:', data_train.shape[1])"
   ]
  },
  {
   "cell_type": "code",
   "execution_count": 16,
   "id": "dc6a2371",
   "metadata": {},
   "outputs": [
    {
     "data": {
      "text/plain": [
       "2820"
      ]
     },
     "execution_count": 16,
     "metadata": {},
     "output_type": "execute_result"
    }
   ],
   "source": [
    "# Get sequence length (T) from training data, i.e. maximum sequence length\n",
    "\n",
    "T = data_train.shape[1]\n",
    "\n",
    "T"
   ]
  },
  {
   "cell_type": "code",
   "execution_count": 17,
   "id": "b8f9dbdb",
   "metadata": {},
   "outputs": [
    {
     "name": "stdout",
     "output_type": "stream",
     "text": [
      "Shape of data test tensor: (668, 2820)\n"
     ]
    }
   ],
   "source": [
    "data_test = pad_sequences(sequences_test, maxlen=T)\n",
    "\n",
    "print('Shape of data test tensor:', data_test.shape)"
   ]
  },
  {
   "cell_type": "markdown",
   "id": "0629f089",
   "metadata": {},
   "source": [
    "**You impose the same sequence length on the test data because in the real world, you would not know the true sequence length so you assume based on the training data.**\n",
    "\n",
    "## Build the model\n",
    "\n",
    "As with CNN models, RNNs work with **word embeddings** before entering the recurrent hidden states so you need to implement an embedding layer. The embedding dimensionality is a hyperparameter, which you can modify to improve results. Essentially, it is the recommended length of the word vector in the embedding matrix.\n",
    "\n",
    "Since this is a many-to-many classification, you need to include **Global Max Pooling** before the outer layer.\n",
    "\n",
    "NOTE: You actually want the size of the embedding matrix to be **(V + 1) x D**, because the first index starts from 1 and not 0. If the final index of the embedding matrix is V, then it actually has the size V + 1.\n"
   ]
  },
  {
   "cell_type": "code",
   "execution_count": 18,
   "id": "da53eb99",
   "metadata": {},
   "outputs": [],
   "source": [
    "# Embedding dimensionality\n",
    "\n",
    "D = 20"
   ]
  },
  {
   "cell_type": "code",
   "execution_count": 19,
   "id": "82710f14",
   "metadata": {},
   "outputs": [],
   "source": [
    "# Input training data of T length (sequence length by features)\n",
    "i = Input(shape=(T,))\n",
    "\n",
    "# Embedding matrix V x D (vocab size by embedding dimensions)\n",
    "x = Embedding(V + 1, D)(i)\n",
    "\n",
    "# Output is T x M (sequence length by features)\n",
    "x = LSTM(32, return_sequences=True)(x)\n",
    "\n",
    "# Flatten for outer layer\n",
    "x = GlobalMaxPooling1D()(x)\n",
    "\n",
    "# Output is T x K (sequence length by output nodes)\n",
    "x = Dense(K)(x)\n",
    "\n",
    "model = Model(i, x)"
   ]
  },
  {
   "cell_type": "markdown",
   "id": "3c27bdfc",
   "metadata": {},
   "source": [
    "**EXERCISE:** You can try other models to improve results:\n",
    "\n",
    "**1) Multiple LSTM layers**\n",
    "\n",
    "**2) GRU instead of LSTM**\n",
    "\n",
    "**3) SimpleRNN instead of LSTM**\n",
    "\n",
    "**4) `return_sequences=False`, and no global max pooling, i.e. keep final hidden state only**\n",
    "\n",
    "**5) For hidden layers, try different numbers of hidden units**\n",
    "\n",
    "**6) Different combinations of all the above**\n",
    "\n",
    "**Common FAQ:** \"How can I choose the best combination of hyperparameters?\" Unfortunately, testing with the above options is the solution - there is no shortcut!"
   ]
  },
  {
   "cell_type": "code",
   "execution_count": 20,
   "id": "21a53186",
   "metadata": {},
   "outputs": [],
   "source": [
    "# Compile model\n",
    "\n",
    "model.compile(loss=SparseCategoricalCrossentropy(from_logits=True), optimizer='adam', metrics=['accuracy'])"
   ]
  },
  {
   "cell_type": "code",
   "execution_count": 21,
   "id": "5604d9bd",
   "metadata": {},
   "outputs": [
    {
     "name": "stdout",
     "output_type": "stream",
     "text": [
      "Training model...\n",
      "Epoch 1/50\n",
      "49/49 [==============================] - 118s 2s/step - loss: 1.5991 - accuracy: 0.3198 - val_loss: 1.5755 - val_accuracy: 0.4686\n",
      "Epoch 2/50\n",
      "49/49 [==============================] - 114s 2s/step - loss: 1.5431 - accuracy: 0.3963 - val_loss: 1.4514 - val_accuracy: 0.4925\n",
      "Epoch 3/50\n",
      "49/49 [==============================] - 115s 2s/step - loss: 1.2609 - accuracy: 0.4945 - val_loss: 1.0946 - val_accuracy: 0.5374\n",
      "Epoch 4/50\n",
      "49/49 [==============================] - 114s 2s/step - loss: 0.9502 - accuracy: 0.6127 - val_loss: 0.8019 - val_accuracy: 0.6347\n",
      "Epoch 5/50\n",
      "49/49 [==============================] - 114s 2s/step - loss: 0.6611 - accuracy: 0.7604 - val_loss: 0.9921 - val_accuracy: 0.7290\n",
      "Epoch 6/50\n",
      "49/49 [==============================] - 873s 18s/step - loss: 0.5953 - accuracy: 0.8292 - val_loss: 0.6713 - val_accuracy: 0.7695\n",
      "Epoch 7/50\n",
      "49/49 [==============================] - 69s 1s/step - loss: 0.5622 - accuracy: 0.8073 - val_loss: 0.5253 - val_accuracy: 0.8802\n",
      "Epoch 8/50\n",
      "49/49 [==============================] - 72s 1s/step - loss: 0.3504 - accuracy: 0.9223 - val_loss: 0.4039 - val_accuracy: 0.8997\n",
      "Epoch 9/50\n",
      "49/49 [==============================] - 71s 1s/step - loss: 0.2961 - accuracy: 0.9268 - val_loss: 0.3937 - val_accuracy: 0.8982\n",
      "Epoch 10/50\n",
      "49/49 [==============================] - 65s 1s/step - loss: 0.4143 - accuracy: 0.9030 - val_loss: 4.0493 - val_accuracy: 0.2470\n",
      "Epoch 11/50\n",
      "49/49 [==============================] - 65s 1s/step - loss: 0.6849 - accuracy: 0.8510 - val_loss: 0.3543 - val_accuracy: 0.9461\n",
      "Epoch 12/50\n",
      "49/49 [==============================] - 67s 1s/step - loss: 0.2221 - accuracy: 0.9782 - val_loss: 0.2684 - val_accuracy: 0.9506\n",
      "Epoch 13/50\n",
      "49/49 [==============================] - 67s 1s/step - loss: 0.1540 - accuracy: 0.9833 - val_loss: 0.2413 - val_accuracy: 0.9491\n",
      "Epoch 14/50\n",
      "49/49 [==============================] - 67s 1s/step - loss: 0.1201 - accuracy: 0.9865 - val_loss: 0.2346 - val_accuracy: 0.9506\n",
      "Epoch 15/50\n",
      "49/49 [==============================] - 69s 1s/step - loss: 0.0946 - accuracy: 0.9910 - val_loss: 0.2244 - val_accuracy: 0.9506\n",
      "Epoch 16/50\n",
      "49/49 [==============================] - 68s 1s/step - loss: 0.0772 - accuracy: 0.9936 - val_loss: 0.2339 - val_accuracy: 0.9401\n",
      "Epoch 17/50\n",
      "49/49 [==============================] - 69s 1s/step - loss: 0.0699 - accuracy: 0.9929 - val_loss: 0.2192 - val_accuracy: 0.9446\n",
      "Epoch 18/50\n",
      "49/49 [==============================] - 69s 1s/step - loss: 0.0578 - accuracy: 0.9949 - val_loss: 0.2194 - val_accuracy: 0.9446\n",
      "Epoch 19/50\n",
      "49/49 [==============================] - 69s 1s/step - loss: 0.0736 - accuracy: 0.9878 - val_loss: 0.2187 - val_accuracy: 0.9491\n",
      "Epoch 20/50\n",
      "49/49 [==============================] - 69s 1s/step - loss: 0.0713 - accuracy: 0.9884 - val_loss: 0.2459 - val_accuracy: 0.9431\n",
      "Epoch 21/50\n",
      "49/49 [==============================] - 69s 1s/step - loss: 0.0574 - accuracy: 0.9917 - val_loss: 0.2083 - val_accuracy: 0.9506\n",
      "Epoch 22/50\n",
      "49/49 [==============================] - 69s 1s/step - loss: 0.0484 - accuracy: 0.9929 - val_loss: 0.2326 - val_accuracy: 0.9461\n",
      "Epoch 23/50\n",
      "49/49 [==============================] - 70s 1s/step - loss: 0.0605 - accuracy: 0.9891 - val_loss: 0.2128 - val_accuracy: 0.9521\n",
      "Epoch 24/50\n",
      "49/49 [==============================] - 70s 1s/step - loss: 0.1070 - accuracy: 0.9737 - val_loss: 0.2484 - val_accuracy: 0.9311\n",
      "Epoch 25/50\n",
      "49/49 [==============================] - 69s 1s/step - loss: 0.0941 - accuracy: 0.9762 - val_loss: 0.1897 - val_accuracy: 0.9506\n",
      "Epoch 26/50\n",
      "49/49 [==============================] - 70s 1s/step - loss: 0.0467 - accuracy: 0.9929 - val_loss: 0.1752 - val_accuracy: 0.9551\n",
      "Epoch 27/50\n",
      "49/49 [==============================] - 71s 1s/step - loss: 0.0476 - accuracy: 0.9910 - val_loss: 0.1760 - val_accuracy: 0.9596\n",
      "Epoch 28/50\n",
      "49/49 [==============================] - 70s 1s/step - loss: 0.3344 - accuracy: 0.9011 - val_loss: 0.7768 - val_accuracy: 0.7171\n",
      "Epoch 29/50\n",
      "49/49 [==============================] - 70s 1s/step - loss: 0.6781 - accuracy: 0.7476 - val_loss: 0.4288 - val_accuracy: 0.9117\n",
      "Epoch 30/50\n",
      "49/49 [==============================] - 70s 1s/step - loss: 0.3012 - accuracy: 0.9602 - val_loss: 0.3060 - val_accuracy: 0.9416\n",
      "Epoch 31/50\n",
      "49/49 [==============================] - 70s 1s/step - loss: 0.2076 - accuracy: 0.9730 - val_loss: 0.2404 - val_accuracy: 0.9476\n",
      "Epoch 32/50\n",
      "49/49 [==============================] - 72s 1s/step - loss: 0.1560 - accuracy: 0.9794 - val_loss: 0.2174 - val_accuracy: 0.9536\n",
      "Epoch 33/50\n",
      "49/49 [==============================] - 70s 1s/step - loss: 0.1203 - accuracy: 0.9891 - val_loss: 0.1979 - val_accuracy: 0.9551\n",
      "Epoch 34/50\n",
      "49/49 [==============================] - 70s 1s/step - loss: 0.0962 - accuracy: 0.9923 - val_loss: 0.1839 - val_accuracy: 0.9551\n",
      "Epoch 35/50\n",
      "49/49 [==============================] - 70s 1s/step - loss: 0.0838 - accuracy: 0.9929 - val_loss: 0.1760 - val_accuracy: 0.9566\n",
      "Epoch 36/50\n",
      "49/49 [==============================] - 72s 1s/step - loss: 0.0705 - accuracy: 0.9936 - val_loss: 0.1702 - val_accuracy: 0.9536\n",
      "Epoch 37/50\n",
      "49/49 [==============================] - 71s 1s/step - loss: 0.0604 - accuracy: 0.9955 - val_loss: 0.1703 - val_accuracy: 0.9551\n",
      "Epoch 38/50\n",
      "49/49 [==============================] - 70s 1s/step - loss: 0.0654 - accuracy: 0.9936 - val_loss: 0.1656 - val_accuracy: 0.9521\n",
      "Epoch 39/50\n",
      "49/49 [==============================] - 70s 1s/step - loss: 0.0498 - accuracy: 0.9955 - val_loss: 0.1676 - val_accuracy: 0.9536\n",
      "Epoch 40/50\n",
      "49/49 [==============================] - 70s 1s/step - loss: 0.0422 - accuracy: 0.9968 - val_loss: 0.1650 - val_accuracy: 0.9581\n",
      "Epoch 41/50\n",
      "49/49 [==============================] - 69s 1s/step - loss: 0.0442 - accuracy: 0.9949 - val_loss: 0.1738 - val_accuracy: 0.9521\n",
      "Epoch 42/50\n",
      "49/49 [==============================] - 70s 1s/step - loss: 0.0391 - accuracy: 0.9955 - val_loss: 0.1555 - val_accuracy: 0.9536\n",
      "Epoch 43/50\n",
      "49/49 [==============================] - 70s 1s/step - loss: 0.0323 - accuracy: 0.9974 - val_loss: 0.1634 - val_accuracy: 0.9536\n",
      "Epoch 44/50\n",
      "49/49 [==============================] - 70s 1s/step - loss: 0.0311 - accuracy: 0.9968 - val_loss: 0.1639 - val_accuracy: 0.9536\n",
      "Epoch 45/50\n",
      "49/49 [==============================] - 69s 1s/step - loss: 0.0283 - accuracy: 0.9968 - val_loss: 0.1679 - val_accuracy: 0.9476\n",
      "Epoch 46/50\n",
      "49/49 [==============================] - 68s 1s/step - loss: 0.0256 - accuracy: 0.9987 - val_loss: 0.1631 - val_accuracy: 0.9536\n",
      "Epoch 47/50\n",
      "49/49 [==============================] - 75s 2s/step - loss: 0.0234 - accuracy: 0.9987 - val_loss: 0.1674 - val_accuracy: 0.9491\n",
      "Epoch 48/50\n",
      "49/49 [==============================] - 70s 1s/step - loss: 0.0287 - accuracy: 0.9974 - val_loss: 0.1790 - val_accuracy: 0.9461\n",
      "Epoch 49/50\n",
      "49/49 [==============================] - 71s 1s/step - loss: 0.0280 - accuracy: 0.9955 - val_loss: 0.1478 - val_accuracy: 0.9476\n",
      "Epoch 50/50\n",
      "49/49 [==============================] - 69s 1s/step - loss: 0.0200 - accuracy: 0.9987 - val_loss: 0.1517 - val_accuracy: 0.9491\n"
     ]
    }
   ],
   "source": [
    "# Fit model (takes approx 1 hr)\n",
    "\n",
    "print('Training model...')\n",
    "\n",
    "r = model.fit(data_train, \n",
    "              df_train['targets'], \n",
    "              epochs=50, \n",
    "              validation_data=(data_test, df_test['targets']))"
   ]
  },
  {
   "cell_type": "code",
   "execution_count": 22,
   "id": "72f683b3",
   "metadata": {},
   "outputs": [
    {
     "data": {
      "image/png": "[encoded data removed]",
      "text/plain": [
       "<Figure size 640x480 with 1 Axes>"
      ]
     },
     "metadata": {},
     "output_type": "display_data"
    }
   ],
   "source": [
    "# Plot loss per epoch\n",
    "\n",
    "plt.plot(r.history['loss'], label='train loss')\n",
    "plt.plot(r.history['val_loss'], label='val loss')\n",
    "plt.legend();"
   ]
  },
  {
   "cell_type": "code",
   "execution_count": 23,
   "id": "2474426e",
   "metadata": {},
   "outputs": [
    {
     "data": {
      "image/png": "[encoded data removed]",
      "text/plain": [
       "<Figure size 640x480 with 1 Axes>"
      ]
     },
     "metadata": {},
     "output_type": "display_data"
    }
   ],
   "source": [
    "# Plot accuracy per epoch\n",
    "\n",
    "plt.plot(r.history['accuracy'], label='train acc')\n",
    "plt.plot(r.history['val_accuracy'], label='val acc')\n",
    "plt.legend();"
   ]
  },
  {
   "cell_type": "markdown",
   "id": "076a5226",
   "metadata": {},
   "source": [
    "**As expected, the performance on the training set is better than the test set, but with a huge spike in test losses. Training an LSTM model appears more erratic than training CNN model, but this is normal when models get more complex. The losses (and accuracy) are less robust due to different weights and hyperparameters.**\n",
    "\n",
    "\n",
    "## Run performance metrics\n",
    "\n",
    "Since the target classes in the dataset are quite well-balanced, F1-score and confusion matrix is usually sufficient to measure the model's performance. You need to generate the predictions through the trained model off the test set, which outputs probability logits per class, rather than allocating a single class to each instance. To compare the predicted labels with the actual labels, you need to create a new object listing the class with highest probability for each instance.\n",
    "\n",
    "NOTE: To run AUC metric, there is no need to isolate the classes with highest probability - you can use the output probability logits directly in SciKit-Learn function."
   ]
  },
  {
   "cell_type": "code",
   "execution_count": 24,
   "id": "32147bc9",
   "metadata": {},
   "outputs": [],
   "source": [
    "from sklearn.metrics import confusion_matrix, f1_score"
   ]
  },
  {
   "cell_type": "code",
   "execution_count": 25,
   "id": "c1cf77f6",
   "metadata": {},
   "outputs": [
    {
     "name": "stdout",
     "output_type": "stream",
     "text": [
      "21/21 [==============================] - 5s 208ms/step\n"
     ]
    }
   ],
   "source": [
    "predictions = model.predict(data_test)"
   ]
  },
  {
   "cell_type": "code",
   "execution_count": 26,
   "id": "249576ff",
   "metadata": {},
   "outputs": [
    {
     "data": {
      "text/plain": [
       "numpy.ndarray"
      ]
     },
     "execution_count": 26,
     "metadata": {},
     "output_type": "execute_result"
    }
   ],
   "source": [
    "type(predictions)"
   ]
  },
  {
   "cell_type": "code",
   "execution_count": 27,
   "id": "2cf93031",
   "metadata": {},
   "outputs": [
    {
     "data": {
      "text/plain": [
       "array([-2.347466 , -2.5148504,  4.1896377, -5.2745347, -2.962849 ],\n",
       "      dtype=float32)"
      ]
     },
     "execution_count": 27,
     "metadata": {},
     "output_type": "execute_result"
    }
   ],
   "source": [
    "# Note that predicted class is positive, as well as being the highest value\n",
    "\n",
    "predictions[0]"
   ]
  },
  {
   "cell_type": "code",
   "execution_count": 28,
   "id": "05347490",
   "metadata": {},
   "outputs": [],
   "source": [
    "# Isolate class with highest probability per instance\n",
    "\n",
    "class_preds = []\n",
    "\n",
    "for pred in predictions:\n",
    "    target = pred.argmax()\n",
    "    class_preds.append(target)\n"
   ]
  },
  {
   "cell_type": "code",
   "execution_count": 30,
   "id": "1b9110c3",
   "metadata": {},
   "outputs": [
    {
     "name": "stdout",
     "output_type": "stream",
     "text": [
      "Test F1 score: 0.9476050362246866\n"
     ]
    }
   ],
   "source": [
    "print(\"Test F1 score:\", f1_score(df_test['targets'], class_preds, average='macro'))"
   ]
  },
  {
   "cell_type": "code",
   "execution_count": 31,
   "id": "277da719",
   "metadata": {},
   "outputs": [],
   "source": [
    "cm = confusion_matrix(df_test['targets'], class_preds)"
   ]
  },
  {
   "cell_type": "code",
   "execution_count": 34,
   "id": "827856ec",
   "metadata": {},
   "outputs": [],
   "source": [
    "import seaborn as sns\n",
    "\n",
    "def plot_cm(cm):\n",
    "    classes = ['business', 'entertainment', 'politics', 'sport', 'tech'] \n",
    "    df_cm = pd.DataFrame(cm, index=classes, columns=classes) \n",
    "    ax = sns.heatmap(df_cm, annot=True, fmt='g') \n",
    "    ax.set_xlabel(\"Predicted\") \n",
    "    ax.set_ylabel(\"Target\")\n"
   ]
  },
  {
   "cell_type": "code",
   "execution_count": 35,
   "id": "0d6779b7",
   "metadata": {},
   "outputs": [
    {
     "data": {
      "image/png": "[encoded data removed]",
      "text/plain": [
       "<Figure size 640x480 with 2 Axes>"
      ]
     },
     "metadata": {},
     "output_type": "display_data"
    }
   ],
   "source": [
    "plot_cm(cm)"
   ]
  },
  {
   "cell_type": "code",
   "execution_count": null,
   "id": "04f4ad6b",
   "metadata": {},
   "outputs": [],
   "source": [
    "# Model has performed very well with LSTM"
   ]
  }
 ],
 "metadata": {
  "kernelspec": {
   "display_name": "Python 3 (ipykernel)",
   "language": "python",
   "name": "python3"
  },
  "language_info": {
   "codemirror_mode": {
    "name": "ipython",
    "version": 3
   },
   "file_extension": ".py",
   "mimetype": "text/x-python",
   "name": "python",
   "nbconvert_exporter": "python",
   "pygments_lexer": "ipython3",
   "version": "3.9.16"
  }
 },
 "nbformat": 4,
 "nbformat_minor": 5
}
