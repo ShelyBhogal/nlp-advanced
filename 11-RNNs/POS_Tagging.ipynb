{
 "cells": [
  {
   "cell_type": "markdown",
   "id": "40b1c56e",
   "metadata": {},
   "source": [
    "# Part-of-Speech Tagging using Bidirectional LSTM\n",
    "\n",
    "The LSTM unit is considered the most complex RNN model but the most effective, especially when dealing with long text sequences.\n",
    "\n",
    "The NLTK package comes with a million-word electronic corpus of tagged English words, created at Brown University (USA). It consists of 500 text documents, the longest consisting of just over 2,000 words. The text documents were sampled from 15 different text categories, where the number of documents in each category varies. It is well-known for setting the bar for scientific study of the frequency and distribution of word categories in everyday language use.\n",
    "\n",
    "Import the tagged Brown corpus from `nltk.corpus`, but re-tag each word with part-of-speech using NLTK's **universal tagset**. The default tags in the Brown corpus do not necessarily match the universally-accepted tagging syntax, so it is common to map to these universal settings when using the Brown corpus. Then you can create the input data (tokenized words per document) and target data (the corresponding POS tags).\n",
    "\n",
    "As with any text processing task in an RNN network, the important size variables to remember are:\n",
    "\n",
    "    V vocabulary size of corpus\n",
    "    N number of samples\n",
    "    T sequence length\n",
    "    D number of input features\n",
    "    M number of hidden neurons\n",
    "    K number of neurons in outer dense layer\n",
    "\n",
    "## Create data for LSTM model"
   ]
  },
  {
   "cell_type": "code",
   "execution_count": 1,
   "id": "8ee7035e",
   "metadata": {},
   "outputs": [],
   "source": [
    "import nltk\n",
    "from nltk.corpus import brown"
   ]
  },
  {
   "cell_type": "code",
   "execution_count": 2,
   "id": "a8ebcb37",
   "metadata": {},
   "outputs": [
    {
     "name": "stderr",
     "output_type": "stream",
     "text": [
      "[nltk_data] Downloading package brown to\n",
      "[nltk_data]     C:\\Users\\shmel\\AppData\\Roaming\\nltk_data...\n",
      "[nltk_data]   Package brown is already up-to-date!\n",
      "[nltk_data] Downloading package universal_tagset to\n",
      "[nltk_data]     C:\\Users\\shmel\\AppData\\Roaming\\nltk_data...\n",
      "[nltk_data]   Package universal_tagset is already up-to-date!\n"
     ]
    },
    {
     "data": {
      "text/plain": [
       "True"
      ]
     },
     "execution_count": 2,
     "metadata": {},
     "output_type": "execute_result"
    }
   ],
   "source": [
    "nltk.download('brown')\n",
    "nltk.download('universal_tagset')"
   ]
  },
  {
   "cell_type": "markdown",
   "id": "97c99f46",
   "metadata": {},
   "source": [
    "**You import the brown corpus with the universal tagset by using `tagged_words()` or `tagged_sents()` function. In this case, you should tag the sentences, which produces a list of (list of (str,str)), i.e. list of sentences where each word is tagged with part-of-speech. By convention, the tagged word is represented using a tuple consisting of the token and the POS tag.**"
   ]
  },
  {
   "cell_type": "code",
   "execution_count": 3,
   "id": "fbb0e2e3",
   "metadata": {},
   "outputs": [],
   "source": [
    "corpus = brown.tagged_sents(tagset='universal')"
   ]
  },
  {
   "cell_type": "code",
   "execution_count": 6,
   "id": "94e2070e",
   "metadata": {},
   "outputs": [
    {
     "name": "stdout",
     "output_type": "stream",
     "text": [
      "There are 57340 sentences in the corpus\n"
     ]
    }
   ],
   "source": [
    "print('There are', len(corpus), 'sentences in the corpus')"
   ]
  },
  {
   "cell_type": "code",
   "execution_count": 7,
   "id": "3804eba5",
   "metadata": {},
   "outputs": [
    {
     "data": {
      "text/plain": [
       "[('The', 'DET'),\n",
       " ('Fulton', 'NOUN'),\n",
       " ('County', 'NOUN'),\n",
       " ('Grand', 'ADJ'),\n",
       " ('Jury', 'NOUN'),\n",
       " ('said', 'VERB'),\n",
       " ('Friday', 'NOUN'),\n",
       " ('an', 'DET'),\n",
       " ('investigation', 'NOUN'),\n",
       " ('of', 'ADP'),\n",
       " (\"Atlanta's\", 'NOUN'),\n",
       " ('recent', 'ADJ'),\n",
       " ('primary', 'NOUN'),\n",
       " ('election', 'NOUN'),\n",
       " ('produced', 'VERB'),\n",
       " ('``', '.'),\n",
       " ('no', 'DET'),\n",
       " ('evidence', 'NOUN'),\n",
       " (\"''\", '.'),\n",
       " ('that', 'ADP'),\n",
       " ('any', 'DET'),\n",
       " ('irregularities', 'NOUN'),\n",
       " ('took', 'VERB'),\n",
       " ('place', 'NOUN'),\n",
       " ('.', '.')]"
      ]
     },
     "execution_count": 7,
     "metadata": {},
     "output_type": "execute_result"
    }
   ],
   "source": [
    "# 1st text document tagged with parts-of-speech\n",
    "\n",
    "corpus[0]"
   ]
  },
  {
   "cell_type": "code",
   "execution_count": 8,
   "id": "4ddc95ac",
   "metadata": {},
   "outputs": [],
   "source": [
    "# Separate corpus into lists (sentences) of words and lists of corresponding POS tags (input and output)\n",
    "\n",
    "inputs = []\n",
    "targets = []\n",
    "\n",
    "for sentence_tag_pairs in corpus:\n",
    "    tokens = [] \n",
    "    target = [] \n",
    "    for token, tag in sentence_tag_pairs:\n",
    "        tokens.append(token) \n",
    "        target.append(tag) \n",
    "        \n",
    "    inputs.append(tokens) \n",
    "    targets.append(target)"
   ]
  },
  {
   "cell_type": "code",
   "execution_count": 9,
   "id": "f54f6d3d",
   "metadata": {},
   "outputs": [
    {
     "data": {
      "text/plain": [
       "['The',\n",
       " 'Fulton',\n",
       " 'County',\n",
       " 'Grand',\n",
       " 'Jury',\n",
       " 'said',\n",
       " 'Friday',\n",
       " 'an',\n",
       " 'investigation',\n",
       " 'of',\n",
       " \"Atlanta's\",\n",
       " 'recent',\n",
       " 'primary',\n",
       " 'election',\n",
       " 'produced',\n",
       " '``',\n",
       " 'no',\n",
       " 'evidence',\n",
       " \"''\",\n",
       " 'that',\n",
       " 'any',\n",
       " 'irregularities',\n",
       " 'took',\n",
       " 'place',\n",
       " '.']"
      ]
     },
     "execution_count": 9,
     "metadata": {},
     "output_type": "execute_result"
    }
   ],
   "source": [
    "inputs[0]"
   ]
  },
  {
   "cell_type": "code",
   "execution_count": 10,
   "id": "1c911d68",
   "metadata": {},
   "outputs": [
    {
     "data": {
      "text/plain": [
       "['DET',\n",
       " 'NOUN',\n",
       " 'NOUN',\n",
       " 'ADJ',\n",
       " 'NOUN',\n",
       " 'VERB',\n",
       " 'NOUN',\n",
       " 'DET',\n",
       " 'NOUN',\n",
       " 'ADP',\n",
       " 'NOUN',\n",
       " 'ADJ',\n",
       " 'NOUN',\n",
       " 'NOUN',\n",
       " 'VERB',\n",
       " '.',\n",
       " 'DET',\n",
       " 'NOUN',\n",
       " '.',\n",
       " 'ADP',\n",
       " 'DET',\n",
       " 'NOUN',\n",
       " 'VERB',\n",
       " 'NOUN',\n",
       " '.']"
      ]
     },
     "execution_count": 10,
     "metadata": {},
     "output_type": "execute_result"
    }
   ],
   "source": [
    "targets[0]"
   ]
  },
  {
   "cell_type": "code",
   "execution_count": 11,
   "id": "6997f0f7",
   "metadata": {},
   "outputs": [
    {
     "data": {
      "text/plain": [
       "True"
      ]
     },
     "execution_count": 11,
     "metadata": {},
     "output_type": "execute_result"
    }
   ],
   "source": [
    "# Check that each token in input has corresponding POS tag in output\n",
    "\n",
    "len(inputs[0]) == len(targets[0])"
   ]
  },
  {
   "cell_type": "code",
   "execution_count": 12,
   "id": "914f6f08",
   "metadata": {},
   "outputs": [],
   "source": [
    "import numpy as np\n",
    "import pandas as pd\n",
    "import matplotlib.pyplot as plt\n",
    "\n",
    "from sklearn.model_selection import train_test_split\n",
    "\n",
    "%matplotlib inline"
   ]
  },
  {
   "cell_type": "code",
   "execution_count": 13,
   "id": "68d42373",
   "metadata": {},
   "outputs": [],
   "source": [
    "import tensorflow as tf\n",
    "from tensorflow.keras.preprocessing.text import Tokenizer\n",
    "from tensorflow.keras.preprocessing.sequence import pad_sequences\n",
    "from tensorflow.keras.layers import Dense, Input, Bidirectional\n",
    "from tensorflow.keras.layers import LSTM, GRU, SimpleRNN, Embedding\n",
    "from tensorflow.keras.models import Model\n",
    "from tensorflow.keras.losses import SparseCategoricalCrossentropy"
   ]
  },
  {
   "cell_type": "code",
   "execution_count": 14,
   "id": "d49e66db",
   "metadata": {},
   "outputs": [],
   "source": [
    "# Train-test split input and target data before converting words to integers\n",
    "\n",
    "train_inputs, test_inputs, train_targets, test_targets = train_test_split(inputs, targets, test_size=0.3)"
   ]
  },
  {
   "cell_type": "code",
   "execution_count": 19,
   "id": "95e5bfa7",
   "metadata": {},
   "outputs": [
    {
     "name": "stdout",
     "output_type": "stream",
     "text": [
      "There are 40138 sentences in the training set\n"
     ]
    }
   ],
   "source": [
    "print('There are', len(train_inputs), 'sentences in the training set')"
   ]
  },
  {
   "cell_type": "code",
   "execution_count": 17,
   "id": "8cde5790",
   "metadata": {},
   "outputs": [
    {
     "data": {
      "text/plain": [
       "40138"
      ]
     },
     "execution_count": 17,
     "metadata": {},
     "output_type": "execute_result"
    }
   ],
   "source": [
    "len(train_targets)"
   ]
  },
  {
   "cell_type": "code",
   "execution_count": 20,
   "id": "d7df0107",
   "metadata": {},
   "outputs": [
    {
     "name": "stdout",
     "output_type": "stream",
     "text": [
      "There are 17202 sentences in the test set\n"
     ]
    }
   ],
   "source": [
    "print('There are', len(test_inputs), 'sentences in the test set')"
   ]
  },
  {
   "cell_type": "code",
   "execution_count": 18,
   "id": "6362331e",
   "metadata": {},
   "outputs": [
    {
     "data": {
      "text/plain": [
       "17202"
      ]
     },
     "execution_count": 18,
     "metadata": {},
     "output_type": "execute_result"
    }
   ],
   "source": [
    "len(test_targets)"
   ]
  },
  {
   "cell_type": "markdown",
   "id": "5262ea0f",
   "metadata": {},
   "source": [
    "## Convert sentences to sequences of integers\n",
    "\n",
    "**Use TensorFlow `Tokenizer` to convert the lists of words into sequences of integers, with automatic generation of the corpus vocabulary in mapping dictionaries.**\n",
    "\n",
    "**In this case, do not set a maximum word count for the tokenizer because you want a unique tag for each word. More importantly, make sure to assign unknown words from the test set with an 'UNK' tag (unknown) to stop the tokenizer from removing unknown words and misaligning the input words with the target outputs. It is important to keep all the words, even the unknown ones.**"
   ]
  },
  {
   "cell_type": "code",
   "execution_count": 21,
   "id": "1ac501cc",
   "metadata": {},
   "outputs": [],
   "source": [
    "MAX_VOCAB_SIZE = None\n",
    "\n",
    "# Capitalization might be useful e.g. Bill vs the bill\n",
    "should_lowercase = False\n",
    "\n",
    "# Otherwise unknown words will be removed, and len(input) != len(target)\n",
    "word_tokenizer = Tokenizer(num_words=MAX_VOCAB_SIZE, lower=should_lowercase, oov_token='UNK')"
   ]
  },
  {
   "cell_type": "code",
   "execution_count": 22,
   "id": "d33d04b1",
   "metadata": {},
   "outputs": [],
   "source": [
    "# Train tokenizer and transform sentences into sequences of integers\n",
    "\n",
    "word_tokenizer.fit_on_texts(train_inputs)\n",
    "\n",
    "train_inputs_int = word_tokenizer.texts_to_sequences(train_inputs)\n",
    "\n",
    "test_inputs_int = word_tokenizer.texts_to_sequences(test_inputs)"
   ]
  },
  {
   "cell_type": "code",
   "execution_count": 28,
   "id": "821a934f",
   "metadata": {},
   "outputs": [
    {
     "data": {
      "text/plain": [
       "[[9145, 84, 330, 14, 29, 29],\n",
       " [195, 209, 64, 13, 2433, 20, 435, 10, 116, 72, 96, 14, 29, 29],\n",
       " [12021, 200, 2586, 1230, 24, 24],\n",
       " [2782, 178, 2888, 190, 14, 4],\n",
       " [12022, 17959, 32, 2, 3327, 4]]"
      ]
     },
     "execution_count": 28,
     "metadata": {},
     "output_type": "execute_result"
    }
   ],
   "source": [
    "train_inputs_int[0:5]"
   ]
  },
  {
   "cell_type": "code",
   "execution_count": 29,
   "id": "64f3dac6",
   "metadata": {},
   "outputs": [
    {
     "data": {
      "text/plain": [
       "40138"
      ]
     },
     "execution_count": 29,
     "metadata": {},
     "output_type": "execute_result"
    }
   ],
   "source": [
    "len(train_inputs_int)"
   ]
  },
  {
   "cell_type": "code",
   "execution_count": 24,
   "id": "24248fca",
   "metadata": {},
   "outputs": [
    {
     "name": "stdout",
     "output_type": "stream",
     "text": [
      "Found 47461 unique tokens in training corpus\n"
     ]
    }
   ],
   "source": [
    "# Get word->index mapping\n",
    "\n",
    "word2idx = word_tokenizer.word_index\n",
    "\n",
    "V = len(word2idx)\n",
    "\n",
    "print('Found %s unique tokens in training corpus' % V)"
   ]
  },
  {
   "cell_type": "code",
   "execution_count": null,
   "id": "02997c36",
   "metadata": {},
   "outputs": [],
   "source": [
    "word2idx['Monday']"
   ]
  },
  {
   "cell_type": "markdown",
   "id": "bc1b814a",
   "metadata": {},
   "source": [
    "**You can 'flatten' the target data in training and test sets to check that both sets contain the same target classes. Once flattened, convert the single list into a `set` to list unique values only.** \n",
    "\n",
    "**NOTE: The flatten function below has been copied from StackOverflow https://stackoverflow.com/questions/11264684/flatten-list-of-lists.**"
   ]
  },
  {
   "cell_type": "code",
   "execution_count": 30,
   "id": "74bae3d2",
   "metadata": {},
   "outputs": [],
   "source": [
    "# Function to flatten a list of lists into a single list of unique values\n",
    "\n",
    "def flatten(list_of_lists):\n",
    "    flattened = [val for sublist in list_of_lists for val in sublist] \n",
    "    return flattened"
   ]
  },
  {
   "cell_type": "code",
   "execution_count": 31,
   "id": "f2a01bf0",
   "metadata": {},
   "outputs": [
    {
     "data": {
      "text/plain": [
       "{'.',\n",
       " 'ADJ',\n",
       " 'ADP',\n",
       " 'ADV',\n",
       " 'CONJ',\n",
       " 'DET',\n",
       " 'NOUN',\n",
       " 'NUM',\n",
       " 'PRON',\n",
       " 'PRT',\n",
       " 'VERB',\n",
       " 'X'}"
      ]
     },
     "execution_count": 31,
     "metadata": {},
     "output_type": "execute_result"
    }
   ],
   "source": [
    "all_train_targets = set(flatten(train_targets))\n",
    "\n",
    "all_train_targets"
   ]
  },
  {
   "cell_type": "code",
   "execution_count": 32,
   "id": "04fee13e",
   "metadata": {},
   "outputs": [
    {
     "data": {
      "text/plain": [
       "{'.',\n",
       " 'ADJ',\n",
       " 'ADP',\n",
       " 'ADV',\n",
       " 'CONJ',\n",
       " 'DET',\n",
       " 'NOUN',\n",
       " 'NUM',\n",
       " 'PRON',\n",
       " 'PRT',\n",
       " 'VERB',\n",
       " 'X'}"
      ]
     },
     "execution_count": 32,
     "metadata": {},
     "output_type": "execute_result"
    }
   ],
   "source": [
    "all_test_targets = set(flatten(test_targets))\n",
    "\n",
    "all_test_targets"
   ]
  },
  {
   "cell_type": "code",
   "execution_count": 33,
   "id": "e889c1fa",
   "metadata": {},
   "outputs": [
    {
     "data": {
      "text/plain": [
       "True"
      ]
     },
     "execution_count": 33,
     "metadata": {},
     "output_type": "execute_result"
    }
   ],
   "source": [
    "# Check that POS targets match in training and test sets\n",
    "\n",
    "all_train_targets == all_test_targets"
   ]
  },
  {
   "cell_type": "markdown",
   "id": "13833185",
   "metadata": {},
   "source": [
    "## Convert POS tags to sequences of integers\n",
    "\n",
    "**Using TensorFlow `Tokenizer` again, convert the lists of POS tags in the target data to sequences of integers as the necessary input format for the LSTM model. There is no need to set maximum vocabulary size or allocate unknown tokens since the set of target classes is consistent and small.**\n",
    "\n",
    "**NOTE: The Tokenizer does not use class 0 (index starts from 1), leading to an extra class when converting tags to integers.** "
   ]
  },
  {
   "cell_type": "code",
   "execution_count": 34,
   "id": "041f7702",
   "metadata": {},
   "outputs": [],
   "source": [
    "tag_tokenizer = Tokenizer()\n",
    "\n",
    "tag_tokenizer.fit_on_texts(train_targets)\n",
    "\n",
    "# Transform targets to integers\n",
    "train_targets_int = tag_tokenizer.texts_to_sequences(train_targets)\n",
    "\n",
    "test_targets_int = tag_tokenizer.texts_to_sequences(test_targets)"
   ]
  },
  {
   "cell_type": "code",
   "execution_count": 35,
   "id": "2be7c46b",
   "metadata": {},
   "outputs": [
    {
     "data": {
      "text/plain": [
       "[[2, 5, 1, 3, 3, 3],\n",
       " [8, 2, 3, 3, 2, 8, 2, 5, 1, 4, 8, 3, 3, 3],\n",
       " [2, 7, 6, 1, 3, 3],\n",
       " [2, 2, 8, 1, 3, 3],\n",
       " [1, 2, 4, 5, 1, 3]]"
      ]
     },
     "execution_count": 35,
     "metadata": {},
     "output_type": "execute_result"
    }
   ],
   "source": [
    "train_targets_int[0:5]"
   ]
  },
  {
   "cell_type": "code",
   "execution_count": 36,
   "id": "4084ffb2",
   "metadata": {},
   "outputs": [
    {
     "data": {
      "text/plain": [
       "40138"
      ]
     },
     "execution_count": 36,
     "metadata": {},
     "output_type": "execute_result"
    }
   ],
   "source": [
    "len(train_targets_int)"
   ]
  },
  {
   "cell_type": "code",
   "execution_count": 37,
   "id": "c8b482eb",
   "metadata": {},
   "outputs": [],
   "source": [
    "# Save unpadded version of targets for later (see calculating true model accuracy below)\n",
    "\n",
    "train_targets_int_unpadded = train_targets_int\n",
    "\n",
    "test_targets_int_unpadded = test_targets_int"
   ]
  },
  {
   "cell_type": "code",
   "execution_count": null,
   "id": "36d62e55",
   "metadata": {},
   "outputs": [],
   "source": [
    "# Number of classes (remember to add class to count for zero even though it won't be used/negligible when predicted)\n",
    "\n",
    "K = len(tag_tokenizer.word_index) + 1\n",
    "\n",
    "K"
   ]
  },
  {
   "cell_type": "code",
   "execution_count": null,
   "id": "e9120301",
   "metadata": {},
   "outputs": [],
   "source": [
    "tag_tokenizer.word_index"
   ]
  },
  {
   "cell_type": "markdown",
   "id": "64bf274f",
   "metadata": {},
   "source": [
    "## Pad sequences\n",
    "\n",
    "**Before padding the sequences, find the maximum sequence length in both the training and test sets and assign to *T* variable. This is not cheating, since you do not want to 'truncate' any inputs within the RNN model as you would then have to truncate the targets, so you can insist on `maxlen` of size *T* when padding all the sequences.** "
   ]
  },
  {
   "cell_type": "code",
   "execution_count": 38,
   "id": "3ada136d",
   "metadata": {},
   "outputs": [],
   "source": [
    "# Assign max sequence length to T\n",
    "\n",
    "maxlen_train = max(len(sent) for sent in train_inputs)\n",
    "\n",
    "maxlen_test = max(len(sent) for sent in test_inputs)\n",
    "\n",
    "# max() function takes the highest score\n",
    "T = max((maxlen_train, maxlen_test))"
   ]
  },
  {
   "cell_type": "code",
   "execution_count": 42,
   "id": "6f70d939",
   "metadata": {},
   "outputs": [
    {
     "data": {
      "text/plain": [
       "180"
      ]
     },
     "execution_count": 42,
     "metadata": {},
     "output_type": "execute_result"
    }
   ],
   "source": [
    "T"
   ]
  },
  {
   "cell_type": "code",
   "execution_count": 43,
   "id": "1f6ed1a7",
   "metadata": {},
   "outputs": [
    {
     "name": "stdout",
     "output_type": "stream",
     "text": [
      "Shape of data train tensor: (40138, 180)\n"
     ]
    }
   ],
   "source": [
    "# Pad all sequences to get a N x T matrix (sentences by sequence length)\n",
    "\n",
    "train_inputs_int = pad_sequences(train_inputs_int, maxlen=T)\n",
    "\n",
    "print('Shape of data train tensor:', train_inputs_int.shape)"
   ]
  },
  {
   "cell_type": "code",
   "execution_count": 44,
   "id": "5091421c",
   "metadata": {},
   "outputs": [
    {
     "name": "stdout",
     "output_type": "stream",
     "text": [
      "Shape of data test tensor: (17202, 180)\n"
     ]
    }
   ],
   "source": [
    "test_inputs_int = pad_sequences(test_inputs_int, maxlen=T)\n",
    "\n",
    "print('Shape of data test tensor:', test_inputs_int.shape)"
   ]
  },
  {
   "cell_type": "code",
   "execution_count": 45,
   "id": "41de2522",
   "metadata": {},
   "outputs": [
    {
     "name": "stdout",
     "output_type": "stream",
     "text": [
      "Shape of train targets tensor: (40138, 180)\n"
     ]
    }
   ],
   "source": [
    "# Pad all sequences to same length to get N x T matrix (samples by sequence length)\n",
    "\n",
    "train_targets_int = pad_sequences(train_targets_int, maxlen=T)\n",
    "\n",
    "print('Shape of train targets tensor:', train_targets_int.shape)"
   ]
  },
  {
   "cell_type": "code",
   "execution_count": 46,
   "id": "083d1968",
   "metadata": {},
   "outputs": [
    {
     "name": "stdout",
     "output_type": "stream",
     "text": [
      "Shape of test targets tensor: (17202, 180)\n"
     ]
    }
   ],
   "source": [
    "test_targets_int = pad_sequences(test_targets_int, maxlen=T)\n",
    "\n",
    "print('Shape of test targets tensor:', test_targets_int.shape)"
   ]
  },
  {
   "cell_type": "markdown",
   "id": "d2b2f0ee",
   "metadata": {},
   "source": [
    "## Create the model\n",
    "\n",
    "**Since you are working with sequences of words, you need to include an `Embedding` layer to create the word embeddings matrix as input for the RNN layer. You select the embedding dimensionality (length of word vector), which you can vary to improve results.**\n",
    "\n",
    "**IMPORTANT! There is a problem with the network as-is and you must include `mask_zero=True` which ignores any entries that are zero, i.e. those that were introduced by the 'padding'. You must do this so that the model results are actually correct. The downside is that it drastically slows down training, so a necessary evil if you want your model to work correctly (TensorFlow's fault).**\n",
    "\n",
    "**In the case of POS tagging, use `Bidirectional` LSTM unit which essentially creates two LSTM units - one to read the sequences forward and another to read the sequences backward. The different hidden states are concatenated into a single vector (make sure to include `return_sequences=True` so that all hidden states are kept), and this helps to differentiate the context between synoyms, e.g. Bill and the bill.**"
   ]
  },
  {
   "cell_type": "code",
   "execution_count": 48,
   "id": "f38c63ab",
   "metadata": {},
   "outputs": [],
   "source": [
    "# Choose embedding dimensionality\n",
    "D = 32\n",
    "\n",
    "i = Input(shape=(T,))\n",
    "\n",
    "# mask_zero=True is much slower on GPU (30 mins per epoch) than CPU (5 mins per epoch)!\n",
    "x = Embedding(V + 1, D, mask_zero=True)(i)\n",
    "\n",
    "x = Bidirectional(LSTM(32, return_sequences=True))(x)\n",
    "\n",
    "x = Dense(K)(x)\n",
    "\n",
    "model = Model(i, x)"
   ]
  },
  {
   "cell_type": "code",
   "execution_count": 49,
   "id": "272d4ebb",
   "metadata": {},
   "outputs": [],
   "source": [
    "# Compile model\n",
    "\n",
    "model.compile(loss=SparseCategoricalCrossentropy(from_logits=True), optimizer='adam', metrics=['accuracy'])"
   ]
  },
  {
   "cell_type": "code",
   "execution_count": 50,
   "id": "ae33eb2c",
   "metadata": {},
   "outputs": [
    {
     "name": "stdout",
     "output_type": "stream",
     "text": [
      "Training model...\n",
      "Epoch 1/5\n",
      "1255/1255 [==============================] - 258s 198ms/step - loss: 0.4738 - accuracy: 0.8543 - val_loss: 0.1127 - val_accuracy: 0.9646\n",
      "Epoch 2/5\n",
      "1255/1255 [==============================] - 248s 197ms/step - loss: 0.0708 - accuracy: 0.9778 - val_loss: 0.0910 - val_accuracy: 0.9706\n",
      "Epoch 3/5\n",
      "1255/1255 [==============================] - 243s 194ms/step - loss: 0.0433 - accuracy: 0.9861 - val_loss: 0.0929 - val_accuracy: 0.9708\n",
      "Epoch 4/5\n",
      "1255/1255 [==============================] - 243s 193ms/step - loss: 0.0325 - accuracy: 0.9896 - val_loss: 0.0939 - val_accuracy: 0.9710\n",
      "Epoch 5/5\n",
      "1255/1255 [==============================] - 244s 194ms/step - loss: 0.0255 - accuracy: 0.9919 - val_loss: 0.0967 - val_accuracy: 0.9717\n"
     ]
    }
   ],
   "source": [
    "print('Training model...') # takes approx. 20 mins\n",
    "\n",
    "r = model.fit(train_inputs_int, \n",
    "              train_targets_int, \n",
    "              epochs=5, \n",
    "              validation_data=(test_inputs_int, test_targets_int))"
   ]
  },
  {
   "cell_type": "code",
   "execution_count": 51,
   "id": "127208b6",
   "metadata": {},
   "outputs": [
    {
     "data": {
      "image/png": "[encoded data removed]",
      "text/plain": [
       "<Figure size 640x480 with 1 Axes>"
      ]
     },
     "metadata": {},
     "output_type": "display_data"
    }
   ],
   "source": [
    "# Plot loss per epoch\n",
    "\n",
    "plt.plot(r.history['loss'], label='train loss')\n",
    "plt.plot(r.history['val_loss'], label='val loss')\n",
    "plt.legend();"
   ]
  },
  {
   "cell_type": "code",
   "execution_count": 52,
   "id": "087a2917",
   "metadata": {},
   "outputs": [
    {
     "data": {
      "image/png": "[encoded data removed]",
      "text/plain": [
       "<Figure size 640x480 with 1 Axes>"
      ]
     },
     "metadata": {},
     "output_type": "display_data"
    }
   ],
   "source": [
    "# Plot accuracy per epoch\n",
    "\n",
    "plt.plot(r.history['accuracy'], label='train acc')\n",
    "plt.plot(r.history['val_accuracy'], label='val acc')\n",
    "plt.legend();"
   ]
  },
  {
   "cell_type": "markdown",
   "id": "0b888636",
   "metadata": {},
   "source": [
    "**The results look different than usual, but this is expected. Training the model sees steady decline in losses as the model 'learns', and the test losses also decrease but only slightly in comparison, since the losses should not vary much. Same situation applies with accuracies, with test accuracy reaching approx. 97%.**\n",
    "\n",
    "\n",
    "## True model accuracy\n",
    "\n",
    "**As a sanity check, we can compare the accuracies plotted above with the 'true' model accuracy, i.e. without depending on the model's scoring method, meaning you calculate the accuracy using SciKit-Learn. This also can be used to confirm that `mask_zero=True` is working as expected.**\n",
    "\n",
    "**Since we are working with the actual text sequences and targets, you will need the 'unpadded' version of the training and test targets saved earlier in the notebook. Once flattened (list of lists into a single list), you can use the flattened predicted labels from the model to run against in SciKit.**"
   ]
  },
  {
   "cell_type": "code",
   "execution_count": 53,
   "id": "889d7036",
   "metadata": {},
   "outputs": [],
   "source": [
    "# First get length of each sequence in training and test sets\n",
    "\n",
    "train_lengths = []\n",
    "\n",
    "for sentence in train_inputs:\n",
    "    train_lengths.append(len(sentence))\n",
    "    \n",
    "\n",
    "test_lengths = []\n",
    "\n",
    "for sentence in test_inputs:\n",
    "    test_lengths.append(len(sentence))"
   ]
  },
  {
   "cell_type": "code",
   "execution_count": 54,
   "id": "1149e47c",
   "metadata": {},
   "outputs": [
    {
     "name": "stdout",
     "output_type": "stream",
     "text": [
      "1255/1255 [==============================] - 56s 42ms/step\n"
     ]
    }
   ],
   "source": [
    "# Generate predictions from training set - output is N x T x K probabilities (with padding)\n",
    "\n",
    "train_probs = model.predict(train_inputs_int)"
   ]
  },
  {
   "cell_type": "code",
   "execution_count": 67,
   "id": "2cf467bb",
   "metadata": {},
   "outputs": [
    {
     "data": {
      "text/plain": [
       "array([-0.07775498,  0.11272705,  0.06000294, -0.03366607, -0.04515938,\n",
       "       -0.0341961 ,  0.04888181, -0.00594358, -0.1034944 , -0.10638877,\n",
       "       -0.02482757, -0.08011083,  0.02757399], dtype=float32)"
      ]
     },
     "execution_count": 67,
     "metadata": {},
     "output_type": "execute_result"
    }
   ],
   "source": [
    "train_probs[0][0]"
   ]
  },
  {
   "cell_type": "code",
   "execution_count": 55,
   "id": "1759df64",
   "metadata": {},
   "outputs": [],
   "source": [
    "# Get the predicted label (index with highest probability) without padding\n",
    "\n",
    "train_predictions = []\n",
    "\n",
    "for probs, length in zip(train_probs, train_lengths):\n",
    "    # probs is T x K, i.e. without padding\n",
    "    probs_ = probs[-length:] \n",
    "    preds = np.argmax(probs_, axis=1) \n",
    "    train_predictions.append(preds)\n"
   ]
  },
  {
   "cell_type": "code",
   "execution_count": 71,
   "id": "1807ace1",
   "metadata": {},
   "outputs": [
    {
     "data": {
      "text/plain": [
       "'VERB'"
      ]
     },
     "execution_count": 71,
     "metadata": {},
     "output_type": "execute_result"
    }
   ],
   "source": [
    "train_predictions[0][0]"
   ]
  },
  {
   "cell_type": "code",
   "execution_count": 56,
   "id": "ac3debea",
   "metadata": {},
   "outputs": [],
   "source": [
    "# Flatten training predictions and targets into single list (for use in SciKit-Learn)\n",
    "\n",
    "flat_train_predictions = flatten(train_predictions)\n",
    "\n",
    "flat_train_targets = flatten(train_targets_int_unpadded)"
   ]
  },
  {
   "cell_type": "code",
   "execution_count": 57,
   "id": "3e1c42ad",
   "metadata": {},
   "outputs": [
    {
     "name": "stdout",
     "output_type": "stream",
     "text": [
      "538/538 [==============================] - 23s 42ms/step\n"
     ]
    }
   ],
   "source": [
    "# Generate predictions from test set - output is N x T x K probabilities (with padding)\n",
    "\n",
    "test_probs = model.predict(test_inputs_int)\n",
    "\n",
    "# To get the single predictions (highest probability) without padding\n",
    "\n",
    "test_predictions = []\n",
    "\n",
    "for probs, length in zip(test_probs, test_lengths):\n",
    "    # probs is T x K \n",
    "    probs_ = probs[-length:] \n",
    "    preds = np.argmax(probs_, axis=1) \n",
    "    test_predictions.append(preds)\n"
   ]
  },
  {
   "cell_type": "code",
   "execution_count": 58,
   "id": "c6192e0a",
   "metadata": {},
   "outputs": [],
   "source": [
    "# Flatten test predictions and targets into single list (for use in SciKit-Learn)\n",
    "\n",
    "flat_test_predictions = flatten(test_predictions)\n",
    "\n",
    "flat_test_targets = flatten(test_targets_int_unpadded)"
   ]
  },
  {
   "cell_type": "code",
   "execution_count": 59,
   "id": "06ced440",
   "metadata": {},
   "outputs": [
    {
     "name": "stdout",
     "output_type": "stream",
     "text": [
      "Training accuracy: 0.9941650055275659\n",
      "Test accuracy: 0.9717007428267648\n",
      "Training F1-score: 0.9874203031602637\n",
      "Test F1-score: 0.9325089375050927\n"
     ]
    }
   ],
   "source": [
    "# Run accuracy and F1-scores on both training and test sets\n",
    "\n",
    "from sklearn.metrics import accuracy_score, f1_score\n",
    "\n",
    "print(\"Training accuracy:\", accuracy_score(flat_train_targets, flat_train_predictions))\n",
    "\n",
    "print(\"Test accuracy:\", accuracy_score(flat_test_targets, flat_test_predictions))\n",
    "\n",
    "print(\"Training F1-score:\", f1_score(flat_train_targets, flat_train_predictions, average='macro'))\n",
    "\n",
    "print(\"Test F1-score:\", f1_score(flat_test_targets, flat_test_predictions, average='macro'))"
   ]
  },
  {
   "cell_type": "markdown",
   "id": "82574e4c",
   "metadata": {},
   "source": [
    "**Excellent test scores - approx 97% accuracy and less optimistic 0.93 F1-score. As expected, training scores are higher but this indicates that the model is predicting well. You should confirm whether the classes are imbalanced**\n",
    "\n",
    "## Baseline model accuracy \n",
    "\n",
    "**You may have the true accuracy scores for the model, but it is meaningless without a baseline to compare with, i.e. has the model performed better than another model. To establish a baseline, you need to create the simplest model possible, like collecting all the possible tags occurring for a single word in the training set and choose the most common, then running those results against the actual labels.** \n"
   ]
  },
  {
   "cell_type": "code",
   "execution_count": 60,
   "id": "64aad310",
   "metadata": {},
   "outputs": [],
   "source": [
    "from collections import Counter\n",
    "\n",
    "# Function to find the most frequent element in list\n",
    "# (taken from https://stackoverflow.com/questions/1518522/find-the-most-common-element-in-a-list)\n",
    "\n",
    "def most_common(lst):\n",
    "    data = Counter(lst) \n",
    "    return data.most_common(1)[0][0]"
   ]
  },
  {
   "cell_type": "code",
   "execution_count": 61,
   "id": "4475ab29",
   "metadata": {},
   "outputs": [],
   "source": [
    "# Map words to POS tags\n",
    "\n",
    "token2tags = {k: [] for k, v in word2idx.items()}\n",
    "\n",
    "# Remove unknown tokens\n",
    "del token2tags['UNK']\n",
    "\n",
    "for tokens, tags in zip(train_inputs, train_targets):\n",
    "    for token, tag in zip(tokens, tags):\n",
    "        if should_lowercase:\n",
    "            token = token.lower() \n",
    "        if token in token2tags:\n",
    "            token2tags[token].append(tag)\n",
    "\n",
    "token2tag = {k: most_common(v) for k, v in token2tags.items()}"
   ]
  },
  {
   "cell_type": "code",
   "execution_count": 62,
   "id": "c8668d83",
   "metadata": {},
   "outputs": [],
   "source": [
    "# Generate predictions from training data\n",
    "\n",
    "train_predictions = []\n",
    "\n",
    "for sentence in train_inputs:\n",
    "    predictions = [] \n",
    "    \n",
    "    for token in sentence:\n",
    "        if should_lowercase:\n",
    "            token = token.lower() \n",
    "            \n",
    "        predicted_tag = token2tag[token] \n",
    "        predictions.append(predicted_tag) \n",
    "        \n",
    "    train_predictions.append(predictions)\n",
    "    \n",
    "    \n",
    "# Flatten for use in SciKit    \n",
    "flat_train_predictions = flatten(train_predictions)\n",
    "flat_train_targets = flatten(train_targets)"
   ]
  },
  {
   "cell_type": "code",
   "execution_count": 63,
   "id": "cbca6007",
   "metadata": {},
   "outputs": [],
   "source": [
    "# Generate predictions from test data\n",
    "\n",
    "test_predictions = []\n",
    "\n",
    "for sentence in test_inputs:\n",
    "    predictions = []\n",
    "    \n",
    "    for token in sentence:\n",
    "        predicted_tag = token2tag.get(token, 'INCORRECT') \n",
    "        predictions.append(predicted_tag) \n",
    "        \n",
    "    test_predictions.append(predictions)\n",
    "    \n",
    "# Flatten for use in SciKit\n",
    "flat_test_predictions = flatten(test_predictions)\n",
    "flat_test_targets = flatten(test_targets)"
   ]
  },
  {
   "cell_type": "code",
   "execution_count": 64,
   "id": "9897c843",
   "metadata": {},
   "outputs": [
    {
     "name": "stdout",
     "output_type": "stream",
     "text": [
      "Training accuracy: 0.9571469152001298\n",
      "Test accuracy: 0.9281455193321743\n",
      "Training F1-score: 0.9385408599659658\n",
      "Test F1-score: 0.8257540552170936\n"
     ]
    }
   ],
   "source": [
    "print(\"Training accuracy:\", accuracy_score(flat_train_targets, flat_train_predictions))\n",
    "\n",
    "print(\"Test accuracy:\", accuracy_score(flat_test_targets, flat_test_predictions))\n",
    "\n",
    "print(\"Training F1-score:\", f1_score(flat_train_targets, flat_train_predictions, average='macro'))\n",
    "\n",
    "print(\"Test F1-score:\", f1_score(flat_test_targets, flat_test_predictions, average='macro'))"
   ]
  },
  {
   "cell_type": "markdown",
   "id": "9bd39473",
   "metadata": {},
   "source": [
    "**The baseline model performs pretty well, which makes sense as there is only one possible tag for many words, but the model does perform better, which indicates that accounting for 'context' is useful. Better anyway than memorizing the tags for each word...**\n",
    "\n",
    "# -------------------------- EXERCISE 1 ----------------------------- \n",
    "\n",
    "* Use different layers (`GRU`, `SimpleRNN`) \n",
    "* Use different number of hidden units, number of layers, etc.\n",
    "* Repeat the exercise with CNNs instead of RNNs\n",
    "\n",
    "# -------------------------- EXERCISE 2 -----------------------------\n",
    "\n",
    "* Repeat the same code, but include the two major mistakes detailed below, to see the impact on the model predictions:\n",
    "    * **MISTAKE 1: Not having an OOV token (so target len != input len leading to misalignment)**\n",
    "    * Also, verify that target misalignment exists\n",
    "    * **MISTAKE 2: Not ignoring padding in loss computation, i.e. `mask_zero=False`**\n",
    "    * Observe that you get 99% accuracy, even with a bad model.\n",
    "    * Why is the accuracy so high?\n",
    "\n",
    "**These mistakes have been seen on Kaggle and other blogs. The mistake arises from 'trusting' the library too much, and assuming you can just use `Tokenizer()` and `Embedding()` functions with default values without thinking about what they actually do, i.e. it's important to THINK, not just copy the same code for each model.**"
   ]
  }
 ],
 "metadata": {
  "kernelspec": {
   "display_name": "Python 3 (ipykernel)",
   "language": "python",
   "name": "python3"
  },
  "language_info": {
   "codemirror_mode": {
    "name": "ipython",
    "version": 3
   },
   "file_extension": ".py",
   "mimetype": "text/x-python",
   "name": "python",
   "nbconvert_exporter": "python",
   "pygments_lexer": "ipython3",
   "version": "3.9.16"
  }
 },
 "nbformat": 4,
 "nbformat_minor": 5
}
