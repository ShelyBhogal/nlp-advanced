{
 "cells": [
  {
   "cell_type": "markdown",
   "id": "93f2df72",
   "metadata": {},
   "source": [
    "# Named Entity Recognition with Bidirectional LSTM\n",
    "\n",
    "Named Entity Recognition (NER) is similar to POS tagging (using the exact same many-to-many classification code) except it specifically tags entities like person name, organisation name, country name etc. TensorFlow uses IOB format to tag tokens in a corpus:\n",
    "\n",
    "    I 'inside' a named chunk of text\n",
    "    O 'outside' a named chunk of text\n",
    "    B 'beginning' a named chunk of text\n",
    "    \n",
    "| EU | rejects | German | call | to | boycott | British | lamb | . |\n",
    "| :---: | :---: | :---: | :---: | :---: | :---: | :---: | :---: | :---: |\n",
    "| B-ORG | O | B-MISC | O | O | O | B-MISC | O | O |\n",
    "\n",
    "\n",
    "## Set up the data\n",
    "\n",
    "The data is downloaded from the online course in **pickle format**, which is a Python hierarchical object converted to bytes in order to efficiently store large amounts of data. The data has already been split into training and test sets, with each containing sequences of tuples of the input word and target named entity, i.e. each word is tagged hence the similarity to POS tagging. You need to separate the data into inputs and targets to run through the classification model."
   ]
  },
  {
   "cell_type": "code",
   "execution_count": 1,
   "id": "e5f59f18",
   "metadata": {},
   "outputs": [],
   "source": [
    "import pickle"
   ]
  },
  {
   "cell_type": "code",
   "execution_count": 2,
   "id": "20cdf05b",
   "metadata": {},
   "outputs": [],
   "source": [
    "# Read in pickle file to load training data\n",
    "\n",
    "with open('data/ner_train.pkl', 'rb') as f:\n",
    "    corpus_train = pickle.load(f)\n",
    "\n",
    "# Read in pickle file to load test data\n",
    "\n",
    "with open('data/ner_test.pkl', 'rb') as f:\n",
    "    corpus_test = pickle.load(f)"
   ]
  },
  {
   "cell_type": "code",
   "execution_count": 5,
   "id": "b239eb51",
   "metadata": {},
   "outputs": [
    {
     "data": {
      "text/plain": [
       "[('EU', 'B-ORG'),\n",
       " ('rejects', 'O'),\n",
       " ('German', 'B-MISC'),\n",
       " ('call', 'O'),\n",
       " ('to', 'O'),\n",
       " ('boycott', 'O'),\n",
       " ('British', 'B-MISC'),\n",
       " ('lamb', 'O'),\n",
       " ('.', 'O')]"
      ]
     },
     "execution_count": 5,
     "metadata": {},
     "output_type": "execute_result"
    }
   ],
   "source": [
    "corpus_train[0]"
   ]
  },
  {
   "cell_type": "code",
   "execution_count": 6,
   "id": "b65120c3",
   "metadata": {},
   "outputs": [],
   "source": [
    "train_inputs = []\n",
    "train_targets = []\n",
    "\n",
    "for sentence_tag_pairs in corpus_train:\n",
    "    tokens = [] \n",
    "    target = [] \n",
    "    \n",
    "    for token, tag in sentence_tag_pairs:\n",
    "        tokens.append(token) \n",
    "        target.append(tag) \n",
    "        \n",
    "    train_inputs.append(tokens) \n",
    "    train_targets.append(target)"
   ]
  },
  {
   "cell_type": "code",
   "execution_count": 7,
   "id": "8851f30d",
   "metadata": {},
   "outputs": [],
   "source": [
    "test_inputs = []\n",
    "test_targets = []\n",
    "\n",
    "for sentence_tag_pairs in corpus_test:\n",
    "    tokens = [] \n",
    "    target = [] \n",
    "    \n",
    "    for token, tag in sentence_tag_pairs:\n",
    "        tokens.append(token) \n",
    "        target.append(tag) \n",
    "        \n",
    "    test_inputs.append(tokens) \n",
    "    test_targets.append(target)"
   ]
  },
  {
   "cell_type": "code",
   "execution_count": 8,
   "id": "bb50d8d2",
   "metadata": {},
   "outputs": [
    {
     "data": {
      "text/plain": [
       "['EU', 'rejects', 'German', 'call', 'to', 'boycott', 'British', 'lamb', '.']"
      ]
     },
     "execution_count": 8,
     "metadata": {},
     "output_type": "execute_result"
    }
   ],
   "source": [
    "train_inputs[0]"
   ]
  },
  {
   "cell_type": "code",
   "execution_count": 9,
   "id": "03c82431",
   "metadata": {},
   "outputs": [
    {
     "data": {
      "text/plain": [
       "['B-ORG', 'O', 'B-MISC', 'O', 'O', 'O', 'B-MISC', 'O', 'O']"
      ]
     },
     "execution_count": 9,
     "metadata": {},
     "output_type": "execute_result"
    }
   ],
   "source": [
    "train_targets[0]"
   ]
  },
  {
   "cell_type": "code",
   "execution_count": 10,
   "id": "81b6646d",
   "metadata": {},
   "outputs": [],
   "source": [
    "import numpy as np\n",
    "import pandas as pd\n",
    "import matplotlib.pyplot as plt\n",
    "\n",
    "from sklearn.model_selection import train_test_split\n",
    "\n",
    "%matplotlib inline"
   ]
  },
  {
   "cell_type": "code",
   "execution_count": 11,
   "id": "eac4b431",
   "metadata": {},
   "outputs": [],
   "source": [
    "import tensorflow as tf\n",
    "from tensorflow.keras.preprocessing.text import Tokenizer\n",
    "from tensorflow.keras.preprocessing.sequence import pad_sequences\n",
    "from tensorflow.keras.layers import Dense, Input, Bidirectional\n",
    "from tensorflow.keras.layers import LSTM, GRU, SimpleRNN, Embedding\n",
    "from tensorflow.keras.models import Model\n",
    "from tensorflow.keras.losses import SparseCategoricalCrossentropy"
   ]
  },
  {
   "cell_type": "markdown",
   "id": "030892de",
   "metadata": {},
   "source": [
    "## Convert input to sequences of integers\n",
    "\n",
    "Using TensorFlow `Tokenizer`, convert the sequences of words in the input data to sequences of integers. \n",
    "\n",
    "**IMPORTANT!** Make sure to allocate a tag for unknown words coming from the test set during tokenization so that you do not lose any words and end up mis-aligning the input and target data.\n",
    "\n",
    "NOTE: Do not lowercase text as is normal, since you want to use capitalization to find the named chunks of text."
   ]
  },
  {
   "cell_type": "code",
   "execution_count": 12,
   "id": "c9c8ec2d",
   "metadata": {},
   "outputs": [],
   "source": [
    "# Do not limit vocab since you need to tag each word\n",
    "MAX_VOCAB_SIZE = None\n",
    "\n",
    "# Capitalization might be useful, i.e. Bill vs bill\n",
    "should_lowercase = False\n",
    "\n",
    "# Set up tokenizer and assign 'UNK' to unknown tokens\n",
    "word_tokenizer = Tokenizer(num_words=MAX_VOCAB_SIZE, lower=should_lowercase, oov_token='UNK')\n",
    "\n",
    "# Train tokenizer\n",
    "word_tokenizer.fit_on_texts(train_inputs)\n",
    "\n",
    "# Transform input data\n",
    "train_inputs_int = word_tokenizer.texts_to_sequences(train_inputs)\n",
    "\n",
    "test_inputs_int = word_tokenizer.texts_to_sequences(test_inputs)"
   ]
  },
  {
   "cell_type": "code",
   "execution_count": 15,
   "id": "d5d7ff07",
   "metadata": {},
   "outputs": [
    {
     "name": "stdout",
     "output_type": "stream",
     "text": [
      "Vocabulary size is 23299 unique tokens\n"
     ]
    }
   ],
   "source": [
    "# Get word->index mapping for vocab size (V)\n",
    "\n",
    "word2idx = word_tokenizer.word_index\n",
    "\n",
    "V = len(word2idx)\n",
    "\n",
    "print('Vocabulary size is %s unique tokens' % V)"
   ]
  },
  {
   "cell_type": "code",
   "execution_count": 16,
   "id": "f183055a",
   "metadata": {},
   "outputs": [],
   "source": [
    "# Function to flatten list of lists to a single list\n",
    "\n",
    "def flatten(list_of_lists):\n",
    "    flattened = [val for sublist in list_of_lists for val in sublist] \n",
    "    return flattened"
   ]
  },
  {
   "cell_type": "code",
   "execution_count": 17,
   "id": "58746b2c",
   "metadata": {},
   "outputs": [
    {
     "data": {
      "text/plain": [
       "{'B-LOC', 'B-MISC', 'B-ORG', 'B-PER', 'I-LOC', 'I-MISC', 'I-ORG', 'I-PER', 'O'}"
      ]
     },
     "execution_count": 17,
     "metadata": {},
     "output_type": "execute_result"
    }
   ],
   "source": [
    "# Check that targets match in training and test sets\n",
    "\n",
    "all_train_targets = set(flatten(train_targets))\n",
    "\n",
    "all_train_targets"
   ]
  },
  {
   "cell_type": "code",
   "execution_count": 18,
   "id": "f71550d4",
   "metadata": {},
   "outputs": [
    {
     "data": {
      "text/plain": [
       "{'B-LOC', 'B-MISC', 'B-ORG', 'B-PER', 'I-LOC', 'I-MISC', 'I-ORG', 'I-PER', 'O'}"
      ]
     },
     "execution_count": 18,
     "metadata": {},
     "output_type": "execute_result"
    }
   ],
   "source": [
    "all_test_targets = set(flatten(test_targets))\n",
    "\n",
    "all_test_targets"
   ]
  },
  {
   "cell_type": "code",
   "execution_count": 19,
   "id": "ca56e858",
   "metadata": {},
   "outputs": [
    {
     "data": {
      "text/plain": [
       "True"
      ]
     },
     "execution_count": 19,
     "metadata": {},
     "output_type": "execute_result"
    }
   ],
   "source": [
    "all_train_targets == all_test_targets"
   ]
  },
  {
   "cell_type": "markdown",
   "id": "98afc847",
   "metadata": {},
   "source": [
    "By isolating the unique target values in both the training and test sets, you can confirm the full list of tags used to name each word:\n",
    "\n",
    "    B-LOC 'Beginning of Location chunk'\n",
    "    B-MISC 'Beginning of Miscellaneous chunk'\n",
    "    B-ORG 'Beginning of Organisation chunk'\n",
    "    B-PER 'Beginning of Person chunk'\n",
    "    I-LOC 'Inside of Location chunk'\n",
    "    I-MISC 'Inside of Miscellaneous chunk'\n",
    "    I-ORG 'Inside of Organisation chunk'\n",
    "    I-PER 'Inside of Person chunk'\n",
    "    O 'Outside of any chunk'\n",
    "    \n",
    "## Convert targets to sequences of integers\n",
    "\n",
    "Using the `Tokenizer` again, convert the tag labels to integers, but make sure to save a version of the sequences of integers *before* padding the sequences so that you can use the unpadded version when running performance metrics in SciKit-Learn.\n",
    "\n",
    "NOTE: Before padding, find the maximum sequence length (***T***) which you can then use to enforce the same dimensions when padding, thus ensuring that the length of input sequences match the length of target outputs."
   ]
  },
  {
   "cell_type": "code",
   "execution_count": 20,
   "id": "d479ecb7",
   "metadata": {},
   "outputs": [],
   "source": [
    "tag_tokenizer = Tokenizer()\n",
    "\n",
    "tag_tokenizer.fit_on_texts(train_targets)\n",
    "\n",
    "train_targets_int = tag_tokenizer.texts_to_sequences(train_targets)\n",
    "test_targets_int = tag_tokenizer.texts_to_sequences(test_targets)"
   ]
  },
  {
   "cell_type": "code",
   "execution_count": 21,
   "id": "00a812b1",
   "metadata": {},
   "outputs": [],
   "source": [
    "# Save unpadded version for later use in SciKit-Learn performance metrics\n",
    "\n",
    "train_targets_int_unpadded = train_targets_int\n",
    "test_targets_int_unpadded = test_targets_int"
   ]
  },
  {
   "cell_type": "code",
   "execution_count": 22,
   "id": "61e732e9",
   "metadata": {},
   "outputs": [
    {
     "data": {
      "text/plain": [
       "113"
      ]
     },
     "execution_count": 22,
     "metadata": {},
     "output_type": "execute_result"
    }
   ],
   "source": [
    "# Before padding, find max sequence length (T) since we don't want to truncate any inputs which would also truncate targets\n",
    "\n",
    "maxlen_train = max(len(sent) for sent in train_inputs)\n",
    "maxlen_test = max(len(sent) for sent in test_inputs)\n",
    "\n",
    "T = max((maxlen_train, maxlen_test))\n",
    "\n",
    "T"
   ]
  },
  {
   "cell_type": "markdown",
   "id": "6738c4f3",
   "metadata": {},
   "source": [
    "## Pad sequences to get *N x T* matrix\n",
    "\n",
    "Once you have found the maximum sequence length (***T***), you can set that as the maximum length when padding the sequences to be input for the RNN network."
   ]
  },
  {
   "cell_type": "code",
   "execution_count": 23,
   "id": "4597238c",
   "metadata": {},
   "outputs": [
    {
     "name": "stdout",
     "output_type": "stream",
     "text": [
      "Shape of data train tensor: (12733, 113)\n"
     ]
    }
   ],
   "source": [
    "train_inputs_int = pad_sequences(train_inputs_int, maxlen=T)\n",
    "\n",
    "print('Shape of data train tensor:', train_inputs_int.shape)"
   ]
  },
  {
   "cell_type": "code",
   "execution_count": 24,
   "id": "dda44b1c",
   "metadata": {},
   "outputs": [
    {
     "name": "stdout",
     "output_type": "stream",
     "text": [
      "Shape of data test tensor: (2970, 113)\n"
     ]
    }
   ],
   "source": [
    "test_inputs_int = pad_sequences(test_inputs_int, maxlen=T)\n",
    "\n",
    "print('Shape of data test tensor:', test_inputs_int.shape)"
   ]
  },
  {
   "cell_type": "code",
   "execution_count": 25,
   "id": "ad6d4b78",
   "metadata": {},
   "outputs": [
    {
     "name": "stdout",
     "output_type": "stream",
     "text": [
      "Shape of train targets tensor: (12733, 113)\n"
     ]
    }
   ],
   "source": [
    "train_targets_int = pad_sequences(train_targets_int, maxlen=T)\n",
    "\n",
    "print('Shape of train targets tensor:', train_targets_int.shape)"
   ]
  },
  {
   "cell_type": "code",
   "execution_count": 26,
   "id": "1ca5a040",
   "metadata": {},
   "outputs": [
    {
     "name": "stdout",
     "output_type": "stream",
     "text": [
      "Shape of test targets tensor: (2970, 113)\n"
     ]
    }
   ],
   "source": [
    "test_targets_int = pad_sequences(test_targets_int, maxlen=T)\n",
    "\n",
    "print('Shape of test targets tensor:', test_targets_int.shape)"
   ]
  },
  {
   "cell_type": "code",
   "execution_count": 27,
   "id": "5e835fe3",
   "metadata": {},
   "outputs": [
    {
     "data": {
      "text/plain": [
       "10"
      ]
     },
     "execution_count": 27,
     "metadata": {},
     "output_type": "execute_result"
    }
   ],
   "source": [
    "# ------------------------------- Number of classes\n",
    "\n",
    "K = len(tag_tokenizer.word_index) + 1\n",
    "\n",
    "K"
   ]
  },
  {
   "cell_type": "markdown",
   "id": "482baeb9",
   "metadata": {},
   "source": [
    "NOTE: You need to add one extra class when accessing the number of tags from the tokenizer's mapping dictionary, in order to account for class 0, but not use it, since the TensorFlow tokenizer starts its index from 1, not 0. This is acceptable since the extra class will not be used when you 'mask' the zero entries in the embedding matrix.\n",
    "\n",
    "## Create the RNN network\n",
    "\n",
    "For the embedding layer, you actually want the size of the embedding matrix to be ***(V + 1) x D***, because in TensorFlow, the vocabulary index starts from 1 (not 0) therefore if the final index of the vocab is 23299, then the embedding matrix actually must have the length 23299 + 1 (***V + 1***).\n",
    "\n",
    "**IMPORTANT!** You must mask the zero entries in the embedding matrix to ensure that the 'padding' does not affect the classification, i.e. ignore the zero entries. By including `mask_zero=True`, you ensure that the model is working correctly and predicting as you expect. This is important because you would not see an error otherwise, and in many cases, the model results would be misleading. "
   ]
  },
  {
   "cell_type": "code",
   "execution_count": 28,
   "id": "7b6e4280",
   "metadata": {},
   "outputs": [],
   "source": [
    "# You choose embedding dimensionality\n",
    "D = 32\n",
    "\n",
    "i = Input(shape=(T,))\n",
    "\n",
    "# mask_zero=True way slower on GPU than CPU\n",
    "x = Embedding(V + 1, D, mask_zero=True)(i)\n",
    "\n",
    "x = Bidirectional(LSTM(32, return_sequences=True))(x)\n",
    "# x = SimpleRNN(32, return_sequences=True)(x)\n",
    "\n",
    "x = Dense(K)(x)\n",
    "\n",
    "model = Model(i, x)"
   ]
  },
  {
   "cell_type": "code",
   "execution_count": 29,
   "id": "e0aeabab",
   "metadata": {},
   "outputs": [],
   "source": [
    "# Compile model\n",
    "\n",
    "model.compile(loss=SparseCategoricalCrossentropy(from_logits=True), optimizer='adam', metrics=['accuracy'])"
   ]
  },
  {
   "cell_type": "code",
   "execution_count": 30,
   "id": "16251ac6",
   "metadata": {},
   "outputs": [
    {
     "name": "stdout",
     "output_type": "stream",
     "text": [
      "Training model...\n",
      "Epoch 1/5\n",
      "398/398 [==============================] - 32s 65ms/step - loss: 0.7233 - accuracy: 0.8372 - val_loss: 0.4913 - val_accuracy: 0.8634\n",
      "Epoch 2/5\n",
      "398/398 [==============================] - 26s 65ms/step - loss: 0.3030 - accuracy: 0.9049 - val_loss: 0.3185 - val_accuracy: 0.9172\n",
      "Epoch 3/5\n",
      "398/398 [==============================] - 26s 66ms/step - loss: 0.1655 - accuracy: 0.9537 - val_loss: 0.2345 - val_accuracy: 0.9414\n",
      "Epoch 4/5\n",
      "398/398 [==============================] - 27s 67ms/step - loss: 0.0841 - accuracy: 0.9791 - val_loss: 0.1983 - val_accuracy: 0.9495\n",
      "Epoch 5/5\n",
      "398/398 [==============================] - 28s 69ms/step - loss: 0.0471 - accuracy: 0.9891 - val_loss: 0.1938 - val_accuracy: 0.9479\n"
     ]
    }
   ],
   "source": [
    "# Fit model (60 secs per epoch on CPU)\n",
    "\n",
    "print('Training model...')\n",
    "\n",
    "r = model.fit(train_inputs_int, train_targets_int, epochs=5, validation_data=(test_inputs_int, test_targets_int))"
   ]
  },
  {
   "cell_type": "code",
   "execution_count": 31,
   "id": "d818e612",
   "metadata": {},
   "outputs": [
    {
     "data": {
      "image/png": "[encoded data removed]",
      "text/plain": [
       "<Figure size 640x480 with 1 Axes>"
      ]
     },
     "metadata": {},
     "output_type": "display_data"
    }
   ],
   "source": [
    "# Plot loss per epoch\n",
    "\n",
    "plt.plot(r.history['loss'], label='train loss')\n",
    "plt.plot(r.history['val_loss'], label='val loss')\n",
    "plt.legend();"
   ]
  },
  {
   "cell_type": "code",
   "execution_count": 32,
   "id": "97f9c84d",
   "metadata": {},
   "outputs": [
    {
     "data": {
      "image/png": "[encoded data removed]",
      "text/plain": [
       "<Figure size 640x480 with 1 Axes>"
      ]
     },
     "metadata": {},
     "output_type": "display_data"
    }
   ],
   "source": [
    "# Plot accuracy per epoch\n",
    "\n",
    "plt.plot(r.history['accuracy'], label='train acc')\n",
    "plt.plot(r.history['val_accuracy'], label='val acc')\n",
    "plt.legend();"
   ]
  },
  {
   "cell_type": "markdown",
   "id": "18854146",
   "metadata": {},
   "source": [
    "As expected, the training set outperforms the test set, but both show good results.\n",
    "\n",
    "## True model accuracy\n",
    "\n",
    "In order to calculate the accuracy and F1-scores using SciKit-Learn, you will need the 'unpadded' version of the targets data."
   ]
  },
  {
   "cell_type": "code",
   "execution_count": 33,
   "id": "50b5c7ec",
   "metadata": {},
   "outputs": [],
   "source": [
    "# Get length of each sequence in training and test sets\n",
    "\n",
    "train_lengths = []\n",
    "\n",
    "for sentence in train_inputs:\n",
    "    train_lengths.append(len(sentence))\n",
    "\n",
    "test_lengths = []\n",
    "\n",
    "for sentence in test_inputs:\n",
    "    test_lengths.append(len(sentence))"
   ]
  },
  {
   "cell_type": "code",
   "execution_count": 34,
   "id": "0acf1a2b",
   "metadata": {},
   "outputs": [
    {
     "name": "stdout",
     "output_type": "stream",
     "text": [
      "398/398 [==============================] - 7s 13ms/step\n"
     ]
    }
   ],
   "source": [
    "# Generate predictions from training set\n",
    "train_probs = model.predict(train_inputs_int) # N x T x K\n",
    "\n",
    "# Access label with highest probabilty and remove padding\n",
    "train_predictions = []\n",
    "\n",
    "for probs, length in zip(train_probs, train_lengths):\n",
    "    # probs is T x K \n",
    "    probs_ = probs[-length:] \n",
    "    preds = np.argmax(probs_, axis=1) \n",
    "    train_predictions.append(preds)\n",
    "\n",
    "# Flatten for use in SciKit\n",
    "flat_train_predictions = flatten(train_predictions)\n",
    "\n",
    "flat_train_targets = flatten(train_targets_int_unpadded)"
   ]
  },
  {
   "cell_type": "code",
   "execution_count": 35,
   "id": "09857101",
   "metadata": {},
   "outputs": [
    {
     "name": "stdout",
     "output_type": "stream",
     "text": [
      "93/93 [==============================] - 1s 13ms/step\n"
     ]
    }
   ],
   "source": [
    "# Generate predictions from test set\n",
    "test_probs = model.predict(test_inputs_int) # N x T x K\n",
    "\n",
    "# Access labels with highest probability and remove padding\n",
    "test_predictions = []\n",
    "\n",
    "for probs, length in zip(test_probs, test_lengths):\n",
    "    # probs is T x K \n",
    "    probs_ = probs[-length:] \n",
    "    preds = np.argmax(probs_, axis=1) \n",
    "    test_predictions.append(preds)\n",
    "\n",
    "# Flatten for use in SciKit\n",
    "flat_test_predictions = flatten(test_predictions)\n",
    "\n",
    "flat_test_targets = flatten(test_targets_int_unpadded)"
   ]
  },
  {
   "cell_type": "code",
   "execution_count": 36,
   "id": "ae5f6056",
   "metadata": {},
   "outputs": [
    {
     "name": "stdout",
     "output_type": "stream",
     "text": [
      "Train acc: 0.9934686655002386\n",
      "Test acc: 0.9479111321014622\n",
      "Train f1: 0.9537515843917205\n",
      "Test f1: 0.778909135383981\n"
     ]
    }
   ],
   "source": [
    "from sklearn.metrics import accuracy_score, f1_score\n",
    "\n",
    "print(\"Train acc:\", accuracy_score(flat_train_targets, flat_train_predictions))\n",
    "print(\"Test acc:\", accuracy_score(flat_test_targets, flat_test_predictions))\n",
    "\n",
    "print(\"Train f1:\", f1_score(flat_train_targets, flat_train_predictions, average='macro'))\n",
    "print(\"Test f1:\", f1_score(flat_test_targets, flat_test_predictions, average='macro'))"
   ]
  },
  {
   "cell_type": "markdown",
   "id": "9b34074c",
   "metadata": {},
   "source": [
    "The accuracy scores are good but the F1-score is quite low, probably due to the class imbalance (there will be a lot more 'O' tags than any other), and this will also pull down the accuracy slightly.\n",
    "\n",
    "## Baseline model accuracy\n",
    "\n",
    "To calculate the baseline accuracy and F1-scores, you need to create the simplest model possible for classifying the tokens. This usually entails selecting the most commonly-occuring tag for a named chunk."
   ]
  },
  {
   "cell_type": "code",
   "execution_count": 37,
   "id": "7f437812",
   "metadata": {},
   "outputs": [],
   "source": [
    "from collections import Counter\n",
    "\n",
    "# Function to find the most common element in a list\n",
    "\n",
    "def most_common(lst):\n",
    "    data = Counter(lst) \n",
    "    return data.most_common(1)[0][0]"
   ]
  },
  {
   "cell_type": "code",
   "execution_count": 38,
   "id": "bee700c5",
   "metadata": {},
   "outputs": [],
   "source": [
    "token2tags = {k: [] for k, v in word2idx.items()}\n",
    "\n",
    "# remove UNK token\n",
    "del token2tags['UNK']\n",
    "\n",
    "# Map words to tokens\n",
    "for tokens, tags in zip(train_inputs, train_targets):\n",
    "    for token, tag in zip(tokens, tags):\n",
    "        if should_lowercase:\n",
    "            token = token.lower() \n",
    "            \n",
    "        if token in token2tags:\n",
    "            token2tags[token].append(tag)\n",
    "\n",
    "# Print\n",
    "for k, v in token2tags.items():\n",
    "    if len(v) == 0:\n",
    "        print(k)\n",
    "\n",
    "\n",
    "token2tag = {k: most_common(v) for k, v in token2tags.items()}"
   ]
  },
  {
   "cell_type": "code",
   "execution_count": 39,
   "id": "b94267cb",
   "metadata": {},
   "outputs": [],
   "source": [
    "# Compute accuracy from training set\n",
    "\n",
    "train_predictions = []\n",
    "\n",
    "for sentence in train_inputs:\n",
    "    predictions = [] \n",
    "    \n",
    "    for token in sentence:\n",
    "        if should_lowercase:\n",
    "            token = token.lower() \n",
    "            \n",
    "        predicted_tag = token2tag[token] \n",
    "        predictions.append(predicted_tag) \n",
    "            \n",
    "    train_predictions.append(predictions)\n",
    "            \n",
    "# Flatten for use in SciKit\n",
    "flat_train_predictions = flatten(train_predictions)\n",
    "flat_train_targets = flatten(train_targets)"
   ]
  },
  {
   "cell_type": "code",
   "execution_count": 40,
   "id": "1adfbcbf",
   "metadata": {},
   "outputs": [],
   "source": [
    "# Compute accuracy from test set\n",
    "\n",
    "test_predictions = []\n",
    "\n",
    "for sentence in test_inputs:\n",
    "    predictions = [] \n",
    "    \n",
    "    for token in sentence:\n",
    "        predicted_tag = token2tag.get(token, 'INCORRECT') \n",
    "        predictions.append(predicted_tag) \n",
    "        \n",
    "    test_predictions.append(predictions)\n",
    "    \n",
    "# Flatten for use in SciKit\n",
    "flat_test_predictions = flatten(test_predictions)\n",
    "flat_test_targets = flatten(test_targets)"
   ]
  },
  {
   "cell_type": "code",
   "execution_count": 41,
   "id": "c319e96c",
   "metadata": {},
   "outputs": [
    {
     "name": "stdout",
     "output_type": "stream",
     "text": [
      "Train acc: 0.974769365357086\n",
      "Test acc: 0.8881673455733318\n",
      "Train f1: 0.8549353965547479\n",
      "Test f1: 0.6381158268902334\n"
     ]
    }
   ],
   "source": [
    "print(\"Train acc:\", accuracy_score(flat_train_targets, flat_train_predictions))\n",
    "print(\"Test acc:\", accuracy_score(flat_test_targets, flat_test_predictions))\n",
    "\n",
    "print(\"Train f1:\", f1_score(flat_train_targets, flat_train_predictions, average='macro'))\n",
    "print(\"Test f1:\", f1_score(flat_test_targets, flat_test_predictions, average='macro'))"
   ]
  },
  {
   "cell_type": "markdown",
   "id": "8ae43518",
   "metadata": {},
   "source": [
    "At least the RNN model outperforms the simplest method of allocating tags to specific entities, which is basically memorizing the tags from the training set... This means the RNN model is successful at using 'context' to name specific entities."
   ]
  },
  {
   "cell_type": "code",
   "execution_count": null,
   "id": "81a93776",
   "metadata": {},
   "outputs": [],
   "source": []
  }
 ],
 "metadata": {
  "kernelspec": {
   "display_name": "Python 3 (ipykernel)",
   "language": "python",
   "name": "python3"
  },
  "language_info": {
   "codemirror_mode": {
    "name": "ipython",
    "version": 3
   },
   "file_extension": ".py",
   "mimetype": "text/x-python",
   "name": "python",
   "nbconvert_exporter": "python",
   "pygments_lexer": "ipython3",
   "version": "3.9.16"
  }
 },
 "nbformat": 4,
 "nbformat_minor": 5
}
