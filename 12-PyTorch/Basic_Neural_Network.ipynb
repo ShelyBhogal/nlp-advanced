{
 "cells": [
  {
   "cell_type": "markdown",
   "id": "045c1177",
   "metadata": {},
   "source": [
    "# Multi-Class classification with PyTorch\n",
    "\n",
    "Using the Iris dataset, containing four numerical features and class labels, use PyTorch library to identify the type of iris flower - **Iris Setosa**, **Iris Versicolor** or **Iris Viriginica**. No data preparation is needed as the dataset is simple to understand, clean, and ready for supervised machine-learning classification. Due to the small size of the dataset, it makes visualizing the network easier."
   ]
  },
  {
   "cell_type": "code",
   "execution_count": 1,
   "id": "110af8ed",
   "metadata": {},
   "outputs": [],
   "source": [
    "import pandas as pd\n",
    "import matplotlib.pyplot as plt\n",
    "\n",
    "from sklearn.model_selection import train_test_split\n",
    "\n",
    "%matplotlib inline"
   ]
  },
  {
   "cell_type": "code",
   "execution_count": 2,
   "id": "4e93c919",
   "metadata": {},
   "outputs": [],
   "source": [
    "import torch\n",
    "import torch.nn as nn\n",
    "import torch.nn.functional as F"
   ]
  },
  {
   "cell_type": "code",
   "execution_count": 3,
   "id": "7fedb65a",
   "metadata": {},
   "outputs": [
    {
     "data": {
      "text/html": [
       "<div>\n",
       "<style scoped>\n",
       "    .dataframe tbody tr th:only-of-type {\n",
       "        vertical-align: middle;\n",
       "    }\n",
       "\n",
       "    .dataframe tbody tr th {\n",
       "        vertical-align: top;\n",
       "    }\n",
       "\n",
       "    .dataframe thead th {\n",
       "        text-align: right;\n",
       "    }\n",
       "</style>\n",
       "<table border=\"1\" class=\"dataframe\">\n",
       "  <thead>\n",
       "    <tr style=\"text-align: right;\">\n",
       "      <th></th>\n",
       "      <th>sepal.length</th>\n",
       "      <th>sepal.width</th>\n",
       "      <th>petal.length</th>\n",
       "      <th>petal.width</th>\n",
       "      <th>variety</th>\n",
       "    </tr>\n",
       "  </thead>\n",
       "  <tbody>\n",
       "    <tr>\n",
       "      <th>0</th>\n",
       "      <td>5.1</td>\n",
       "      <td>3.5</td>\n",
       "      <td>1.4</td>\n",
       "      <td>0.2</td>\n",
       "      <td>Setosa</td>\n",
       "    </tr>\n",
       "    <tr>\n",
       "      <th>1</th>\n",
       "      <td>4.9</td>\n",
       "      <td>3.0</td>\n",
       "      <td>1.4</td>\n",
       "      <td>0.2</td>\n",
       "      <td>Setosa</td>\n",
       "    </tr>\n",
       "    <tr>\n",
       "      <th>2</th>\n",
       "      <td>4.7</td>\n",
       "      <td>3.2</td>\n",
       "      <td>1.3</td>\n",
       "      <td>0.2</td>\n",
       "      <td>Setosa</td>\n",
       "    </tr>\n",
       "    <tr>\n",
       "      <th>3</th>\n",
       "      <td>4.6</td>\n",
       "      <td>3.1</td>\n",
       "      <td>1.5</td>\n",
       "      <td>0.2</td>\n",
       "      <td>Setosa</td>\n",
       "    </tr>\n",
       "    <tr>\n",
       "      <th>4</th>\n",
       "      <td>5.0</td>\n",
       "      <td>3.6</td>\n",
       "      <td>1.4</td>\n",
       "      <td>0.2</td>\n",
       "      <td>Setosa</td>\n",
       "    </tr>\n",
       "  </tbody>\n",
       "</table>\n",
       "</div>"
      ],
      "text/plain": [
       "   sepal.length  sepal.width  petal.length  petal.width variety\n",
       "0           5.1          3.5           1.4          0.2  Setosa\n",
       "1           4.9          3.0           1.4          0.2  Setosa\n",
       "2           4.7          3.2           1.3          0.2  Setosa\n",
       "3           4.6          3.1           1.5          0.2  Setosa\n",
       "4           5.0          3.6           1.4          0.2  Setosa"
      ]
     },
     "execution_count": 3,
     "metadata": {},
     "output_type": "execute_result"
    }
   ],
   "source": [
    "iris = pd.read_csv('data/iris.csv')\n",
    "\n",
    "iris.head()"
   ]
  },
  {
   "cell_type": "code",
   "execution_count": 4,
   "id": "83cdacc1",
   "metadata": {},
   "outputs": [
    {
     "data": {
      "text/plain": [
       "(150, 5)"
      ]
     },
     "execution_count": 4,
     "metadata": {},
     "output_type": "execute_result"
    }
   ],
   "source": [
    "# Small dataset, well-balanced\n",
    "\n",
    "iris.shape"
   ]
  },
  {
   "cell_type": "code",
   "execution_count": 9,
   "id": "8fa009f3",
   "metadata": {},
   "outputs": [
    {
     "data": {
      "image/png": "[encoded data removed]",
      "text/plain": [
       "<Figure size 640x480 with 1 Axes>"
      ]
     },
     "metadata": {},
     "output_type": "display_data"
    }
   ],
   "source": [
    "iris['variety'].hist();"
   ]
  },
  {
   "cell_type": "markdown",
   "id": "273305f9",
   "metadata": {},
   "source": [
    "**The `torch.tensor()` function converts the features and target labels to tensor matrices for use in neural network:**\n",
    "\n",
    "    0 - Setosa\n",
    "    1 - Versicolor\n",
    "    2 - Virginica\n",
    "    \n",
    "**Technically, you should always train-test-split your data but since it is so small, use the whole dataset to train the model.**"
   ]
  },
  {
   "cell_type": "code",
   "execution_count": 10,
   "id": "9e26d486",
   "metadata": {},
   "outputs": [
    {
     "name": "stdout",
     "output_type": "stream",
     "text": [
      "tensor([[5.1000, 3.5000, 1.4000, 0.2000],\n",
      "        [4.9000, 3.0000, 1.4000, 0.2000],\n",
      "        [4.7000, 3.2000, 1.3000, 0.2000]])\n",
      "\n",
      "tensor([0, 0, 0])\n"
     ]
    }
   ],
   "source": [
    "X = torch.tensor(iris.drop(\"variety\", axis=1).values, dtype=torch.float)\n",
    "\n",
    "y = torch.tensor([0 if vty == \"Setosa\" else 1 if vty == \"Versicolor\" else 2 for vty in iris[\"variety\"]], dtype=torch.long)\n",
    "\n",
    "# Print 1st three rows of X and Y tensors (all belong to Setosa)\n",
    "print(X[:3])\n",
    "print()\n",
    "print(y[:3])"
   ]
  },
  {
   "cell_type": "markdown",
   "id": "b89f9396",
   "metadata": {},
   "source": [
    "**The data is now ready to be passed into the neural network.**\n",
    "\n",
    "**The neural network will have an 'inner layer' going from 4 features to 16 nodes in one 'hidden layer', and an 'outer layer' going from the 16 nodes to 3 class probabilities, using ReLU activation function.**"
   ]
  },
  {
   "cell_type": "code",
   "execution_count": 11,
   "id": "999c67ea",
   "metadata": {},
   "outputs": [],
   "source": [
    "class Net(nn.Module):\n",
    "    def __init__(self):\n",
    "        super().__init__()\n",
    "        self.input = nn.Linear(in_features=4, out_features=16)\n",
    "        self.hidden_1 = nn.Linear(in_features=16, out_features=16)\n",
    "        self.output = nn.Linear(in_features=16, out_features=3)\n",
    "        \n",
    "    def forward(self, x):\n",
    "        x = F.relu(self.input(x))\n",
    "        x = F.relu(self.hidden_1(x))\n",
    "        return self.output(x)\n",
    "    "
   ]
  },
  {
   "cell_type": "code",
   "execution_count": 12,
   "id": "2ec78f56",
   "metadata": {},
   "outputs": [
    {
     "name": "stdout",
     "output_type": "stream",
     "text": [
      "Net(\n",
      "  (input): Linear(in_features=4, out_features=16, bias=True)\n",
      "  (hidden_1): Linear(in_features=16, out_features=16, bias=True)\n",
      "  (output): Linear(in_features=16, out_features=3, bias=True)\n",
      ")\n"
     ]
    }
   ],
   "source": [
    "# Instantiate model Class instance\n",
    "model = Net()\n",
    "\n",
    "# View model summary\n",
    "print(model)"
   ]
  },
  {
   "cell_type": "code",
   "execution_count": 13,
   "id": "a07f2b3a",
   "metadata": {},
   "outputs": [],
   "source": [
    "# Calculate prediction probabilities for input data\n",
    "\n",
    "preds = model(X)"
   ]
  },
  {
   "cell_type": "code",
   "execution_count": 15,
   "id": "14017376",
   "metadata": {},
   "outputs": [
    {
     "data": {
      "text/plain": [
       "tensor([[-0.3579,  0.0725, -0.0341],\n",
       "        [-0.3206,  0.0958, -0.0769],\n",
       "        [-0.3395,  0.0879, -0.0453]], grad_fn=<SliceBackward0>)"
      ]
     },
     "execution_count": 15,
     "metadata": {},
     "output_type": "execute_result"
    }
   ],
   "source": [
    "# Visually, all second probabilities are highest, i.e. index position 1\n",
    "\n",
    "preds[:3]"
   ]
  },
  {
   "cell_type": "code",
   "execution_count": null,
   "id": "39667ba4",
   "metadata": {},
   "outputs": [],
   "source": [
    "# ------------------------- Exact same code for Class model as above (only variable names have changed) -----------------------"
   ]
  },
  {
   "cell_type": "code",
   "execution_count": 16,
   "id": "bdf9ccb1",
   "metadata": {},
   "outputs": [],
   "source": [
    "class ANN(nn.Module):\n",
    "    def __init__(self):\n",
    "        super().__init__()\n",
    "        self.fc1 = nn.Linear(in_features=4, out_features=16)\n",
    "        self.fc2 = nn.Linear(in_features=16, out_features=16)\n",
    "        self.output = nn.Linear(in_features=16, out_features=3)\n",
    " \n",
    "    def forward(self, x):\n",
    "        x = F.relu(self.fc1(x))\n",
    "        x = F.relu(self.fc2(x))\n",
    "        x = self.output(x)\n",
    "        return x"
   ]
  },
  {
   "cell_type": "code",
   "execution_count": 17,
   "id": "406155cb",
   "metadata": {},
   "outputs": [
    {
     "name": "stdout",
     "output_type": "stream",
     "text": [
      "ANN(\n",
      "  (fc1): Linear(in_features=4, out_features=16, bias=True)\n",
      "  (fc2): Linear(in_features=16, out_features=16, bias=True)\n",
      "  (output): Linear(in_features=16, out_features=3, bias=True)\n",
      ")\n"
     ]
    }
   ],
   "source": [
    "# Instantiate model Class instance\n",
    "model_b = ANN()\n",
    "\n",
    "# View model summary\n",
    "print(model_b)"
   ]
  },
  {
   "cell_type": "code",
   "execution_count": 18,
   "id": "81773c7e",
   "metadata": {},
   "outputs": [],
   "source": [
    "# Set Criterion: To measure loss, use CrossEntropyLoss\n",
    "criterion = nn.CrossEntropyLoss()\n",
    "\n",
    "# Set Optimizer: Use Adam with a learning rate of 0.01\n",
    "optimizer = torch.optim.Adam(model.parameters(), lr=0.01)"
   ]
  },
  {
   "cell_type": "code",
   "execution_count": 19,
   "id": "f8a2150b",
   "metadata": {},
   "outputs": [
    {
     "name": "stdout",
     "output_type": "stream",
     "text": [
      "Epoch: 0 Loss: 1.1742950677871704\n",
      "Epoch: 10 Loss: 0.9490728974342346\n",
      "Epoch: 20 Loss: 0.6431766152381897\n",
      "Epoch: 30 Loss: 0.4071611762046814\n",
      "Epoch: 40 Loss: 0.31080693006515503\n",
      "Epoch: 50 Loss: 0.21387919783592224\n",
      "Epoch: 60 Loss: 0.134927898645401\n",
      "Epoch: 70 Loss: 0.09368018060922623\n",
      "Epoch: 80 Loss: 0.07427272945642471\n",
      "Epoch: 90 Loss: 0.06395182013511658\n",
      "CPU times: total: 375 ms\n",
      "Wall time: 214 ms\n"
     ]
    }
   ],
   "source": [
    "# Train model\n",
    "\n",
    "%%time\n",
    "\n",
    "epochs = 100\n",
    "loss_arr = []\n",
    "\n",
    "for i in range(epochs):\n",
    "    y_pred = model.forward(X)\n",
    "    loss = criterion(y_pred, y)\n",
    "    loss_arr.append(loss)\n",
    "    \n",
    " \n",
    "    if i % 10 == 0:\n",
    "        print(f'Epoch: {i} Loss: {loss}')\n",
    " \n",
    "    optimizer.zero_grad()\n",
    "    loss.backward()\n",
    "    optimizer.step()\n",
    "    "
   ]
  },
  {
   "cell_type": "code",
   "execution_count": 31,
   "id": "aa9093fd",
   "metadata": {},
   "outputs": [
    {
     "data": {
      "text/plain": [
       "[tensor(1.1743, grad_fn=<NllLossBackward0>),\n",
       " tensor(1.1109, grad_fn=<NllLossBackward0>),\n",
       " tensor(1.0826, grad_fn=<NllLossBackward0>)]"
      ]
     },
     "execution_count": 31,
     "metadata": {},
     "output_type": "execute_result"
    }
   ],
   "source": [
    "# That was fast! But it is very small dataset\n",
    "\n",
    "loss_arr[:3]"
   ]
  },
  {
   "cell_type": "code",
   "execution_count": null,
   "id": "3ebd5e6b",
   "metadata": {},
   "outputs": [],
   "source": [
    "# To view the neural network, use TensorBoard (matplotlib does not work with tensors)"
   ]
  },
  {
   "cell_type": "code",
   "execution_count": 32,
   "id": "9eef0dfa",
   "metadata": {},
   "outputs": [],
   "source": [
    "from torch.utils.tensorboard import SummaryWriter\n",
    "\n",
    "writer = SummaryWriter(\"torchlogs/\")\n",
    "\n",
    "writer.add_graph(model_b, X)\n",
    "\n",
    "writer.close()"
   ]
  },
  {
   "cell_type": "markdown",
   "id": "faa3b838",
   "metadata": {},
   "source": [
    "**Launch TensorBoard from Anaconda command terminal by navigating to the log directory (look in your working folder):**\n",
    "\n",
    "    cd torchlogs\n",
    "    tensorboard --logdir=./\n",
    "    \n",
    "**You’ll be able to see the model graph on http://localhost:6006**"
   ]
  }
 ],
 "metadata": {
  "kernelspec": {
   "display_name": "Python 3 (ipykernel)",
   "language": "python",
   "name": "python3"
  },
  "language_info": {
   "codemirror_mode": {
    "name": "ipython",
    "version": 3
   },
   "file_extension": ".py",
   "mimetype": "text/x-python",
   "name": "python",
   "nbconvert_exporter": "python",
   "pygments_lexer": "ipython3",
   "version": "3.9.16"
  }
 },
 "nbformat": 4,
 "nbformat_minor": 5
}
