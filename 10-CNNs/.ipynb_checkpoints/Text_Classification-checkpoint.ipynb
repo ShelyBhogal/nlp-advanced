{
 "cells": [
  {
   "cell_type": "markdown",
   "id": "3f8fca89",
   "metadata": {},
   "source": [
    "# CNN for text classification\n",
    "\n",
    "Using the BBC News dataset of archived articles, build a convolutional neural network to classify each document to its correct subject (business, entertainment, politics, sports or technology).\n",
    "\n",
    "Use TensorFlow to tokenize data as well as build the model, and since we are deaing with text data, the convolution and pooling all happens in one-dimensional space (with multiple features)."
   ]
  },
  {
   "cell_type": "code",
   "execution_count": 1,
   "id": "2285b954",
   "metadata": {},
   "outputs": [],
   "source": [
    "import numpy as np\n",
    "import pandas as pd\n",
    "import matplotlib.pyplot as plt\n",
    "\n",
    "from sklearn.model_selection import train_test_split\n",
    "\n",
    "%matplotlib inline"
   ]
  },
  {
   "cell_type": "code",
   "execution_count": 2,
   "id": "f23fc96b",
   "metadata": {},
   "outputs": [],
   "source": [
    "import tensorflow as tf\n",
    "from tensorflow.keras.preprocessing.text import Tokenizer\n",
    "from tensorflow.keras.preprocessing.sequence import pad_sequences\n",
    "from tensorflow.keras.layers import Dense, Input, GlobalMaxPooling1D\n",
    "from tensorflow.keras.layers import Conv1D, MaxPooling1D, Embedding\n",
    "from tensorflow.keras.models import Model\n",
    "from tensorflow.keras.losses import SparseCategoricalCrossentropy"
   ]
  },
  {
   "cell_type": "code",
   "execution_count": 3,
   "id": "a48d3fe4",
   "metadata": {},
   "outputs": [],
   "source": [
    "df = pd.read_csv('data/bbc_text_cls.csv')"
   ]
  },
  {
   "cell_type": "code",
   "execution_count": 4,
   "id": "8f60ce05",
   "metadata": {},
   "outputs": [
    {
     "data": {
      "text/html": [
       "<div>\n",
       "<style scoped>\n",
       "    .dataframe tbody tr th:only-of-type {\n",
       "        vertical-align: middle;\n",
       "    }\n",
       "\n",
       "    .dataframe tbody tr th {\n",
       "        vertical-align: top;\n",
       "    }\n",
       "\n",
       "    .dataframe thead th {\n",
       "        text-align: right;\n",
       "    }\n",
       "</style>\n",
       "<table border=\"1\" class=\"dataframe\">\n",
       "  <thead>\n",
       "    <tr style=\"text-align: right;\">\n",
       "      <th></th>\n",
       "      <th>text</th>\n",
       "      <th>labels</th>\n",
       "    </tr>\n",
       "  </thead>\n",
       "  <tbody>\n",
       "    <tr>\n",
       "      <th>0</th>\n",
       "      <td>Ad sales boost Time Warner profit\\n\\nQuarterly...</td>\n",
       "      <td>business</td>\n",
       "    </tr>\n",
       "    <tr>\n",
       "      <th>1</th>\n",
       "      <td>Dollar gains on Greenspan speech\\n\\nThe dollar...</td>\n",
       "      <td>business</td>\n",
       "    </tr>\n",
       "    <tr>\n",
       "      <th>2</th>\n",
       "      <td>Yukos unit buyer faces loan claim\\n\\nThe owner...</td>\n",
       "      <td>business</td>\n",
       "    </tr>\n",
       "    <tr>\n",
       "      <th>3</th>\n",
       "      <td>High fuel prices hit BA's profits\\n\\nBritish A...</td>\n",
       "      <td>business</td>\n",
       "    </tr>\n",
       "    <tr>\n",
       "      <th>4</th>\n",
       "      <td>Pernod takeover talk lifts Domecq\\n\\nShares in...</td>\n",
       "      <td>business</td>\n",
       "    </tr>\n",
       "  </tbody>\n",
       "</table>\n",
       "</div>"
      ],
      "text/plain": [
       "                                                text    labels\n",
       "0  Ad sales boost Time Warner profit\\n\\nQuarterly...  business\n",
       "1  Dollar gains on Greenspan speech\\n\\nThe dollar...  business\n",
       "2  Yukos unit buyer faces loan claim\\n\\nThe owner...  business\n",
       "3  High fuel prices hit BA's profits\\n\\nBritish A...  business\n",
       "4  Pernod takeover talk lifts Domecq\\n\\nShares in...  business"
      ]
     },
     "execution_count": 4,
     "metadata": {},
     "output_type": "execute_result"
    }
   ],
   "source": [
    "df.head()"
   ]
  },
  {
   "cell_type": "code",
   "execution_count": 5,
   "id": "1d1eefa6",
   "metadata": {},
   "outputs": [],
   "source": [
    "# Assign target labels to integers\n",
    "\n",
    "df['targets'] = df['labels'].astype(\"category\").cat.codes"
   ]
  },
  {
   "cell_type": "code",
   "execution_count": 6,
   "id": "0a4db21a",
   "metadata": {},
   "outputs": [
    {
     "data": {
      "text/html": [
       "<div>\n",
       "<style scoped>\n",
       "    .dataframe tbody tr th:only-of-type {\n",
       "        vertical-align: middle;\n",
       "    }\n",
       "\n",
       "    .dataframe tbody tr th {\n",
       "        vertical-align: top;\n",
       "    }\n",
       "\n",
       "    .dataframe thead th {\n",
       "        text-align: right;\n",
       "    }\n",
       "</style>\n",
       "<table border=\"1\" class=\"dataframe\">\n",
       "  <thead>\n",
       "    <tr style=\"text-align: right;\">\n",
       "      <th></th>\n",
       "      <th>text</th>\n",
       "      <th>labels</th>\n",
       "      <th>targets</th>\n",
       "    </tr>\n",
       "  </thead>\n",
       "  <tbody>\n",
       "    <tr>\n",
       "      <th>0</th>\n",
       "      <td>Ad sales boost Time Warner profit\\n\\nQuarterly...</td>\n",
       "      <td>business</td>\n",
       "      <td>0</td>\n",
       "    </tr>\n",
       "    <tr>\n",
       "      <th>1</th>\n",
       "      <td>Dollar gains on Greenspan speech\\n\\nThe dollar...</td>\n",
       "      <td>business</td>\n",
       "      <td>0</td>\n",
       "    </tr>\n",
       "    <tr>\n",
       "      <th>2</th>\n",
       "      <td>Yukos unit buyer faces loan claim\\n\\nThe owner...</td>\n",
       "      <td>business</td>\n",
       "      <td>0</td>\n",
       "    </tr>\n",
       "    <tr>\n",
       "      <th>3</th>\n",
       "      <td>High fuel prices hit BA's profits\\n\\nBritish A...</td>\n",
       "      <td>business</td>\n",
       "      <td>0</td>\n",
       "    </tr>\n",
       "    <tr>\n",
       "      <th>4</th>\n",
       "      <td>Pernod takeover talk lifts Domecq\\n\\nShares in...</td>\n",
       "      <td>business</td>\n",
       "      <td>0</td>\n",
       "    </tr>\n",
       "  </tbody>\n",
       "</table>\n",
       "</div>"
      ],
      "text/plain": [
       "                                                text    labels  targets\n",
       "0  Ad sales boost Time Warner profit\\n\\nQuarterly...  business        0\n",
       "1  Dollar gains on Greenspan speech\\n\\nThe dollar...  business        0\n",
       "2  Yukos unit buyer faces loan claim\\n\\nThe owner...  business        0\n",
       "3  High fuel prices hit BA's profits\\n\\nBritish A...  business        0\n",
       "4  Pernod takeover talk lifts Domecq\\n\\nShares in...  business        0"
      ]
     },
     "execution_count": 6,
     "metadata": {},
     "output_type": "execute_result"
    }
   ],
   "source": [
    "df.head()"
   ]
  },
  {
   "cell_type": "code",
   "execution_count": 7,
   "id": "849c9244",
   "metadata": {},
   "outputs": [
    {
     "data": {
      "text/plain": [
       "5"
      ]
     },
     "execution_count": 7,
     "metadata": {},
     "output_type": "execute_result"
    }
   ],
   "source": [
    "# No of classes (need this for dense layers)\n",
    "\n",
    "K = df['targets'].max() + 1\n",
    "\n",
    "K"
   ]
  },
  {
   "cell_type": "markdown",
   "id": "afb445b3",
   "metadata": {},
   "source": [
    "## Convert sentences to sequences of integers\n",
    "\n",
    "Using the TensorFlow tokenizer, split the text into sentences and tokenize to sequence of integers. The added benefit of using TensorFlow (instead of SciKit-Learn) is the automatic generation of word-to-index and index-to-word mappings. You should always set a **maximum vocabulary size** for the tokenizer (most frequently-occurring tokens), which is what will be used to train the neural network. \n",
    "\n",
    "The transformed data (training and test sets) are tokenized and padded for the `Input()` function in neural network, to then be fed into the Embedding layer.\n",
    "\n",
    "The mappings contain all the unique words, not just those assigned to the vocabulary.\n",
    "\n",
    "NOTE: Make sure to train-test split the data before tokenizing."
   ]
  },
  {
   "cell_type": "code",
   "execution_count": 8,
   "id": "b83f996c",
   "metadata": {},
   "outputs": [],
   "source": [
    "df_train, df_test = train_test_split(df, test_size=0.3)"
   ]
  },
  {
   "cell_type": "code",
   "execution_count": 26,
   "id": "88fed07c",
   "metadata": {},
   "outputs": [
    {
     "data": {
      "text/plain": [
       "(1557, 3)"
      ]
     },
     "execution_count": 26,
     "metadata": {},
     "output_type": "execute_result"
    }
   ],
   "source": [
    "df_train.shape"
   ]
  },
  {
   "cell_type": "code",
   "execution_count": 27,
   "id": "7d72a3bc",
   "metadata": {},
   "outputs": [
    {
     "data": {
      "text/plain": [
       "(668, 3)"
      ]
     },
     "execution_count": 27,
     "metadata": {},
     "output_type": "execute_result"
    }
   ],
   "source": [
    "df_test.shape"
   ]
  },
  {
   "cell_type": "code",
   "execution_count": 9,
   "id": "d501de57",
   "metadata": {},
   "outputs": [],
   "source": [
    "MAX_VOCAB_SIZE = 2000\n",
    "\n",
    "tokenizer = Tokenizer(num_words=MAX_VOCAB_SIZE)\n",
    "\n",
    "tokenizer.fit_on_texts(df_train['text'])"
   ]
  },
  {
   "cell_type": "code",
   "execution_count": 10,
   "id": "83d72b52",
   "metadata": {},
   "outputs": [],
   "source": [
    "# Tokenizer tranforms text data to lists of integers\n",
    "\n",
    "sequences_train = tokenizer.texts_to_sequences(df_train['text'])\n",
    "sequences_test = tokenizer.texts_to_sequences(df_test['text'])"
   ]
  },
  {
   "cell_type": "code",
   "execution_count": 24,
   "id": "1c434cc5",
   "metadata": {},
   "outputs": [
    {
     "data": {
      "text/plain": [
       "1557"
      ]
     },
     "execution_count": 24,
     "metadata": {},
     "output_type": "execute_result"
    }
   ],
   "source": [
    "len(sequences_train)"
   ]
  },
  {
   "cell_type": "code",
   "execution_count": 25,
   "id": "6a552f94",
   "metadata": {},
   "outputs": [
    {
     "data": {
      "text/plain": [
       "668"
      ]
     },
     "execution_count": 25,
     "metadata": {},
     "output_type": "execute_result"
    }
   ],
   "source": [
    "len(sequences_test)"
   ]
  },
  {
   "cell_type": "code",
   "execution_count": 28,
   "id": "6a80b23d",
   "metadata": {},
   "outputs": [
    {
     "data": {
      "text/plain": [
       "[816,\n",
       " 1932,\n",
       " 348,\n",
       " 691,\n",
       " 2,\n",
       " 200,\n",
       " 387,\n",
       " 1932,\n",
       " 23,\n",
       " 691,\n",
       " 267,\n",
       " 348,\n",
       " 105,\n",
       " 44,\n",
       " 6,\n",
       " 32,\n",
       " 1055,\n",
       " 2,\n",
       " 878,\n",
       " 502,\n",
       " 4,\n",
       " 1245,\n",
       " 255,\n",
       " 40,\n",
       " 200,\n",
       " 12,\n",
       " 18,\n",
       " 542,\n",
       " 161,\n",
       " 7,\n",
       " 1,\n",
       " 62,\n",
       " 196,\n",
       " 191,\n",
       " 3,\n",
       " 231,\n",
       " 1246,\n",
       " 3,\n",
       " 40,\n",
       " 589,\n",
       " 621,\n",
       " 415,\n",
       " 1,\n",
       " 822,\n",
       " 622,\n",
       " 429,\n",
       " 22,\n",
       " 4,\n",
       " 5,\n",
       " 6,\n",
       " 1,\n",
       " 223,\n",
       " 12,\n",
       " 2,\n",
       " 878,\n",
       " 108,\n",
       " 502,\n",
       " 4,\n",
       " 23,\n",
       " 998,\n",
       " 10,\n",
       " 4,\n",
       " 127,\n",
       " 1225,\n",
       " 17,\n",
       " 109,\n",
       " 17,\n",
       " 1933,\n",
       " 166,\n",
       " 233,\n",
       " 16,\n",
       " 193,\n",
       " 2,\n",
       " 47,\n",
       " 1008,\n",
       " 1,\n",
       " 74,\n",
       " 18,\n",
       " 110,\n",
       " 32,\n",
       " 220,\n",
       " 194,\n",
       " 417,\n",
       " 879,\n",
       " 3,\n",
       " 186,\n",
       " 7,\n",
       " 105,\n",
       " 44,\n",
       " 4,\n",
       " 9,\n",
       " 36,\n",
       " 15,\n",
       " 6,\n",
       " 1617,\n",
       " 12,\n",
       " 271,\n",
       " 334,\n",
       " 4,\n",
       " 220,\n",
       " 1559,\n",
       " 22,\n",
       " 304,\n",
       " 2,\n",
       " 707,\n",
       " 6,\n",
       " 231,\n",
       " 1,\n",
       " 984,\n",
       " 4,\n",
       " 200,\n",
       " 11,\n",
       " 6,\n",
       " 5,\n",
       " 517,\n",
       " 12,\n",
       " 1538,\n",
       " 94,\n",
       " 17,\n",
       " 282,\n",
       " 354,\n",
       " 4,\n",
       " 294,\n",
       " 832,\n",
       " 623,\n",
       " 4,\n",
       " 1040,\n",
       " 490,\n",
       " 9,\n",
       " 18,\n",
       " 925,\n",
       " 404,\n",
       " 3,\n",
       " 5,\n",
       " 6,\n",
       " 133,\n",
       " 194,\n",
       " 23,\n",
       " 15,\n",
       " 155,\n",
       " 210,\n",
       " 249,\n",
       " 4,\n",
       " 210,\n",
       " 425,\n",
       " 1,\n",
       " 11,\n",
       " 26,\n",
       " 853,\n",
       " 8,\n",
       " 1,\n",
       " 513,\n",
       " 23,\n",
       " 138,\n",
       " 125,\n",
       " 10,\n",
       " 1,\n",
       " 72,\n",
       " 33,\n",
       " 402,\n",
       " 8,\n",
       " 1,\n",
       " 822,\n",
       " 950,\n",
       " 9,\n",
       " 40,\n",
       " 902,\n",
       " 3,\n",
       " 1,\n",
       " 415,\n",
       " 23,\n",
       " 15,\n",
       " 455,\n",
       " 2,\n",
       " 793,\n",
       " 1,\n",
       " 200,\n",
       " 239,\n",
       " 11,\n",
       " 6,\n",
       " 5,\n",
       " 227,\n",
       " 1,\n",
       " 467,\n",
       " 1268,\n",
       " 387,\n",
       " 1932,\n",
       " 8,\n",
       " 9,\n",
       " 96,\n",
       " 602,\n",
       " 22,\n",
       " 25,\n",
       " 1,\n",
       " 3,\n",
       " 5,\n",
       " 951,\n",
       " 9,\n",
       " 82,\n",
       " 675,\n",
       " 1114,\n",
       " 3,\n",
       " 387,\n",
       " 22,\n",
       " 10,\n",
       " 37,\n",
       " 951,\n",
       " 1041,\n",
       " 4,\n",
       " 1,\n",
       " 808,\n",
       " 352,\n",
       " 1041,\n",
       " 18,\n",
       " 38,\n",
       " 10,\n",
       " 1,\n",
       " 3,\n",
       " 1141,\n",
       " 7,\n",
       " 191,\n",
       " 17,\n",
       " 156,\n",
       " 3,\n",
       " 40,\n",
       " 348,\n",
       " 185,\n",
       " 1,\n",
       " 74,\n",
       " 11,\n",
       " 12,\n",
       " 23,\n",
       " 1186,\n",
       " 233,\n",
       " 2,\n",
       " 57,\n",
       " 1974,\n",
       " 9,\n",
       " 201,\n",
       " 374,\n",
       " 6,\n",
       " 1,\n",
       " 62,\n",
       " 197,\n",
       " 3,\n",
       " 231,\n",
       " 12,\n",
       " 43,\n",
       " 1768,\n",
       " 2,\n",
       " 355,\n",
       " 20,\n",
       " 952,\n",
       " 3,\n",
       " 1639,\n",
       " 1326,\n",
       " 10,\n",
       " 462,\n",
       " 1,\n",
       " 74,\n",
       " 1142,\n",
       " 49,\n",
       " 1,\n",
       " 1226,\n",
       " 3,\n",
       " 6,\n",
       " 1,\n",
       " 1225,\n",
       " 491,\n",
       " 313,\n",
       " 1,\n",
       " 220,\n",
       " 57,\n",
       " 4,\n",
       " 1891,\n",
       " 1226,\n",
       " 6,\n",
       " 1,\n",
       " 817,\n",
       " 5,\n",
       " 6,\n",
       " 1,\n",
       " 223,\n",
       " 59,\n",
       " 19,\n",
       " 68,\n",
       " 1,\n",
       " 11,\n",
       " 17,\n",
       " 5,\n",
       " 519,\n",
       " 387,\n",
       " 1932,\n",
       " 23,\n",
       " 288,\n",
       " 854,\n",
       " 219,\n",
       " 43,\n",
       " 23,\n",
       " 15,\n",
       " 313,\n",
       " 1,\n",
       " 481,\n",
       " 2,\n",
       " 1156,\n",
       " 936,\n",
       " 4,\n",
       " 68,\n",
       " 166,\n",
       " 12,\n",
       " 43,\n",
       " 23,\n",
       " 355,\n",
       " 20,\n",
       " 275,\n",
       " 198,\n",
       " 252,\n",
       " 68,\n",
       " 185,\n",
       " 10,\n",
       " 1,\n",
       " 424,\n",
       " 47,\n",
       " 94,\n",
       " 17,\n",
       " 157,\n",
       " 4,\n",
       " 157,\n",
       " 17,\n",
       " 109,\n",
       " 17,\n",
       " 1205,\n",
       " 1096,\n",
       " 335,\n",
       " 2,\n",
       " 584,\n",
       " 4,\n",
       " 1187,\n",
       " 1,\n",
       " 998,\n",
       " 23,\n",
       " 15,\n",
       " 10,\n",
       " 498,\n",
       " 4,\n",
       " 220,\n",
       " 1345,\n",
       " 313,\n",
       " 9,\n",
       " 1040,\n",
       " 4,\n",
       " 543,\n",
       " 1559,\n",
       " 22,\n",
       " 304,\n",
       " 2,\n",
       " 1,\n",
       " 200,\n",
       " 6,\n",
       " 231,\n",
       " 1,\n",
       " 11]"
      ]
     },
     "execution_count": 28,
     "metadata": {},
     "output_type": "execute_result"
    }
   ],
   "source": [
    "sequences_train[0]"
   ]
  },
  {
   "cell_type": "code",
   "execution_count": 32,
   "id": "404a6a97",
   "metadata": {},
   "outputs": [],
   "source": [
    "lengths = []\n",
    "\n",
    "for l in sequences_train:\n",
    "    l_length = len(l)\n",
    "    lengths.append(l_length)\n"
   ]
  },
  {
   "cell_type": "code",
   "execution_count": 35,
   "id": "cdf6c53c",
   "metadata": {},
   "outputs": [
    {
     "data": {
      "text/plain": [
       "2846"
      ]
     },
     "execution_count": 35,
     "metadata": {},
     "output_type": "execute_result"
    }
   ],
   "source": [
    "# Longest document in training set (2,846 words)\n",
    "\n",
    "max(lengths)"
   ]
  },
  {
   "cell_type": "code",
   "execution_count": 12,
   "id": "3d2bce60",
   "metadata": {},
   "outputs": [
    {
     "name": "stdout",
     "output_type": "stream",
     "text": [
      "Found 27517 unique words.\n"
     ]
    }
   ],
   "source": [
    "# Get word->index mapping and true vocabulary size from training set\n",
    "\n",
    "word2idx = tokenizer.word_index\n",
    "\n",
    "V = len(word2idx)\n",
    "\n",
    "print('Found %s unique words' % V)"
   ]
  },
  {
   "cell_type": "markdown",
   "id": "b3951ab5",
   "metadata": {},
   "source": [
    "**The documents of integers are lists, which you want as document-by-integers matrix. Use the `pad_sequences` function to add zeroes to create matrix.**"
   ]
  },
  {
   "cell_type": "code",
   "execution_count": 13,
   "id": "4b26f2a4",
   "metadata": {},
   "outputs": [
    {
     "name": "stdout",
     "output_type": "stream",
     "text": [
      "Shape of data train tensor: (1557, 2846)\n"
     ]
    }
   ],
   "source": [
    "# Pad sequences so that we get a full N x T matrix (documents x max sequence length)\n",
    "\n",
    "data_train = pad_sequences(sequences_train)\n",
    "\n",
    "print('Shape of data train tensor:', data_train.shape)"
   ]
  },
  {
   "cell_type": "code",
   "execution_count": 14,
   "id": "41be1b43",
   "metadata": {},
   "outputs": [],
   "source": [
    "# Get sequence length, i.e. max no of words per document (2,846 words)\n",
    "\n",
    "T = data_train.shape[1]"
   ]
  },
  {
   "cell_type": "code",
   "execution_count": 15,
   "id": "be750981",
   "metadata": {},
   "outputs": [
    {
     "name": "stdout",
     "output_type": "stream",
     "text": [
      "Shape of data test tensor: (668, 2846)\n"
     ]
    }
   ],
   "source": [
    "# When padding the test set, make sure to set the max length the same as the training set\n",
    "\n",
    "data_test = pad_sequences(sequences_test, maxlen=T)\n",
    "\n",
    "print('Shape of data test tensor:', data_test.shape)"
   ]
  },
  {
   "cell_type": "markdown",
   "id": "90580047",
   "metadata": {},
   "source": [
    "## Build the model\n",
    "\n",
    "The **inner layer** specifies the shape of the training set, but we only need the number of words in a document, not the number of documents (since we don't know that), i.e. the total number of columns from tokenized training set (after padding), which is the maximum number of words found in a document in the training set (2,846).\n",
    "\n",
    "For the **embedding layer**, you actually want the size of the word embeddings to go to ***(V + 1)* x *D***, because the index starts from 1 and not 0. Therefore, if the final index of the embedding matrix is vocabulary size (27,517), then it actually must have size V + 1 (27,518). The size of the embedding matrix dimensionality (*D*) represents the estimated number of words in a sentence, i.e. the length, which should be an appropriate number that you choose, e.g. 27518 x 50.\n",
    "\n",
    "You only need one **convolution layer** because "
   ]
  },
  {
   "cell_type": "code",
   "execution_count": 16,
   "id": "52ee67ee",
   "metadata": {},
   "outputs": [],
   "source": [
    "# Embedding dimensionality estimates 50 words per sentence\n",
    "\n",
    "D = 50"
   ]
  },
  {
   "cell_type": "code",
   "execution_count": 17,
   "id": "2d3f26f7",
   "metadata": {},
   "outputs": [],
   "source": [
    "i = Input(shape=(T,))\n",
    "\n",
    "x = Embedding(V + 1, D)(i)\n",
    "\n",
    "x = Conv1D(32, 3, activation='relu')(x)\n",
    "\n",
    "# x = MaxPooling1D(3)(x)\n",
    "# x = Conv1D(64, 3, activation='relu')(x)\n",
    "# x = MaxPooling1D(3)(x)\n",
    "# x = Conv1D(128, 3, activation='relu')(x)\n",
    "\n",
    "x = GlobalMaxPooling1D()(x)\n",
    "\n",
    "x = Dense(K)(x)\n",
    "\n",
    "model = Model(i, x)"
   ]
  },
  {
   "cell_type": "code",
   "execution_count": 18,
   "id": "e8e4a3c3",
   "metadata": {},
   "outputs": [],
   "source": [
    "# Compile model\n",
    "\n",
    "model.compile(loss=SparseCategoricalCrossentropy(from_logits=True), optimizer='adam', metrics=['accuracy'])"
   ]
  },
  {
   "cell_type": "code",
   "execution_count": 19,
   "id": "436ead5c",
   "metadata": {},
   "outputs": [
    {
     "name": "stdout",
     "output_type": "stream",
     "text": [
      "Training model...\n",
      "Epoch 1/50\n",
      "49/49 [==============================] - 6s 104ms/step - loss: 1.5655 - accuracy: 0.3173 - val_loss: 1.4921 - val_accuracy: 0.5644\n",
      "Epoch 2/50\n",
      "49/49 [==============================] - 5s 101ms/step - loss: 1.3177 - accuracy: 0.7270 - val_loss: 1.1808 - val_accuracy: 0.7829\n",
      "Epoch 3/50\n",
      "49/49 [==============================] - 5s 102ms/step - loss: 0.9044 - accuracy: 0.8773 - val_loss: 0.7569 - val_accuracy: 0.8877\n",
      "Epoch 4/50\n",
      "49/49 [==============================] - 5s 100ms/step - loss: 0.4991 - accuracy: 0.9306 - val_loss: 0.4506 - val_accuracy: 0.9222\n",
      "Epoch 5/50\n",
      "49/49 [==============================] - 5s 95ms/step - loss: 0.2771 - accuracy: 0.9525 - val_loss: 0.3199 - val_accuracy: 0.9326\n",
      "Epoch 6/50\n",
      "49/49 [==============================] - 5s 96ms/step - loss: 0.1734 - accuracy: 0.9692 - val_loss: 0.2564 - val_accuracy: 0.9386\n",
      "Epoch 7/50\n",
      "49/49 [==============================] - 5s 104ms/step - loss: 0.1177 - accuracy: 0.9839 - val_loss: 0.2173 - val_accuracy: 0.9446\n",
      "Epoch 8/50\n",
      "49/49 [==============================] - 5s 104ms/step - loss: 0.0828 - accuracy: 0.9891 - val_loss: 0.1959 - val_accuracy: 0.9431\n",
      "Epoch 9/50\n",
      "49/49 [==============================] - 5s 100ms/step - loss: 0.0608 - accuracy: 0.9949 - val_loss: 0.1799 - val_accuracy: 0.9446\n",
      "Epoch 10/50\n",
      "49/49 [==============================] - 5s 103ms/step - loss: 0.0452 - accuracy: 0.9974 - val_loss: 0.1706 - val_accuracy: 0.9446\n",
      "Epoch 11/50\n",
      "49/49 [==============================] - 5s 97ms/step - loss: 0.0345 - accuracy: 0.9994 - val_loss: 0.1617 - val_accuracy: 0.9446\n",
      "Epoch 12/50\n",
      "49/49 [==============================] - 5s 97ms/step - loss: 0.0271 - accuracy: 0.9994 - val_loss: 0.1556 - val_accuracy: 0.9476\n",
      "Epoch 13/50\n",
      "49/49 [==============================] - 5s 102ms/step - loss: 0.0215 - accuracy: 0.9994 - val_loss: 0.1516 - val_accuracy: 0.9476\n",
      "Epoch 14/50\n",
      "49/49 [==============================] - 5s 103ms/step - loss: 0.0173 - accuracy: 0.9994 - val_loss: 0.1474 - val_accuracy: 0.9491\n",
      "Epoch 15/50\n",
      "49/49 [==============================] - 5s 97ms/step - loss: 0.0142 - accuracy: 1.0000 - val_loss: 0.1442 - val_accuracy: 0.9491\n",
      "Epoch 16/50\n",
      "49/49 [==============================] - 5s 100ms/step - loss: 0.0118 - accuracy: 1.0000 - val_loss: 0.1416 - val_accuracy: 0.9506\n",
      "Epoch 17/50\n",
      "49/49 [==============================] - 5s 109ms/step - loss: 0.0100 - accuracy: 1.0000 - val_loss: 0.1413 - val_accuracy: 0.9491\n",
      "Epoch 18/50\n",
      "49/49 [==============================] - 5s 98ms/step - loss: 0.0085 - accuracy: 1.0000 - val_loss: 0.1392 - val_accuracy: 0.9506\n",
      "Epoch 19/50\n",
      "49/49 [==============================] - 5s 98ms/step - loss: 0.0074 - accuracy: 1.0000 - val_loss: 0.1376 - val_accuracy: 0.9521\n",
      "Epoch 20/50\n",
      "49/49 [==============================] - 5s 102ms/step - loss: 0.0064 - accuracy: 1.0000 - val_loss: 0.1364 - val_accuracy: 0.9521\n",
      "Epoch 21/50\n",
      "49/49 [==============================] - 5s 97ms/step - loss: 0.0056 - accuracy: 1.0000 - val_loss: 0.1359 - val_accuracy: 0.9521\n",
      "Epoch 22/50\n",
      "49/49 [==============================] - 5s 97ms/step - loss: 0.0050 - accuracy: 1.0000 - val_loss: 0.1348 - val_accuracy: 0.9521\n",
      "Epoch 23/50\n",
      "49/49 [==============================] - 5s 103ms/step - loss: 0.0044 - accuracy: 1.0000 - val_loss: 0.1341 - val_accuracy: 0.9536\n",
      "Epoch 24/50\n",
      "49/49 [==============================] - 5s 98ms/step - loss: 0.0040 - accuracy: 1.0000 - val_loss: 0.1334 - val_accuracy: 0.9536\n",
      "Epoch 25/50\n",
      "49/49 [==============================] - 5s 99ms/step - loss: 0.0036 - accuracy: 1.0000 - val_loss: 0.1330 - val_accuracy: 0.9536\n",
      "Epoch 26/50\n",
      "49/49 [==============================] - 5s 102ms/step - loss: 0.0033 - accuracy: 1.0000 - val_loss: 0.1328 - val_accuracy: 0.9536\n",
      "Epoch 27/50\n",
      "49/49 [==============================] - 5s 100ms/step - loss: 0.0030 - accuracy: 1.0000 - val_loss: 0.1322 - val_accuracy: 0.9536\n",
      "Epoch 28/50\n",
      "49/49 [==============================] - 5s 100ms/step - loss: 0.0027 - accuracy: 1.0000 - val_loss: 0.1320 - val_accuracy: 0.9536\n",
      "Epoch 29/50\n",
      "49/49 [==============================] - 5s 103ms/step - loss: 0.0025 - accuracy: 1.0000 - val_loss: 0.1316 - val_accuracy: 0.9536\n",
      "Epoch 30/50\n",
      "49/49 [==============================] - 5s 104ms/step - loss: 0.0023 - accuracy: 1.0000 - val_loss: 0.1315 - val_accuracy: 0.9536\n",
      "Epoch 31/50\n",
      "49/49 [==============================] - 5s 100ms/step - loss: 0.0021 - accuracy: 1.0000 - val_loss: 0.1315 - val_accuracy: 0.9536\n",
      "Epoch 32/50\n",
      "49/49 [==============================] - 5s 99ms/step - loss: 0.0019 - accuracy: 1.0000 - val_loss: 0.1316 - val_accuracy: 0.9536\n",
      "Epoch 33/50\n",
      "49/49 [==============================] - 5s 103ms/step - loss: 0.0018 - accuracy: 1.0000 - val_loss: 0.1315 - val_accuracy: 0.9536\n",
      "Epoch 34/50\n",
      "49/49 [==============================] - 5s 98ms/step - loss: 0.0017 - accuracy: 1.0000 - val_loss: 0.1313 - val_accuracy: 0.9536\n",
      "Epoch 35/50\n",
      "49/49 [==============================] - 5s 104ms/step - loss: 0.0015 - accuracy: 1.0000 - val_loss: 0.1312 - val_accuracy: 0.9536\n",
      "Epoch 36/50\n",
      "49/49 [==============================] - 6s 116ms/step - loss: 0.0014 - accuracy: 1.0000 - val_loss: 0.1311 - val_accuracy: 0.9536\n",
      "Epoch 37/50\n",
      "49/49 [==============================] - 5s 100ms/step - loss: 0.0013 - accuracy: 1.0000 - val_loss: 0.1312 - val_accuracy: 0.9536\n",
      "Epoch 38/50\n",
      "49/49 [==============================] - 5s 98ms/step - loss: 0.0013 - accuracy: 1.0000 - val_loss: 0.1315 - val_accuracy: 0.9536\n",
      "Epoch 39/50\n",
      "49/49 [==============================] - 5s 103ms/step - loss: 0.0012 - accuracy: 1.0000 - val_loss: 0.1312 - val_accuracy: 0.9536\n",
      "Epoch 40/50\n",
      "49/49 [==============================] - 5s 100ms/step - loss: 0.0011 - accuracy: 1.0000 - val_loss: 0.1311 - val_accuracy: 0.9536\n",
      "Epoch 41/50\n",
      "49/49 [==============================] - 5s 98ms/step - loss: 0.0010 - accuracy: 1.0000 - val_loss: 0.1311 - val_accuracy: 0.9536\n",
      "Epoch 42/50\n",
      "49/49 [==============================] - 5s 102ms/step - loss: 9.7245e-04 - accuracy: 1.0000 - val_loss: 0.1313 - val_accuracy: 0.9536\n",
      "Epoch 43/50\n",
      "49/49 [==============================] - 5s 101ms/step - loss: 9.1605e-04 - accuracy: 1.0000 - val_loss: 0.1312 - val_accuracy: 0.9536\n",
      "Epoch 44/50\n",
      "49/49 [==============================] - 5s 99ms/step - loss: 8.6592e-04 - accuracy: 1.0000 - val_loss: 0.1311 - val_accuracy: 0.9536\n",
      "Epoch 45/50\n",
      "49/49 [==============================] - 5s 101ms/step - loss: 8.1638e-04 - accuracy: 1.0000 - val_loss: 0.1316 - val_accuracy: 0.9536\n",
      "Epoch 46/50\n",
      "49/49 [==============================] - 5s 103ms/step - loss: 7.7167e-04 - accuracy: 1.0000 - val_loss: 0.1317 - val_accuracy: 0.9536\n",
      "Epoch 47/50\n",
      "49/49 [==============================] - 5s 98ms/step - loss: 7.3013e-04 - accuracy: 1.0000 - val_loss: 0.1317 - val_accuracy: 0.9536\n",
      "Epoch 48/50\n",
      "49/49 [==============================] - 5s 98ms/step - loss: 6.9169e-04 - accuracy: 1.0000 - val_loss: 0.1318 - val_accuracy: 0.9536\n",
      "Epoch 49/50\n",
      "49/49 [==============================] - 5s 105ms/step - loss: 6.5680e-04 - accuracy: 1.0000 - val_loss: 0.1320 - val_accuracy: 0.9536\n",
      "Epoch 50/50\n",
      "49/49 [==============================] - 5s 98ms/step - loss: 6.2263e-04 - accuracy: 1.0000 - val_loss: 0.1322 - val_accuracy: 0.9536\n"
     ]
    }
   ],
   "source": [
    "# Fit model\n",
    "\n",
    "print('Training model...')\n",
    "\n",
    "r = model.fit(data_train, df_train['targets'], epochs=50, validation_data=(data_test, df_test['targets']))"
   ]
  },
  {
   "cell_type": "code",
   "execution_count": 21,
   "id": "e6c9a6bf",
   "metadata": {},
   "outputs": [
    {
     "data": {
      "image/png": "[encoded data removed]",
      "text/plain": [
       "<Figure size 640x480 with 1 Axes>"
      ]
     },
     "metadata": {},
     "output_type": "display_data"
    }
   ],
   "source": [
    "# Plot loss per epoch\n",
    "\n",
    "plt.plot(r.history['loss'], label='training loss')\n",
    "plt.plot(r.history['val_loss'], label='test loss')\n",
    "plt.legend();"
   ]
  },
  {
   "cell_type": "code",
   "execution_count": 22,
   "id": "10fb4ac8",
   "metadata": {},
   "outputs": [
    {
     "data": {
      "image/png": "[encoded data removed]",
      "text/plain": [
       "<Figure size 640x480 with 1 Axes>"
      ]
     },
     "metadata": {},
     "output_type": "display_data"
    }
   ],
   "source": [
    "# Plot accuracy per epoch\n",
    "\n",
    "plt.plot(r.history['accuracy'], label='train acc')\n",
    "plt.plot(r.history['val_accuracy'], label='test acc')\n",
    "plt.legend();"
   ]
  },
  {
   "cell_type": "markdown",
   "id": "83141f63",
   "metadata": {},
   "source": [
    "**As expected, performance on the training set is better than the test set, but the results look very good, with optimum parameters converging around 6 epochs.**\n",
    "\n",
    "NOTE: Only need approx 20 epochs when training the model, so if you want to modify hyperparameters to improve results, keep this in mind."
   ]
  },
  {
   "cell_type": "markdown",
   "id": "d0dbfb06",
   "metadata": {},
   "source": [
    "## Compute AUC and F1-score"
   ]
  },
  {
   "cell_type": "code",
   "execution_count": null,
   "id": "dc2b59d0",
   "metadata": {},
   "outputs": [],
   "source": []
  },
  {
   "cell_type": "markdown",
   "id": "363447a5",
   "metadata": {},
   "source": [
    "## Modify hyperparameters to improve results\n",
    "\n",
    "The **embedding dimensionality** (D) and **number of convolution and dense layers** are considered to be the hyperparameters for text classification exercise. "
   ]
  },
  {
   "cell_type": "code",
   "execution_count": null,
   "id": "be4c4e60",
   "metadata": {},
   "outputs": [],
   "source": []
  }
 ],
 "metadata": {
  "kernelspec": {
   "display_name": "Python 3 (ipykernel)",
   "language": "python",
   "name": "python3"
  },
  "language_info": {
   "codemirror_mode": {
    "name": "ipython",
    "version": 3
   },
   "file_extension": ".py",
   "mimetype": "text/x-python",
   "name": "python",
   "nbconvert_exporter": "python",
   "pygments_lexer": "ipython3",
   "version": "3.9.16"
  }
 },
 "nbformat": 4,
 "nbformat_minor": 5
}
