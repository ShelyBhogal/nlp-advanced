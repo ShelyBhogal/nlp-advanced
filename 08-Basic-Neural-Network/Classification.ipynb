{
 "cells": [
  {
   "cell_type": "markdown",
   "id": "2c2bc0d0",
   "metadata": {},
   "source": [
    "# Logistic Regression in TensorFlow\n",
    "\n",
    "Using the airlines tweets dataset, this exercise aims to demonstrate how deep learning model can be used to distinguish between 'negative' and 'positive' tweets (sentiment analysis), i.e. classic Logistic Regression using TensorFlow instead of SciKit-Learn.\n",
    "\n",
    "Text data needs to be vectorized before training the model, and using TF-IDF vectorizer should be the best approach in this case, since we want to isolate the 'important' words to classify between labels.\n",
    "\n",
    "**NOTE: TensorFlow does not accept sparse matrix as input data so training and test sets must be converted to NumPy arrays.**"
   ]
  },
  {
   "cell_type": "code",
   "execution_count": 1,
   "id": "a5f605ad",
   "metadata": {},
   "outputs": [],
   "source": [
    "import numpy as np\n",
    "import pandas as pd\n",
    "import seaborn as sn\n",
    "import matplotlib.pyplot as plt\n",
    "\n",
    "from sklearn.model_selection import train_test_split\n",
    "from sklearn.feature_extraction.text import TfidfVectorizer\n",
    "from sklearn.metrics import roc_auc_score, f1_score, confusion_matrix\n",
    "\n",
    "%matplotlib inline"
   ]
  },
  {
   "cell_type": "code",
   "execution_count": 2,
   "id": "40b6579b",
   "metadata": {},
   "outputs": [],
   "source": [
    "import tensorflow as tf\n",
    "from tensorflow.keras.layers import Dense, Input\n",
    "from tensorflow.keras.models import Model\n",
    "from tensorflow.keras.losses import BinaryCrossentropy\n",
    "from tensorflow.keras.optimizers import Adam"
   ]
  },
  {
   "cell_type": "code",
   "execution_count": 3,
   "id": "2f3b5bf5",
   "metadata": {},
   "outputs": [],
   "source": [
    "# Set random seed in NumPy and TensorFlow to reproduce results\n",
    "\n",
    "np.random.seed(0)\n",
    "tf.random.set_seed(0)"
   ]
  },
  {
   "cell_type": "code",
   "execution_count": 4,
   "id": "a3f1a22b",
   "metadata": {},
   "outputs": [],
   "source": [
    "df = pd.read_csv('data/AirlineTweets.csv')"
   ]
  },
  {
   "cell_type": "code",
   "execution_count": 5,
   "id": "a9de2dcb",
   "metadata": {},
   "outputs": [
    {
     "data": {
      "text/html": [
       "<div>\n",
       "<style scoped>\n",
       "    .dataframe tbody tr th:only-of-type {\n",
       "        vertical-align: middle;\n",
       "    }\n",
       "\n",
       "    .dataframe tbody tr th {\n",
       "        vertical-align: top;\n",
       "    }\n",
       "\n",
       "    .dataframe thead th {\n",
       "        text-align: right;\n",
       "    }\n",
       "</style>\n",
       "<table border=\"1\" class=\"dataframe\">\n",
       "  <thead>\n",
       "    <tr style=\"text-align: right;\">\n",
       "      <th></th>\n",
       "      <th>tweet_id</th>\n",
       "      <th>airline_sentiment</th>\n",
       "      <th>airline_sentiment_confidence</th>\n",
       "      <th>negativereason</th>\n",
       "      <th>negativereason_confidence</th>\n",
       "      <th>airline</th>\n",
       "      <th>airline_sentiment_gold</th>\n",
       "      <th>name</th>\n",
       "      <th>negativereason_gold</th>\n",
       "      <th>retweet_count</th>\n",
       "      <th>text</th>\n",
       "      <th>tweet_coord</th>\n",
       "      <th>tweet_created</th>\n",
       "      <th>tweet_location</th>\n",
       "      <th>user_timezone</th>\n",
       "    </tr>\n",
       "  </thead>\n",
       "  <tbody>\n",
       "    <tr>\n",
       "      <th>0</th>\n",
       "      <td>570306133677760513</td>\n",
       "      <td>neutral</td>\n",
       "      <td>1.0000</td>\n",
       "      <td>NaN</td>\n",
       "      <td>NaN</td>\n",
       "      <td>Virgin America</td>\n",
       "      <td>NaN</td>\n",
       "      <td>cairdin</td>\n",
       "      <td>NaN</td>\n",
       "      <td>0</td>\n",
       "      <td>@VirginAmerica What @dhepburn said.</td>\n",
       "      <td>NaN</td>\n",
       "      <td>2015-02-24 11:35:52 -0800</td>\n",
       "      <td>NaN</td>\n",
       "      <td>Eastern Time (US &amp; Canada)</td>\n",
       "    </tr>\n",
       "    <tr>\n",
       "      <th>1</th>\n",
       "      <td>570301130888122368</td>\n",
       "      <td>positive</td>\n",
       "      <td>0.3486</td>\n",
       "      <td>NaN</td>\n",
       "      <td>0.0000</td>\n",
       "      <td>Virgin America</td>\n",
       "      <td>NaN</td>\n",
       "      <td>jnardino</td>\n",
       "      <td>NaN</td>\n",
       "      <td>0</td>\n",
       "      <td>@VirginAmerica plus you've added commercials t...</td>\n",
       "      <td>NaN</td>\n",
       "      <td>2015-02-24 11:15:59 -0800</td>\n",
       "      <td>NaN</td>\n",
       "      <td>Pacific Time (US &amp; Canada)</td>\n",
       "    </tr>\n",
       "    <tr>\n",
       "      <th>2</th>\n",
       "      <td>570301083672813571</td>\n",
       "      <td>neutral</td>\n",
       "      <td>0.6837</td>\n",
       "      <td>NaN</td>\n",
       "      <td>NaN</td>\n",
       "      <td>Virgin America</td>\n",
       "      <td>NaN</td>\n",
       "      <td>yvonnalynn</td>\n",
       "      <td>NaN</td>\n",
       "      <td>0</td>\n",
       "      <td>@VirginAmerica I didn't today... Must mean I n...</td>\n",
       "      <td>NaN</td>\n",
       "      <td>2015-02-24 11:15:48 -0800</td>\n",
       "      <td>Lets Play</td>\n",
       "      <td>Central Time (US &amp; Canada)</td>\n",
       "    </tr>\n",
       "    <tr>\n",
       "      <th>3</th>\n",
       "      <td>570301031407624196</td>\n",
       "      <td>negative</td>\n",
       "      <td>1.0000</td>\n",
       "      <td>Bad Flight</td>\n",
       "      <td>0.7033</td>\n",
       "      <td>Virgin America</td>\n",
       "      <td>NaN</td>\n",
       "      <td>jnardino</td>\n",
       "      <td>NaN</td>\n",
       "      <td>0</td>\n",
       "      <td>@VirginAmerica it's really aggressive to blast...</td>\n",
       "      <td>NaN</td>\n",
       "      <td>2015-02-24 11:15:36 -0800</td>\n",
       "      <td>NaN</td>\n",
       "      <td>Pacific Time (US &amp; Canada)</td>\n",
       "    </tr>\n",
       "    <tr>\n",
       "      <th>4</th>\n",
       "      <td>570300817074462722</td>\n",
       "      <td>negative</td>\n",
       "      <td>1.0000</td>\n",
       "      <td>Can't Tell</td>\n",
       "      <td>1.0000</td>\n",
       "      <td>Virgin America</td>\n",
       "      <td>NaN</td>\n",
       "      <td>jnardino</td>\n",
       "      <td>NaN</td>\n",
       "      <td>0</td>\n",
       "      <td>@VirginAmerica and it's a really big bad thing...</td>\n",
       "      <td>NaN</td>\n",
       "      <td>2015-02-24 11:14:45 -0800</td>\n",
       "      <td>NaN</td>\n",
       "      <td>Pacific Time (US &amp; Canada)</td>\n",
       "    </tr>\n",
       "  </tbody>\n",
       "</table>\n",
       "</div>"
      ],
      "text/plain": [
       "             tweet_id airline_sentiment  airline_sentiment_confidence  \\\n",
       "0  570306133677760513           neutral                        1.0000   \n",
       "1  570301130888122368          positive                        0.3486   \n",
       "2  570301083672813571           neutral                        0.6837   \n",
       "3  570301031407624196          negative                        1.0000   \n",
       "4  570300817074462722          negative                        1.0000   \n",
       "\n",
       "  negativereason  negativereason_confidence         airline  \\\n",
       "0            NaN                        NaN  Virgin America   \n",
       "1            NaN                     0.0000  Virgin America   \n",
       "2            NaN                        NaN  Virgin America   \n",
       "3     Bad Flight                     0.7033  Virgin America   \n",
       "4     Can't Tell                     1.0000  Virgin America   \n",
       "\n",
       "  airline_sentiment_gold        name negativereason_gold  retweet_count  \\\n",
       "0                    NaN     cairdin                 NaN              0   \n",
       "1                    NaN    jnardino                 NaN              0   \n",
       "2                    NaN  yvonnalynn                 NaN              0   \n",
       "3                    NaN    jnardino                 NaN              0   \n",
       "4                    NaN    jnardino                 NaN              0   \n",
       "\n",
       "                                                text tweet_coord  \\\n",
       "0                @VirginAmerica What @dhepburn said.         NaN   \n",
       "1  @VirginAmerica plus you've added commercials t...         NaN   \n",
       "2  @VirginAmerica I didn't today... Must mean I n...         NaN   \n",
       "3  @VirginAmerica it's really aggressive to blast...         NaN   \n",
       "4  @VirginAmerica and it's a really big bad thing...         NaN   \n",
       "\n",
       "               tweet_created tweet_location               user_timezone  \n",
       "0  2015-02-24 11:35:52 -0800            NaN  Eastern Time (US & Canada)  \n",
       "1  2015-02-24 11:15:59 -0800            NaN  Pacific Time (US & Canada)  \n",
       "2  2015-02-24 11:15:48 -0800      Lets Play  Central Time (US & Canada)  \n",
       "3  2015-02-24 11:15:36 -0800            NaN  Pacific Time (US & Canada)  \n",
       "4  2015-02-24 11:14:45 -0800            NaN  Pacific Time (US & Canada)  "
      ]
     },
     "execution_count": 5,
     "metadata": {},
     "output_type": "execute_result"
    }
   ],
   "source": [
    "df.head()"
   ]
  },
  {
   "cell_type": "code",
   "execution_count": 6,
   "id": "7f8bcbc9",
   "metadata": {},
   "outputs": [],
   "source": [
    "# We only care about the text and sentiment labels\n",
    "\n",
    "df = df[['airline_sentiment', 'text']]"
   ]
  },
  {
   "cell_type": "code",
   "execution_count": 7,
   "id": "626c7a06",
   "metadata": {},
   "outputs": [
    {
     "data": {
      "image/png": "[encoded data removed]",
      "text/plain": [
       "<Figure size 640x480 with 1 Axes>"
      ]
     },
     "metadata": {},
     "output_type": "display_data"
    }
   ],
   "source": [
    "df['airline_sentiment'].hist();"
   ]
  },
  {
   "cell_type": "markdown",
   "id": "8454e0ab",
   "metadata": {},
   "source": [
    "**Very imbalanced dataset, with negative comments highly over-represented compared to both neutral and positive comments.**"
   ]
  },
  {
   "cell_type": "code",
   "execution_count": 8,
   "id": "52736a26",
   "metadata": {},
   "outputs": [],
   "source": [
    "# Make copy before adding new column to prevent warning message, and remove neutral tweets\n",
    "\n",
    "df = df[df['airline_sentiment'] != 'neutral'].copy()"
   ]
  },
  {
   "cell_type": "code",
   "execution_count": 9,
   "id": "439d8940",
   "metadata": {},
   "outputs": [],
   "source": [
    "# Map labels to 0 (negative) and 1 (positive)\n",
    "\n",
    "target_map = {'positive': 1, 'negative': 0}\n",
    "\n",
    "df['target'] = df['airline_sentiment'].map(target_map)"
   ]
  },
  {
   "cell_type": "code",
   "execution_count": 10,
   "id": "8ac97716",
   "metadata": {},
   "outputs": [
    {
     "data": {
      "text/html": [
       "<div>\n",
       "<style scoped>\n",
       "    .dataframe tbody tr th:only-of-type {\n",
       "        vertical-align: middle;\n",
       "    }\n",
       "\n",
       "    .dataframe tbody tr th {\n",
       "        vertical-align: top;\n",
       "    }\n",
       "\n",
       "    .dataframe thead th {\n",
       "        text-align: right;\n",
       "    }\n",
       "</style>\n",
       "<table border=\"1\" class=\"dataframe\">\n",
       "  <thead>\n",
       "    <tr style=\"text-align: right;\">\n",
       "      <th></th>\n",
       "      <th>airline_sentiment</th>\n",
       "      <th>text</th>\n",
       "      <th>target</th>\n",
       "    </tr>\n",
       "  </thead>\n",
       "  <tbody>\n",
       "    <tr>\n",
       "      <th>1</th>\n",
       "      <td>positive</td>\n",
       "      <td>@VirginAmerica plus you've added commercials t...</td>\n",
       "      <td>1</td>\n",
       "    </tr>\n",
       "    <tr>\n",
       "      <th>3</th>\n",
       "      <td>negative</td>\n",
       "      <td>@VirginAmerica it's really aggressive to blast...</td>\n",
       "      <td>0</td>\n",
       "    </tr>\n",
       "    <tr>\n",
       "      <th>4</th>\n",
       "      <td>negative</td>\n",
       "      <td>@VirginAmerica and it's a really big bad thing...</td>\n",
       "      <td>0</td>\n",
       "    </tr>\n",
       "    <tr>\n",
       "      <th>5</th>\n",
       "      <td>negative</td>\n",
       "      <td>@VirginAmerica seriously would pay $30 a fligh...</td>\n",
       "      <td>0</td>\n",
       "    </tr>\n",
       "    <tr>\n",
       "      <th>6</th>\n",
       "      <td>positive</td>\n",
       "      <td>@VirginAmerica yes, nearly every time I fly VX...</td>\n",
       "      <td>1</td>\n",
       "    </tr>\n",
       "  </tbody>\n",
       "</table>\n",
       "</div>"
      ],
      "text/plain": [
       "  airline_sentiment                                               text  target\n",
       "1          positive  @VirginAmerica plus you've added commercials t...       1\n",
       "3          negative  @VirginAmerica it's really aggressive to blast...       0\n",
       "4          negative  @VirginAmerica and it's a really big bad thing...       0\n",
       "5          negative  @VirginAmerica seriously would pay $30 a fligh...       0\n",
       "6          positive  @VirginAmerica yes, nearly every time I fly VX...       1"
      ]
     },
     "execution_count": 10,
     "metadata": {},
     "output_type": "execute_result"
    }
   ],
   "source": [
    "df.head()"
   ]
  },
  {
   "cell_type": "code",
   "execution_count": 11,
   "id": "eaabb6fd",
   "metadata": {},
   "outputs": [
    {
     "data": {
      "text/plain": [
       "(11541, 3)"
      ]
     },
     "execution_count": 11,
     "metadata": {},
     "output_type": "execute_result"
    }
   ],
   "source": [
    "# 11,541 tweets\n",
    "\n",
    "df.shape"
   ]
  },
  {
   "cell_type": "code",
   "execution_count": 12,
   "id": "3478fdb7",
   "metadata": {},
   "outputs": [],
   "source": [
    "df_train, df_test = train_test_split(df, random_state=42)"
   ]
  },
  {
   "cell_type": "markdown",
   "id": "b240e86c",
   "metadata": {},
   "source": [
    "## TF-IDF vectorize training and test sets"
   ]
  },
  {
   "cell_type": "code",
   "execution_count": 13,
   "id": "6fc54e02",
   "metadata": {},
   "outputs": [],
   "source": [
    "# TF-IDF vectorize text data (set limit of 2000 features)\n",
    "\n",
    "vectorizer = TfidfVectorizer(max_features=2000)\n",
    "\n",
    "# Training and test features\n",
    "\n",
    "X_train = vectorizer.fit_transform(df_train['text'])\n",
    "\n",
    "X_test = vectorizer.transform(df_test['text'])"
   ]
  },
  {
   "cell_type": "code",
   "execution_count": 14,
   "id": "d9fac758",
   "metadata": {},
   "outputs": [],
   "source": [
    "# Training and test target labels\n",
    "\n",
    "y_train = df_train['target']\n",
    "\n",
    "y_test = df_test['target']"
   ]
  },
  {
   "cell_type": "code",
   "execution_count": 15,
   "id": "a14cf0ba",
   "metadata": {},
   "outputs": [],
   "source": [
    "# Features must not be sparse matrix before passing into TensorFlow\n",
    "\n",
    "X_train = X_train.toarray()\n",
    "\n",
    "X_test = X_test.toarray()"
   ]
  },
  {
   "cell_type": "code",
   "execution_count": 16,
   "id": "b1e09089",
   "metadata": {},
   "outputs": [
    {
     "data": {
      "text/plain": [
       "(8655, 2000)"
      ]
     },
     "execution_count": 16,
     "metadata": {},
     "output_type": "execute_result"
    }
   ],
   "source": [
    "# 8,655 tweets and 2,000 words\n",
    "\n",
    "X_train.shape"
   ]
  },
  {
   "cell_type": "code",
   "execution_count": 17,
   "id": "76ca21a9",
   "metadata": {},
   "outputs": [],
   "source": [
    "# Save input dimensions (no of columns)\n",
    "\n",
    "D = X_train.shape[1]"
   ]
  },
  {
   "cell_type": "code",
   "execution_count": 18,
   "id": "564fcf89",
   "metadata": {},
   "outputs": [
    {
     "data": {
      "text/plain": [
       "2000"
      ]
     },
     "execution_count": 18,
     "metadata": {},
     "output_type": "execute_result"
    }
   ],
   "source": [
    "D"
   ]
  },
  {
   "cell_type": "markdown",
   "id": "9c098880",
   "metadata": {},
   "source": [
    "## Build the model"
   ]
  },
  {
   "cell_type": "code",
   "execution_count": 19,
   "id": "1699093f",
   "metadata": {},
   "outputs": [],
   "source": [
    "# Inner layer (2000 features)\n",
    "i = Input(shape=(D,))\n",
    "\n",
    "# Hidden layer - sigmoid activation is included in compile()\n",
    "x = Dense(1)(i)\n",
    "\n",
    "# Model framework\n",
    "model = Model(i, x)"
   ]
  },
  {
   "cell_type": "code",
   "execution_count": 20,
   "id": "04091247",
   "metadata": {},
   "outputs": [
    {
     "name": "stdout",
     "output_type": "stream",
     "text": [
      "Model: \"model\"\n",
      "_________________________________________________________________\n",
      " Layer (type)                Output Shape              Param #   \n",
      "=================================================================\n",
      " input_1 (InputLayer)        [(None, 2000)]            0         \n",
      "                                                                 \n",
      " dense (Dense)               (None, 1)                 2001      \n",
      "                                                                 \n",
      "=================================================================\n",
      "Total params: 2,001\n",
      "Trainable params: 2,001\n",
      "Non-trainable params: 0\n",
      "_________________________________________________________________\n"
     ]
    }
   ],
   "source": [
    "model.summary()"
   ]
  },
  {
   "cell_type": "markdown",
   "id": "77c27c0b",
   "metadata": {},
   "source": [
    "**2000 'weights' for 2000 words, and one parameter for the bias term - one bias for a single neuron output (0 or 1)**"
   ]
  },
  {
   "cell_type": "code",
   "execution_count": 22,
   "id": "081d9586",
   "metadata": {},
   "outputs": [],
   "source": [
    "model.compile(loss=BinaryCrossentropy(from_logits=True), optimizer=Adam(learning_rate=0.01), metrics=['accuracy'])"
   ]
  },
  {
   "cell_type": "code",
   "execution_count": 23,
   "id": "650d557f",
   "metadata": {},
   "outputs": [
    {
     "name": "stdout",
     "output_type": "stream",
     "text": [
      "Epoch 1/40\n",
      "68/68 [==============================] - 1s 5ms/step - loss: 0.5046 - accuracy: 0.7920 - val_loss: 0.3976 - val_accuracy: 0.8049\n",
      "Epoch 2/40\n",
      "68/68 [==============================] - 0s 2ms/step - loss: 0.3759 - accuracy: 0.7963 - val_loss: 0.3393 - val_accuracy: 0.8205\n",
      "Epoch 3/40\n",
      "68/68 [==============================] - 0s 2ms/step - loss: 0.3223 - accuracy: 0.8186 - val_loss: 0.3027 - val_accuracy: 0.8420\n",
      "Epoch 4/40\n",
      "68/68 [==============================] - 0s 2ms/step - loss: 0.2850 - accuracy: 0.8446 - val_loss: 0.2768 - val_accuracy: 0.8604\n",
      "Epoch 5/40\n",
      "68/68 [==============================] - 0s 2ms/step - loss: 0.2576 - accuracy: 0.8639 - val_loss: 0.2582 - val_accuracy: 0.8777\n",
      "Epoch 6/40\n",
      "68/68 [==============================] - 0s 2ms/step - loss: 0.2367 - accuracy: 0.8809 - val_loss: 0.2444 - val_accuracy: 0.8881\n",
      "Epoch 7/40\n",
      "68/68 [==============================] - 0s 2ms/step - loss: 0.2202 - accuracy: 0.8931 - val_loss: 0.2336 - val_accuracy: 0.9006\n",
      "Epoch 8/40\n",
      "68/68 [==============================] - 0s 2ms/step - loss: 0.2068 - accuracy: 0.9032 - val_loss: 0.2247 - val_accuracy: 0.9040\n",
      "Epoch 9/40\n",
      "68/68 [==============================] - 0s 2ms/step - loss: 0.1956 - accuracy: 0.9095 - val_loss: 0.2180 - val_accuracy: 0.9082\n",
      "Epoch 10/40\n",
      "68/68 [==============================] - 0s 2ms/step - loss: 0.1861 - accuracy: 0.9151 - val_loss: 0.2125 - val_accuracy: 0.9103\n",
      "Epoch 11/40\n",
      "68/68 [==============================] - 0s 2ms/step - loss: 0.1778 - accuracy: 0.9194 - val_loss: 0.2080 - val_accuracy: 0.9134\n",
      "Epoch 12/40\n",
      "68/68 [==============================] - 0s 2ms/step - loss: 0.1706 - accuracy: 0.9240 - val_loss: 0.2043 - val_accuracy: 0.9148\n",
      "Epoch 13/40\n",
      "68/68 [==============================] - 0s 2ms/step - loss: 0.1642 - accuracy: 0.9264 - val_loss: 0.2013 - val_accuracy: 0.9175\n",
      "Epoch 14/40\n",
      "68/68 [==============================] - 0s 2ms/step - loss: 0.1585 - accuracy: 0.9311 - val_loss: 0.1987 - val_accuracy: 0.9186\n",
      "Epoch 15/40\n",
      "68/68 [==============================] - 0s 2ms/step - loss: 0.1534 - accuracy: 0.9336 - val_loss: 0.1965 - val_accuracy: 0.9193\n",
      "Epoch 16/40\n",
      "68/68 [==============================] - 0s 2ms/step - loss: 0.1486 - accuracy: 0.9358 - val_loss: 0.1947 - val_accuracy: 0.9210\n",
      "Epoch 17/40\n",
      "68/68 [==============================] - 0s 2ms/step - loss: 0.1444 - accuracy: 0.9390 - val_loss: 0.1933 - val_accuracy: 0.9220\n",
      "Epoch 18/40\n",
      "68/68 [==============================] - 0s 2ms/step - loss: 0.1405 - accuracy: 0.9417 - val_loss: 0.1920 - val_accuracy: 0.9220\n",
      "Epoch 19/40\n",
      "68/68 [==============================] - 0s 2ms/step - loss: 0.1368 - accuracy: 0.9423 - val_loss: 0.1909 - val_accuracy: 0.9217\n",
      "Epoch 20/40\n",
      "68/68 [==============================] - 0s 2ms/step - loss: 0.1335 - accuracy: 0.9437 - val_loss: 0.1901 - val_accuracy: 0.9213\n",
      "Epoch 21/40\n",
      "68/68 [==============================] - 0s 2ms/step - loss: 0.1303 - accuracy: 0.9447 - val_loss: 0.1893 - val_accuracy: 0.9213\n",
      "Epoch 22/40\n",
      "68/68 [==============================] - 0s 2ms/step - loss: 0.1275 - accuracy: 0.9467 - val_loss: 0.1889 - val_accuracy: 0.9213\n",
      "Epoch 23/40\n",
      "68/68 [==============================] - 0s 2ms/step - loss: 0.1246 - accuracy: 0.9480 - val_loss: 0.1886 - val_accuracy: 0.9234\n",
      "Epoch 24/40\n",
      "68/68 [==============================] - 0s 2ms/step - loss: 0.1221 - accuracy: 0.9507 - val_loss: 0.1884 - val_accuracy: 0.9227\n",
      "Epoch 25/40\n",
      "68/68 [==============================] - 0s 2ms/step - loss: 0.1197 - accuracy: 0.9497 - val_loss: 0.1882 - val_accuracy: 0.9238\n",
      "Epoch 26/40\n",
      "68/68 [==============================] - 0s 2ms/step - loss: 0.1174 - accuracy: 0.9523 - val_loss: 0.1881 - val_accuracy: 0.9238\n",
      "Epoch 27/40\n",
      "68/68 [==============================] - 0s 2ms/step - loss: 0.1152 - accuracy: 0.9540 - val_loss: 0.1883 - val_accuracy: 0.9252\n",
      "Epoch 28/40\n",
      "68/68 [==============================] - 0s 2ms/step - loss: 0.1131 - accuracy: 0.9533 - val_loss: 0.1883 - val_accuracy: 0.9252\n",
      "Epoch 29/40\n",
      "68/68 [==============================] - 0s 2ms/step - loss: 0.1111 - accuracy: 0.9566 - val_loss: 0.1886 - val_accuracy: 0.9255\n",
      "Epoch 30/40\n",
      "68/68 [==============================] - 0s 2ms/step - loss: 0.1093 - accuracy: 0.9552 - val_loss: 0.1887 - val_accuracy: 0.9255\n",
      "Epoch 31/40\n",
      "68/68 [==============================] - 0s 2ms/step - loss: 0.1075 - accuracy: 0.9573 - val_loss: 0.1891 - val_accuracy: 0.9248\n",
      "Epoch 32/40\n",
      "68/68 [==============================] - 0s 2ms/step - loss: 0.1058 - accuracy: 0.9585 - val_loss: 0.1895 - val_accuracy: 0.9248\n",
      "Epoch 33/40\n",
      "68/68 [==============================] - 0s 2ms/step - loss: 0.1041 - accuracy: 0.9593 - val_loss: 0.1898 - val_accuracy: 0.9245\n",
      "Epoch 34/40\n",
      "68/68 [==============================] - 0s 2ms/step - loss: 0.1025 - accuracy: 0.9601 - val_loss: 0.1903 - val_accuracy: 0.9238\n",
      "Epoch 35/40\n",
      "68/68 [==============================] - 0s 2ms/step - loss: 0.1010 - accuracy: 0.9599 - val_loss: 0.1909 - val_accuracy: 0.9241\n",
      "Epoch 36/40\n",
      "68/68 [==============================] - 0s 2ms/step - loss: 0.0996 - accuracy: 0.9619 - val_loss: 0.1914 - val_accuracy: 0.9227\n",
      "Epoch 37/40\n",
      "68/68 [==============================] - 0s 2ms/step - loss: 0.0982 - accuracy: 0.9621 - val_loss: 0.1921 - val_accuracy: 0.9224\n",
      "Epoch 38/40\n",
      "68/68 [==============================] - 0s 2ms/step - loss: 0.0969 - accuracy: 0.9631 - val_loss: 0.1927 - val_accuracy: 0.9231\n",
      "Epoch 39/40\n",
      "68/68 [==============================] - 0s 2ms/step - loss: 0.0956 - accuracy: 0.9634 - val_loss: 0.1931 - val_accuracy: 0.9217\n",
      "Epoch 40/40\n",
      "68/68 [==============================] - 0s 2ms/step - loss: 0.0943 - accuracy: 0.9651 - val_loss: 0.1940 - val_accuracy: 0.9227\n"
     ]
    }
   ],
   "source": [
    "# Reduce epochs & enlarge batch size, and include the test set to validate against\n",
    "\n",
    "r = model.fit(X_train, y_train, validation_data=(X_test, y_test), epochs=40, batch_size=128)"
   ]
  },
  {
   "cell_type": "code",
   "execution_count": 24,
   "id": "c7dda800",
   "metadata": {},
   "outputs": [
    {
     "data": {
      "text/plain": [
       "{'loss': [0.5045670866966248,\n",
       "  0.37594738602638245,\n",
       "  0.32225117087364197,\n",
       "  0.2850383520126343,\n",
       "  0.25758275389671326,\n",
       "  0.23672157526016235,\n",
       "  0.22024497389793396,\n",
       "  0.20679542422294617,\n",
       "  0.19561468064785004,\n",
       "  0.18607792258262634,\n",
       "  0.177777960896492,\n",
       "  0.170583114027977,\n",
       "  0.16419273614883423,\n",
       "  0.15849445760250092,\n",
       "  0.15340042114257812,\n",
       "  0.14859788119792938,\n",
       "  0.14438286423683167,\n",
       "  0.14046570658683777,\n",
       "  0.1368151158094406,\n",
       "  0.13350394368171692,\n",
       "  0.13033466041088104,\n",
       "  0.12748587131500244,\n",
       "  0.124634750187397,\n",
       "  0.12208089232444763,\n",
       "  0.11965155601501465,\n",
       "  0.11741885542869568,\n",
       "  0.11521412432193756,\n",
       "  0.11306016147136688,\n",
       "  0.11110685765743256,\n",
       "  0.10929569602012634,\n",
       "  0.10745558887720108,\n",
       "  0.10581135004758835,\n",
       "  0.10412269085645676,\n",
       "  0.10252176970243454,\n",
       "  0.10103905946016312,\n",
       "  0.09961594641208649,\n",
       "  0.09819996356964111,\n",
       "  0.09686010330915451,\n",
       "  0.09557873010635376,\n",
       "  0.09433446824550629],\n",
       " 'accuracy': [0.7920277118682861,\n",
       "  0.7963027358055115,\n",
       "  0.8186019659042358,\n",
       "  0.8445984721183777,\n",
       "  0.8638936877250671,\n",
       "  0.8808780908584595,\n",
       "  0.8931253552436829,\n",
       "  0.9031773805618286,\n",
       "  0.9095320701599121,\n",
       "  0.9150779843330383,\n",
       "  0.9193529486656189,\n",
       "  0.9239745736122131,\n",
       "  0.926400899887085,\n",
       "  0.9311380982398987,\n",
       "  0.9335644245147705,\n",
       "  0.9357596635818481,\n",
       "  0.938994824886322,\n",
       "  0.941652238368988,\n",
       "  0.9423454403877258,\n",
       "  0.943731963634491,\n",
       "  0.944656252861023,\n",
       "  0.9467359781265259,\n",
       "  0.9480069279670715,\n",
       "  0.9506643414497375,\n",
       "  0.9497400522232056,\n",
       "  0.9522818922996521,\n",
       "  0.9540150165557861,\n",
       "  0.9533217549324036,\n",
       "  0.9565569162368774,\n",
       "  0.9551703929901123,\n",
       "  0.9572501182556152,\n",
       "  0.9585210680961609,\n",
       "  0.9593298435211182,\n",
       "  0.9601386189460754,\n",
       "  0.959907591342926,\n",
       "  0.9618717432022095,\n",
       "  0.9621028304100037,\n",
       "  0.9631426930427551,\n",
       "  0.9633737802505493,\n",
       "  0.9651068449020386],\n",
       " 'val_loss': [0.39755716919898987,\n",
       "  0.33932819962501526,\n",
       "  0.302717000246048,\n",
       "  0.2768493890762329,\n",
       "  0.2581777572631836,\n",
       "  0.24441684782505035,\n",
       "  0.23360413312911987,\n",
       "  0.2247108817100525,\n",
       "  0.21800582110881805,\n",
       "  0.2125416249036789,\n",
       "  0.20795898139476776,\n",
       "  0.20426806807518005,\n",
       "  0.20133067667484283,\n",
       "  0.19866125285625458,\n",
       "  0.19651035964488983,\n",
       "  0.19472070038318634,\n",
       "  0.1933138370513916,\n",
       "  0.1919609159231186,\n",
       "  0.19085629284381866,\n",
       "  0.19010013341903687,\n",
       "  0.18928463757038116,\n",
       "  0.18894781172275543,\n",
       "  0.18856081366539001,\n",
       "  0.1883608102798462,\n",
       "  0.18818333745002747,\n",
       "  0.18812398612499237,\n",
       "  0.18829293549060822,\n",
       "  0.1883067637681961,\n",
       "  0.18855004012584686,\n",
       "  0.18868432939052582,\n",
       "  0.18907864391803741,\n",
       "  0.18952175974845886,\n",
       "  0.18982155621051788,\n",
       "  0.19029849767684937,\n",
       "  0.19085447490215302,\n",
       "  0.19139738380908966,\n",
       "  0.192108616232872,\n",
       "  0.1926676481962204,\n",
       "  0.1931135654449463,\n",
       "  0.1940118819475174],\n",
       " 'val_accuracy': [0.8049203157424927,\n",
       "  0.8205128312110901,\n",
       "  0.8419958353042603,\n",
       "  0.8603603839874268,\n",
       "  0.8776853680610657,\n",
       "  0.888080358505249,\n",
       "  0.9005544185638428,\n",
       "  0.9040194153785706,\n",
       "  0.9081774353981018,\n",
       "  0.9102563858032227,\n",
       "  0.9133749008178711,\n",
       "  0.9147608876228333,\n",
       "  0.9175329208374023,\n",
       "  0.9185724258422852,\n",
       "  0.9192654490470886,\n",
       "  0.9209979176521301,\n",
       "  0.9220374226570129,\n",
       "  0.9220374226570129,\n",
       "  0.9216909408569336,\n",
       "  0.9213443994522095,\n",
       "  0.9213443994522095,\n",
       "  0.9213443994522095,\n",
       "  0.9234234094619751,\n",
       "  0.9227304458618164,\n",
       "  0.9237699508666992,\n",
       "  0.9237699508666992,\n",
       "  0.9251559376716614,\n",
       "  0.9251559376716614,\n",
       "  0.9255024194717407,\n",
       "  0.9255024194717407,\n",
       "  0.9248093962669373,\n",
       "  0.9248093962669373,\n",
       "  0.9244629144668579,\n",
       "  0.9237699508666992,\n",
       "  0.9241164326667786,\n",
       "  0.9227304458618164,\n",
       "  0.9223839044570923,\n",
       "  0.9230769276618958,\n",
       "  0.9216909408569336,\n",
       "  0.9227304458618164]}"
      ]
     },
     "execution_count": 24,
     "metadata": {},
     "output_type": "execute_result"
    }
   ],
   "source": [
    "r.history"
   ]
  },
  {
   "cell_type": "code",
   "execution_count": 25,
   "id": "8d22b9f2",
   "metadata": {},
   "outputs": [
    {
     "data": {
      "image/png": "[encoded data removed]",
      "text/plain": [
       "<Figure size 640x480 with 1 Axes>"
      ]
     },
     "metadata": {},
     "output_type": "display_data"
    }
   ],
   "source": [
    "# Plot training and test losses per epoch\n",
    "\n",
    "plt.plot(r.history['loss'], label='train loss')\n",
    "plt.plot(r.history['val_loss'], label='val loss')\n",
    "plt.legend();"
   ]
  },
  {
   "cell_type": "markdown",
   "id": "62731b9d",
   "metadata": {},
   "source": [
    "**There is a nice decrease in losses but as expected, test loss does not go as low as training loss.**\n",
    "\n",
    "**The training loss keeps decreasing, but the test loss increases slightly at the end. This suggests some 'overfitting', and you could use a callback to save the best model during training (according to validation loss).**"
   ]
  },
  {
   "cell_type": "code",
   "execution_count": 26,
   "id": "ef49ec9a",
   "metadata": {},
   "outputs": [
    {
     "data": {
      "image/png": "[encoded data removed]",
      "text/plain": [
       "<Figure size 640x480 with 1 Axes>"
      ]
     },
     "metadata": {},
     "output_type": "display_data"
    }
   ],
   "source": [
    "# Plot training and test accuracy per epoch\n",
    "\n",
    "plt.plot(r.history['accuracy'], label='train acc')\n",
    "plt.plot(r.history['val_accuracy'], label='val acc')\n",
    "plt.legend();"
   ]
  },
  {
   "cell_type": "markdown",
   "id": "606824f3",
   "metadata": {},
   "source": [
    "**There is a nice steady increase in accuracy, with test accuracy scoring lower than training accuracy, as expected.**\n",
    "\n",
    "**Note again how the test accuracy decreases slightly at the end, confirming the presence of 'overfitting'. Remember that the dataset is imbalanced.**"
   ]
  },
  {
   "cell_type": "markdown",
   "id": "791704dd",
   "metadata": {},
   "source": [
    "## Make predictions and run through metrics\n",
    "\n",
    "Run the test set through the predictive function, in order to test the validation data against other classification metrics, especially those that account for an imbalanced dataset.\n",
    "\n",
    "Note that TensorFlow generates logits, not probabilities, and we need both to use SciKit-Learn metric functions."
   ]
  },
  {
   "cell_type": "code",
   "execution_count": 27,
   "id": "ede36418",
   "metadata": {},
   "outputs": [
    {
     "name": "stdout",
     "output_type": "stream",
     "text": [
      "91/91 [==============================] - 0s 777us/step\n"
     ]
    }
   ],
   "source": [
    "# True or False values (greater than 0), convert to numbers and flatten to one-dimensional array\n",
    "\n",
    "preds = ((model.predict(X_test) > 0) * 1.0).flatten()"
   ]
  },
  {
   "cell_type": "code",
   "execution_count": 28,
   "id": "976a1bdb",
   "metadata": {},
   "outputs": [
    {
     "data": {
      "text/plain": [
       "array([0., 1., 0., ..., 0., 0., 0.])"
      ]
     },
     "execution_count": 28,
     "metadata": {},
     "output_type": "execute_result"
    }
   ],
   "source": [
    "preds"
   ]
  },
  {
   "cell_type": "code",
   "execution_count": 30,
   "id": "bbe7e81f",
   "metadata": {},
   "outputs": [
    {
     "name": "stdout",
     "output_type": "stream",
     "text": [
      "Test F1 score: 0.7924528301886793\n"
     ]
    }
   ],
   "source": [
    "# Approx 79% harmonic blend, which is not bad...\n",
    "\n",
    "print(\"Test F1 score:\", f1_score(y_test, preds))"
   ]
  },
  {
   "cell_type": "code",
   "execution_count": 31,
   "id": "00f47875",
   "metadata": {},
   "outputs": [
    {
     "data": {
      "text/plain": [
       "array([[0.96685321, 0.03314679],\n",
       "       [0.25399645, 0.74600355]])"
      ]
     },
     "execution_count": 31,
     "metadata": {},
     "output_type": "execute_result"
    }
   ],
   "source": [
    "cm = confusion_matrix(y_test, preds, normalize='true')\n",
    "\n",
    "cm"
   ]
  },
  {
   "cell_type": "code",
   "execution_count": 32,
   "id": "f620e478",
   "metadata": {},
   "outputs": [],
   "source": [
    "# Function to plot confusion matrix heatmap\n",
    "\n",
    "def plot_cm(cm):\n",
    "    classes = ['negative', 'positive'] \n",
    "    df_cm = pd.DataFrame(cm, index=classes, columns=classes) \n",
    "    ax = sn.heatmap(df_cm, annot=True, fmt='g') \n",
    "    ax.set_xlabel(\"Predicted\") \n",
    "    ax.set_ylabel(\"Target\")"
   ]
  },
  {
   "cell_type": "code",
   "execution_count": 33,
   "id": "b2983de9",
   "metadata": {},
   "outputs": [
    {
     "data": {
      "image/png": "[encoded data removed]",
      "text/plain": [
       "<Figure size 640x480 with 2 Axes>"
      ]
     },
     "metadata": {},
     "output_type": "display_data"
    }
   ],
   "source": [
    "# Confusion Matrix - a lot less false positives than false negatives (depends what matters)\n",
    "# The best predictions are for the negative class, which makes sense as it is over-represented\n",
    "\n",
    "plot_cm(cm)"
   ]
  },
  {
   "cell_type": "code",
   "execution_count": 34,
   "id": "481c002d",
   "metadata": {},
   "outputs": [
    {
     "name": "stdout",
     "output_type": "stream",
     "text": [
      "91/91 [==============================] - 0s 762us/step\n"
     ]
    },
    {
     "data": {
      "text/plain": [
       "array([[-5.2162743],\n",
       "       [ 7.081123 ],\n",
       "       [-6.0641284],\n",
       "       ...,\n",
       "       [-1.7602507],\n",
       "       [-4.352695 ],\n",
       "       [-3.192782 ]], dtype=float32)"
      ]
     },
     "execution_count": 34,
     "metadata": {},
     "output_type": "execute_result"
    }
   ],
   "source": [
    "# In order to compute AUC score, you need the logits values\n",
    "\n",
    "logits = model.predict(X_test)\n",
    "\n",
    "logits"
   ]
  },
  {
   "cell_type": "code",
   "execution_count": 35,
   "id": "a9604ae8",
   "metadata": {},
   "outputs": [
    {
     "name": "stdout",
     "output_type": "stream",
     "text": [
      "Test AUC score: 0.9547394232820456\n"
     ]
    }
   ],
   "source": [
    "# AUC score of approx 95% is good\n",
    "\n",
    "print(\"Test AUC score:\", roc_auc_score(y_test, logits))"
   ]
  },
  {
   "cell_type": "markdown",
   "id": "4a01f7f6",
   "metadata": {},
   "source": [
    "## Check learned parameters"
   ]
  },
  {
   "cell_type": "code",
   "execution_count": 36,
   "id": "63d0a3c5",
   "metadata": {},
   "outputs": [
    {
     "data": {
      "text/plain": [
       "[<keras.engine.input_layer.InputLayer at 0x1b96d1ce4f0>,\n",
       " <keras.layers.core.dense.Dense at 0x1b96d1ce700>]"
      ]
     },
     "execution_count": 36,
     "metadata": {},
     "output_type": "execute_result"
    }
   ],
   "source": [
    "model.layers"
   ]
  },
  {
   "cell_type": "code",
   "execution_count": 37,
   "id": "4b0e905f",
   "metadata": {},
   "outputs": [
    {
     "data": {
      "text/plain": [
       "[array([[-3.7594306],\n",
       "        [ 3.2930984],\n",
       "        [-1.5727311],\n",
       "        ...,\n",
       "        [ 2.0647573],\n",
       "        [ 1.6236324],\n",
       "        [-2.914441 ]], dtype=float32),\n",
       " array([-0.25063276], dtype=float32)]"
      ]
     },
     "execution_count": 37,
     "metadata": {},
     "output_type": "execute_result"
    }
   ],
   "source": [
    "# Get parameters of dense layer (2 arrays - weights for each feature and the bias term)\n",
    "\n",
    "model.layers[1].get_weights()"
   ]
  },
  {
   "cell_type": "code",
   "execution_count": 38,
   "id": "f946c2d3",
   "metadata": {},
   "outputs": [],
   "source": [
    "# We only want the weights\n",
    "\n",
    "w = model.layers[1].get_weights()[0]"
   ]
  },
  {
   "cell_type": "code",
   "execution_count": 41,
   "id": "be71162f",
   "metadata": {},
   "outputs": [
    {
     "data": {
      "image/png": "[encoded data removed]",
      "text/plain": [
       "<Figure size 640x480 with 1 Axes>"
      ]
     },
     "metadata": {},
     "output_type": "display_data"
    }
   ],
   "source": [
    "# Plot distribution of weight values\n",
    "\n",
    "plt.hist(w, bins=50);"
   ]
  },
  {
   "cell_type": "code",
   "execution_count": 39,
   "id": "8eb8250d",
   "metadata": {},
   "outputs": [
    {
     "data": {
      "text/plain": [
       "653"
      ]
     },
     "execution_count": 39,
     "metadata": {},
     "output_type": "execute_result"
    }
   ],
   "source": [
    "# Access word-to-index mapping\n",
    "\n",
    "word_index_map = vectorizer.vocabulary_\n",
    "\n",
    "word_index_map['expensive']"
   ]
  },
  {
   "cell_type": "code",
   "execution_count": 42,
   "id": "ee17c877",
   "metadata": {},
   "outputs": [
    {
     "name": "stdout",
     "output_type": "stream",
     "text": [
      "Most positive words:\n",
      "\n",
      "thank 9.680252\n",
      "thanks 9.383908\n",
      "worries 8.346183\n",
      "great 7.914956\n",
      "awesome 7.3620844\n",
      "love 7.266407\n",
      "excellent 7.134867\n",
      "kudos 6.657526\n",
      "amazing 6.476131\n",
      "best 6.1335196\n"
     ]
    }
   ],
   "source": [
    "# Look at the weights for most positive words - try with different threshold values\n",
    "\n",
    "threshold = 2\n",
    "\n",
    "print(\"Most positive words:\\n\")\n",
    "\n",
    "word_weight_tuples = []\n",
    "\n",
    "for word, index in word_index_map.items():\n",
    "    weight = w[index, 0] \n",
    "    if weight > threshold:\n",
    "        word_weight_tuples.append((word, weight))\n",
    "\n",
    "word_weight_tuples = sorted(word_weight_tuples, key=lambda x: -x[1])\n",
    "\n",
    "for i in range(10):\n",
    "    word, weight = word_weight_tuples[i] \n",
    "    print(word, weight)"
   ]
  },
  {
   "cell_type": "code",
   "execution_count": 43,
   "id": "5b206088",
   "metadata": {},
   "outputs": [
    {
     "name": "stdout",
     "output_type": "stream",
     "text": [
      "Most negative words:\n",
      "\n",
      "worst -9.297472\n",
      "paid -7.772392\n",
      "rude -7.6396394\n",
      "not -7.6199193\n",
      "disappointed -7.2339687\n",
      "nothing -6.807879\n",
      "website -6.7556148\n",
      "hung -6.6280556\n",
      "instead -6.627508\n",
      "list -6.229083\n"
     ]
    }
   ],
   "source": [
    "# Look at the weights for most negative words\n",
    "\n",
    "print(\"Most negative words:\\n\")\n",
    "\n",
    "word_weight_tuples = []\n",
    "\n",
    "for word, index in word_index_map.items():\n",
    "    weight = w[index, 0] \n",
    "    if weight < -threshold:\n",
    "        word_weight_tuples.append((word, weight))\n",
    "\n",
    "word_weight_tuples = sorted(word_weight_tuples, key=lambda x: x[1])\n",
    "\n",
    "for i in range(10):\n",
    "    word, weight = word_weight_tuples[i] \n",
    "    print(word, weight)"
   ]
  },
  {
   "cell_type": "markdown",
   "id": "b2cd0e47",
   "metadata": {},
   "source": [
    "**EXERCISE: Apply the deep learning classification model to spam detection in emails.**"
   ]
  },
  {
   "cell_type": "code",
   "execution_count": null,
   "id": "2e4290f7",
   "metadata": {},
   "outputs": [],
   "source": []
  }
 ],
 "metadata": {
  "kernelspec": {
   "display_name": "Python 3 (ipykernel)",
   "language": "python",
   "name": "python3"
  },
  "language_info": {
   "codemirror_mode": {
    "name": "ipython",
    "version": 3
   },
   "file_extension": ".py",
   "mimetype": "text/x-python",
   "name": "python",
   "nbconvert_exporter": "python",
   "pygments_lexer": "ipython3",
   "version": "3.9.16"
  }
 },
 "nbformat": 4,
 "nbformat_minor": 5
}
