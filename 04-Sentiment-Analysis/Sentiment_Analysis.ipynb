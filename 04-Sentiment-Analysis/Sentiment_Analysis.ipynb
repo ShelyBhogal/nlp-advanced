{
 "cells": [
  {
   "cell_type": "markdown",
   "id": "a97d4c10",
   "metadata": {},
   "source": [
    "# Sentiment Analysis\n",
    "\n",
    "The dataset for this exercise can be found in the data folder (downloaded from https://www.kaggle.com/datasets/crowdflower/twitter-airline-sentiment)\n",
    "\n",
    "Sentiment Analysis is a supervised machine-learning technique, to use the postive, neutral and negative responses from customers as analysis for general feeling towards an airline company."
   ]
  },
  {
   "cell_type": "code",
   "execution_count": 1,
   "id": "64f893fc",
   "metadata": {},
   "outputs": [],
   "source": [
    "import numpy as np\n",
    "import pandas as pd\n",
    "import seaborn as sn\n",
    "import matplotlib.pyplot as plt\n",
    "\n",
    "np.random.seed(1)\n",
    "\n",
    "from sklearn.feature_extraction.text import CountVectorizer, TfidfVectorizer\n",
    "from sklearn.linear_model import LogisticRegression\n",
    "from sklearn.metrics import roc_auc_score, f1_score, confusion_matrix\n",
    "from sklearn.model_selection import train_test_split\n",
    "\n",
    "%matplotlib inline"
   ]
  },
  {
   "cell_type": "code",
   "execution_count": 2,
   "id": "cfc59f16",
   "metadata": {},
   "outputs": [],
   "source": [
    "airline = pd.read_csv('data/AirlineTweets.csv')"
   ]
  },
  {
   "cell_type": "code",
   "execution_count": 3,
   "id": "d974bbe1",
   "metadata": {},
   "outputs": [
    {
     "data": {
      "text/html": [
       "<div>\n",
       "<style scoped>\n",
       "    .dataframe tbody tr th:only-of-type {\n",
       "        vertical-align: middle;\n",
       "    }\n",
       "\n",
       "    .dataframe tbody tr th {\n",
       "        vertical-align: top;\n",
       "    }\n",
       "\n",
       "    .dataframe thead th {\n",
       "        text-align: right;\n",
       "    }\n",
       "</style>\n",
       "<table border=\"1\" class=\"dataframe\">\n",
       "  <thead>\n",
       "    <tr style=\"text-align: right;\">\n",
       "      <th></th>\n",
       "      <th>tweet_id</th>\n",
       "      <th>airline_sentiment</th>\n",
       "      <th>airline_sentiment_confidence</th>\n",
       "      <th>negativereason</th>\n",
       "      <th>negativereason_confidence</th>\n",
       "      <th>airline</th>\n",
       "      <th>airline_sentiment_gold</th>\n",
       "      <th>name</th>\n",
       "      <th>negativereason_gold</th>\n",
       "      <th>retweet_count</th>\n",
       "      <th>text</th>\n",
       "      <th>tweet_coord</th>\n",
       "      <th>tweet_created</th>\n",
       "      <th>tweet_location</th>\n",
       "      <th>user_timezone</th>\n",
       "    </tr>\n",
       "  </thead>\n",
       "  <tbody>\n",
       "    <tr>\n",
       "      <th>0</th>\n",
       "      <td>570306133677760513</td>\n",
       "      <td>neutral</td>\n",
       "      <td>1.0000</td>\n",
       "      <td>NaN</td>\n",
       "      <td>NaN</td>\n",
       "      <td>Virgin America</td>\n",
       "      <td>NaN</td>\n",
       "      <td>cairdin</td>\n",
       "      <td>NaN</td>\n",
       "      <td>0</td>\n",
       "      <td>@VirginAmerica What @dhepburn said.</td>\n",
       "      <td>NaN</td>\n",
       "      <td>2015-02-24 11:35:52 -0800</td>\n",
       "      <td>NaN</td>\n",
       "      <td>Eastern Time (US &amp; Canada)</td>\n",
       "    </tr>\n",
       "    <tr>\n",
       "      <th>1</th>\n",
       "      <td>570301130888122368</td>\n",
       "      <td>positive</td>\n",
       "      <td>0.3486</td>\n",
       "      <td>NaN</td>\n",
       "      <td>0.0000</td>\n",
       "      <td>Virgin America</td>\n",
       "      <td>NaN</td>\n",
       "      <td>jnardino</td>\n",
       "      <td>NaN</td>\n",
       "      <td>0</td>\n",
       "      <td>@VirginAmerica plus you've added commercials t...</td>\n",
       "      <td>NaN</td>\n",
       "      <td>2015-02-24 11:15:59 -0800</td>\n",
       "      <td>NaN</td>\n",
       "      <td>Pacific Time (US &amp; Canada)</td>\n",
       "    </tr>\n",
       "    <tr>\n",
       "      <th>2</th>\n",
       "      <td>570301083672813571</td>\n",
       "      <td>neutral</td>\n",
       "      <td>0.6837</td>\n",
       "      <td>NaN</td>\n",
       "      <td>NaN</td>\n",
       "      <td>Virgin America</td>\n",
       "      <td>NaN</td>\n",
       "      <td>yvonnalynn</td>\n",
       "      <td>NaN</td>\n",
       "      <td>0</td>\n",
       "      <td>@VirginAmerica I didn't today... Must mean I n...</td>\n",
       "      <td>NaN</td>\n",
       "      <td>2015-02-24 11:15:48 -0800</td>\n",
       "      <td>Lets Play</td>\n",
       "      <td>Central Time (US &amp; Canada)</td>\n",
       "    </tr>\n",
       "    <tr>\n",
       "      <th>3</th>\n",
       "      <td>570301031407624196</td>\n",
       "      <td>negative</td>\n",
       "      <td>1.0000</td>\n",
       "      <td>Bad Flight</td>\n",
       "      <td>0.7033</td>\n",
       "      <td>Virgin America</td>\n",
       "      <td>NaN</td>\n",
       "      <td>jnardino</td>\n",
       "      <td>NaN</td>\n",
       "      <td>0</td>\n",
       "      <td>@VirginAmerica it's really aggressive to blast...</td>\n",
       "      <td>NaN</td>\n",
       "      <td>2015-02-24 11:15:36 -0800</td>\n",
       "      <td>NaN</td>\n",
       "      <td>Pacific Time (US &amp; Canada)</td>\n",
       "    </tr>\n",
       "    <tr>\n",
       "      <th>4</th>\n",
       "      <td>570300817074462722</td>\n",
       "      <td>negative</td>\n",
       "      <td>1.0000</td>\n",
       "      <td>Can't Tell</td>\n",
       "      <td>1.0000</td>\n",
       "      <td>Virgin America</td>\n",
       "      <td>NaN</td>\n",
       "      <td>jnardino</td>\n",
       "      <td>NaN</td>\n",
       "      <td>0</td>\n",
       "      <td>@VirginAmerica and it's a really big bad thing...</td>\n",
       "      <td>NaN</td>\n",
       "      <td>2015-02-24 11:14:45 -0800</td>\n",
       "      <td>NaN</td>\n",
       "      <td>Pacific Time (US &amp; Canada)</td>\n",
       "    </tr>\n",
       "  </tbody>\n",
       "</table>\n",
       "</div>"
      ],
      "text/plain": [
       "             tweet_id airline_sentiment  airline_sentiment_confidence  \\\n",
       "0  570306133677760513           neutral                        1.0000   \n",
       "1  570301130888122368          positive                        0.3486   \n",
       "2  570301083672813571           neutral                        0.6837   \n",
       "3  570301031407624196          negative                        1.0000   \n",
       "4  570300817074462722          negative                        1.0000   \n",
       "\n",
       "  negativereason  negativereason_confidence         airline  \\\n",
       "0            NaN                        NaN  Virgin America   \n",
       "1            NaN                     0.0000  Virgin America   \n",
       "2            NaN                        NaN  Virgin America   \n",
       "3     Bad Flight                     0.7033  Virgin America   \n",
       "4     Can't Tell                     1.0000  Virgin America   \n",
       "\n",
       "  airline_sentiment_gold        name negativereason_gold  retweet_count  \\\n",
       "0                    NaN     cairdin                 NaN              0   \n",
       "1                    NaN    jnardino                 NaN              0   \n",
       "2                    NaN  yvonnalynn                 NaN              0   \n",
       "3                    NaN    jnardino                 NaN              0   \n",
       "4                    NaN    jnardino                 NaN              0   \n",
       "\n",
       "                                                text tweet_coord  \\\n",
       "0                @VirginAmerica What @dhepburn said.         NaN   \n",
       "1  @VirginAmerica plus you've added commercials t...         NaN   \n",
       "2  @VirginAmerica I didn't today... Must mean I n...         NaN   \n",
       "3  @VirginAmerica it's really aggressive to blast...         NaN   \n",
       "4  @VirginAmerica and it's a really big bad thing...         NaN   \n",
       "\n",
       "               tweet_created tweet_location               user_timezone  \n",
       "0  2015-02-24 11:35:52 -0800            NaN  Eastern Time (US & Canada)  \n",
       "1  2015-02-24 11:15:59 -0800            NaN  Pacific Time (US & Canada)  \n",
       "2  2015-02-24 11:15:48 -0800      Lets Play  Central Time (US & Canada)  \n",
       "3  2015-02-24 11:15:36 -0800            NaN  Pacific Time (US & Canada)  \n",
       "4  2015-02-24 11:14:45 -0800            NaN  Pacific Time (US & Canada)  "
      ]
     },
     "execution_count": 3,
     "metadata": {},
     "output_type": "execute_result"
    }
   ],
   "source": [
    "airline.head()"
   ]
  },
  {
   "cell_type": "code",
   "execution_count": 4,
   "id": "75a196da",
   "metadata": {},
   "outputs": [],
   "source": [
    "# The only columns that matter are 'airline_sentiment' and 'text'\n",
    "df = airline[['airline_sentiment', 'text']]"
   ]
  },
  {
   "cell_type": "code",
   "execution_count": 5,
   "id": "f6965fee",
   "metadata": {},
   "outputs": [
    {
     "data": {
      "text/html": [
       "<div>\n",
       "<style scoped>\n",
       "    .dataframe tbody tr th:only-of-type {\n",
       "        vertical-align: middle;\n",
       "    }\n",
       "\n",
       "    .dataframe tbody tr th {\n",
       "        vertical-align: top;\n",
       "    }\n",
       "\n",
       "    .dataframe thead th {\n",
       "        text-align: right;\n",
       "    }\n",
       "</style>\n",
       "<table border=\"1\" class=\"dataframe\">\n",
       "  <thead>\n",
       "    <tr style=\"text-align: right;\">\n",
       "      <th></th>\n",
       "      <th>airline_sentiment</th>\n",
       "      <th>text</th>\n",
       "    </tr>\n",
       "  </thead>\n",
       "  <tbody>\n",
       "    <tr>\n",
       "      <th>0</th>\n",
       "      <td>neutral</td>\n",
       "      <td>@VirginAmerica What @dhepburn said.</td>\n",
       "    </tr>\n",
       "    <tr>\n",
       "      <th>1</th>\n",
       "      <td>positive</td>\n",
       "      <td>@VirginAmerica plus you've added commercials t...</td>\n",
       "    </tr>\n",
       "    <tr>\n",
       "      <th>2</th>\n",
       "      <td>neutral</td>\n",
       "      <td>@VirginAmerica I didn't today... Must mean I n...</td>\n",
       "    </tr>\n",
       "    <tr>\n",
       "      <th>3</th>\n",
       "      <td>negative</td>\n",
       "      <td>@VirginAmerica it's really aggressive to blast...</td>\n",
       "    </tr>\n",
       "    <tr>\n",
       "      <th>4</th>\n",
       "      <td>negative</td>\n",
       "      <td>@VirginAmerica and it's a really big bad thing...</td>\n",
       "    </tr>\n",
       "  </tbody>\n",
       "</table>\n",
       "</div>"
      ],
      "text/plain": [
       "  airline_sentiment                                               text\n",
       "0           neutral                @VirginAmerica What @dhepburn said.\n",
       "1          positive  @VirginAmerica plus you've added commercials t...\n",
       "2           neutral  @VirginAmerica I didn't today... Must mean I n...\n",
       "3          negative  @VirginAmerica it's really aggressive to blast...\n",
       "4          negative  @VirginAmerica and it's a really big bad thing..."
      ]
     },
     "execution_count": 5,
     "metadata": {},
     "output_type": "execute_result"
    }
   ],
   "source": [
    "df.head()"
   ]
  },
  {
   "cell_type": "code",
   "execution_count": 6,
   "id": "d5fab400",
   "metadata": {},
   "outputs": [
    {
     "data": {
      "text/plain": [
       "(14640, 2)"
      ]
     },
     "execution_count": 6,
     "metadata": {},
     "output_type": "execute_result"
    }
   ],
   "source": [
    "# 14,640 rows\n",
    "\n",
    "df.shape"
   ]
  },
  {
   "cell_type": "code",
   "execution_count": 7,
   "id": "14e8ee04",
   "metadata": {},
   "outputs": [
    {
     "data": {
      "text/plain": [
       "\"@VirginAmerica plus you've added commercials to the experience... tacky.\""
      ]
     },
     "execution_count": 7,
     "metadata": {},
     "output_type": "execute_result"
    }
   ],
   "source": [
    "# Positive statement!\n",
    "\n",
    "df['text'].iloc[1]"
   ]
  },
  {
   "cell_type": "code",
   "execution_count": 8,
   "id": "b4d7fc99",
   "metadata": {},
   "outputs": [
    {
     "data": {
      "text/plain": [
       "'@VirginAmerica What @dhepburn said.'"
      ]
     },
     "execution_count": 8,
     "metadata": {},
     "output_type": "execute_result"
    }
   ],
   "source": [
    "# Neutral statement\n",
    "\n",
    "df['text'].iloc[0]"
   ]
  },
  {
   "cell_type": "code",
   "execution_count": 9,
   "id": "e676c177",
   "metadata": {},
   "outputs": [
    {
     "data": {
      "text/plain": [
       "\"@VirginAmerica and it's a really big bad thing about it\""
      ]
     },
     "execution_count": 9,
     "metadata": {},
     "output_type": "execute_result"
    }
   ],
   "source": [
    "# Negative statement\n",
    "\n",
    "df['text'].iloc[4]"
   ]
  },
  {
   "cell_type": "code",
   "execution_count": 10,
   "id": "e78bc3a6",
   "metadata": {},
   "outputs": [
    {
     "data": {
      "image/png": "[encoded data removed]",
      "text/plain": [
       "<Figure size 640x480 with 1 Axes>"
      ]
     },
     "metadata": {},
     "output_type": "display_data"
    }
   ],
   "source": [
    "df['airline_sentiment'].hist();"
   ]
  },
  {
   "cell_type": "markdown",
   "id": "0bfe9b49",
   "metadata": {},
   "source": [
    "The classes in the dataset are imbalanced - in particular the negative comments are greatly over-represented.\n",
    "\n",
    "It is recommended to use **F1-score**, **AUC score** and the **confusion matrix** when assessing model performance."
   ]
  },
  {
   "cell_type": "code",
   "execution_count": 11,
   "id": "97e438e0",
   "metadata": {},
   "outputs": [
    {
     "name": "stderr",
     "output_type": "stream",
     "text": [
      "C:\\Users\\shmel\\Anaconda3\\lib\\site-packages\\ipykernel_launcher.py:3: SettingWithCopyWarning: \n",
      "A value is trying to be set on a copy of a slice from a DataFrame.\n",
      "Try using .loc[row_indexer,col_indexer] = value instead\n",
      "\n",
      "See the caveats in the documentation: https://pandas.pydata.org/pandas-docs/stable/user_guide/indexing.html#returning-a-view-versus-a-copy\n",
      "  This is separate from the ipykernel package so we can avoid doing imports until\n"
     ]
    }
   ],
   "source": [
    "target_map = {'positive': 1, 'negative': 0, 'neutral': 2}\n",
    "\n",
    "df['target'] = df.loc[:, 'airline_sentiment'].map(target_map)"
   ]
  },
  {
   "cell_type": "code",
   "execution_count": 12,
   "id": "f1498fb2",
   "metadata": {},
   "outputs": [
    {
     "data": {
      "text/html": [
       "<div>\n",
       "<style scoped>\n",
       "    .dataframe tbody tr th:only-of-type {\n",
       "        vertical-align: middle;\n",
       "    }\n",
       "\n",
       "    .dataframe tbody tr th {\n",
       "        vertical-align: top;\n",
       "    }\n",
       "\n",
       "    .dataframe thead th {\n",
       "        text-align: right;\n",
       "    }\n",
       "</style>\n",
       "<table border=\"1\" class=\"dataframe\">\n",
       "  <thead>\n",
       "    <tr style=\"text-align: right;\">\n",
       "      <th></th>\n",
       "      <th>airline_sentiment</th>\n",
       "      <th>text</th>\n",
       "      <th>target</th>\n",
       "    </tr>\n",
       "  </thead>\n",
       "  <tbody>\n",
       "    <tr>\n",
       "      <th>0</th>\n",
       "      <td>neutral</td>\n",
       "      <td>@VirginAmerica What @dhepburn said.</td>\n",
       "      <td>2</td>\n",
       "    </tr>\n",
       "    <tr>\n",
       "      <th>1</th>\n",
       "      <td>positive</td>\n",
       "      <td>@VirginAmerica plus you've added commercials t...</td>\n",
       "      <td>1</td>\n",
       "    </tr>\n",
       "    <tr>\n",
       "      <th>2</th>\n",
       "      <td>neutral</td>\n",
       "      <td>@VirginAmerica I didn't today... Must mean I n...</td>\n",
       "      <td>2</td>\n",
       "    </tr>\n",
       "    <tr>\n",
       "      <th>3</th>\n",
       "      <td>negative</td>\n",
       "      <td>@VirginAmerica it's really aggressive to blast...</td>\n",
       "      <td>0</td>\n",
       "    </tr>\n",
       "    <tr>\n",
       "      <th>4</th>\n",
       "      <td>negative</td>\n",
       "      <td>@VirginAmerica and it's a really big bad thing...</td>\n",
       "      <td>0</td>\n",
       "    </tr>\n",
       "  </tbody>\n",
       "</table>\n",
       "</div>"
      ],
      "text/plain": [
       "  airline_sentiment                                               text  target\n",
       "0           neutral                @VirginAmerica What @dhepburn said.       2\n",
       "1          positive  @VirginAmerica plus you've added commercials t...       1\n",
       "2           neutral  @VirginAmerica I didn't today... Must mean I n...       2\n",
       "3          negative  @VirginAmerica it's really aggressive to blast...       0\n",
       "4          negative  @VirginAmerica and it's a really big bad thing...       0"
      ]
     },
     "execution_count": 12,
     "metadata": {},
     "output_type": "execute_result"
    }
   ],
   "source": [
    "df.head()"
   ]
  },
  {
   "cell_type": "markdown",
   "id": "f125738d",
   "metadata": {},
   "source": [
    "## Run text through Logistic Regression model\n",
    "\n",
    "Text must be train-test-split and vectorized before running through the Logistic Regression model, and in this exercise, you are going to use the TF-IDF vectorizer from SciKit-Learn, `TfidfVectorizer()`."
   ]
  },
  {
   "cell_type": "code",
   "execution_count": 13,
   "id": "14b56761",
   "metadata": {},
   "outputs": [],
   "source": [
    "df_train, df_test = train_test_split(df)"
   ]
  },
  {
   "cell_type": "code",
   "execution_count": 14,
   "id": "eead41da",
   "metadata": {},
   "outputs": [
    {
     "data": {
      "text/plain": [
       "10980"
      ]
     },
     "execution_count": 14,
     "metadata": {},
     "output_type": "execute_result"
    }
   ],
   "source": [
    "len(df_train)"
   ]
  },
  {
   "cell_type": "code",
   "execution_count": 15,
   "id": "c612b163",
   "metadata": {},
   "outputs": [
    {
     "data": {
      "text/plain": [
       "3660"
      ]
     },
     "execution_count": 15,
     "metadata": {},
     "output_type": "execute_result"
    }
   ],
   "source": [
    "len(df_test)"
   ]
  },
  {
   "cell_type": "code",
   "execution_count": 16,
   "id": "2db293fa",
   "metadata": {},
   "outputs": [],
   "source": [
    "vectorizer = TfidfVectorizer(max_features=2000)"
   ]
  },
  {
   "cell_type": "code",
   "execution_count": 17,
   "id": "cd417f93",
   "metadata": {},
   "outputs": [],
   "source": [
    "X_train = vectorizer.fit_transform(df_train['text'])\n",
    "\n",
    "X_test = vectorizer.transform(df_test['text'])"
   ]
  },
  {
   "cell_type": "code",
   "execution_count": 18,
   "id": "fd40a6c7",
   "metadata": {},
   "outputs": [],
   "source": [
    "y_train = df_train['target']\n",
    "\n",
    "y_test = df_test['target']"
   ]
  },
  {
   "cell_type": "code",
   "execution_count": 19,
   "id": "a579e352",
   "metadata": {},
   "outputs": [
    {
     "name": "stdout",
     "output_type": "stream",
     "text": [
      "Train accuracy: 0.8548269581056467\n",
      "Test accuracy: 0.7991803278688525\n"
     ]
    }
   ],
   "source": [
    "model = LogisticRegression(max_iter=500)\n",
    "\n",
    "model.fit(X_train, y_train)\n",
    "\n",
    "print(\"Train accuracy:\", model.score(X_train, y_train))\n",
    "print(\"Test accuracy:\", model.score(X_test, y_test))"
   ]
  },
  {
   "cell_type": "code",
   "execution_count": 20,
   "id": "1adeb691",
   "metadata": {},
   "outputs": [],
   "source": [
    "# Model accuracy on training set is higher, as expected\n",
    "# Model accuracy on test set is approx. 80%, which is not bad considering class imbalance"
   ]
  },
  {
   "cell_type": "code",
   "execution_count": 21,
   "id": "18fe84a7",
   "metadata": {},
   "outputs": [],
   "source": [
    "# Use predicted labels and predicted probabilities to test with other metrics\n",
    "\n",
    "y_pred = model.predict(X_test)\n",
    "\n",
    "y_pred_prob = model.predict_proba(X_test)"
   ]
  },
  {
   "cell_type": "code",
   "execution_count": 22,
   "id": "83aa112e",
   "metadata": {},
   "outputs": [
    {
     "data": {
      "text/plain": [
       "array([[0.16239875, 0.64575804, 0.19184321],\n",
       "       [0.76451504, 0.01404941, 0.22143555],\n",
       "       [0.17768924, 0.6056237 , 0.21668706],\n",
       "       ...,\n",
       "       [0.88912989, 0.03865064, 0.07221947],\n",
       "       [0.8926502 , 0.02655642, 0.08079338],\n",
       "       [0.24040636, 0.18196728, 0.57762637]])"
      ]
     },
     "execution_count": 22,
     "metadata": {},
     "output_type": "execute_result"
    }
   ],
   "source": [
    "# The predicted probabilities for each class (0 negative, 1 positive, 2 neutral)\n",
    "\n",
    "y_pred_prob"
   ]
  },
  {
   "cell_type": "code",
   "execution_count": 23,
   "id": "b1e43f8a",
   "metadata": {},
   "outputs": [
    {
     "name": "stdout",
     "output_type": "stream",
     "text": [
      "Test AUC score: 0.8954014788450794\n"
     ]
    }
   ],
   "source": [
    "# ROC-AUC score (quite good - approx 90% correct predictions)\n",
    "\n",
    "print(\"Test AUC score:\", roc_auc_score(y_test, y_pred_prob, multi_class='ovo'))"
   ]
  },
  {
   "cell_type": "code",
   "execution_count": 24,
   "id": "dc1f8fa4",
   "metadata": {},
   "outputs": [],
   "source": [
    "def plot_cm(cm):\n",
    "    classes = ['negative', 'positive', 'neutral'] \n",
    "    df_cm = pd.DataFrame(cm, index=classes, columns=classes) \n",
    "    ax = sn.heatmap(df_cm, annot=True, fmt='g') \n",
    "    ax.set_xlabel(\"Predicted\") \n",
    "    ax.set_ylabel(\"Target\")"
   ]
  },
  {
   "cell_type": "code",
   "execution_count": 25,
   "id": "83a8c1a5",
   "metadata": {},
   "outputs": [],
   "source": [
    "cm = confusion_matrix(y_test, y_pred, normalize='true')"
   ]
  },
  {
   "cell_type": "code",
   "execution_count": 26,
   "id": "382a6ddf",
   "metadata": {},
   "outputs": [
    {
     "data": {
      "text/plain": [
       "array([[0.93059799, 0.01658664, 0.05281536],\n",
       "       [0.24537815, 0.63865546, 0.11596639],\n",
       "       [0.40826873, 0.05813953, 0.53359173]])"
      ]
     },
     "execution_count": 26,
     "metadata": {},
     "output_type": "execute_result"
    }
   ],
   "source": [
    "cm"
   ]
  },
  {
   "cell_type": "code",
   "execution_count": 27,
   "id": "9ccf6815",
   "metadata": {},
   "outputs": [
    {
     "data": {
      "image/png": "[encoded data removed]",
      "text/plain": [
       "<Figure size 640x480 with 2 Axes>"
      ]
     },
     "metadata": {},
     "output_type": "display_data"
    }
   ],
   "source": [
    "plot_cm(cm)"
   ]
  },
  {
   "cell_type": "code",
   "execution_count": 28,
   "id": "e45e450f",
   "metadata": {},
   "outputs": [],
   "source": [
    "# The model performs very well for negative class - 0.93 for true positives so large bias towards this class\n",
    "# The predictions for positive class are OK with 0.64 for true positives\n",
    "# The predictions for neutral class are approx 50-50 chance for true positives, i.e. random chance"
   ]
  },
  {
   "cell_type": "markdown",
   "id": "92ce57c9",
   "metadata": {},
   "source": [
    "## Binary labels and model interpretation\n",
    "\n",
    "What if you forced the number of classes from 3 to 2, i.e. negative and positive outcomes only. Since the model appears to randomly predict neutral classes, you could remove all neutral comments from the dataset (the dataset will still be imbalanced). \n",
    "\n",
    "You should keep all data belonging to classes 0 and 1 from the original data, and re-fit the vectorizer before creating a new model. "
   ]
  },
  {
   "cell_type": "code",
   "execution_count": 29,
   "id": "d289c615",
   "metadata": {},
   "outputs": [
    {
     "data": {
      "text/html": [
       "<div>\n",
       "<style scoped>\n",
       "    .dataframe tbody tr th:only-of-type {\n",
       "        vertical-align: middle;\n",
       "    }\n",
       "\n",
       "    .dataframe tbody tr th {\n",
       "        vertical-align: top;\n",
       "    }\n",
       "\n",
       "    .dataframe thead th {\n",
       "        text-align: right;\n",
       "    }\n",
       "</style>\n",
       "<table border=\"1\" class=\"dataframe\">\n",
       "  <thead>\n",
       "    <tr style=\"text-align: right;\">\n",
       "      <th></th>\n",
       "      <th>airline_sentiment</th>\n",
       "      <th>text</th>\n",
       "      <th>target</th>\n",
       "    </tr>\n",
       "  </thead>\n",
       "  <tbody>\n",
       "    <tr>\n",
       "      <th>1041</th>\n",
       "      <td>negative</td>\n",
       "      <td>@united Change made in just over 3 hours. For ...</td>\n",
       "      <td>0</td>\n",
       "    </tr>\n",
       "    <tr>\n",
       "      <th>1989</th>\n",
       "      <td>negative</td>\n",
       "      <td>@united The engineer that designed the 787 doo...</td>\n",
       "      <td>0</td>\n",
       "    </tr>\n",
       "    <tr>\n",
       "      <th>14309</th>\n",
       "      <td>negative</td>\n",
       "      <td>@AmericanAir 11 out of 11 delayed flights, you...</td>\n",
       "      <td>0</td>\n",
       "    </tr>\n",
       "    <tr>\n",
       "      <th>1711</th>\n",
       "      <td>negative</td>\n",
       "      <td>@united ouch not fair</td>\n",
       "      <td>0</td>\n",
       "    </tr>\n",
       "    <tr>\n",
       "      <th>11542</th>\n",
       "      <td>negative</td>\n",
       "      <td>@USAirways stuck in cae need reFlight Booking ...</td>\n",
       "      <td>0</td>\n",
       "    </tr>\n",
       "  </tbody>\n",
       "</table>\n",
       "</div>"
      ],
      "text/plain": [
       "      airline_sentiment                                               text  \\\n",
       "1041           negative  @united Change made in just over 3 hours. For ...   \n",
       "1989           negative  @united The engineer that designed the 787 doo...   \n",
       "14309          negative  @AmericanAir 11 out of 11 delayed flights, you...   \n",
       "1711           negative                              @united ouch not fair   \n",
       "11542          negative  @USAirways stuck in cae need reFlight Booking ...   \n",
       "\n",
       "       target  \n",
       "1041        0  \n",
       "1989        0  \n",
       "14309       0  \n",
       "1711        0  \n",
       "11542       0  "
      ]
     },
     "execution_count": 29,
     "metadata": {},
     "output_type": "execute_result"
    }
   ],
   "source": [
    "df_train.head()"
   ]
  },
  {
   "cell_type": "code",
   "execution_count": 30,
   "id": "522ef65c",
   "metadata": {},
   "outputs": [],
   "source": [
    "X_train_bin = df_train[df_train['target'].isin([0, 1])]\n",
    "\n",
    "X_test_bin = df_test[df_test['target'].isin([0, 1])]"
   ]
  },
  {
   "cell_type": "code",
   "execution_count": 31,
   "id": "7710d28c",
   "metadata": {},
   "outputs": [
    {
     "data": {
      "text/html": [
       "<div>\n",
       "<style scoped>\n",
       "    .dataframe tbody tr th:only-of-type {\n",
       "        vertical-align: middle;\n",
       "    }\n",
       "\n",
       "    .dataframe tbody tr th {\n",
       "        vertical-align: top;\n",
       "    }\n",
       "\n",
       "    .dataframe thead th {\n",
       "        text-align: right;\n",
       "    }\n",
       "</style>\n",
       "<table border=\"1\" class=\"dataframe\">\n",
       "  <thead>\n",
       "    <tr style=\"text-align: right;\">\n",
       "      <th></th>\n",
       "      <th>airline_sentiment</th>\n",
       "      <th>text</th>\n",
       "      <th>target</th>\n",
       "    </tr>\n",
       "  </thead>\n",
       "  <tbody>\n",
       "    <tr>\n",
       "      <th>3970</th>\n",
       "      <td>negative</td>\n",
       "      <td>@united again, you said to go take the time to...</td>\n",
       "      <td>0</td>\n",
       "    </tr>\n",
       "    <tr>\n",
       "      <th>2816</th>\n",
       "      <td>negative</td>\n",
       "      <td>@united why? So I can waste more of time on th...</td>\n",
       "      <td>0</td>\n",
       "    </tr>\n",
       "    <tr>\n",
       "      <th>6266</th>\n",
       "      <td>positive</td>\n",
       "      <td>@SouthwestAir thank you!!!</td>\n",
       "      <td>1</td>\n",
       "    </tr>\n",
       "    <tr>\n",
       "      <th>12349</th>\n",
       "      <td>negative</td>\n",
       "      <td>@AmericanAir when the pilot announces that the...</td>\n",
       "      <td>0</td>\n",
       "    </tr>\n",
       "    <tr>\n",
       "      <th>4678</th>\n",
       "      <td>negative</td>\n",
       "      <td>@SouthwestAir Sorry to bother you, but I've be...</td>\n",
       "      <td>0</td>\n",
       "    </tr>\n",
       "    <tr>\n",
       "      <th>13141</th>\n",
       "      <td>negative</td>\n",
       "      <td>@AmericanAir served the nastiest food Ive ever...</td>\n",
       "      <td>0</td>\n",
       "    </tr>\n",
       "    <tr>\n",
       "      <th>14149</th>\n",
       "      <td>negative</td>\n",
       "      <td>@AmericanAir big surprise flight 2330 is delay...</td>\n",
       "      <td>0</td>\n",
       "    </tr>\n",
       "    <tr>\n",
       "      <th>957</th>\n",
       "      <td>negative</td>\n",
       "      <td>@united i need it there before she lands so sh...</td>\n",
       "      <td>0</td>\n",
       "    </tr>\n",
       "    <tr>\n",
       "      <th>11310</th>\n",
       "      <td>negative</td>\n",
       "      <td>@USAirways I have been doing that all day. Can...</td>\n",
       "      <td>0</td>\n",
       "    </tr>\n",
       "    <tr>\n",
       "      <th>11879</th>\n",
       "      <td>negative</td>\n",
       "      <td>@AmericanAir why would I even consider continu...</td>\n",
       "      <td>0</td>\n",
       "    </tr>\n",
       "  </tbody>\n",
       "</table>\n",
       "</div>"
      ],
      "text/plain": [
       "      airline_sentiment                                               text  \\\n",
       "3970           negative  @united again, you said to go take the time to...   \n",
       "2816           negative  @united why? So I can waste more of time on th...   \n",
       "6266           positive                         @SouthwestAir thank you!!!   \n",
       "12349          negative  @AmericanAir when the pilot announces that the...   \n",
       "4678           negative  @SouthwestAir Sorry to bother you, but I've be...   \n",
       "13141          negative  @AmericanAir served the nastiest food Ive ever...   \n",
       "14149          negative  @AmericanAir big surprise flight 2330 is delay...   \n",
       "957            negative  @united i need it there before she lands so sh...   \n",
       "11310          negative  @USAirways I have been doing that all day. Can...   \n",
       "11879          negative  @AmericanAir why would I even consider continu...   \n",
       "\n",
       "       target  \n",
       "3970        0  \n",
       "2816        0  \n",
       "6266        1  \n",
       "12349       0  \n",
       "4678        0  \n",
       "13141       0  \n",
       "14149       0  \n",
       "957         0  \n",
       "11310       0  \n",
       "11879       0  "
      ]
     },
     "execution_count": 31,
     "metadata": {},
     "output_type": "execute_result"
    }
   ],
   "source": [
    "X_train_bin.sample(10)"
   ]
  },
  {
   "cell_type": "code",
   "execution_count": 32,
   "id": "0368202a",
   "metadata": {},
   "outputs": [],
   "source": [
    "# Re-fit the vectorizer (many words may have been removed with neutral comments)\n",
    "\n",
    "X_train = vectorizer.fit_transform(X_train_bin['text'])\n",
    "\n",
    "X_test = vectorizer.transform(X_test_bin['text'])"
   ]
  },
  {
   "cell_type": "code",
   "execution_count": 33,
   "id": "411faf85",
   "metadata": {},
   "outputs": [],
   "source": [
    "y_train = X_train_bin['target']\n",
    "\n",
    "y_test = X_test_bin['target']"
   ]
  },
  {
   "cell_type": "code",
   "execution_count": 34,
   "id": "5d195a3e",
   "metadata": {},
   "outputs": [
    {
     "name": "stdout",
     "output_type": "stream",
     "text": [
      "Training accuracy: 0.9300982091276718\n",
      "Test accuracy: 0.9147609147609148\n"
     ]
    }
   ],
   "source": [
    "logreg = LogisticRegression(max_iter=500)\n",
    "\n",
    "logreg.fit(X_train, y_train)\n",
    "\n",
    "print(\"Training accuracy:\", logreg.score(X_train, y_train))\n",
    "print(\"Test accuracy:\", logreg.score(X_test, y_test))"
   ]
  },
  {
   "cell_type": "markdown",
   "id": "6aaad1bb",
   "metadata": {},
   "source": [
    "Already there a huge improvement in accuracy of the output. As expected, the training score is higher, but we have approx. 91% accuracy in the test set."
   ]
  },
  {
   "cell_type": "code",
   "execution_count": 35,
   "id": "fdd9bb2d",
   "metadata": {},
   "outputs": [
    {
     "name": "stdout",
     "output_type": "stream",
     "text": [
      "Test AUC: 0.9533010061292087\n"
     ]
    }
   ],
   "source": [
    "# For binary classification AUC score, you only need the probability for 1 (positive) outcome\n",
    "\n",
    "predict_prob = logreg.predict_proba(X_test)[:, 1]\n",
    "\n",
    "print(\"Test AUC:\", roc_auc_score(y_test, predict_prob))"
   ]
  },
  {
   "cell_type": "code",
   "execution_count": 36,
   "id": "028c5755",
   "metadata": {},
   "outputs": [],
   "source": [
    "# Much better model performance - 95% of predictions are correctly made"
   ]
  },
  {
   "cell_type": "code",
   "execution_count": 37,
   "id": "f66b0e74",
   "metadata": {},
   "outputs": [],
   "source": [
    "predict_labels = logreg.predict(X_test)"
   ]
  },
  {
   "cell_type": "code",
   "execution_count": 38,
   "id": "371a4c76",
   "metadata": {},
   "outputs": [],
   "source": [
    "cm_bin = confusion_matrix(y_test, predict_labels)"
   ]
  },
  {
   "cell_type": "code",
   "execution_count": 39,
   "id": "b325a0dc",
   "metadata": {},
   "outputs": [
    {
     "data": {
      "image/png": "[encoded data removed]",
      "text/plain": [
       "<Figure size 640x480 with 2 Axes>"
      ]
     },
     "metadata": {},
     "output_type": "display_data"
    }
   ],
   "source": [
    "def plot_cm_bin(cm):\n",
    "    classes = ['negative', 'positive'] \n",
    "    df_cm = pd.DataFrame(cm, index=classes, columns=classes) \n",
    "    ax = sn.heatmap(df_cm, annot=True, fmt='g') \n",
    "    ax.set_xlabel(\"Predicted\") \n",
    "    ax.set_ylabel(\"Target\")\n",
    "\n",
    "plot_cm_bin(cm_bin)"
   ]
  },
  {
   "cell_type": "markdown",
   "id": "6fc66262",
   "metadata": {},
   "source": [
    "246 misclassified labels, which are mostly positive comments incorrectly classified as negative. In the case where the airline wants to know about negative comments, this is not a problem. If the airline is looking for positive outcomes, this could be detrimental.\n",
    "\n",
    "### Interpreting model 'weights'"
   ]
  },
  {
   "cell_type": "code",
   "execution_count": 40,
   "id": "86ea7a25",
   "metadata": {},
   "outputs": [
    {
     "data": {
      "text/plain": [
       "array([[-0.25739278, -0.13377981, -0.34118084, ...,  0.49951607,\n",
       "         0.00725632, -0.61652739]])"
      ]
     },
     "execution_count": 40,
     "metadata": {},
     "output_type": "execute_result"
    }
   ],
   "source": [
    "# Obtain the model 'weights' - coefficients for each feature or word\n",
    "\n",
    "logreg.coef_"
   ]
  },
  {
   "cell_type": "code",
   "execution_count": 41,
   "id": "114d17f7",
   "metadata": {},
   "outputs": [
    {
     "data": {
      "image/png": "[encoded data removed]",
      "text/plain": [
       "<Figure size 640x480 with 1 Axes>"
      ]
     },
     "metadata": {},
     "output_type": "display_data"
    }
   ],
   "source": [
    "# Plot coefficient values - note that coefficients are in nested list ([0])\n",
    "\n",
    "plt.hist(logreg.coef_[0], bins=30);"
   ]
  },
  {
   "cell_type": "code",
   "execution_count": 42,
   "id": "15e89e32",
   "metadata": {},
   "outputs": [],
   "source": [
    "# Most 'weights' centered around zero\n",
    "# Some outliers around -4, 3, 4 and 8...these most impact the target output, negatively or positively"
   ]
  },
  {
   "cell_type": "code",
   "execution_count": 43,
   "id": "2e91819c",
   "metadata": {},
   "outputs": [],
   "source": [
    "# Obtain the vocabulary dictionary from vectorizer\n",
    "\n",
    "word_map = vectorizer.vocabulary_"
   ]
  },
  {
   "cell_type": "code",
   "execution_count": 44,
   "id": "fef44ecb",
   "metadata": {},
   "outputs": [
    {
     "data": {
      "text/plain": [
       "dict"
      ]
     },
     "execution_count": 44,
     "metadata": {},
     "output_type": "execute_result"
    }
   ],
   "source": [
    "type(word_map)"
   ]
  },
  {
   "cell_type": "code",
   "execution_count": 51,
   "id": "5b027766",
   "metadata": {},
   "outputs": [
    {
     "data": {
      "text/plain": [
       "808"
      ]
     },
     "execution_count": 51,
     "metadata": {},
     "output_type": "execute_result"
    }
   ],
   "source": [
    "# Where 'word' is the key and index number is the value\n",
    "\n",
    "word_map['good']"
   ]
  },
  {
   "cell_type": "code",
   "execution_count": 52,
   "id": "e7511b28",
   "metadata": {},
   "outputs": [
    {
     "name": "stdout",
     "output_type": "stream",
     "text": [
      "Most positive words (above coefficient of 2):\n",
      "\n",
      "southwestair 2.860075665253293\n",
      "thank 8.070503978172589\n",
      "great 5.20873389706136\n",
      "best 3.636864282503425\n",
      "virginamerica 3.2284047966366294\n",
      "thx 2.8083250880436763\n",
      "jetblue 3.021616302194394\n",
      "good 3.261536914324663\n",
      "thanks 8.15794549579575\n",
      "love 4.405152711198492\n",
      "appreciate 2.9299264512386207\n",
      "awesome 4.054714104309307\n",
      "cool 2.0881519342983204\n",
      "kudos 2.6141836316289337\n",
      "amazing 4.19464795567824\n",
      "worries 2.711651303849786\n",
      "wonderful 2.120412437543374\n"
     ]
    }
   ],
   "source": [
    "# Look at the 'weights' for words above and below a coefficient value of 2\n",
    "\n",
    "threshold = 2\n",
    "\n",
    "print(\"Most positive words (above coefficient of 2):\\n\")\n",
    "\n",
    "for word, index in word_map.items():\n",
    "    weight = logreg.coef_[0][index] \n",
    "    \n",
    "    if weight > threshold:\n",
    "        print(word, weight)"
   ]
  },
  {
   "cell_type": "code",
   "execution_count": null,
   "id": "0c55cfe9",
   "metadata": {},
   "outputs": [],
   "source": [
    "# Words like 'great', 'wonderful', 'awesome' etc. mean positive comments on the airline"
   ]
  },
  {
   "cell_type": "code",
   "execution_count": 53,
   "id": "098bfa1c",
   "metadata": {},
   "outputs": [
    {
     "name": "stdout",
     "output_type": "stream",
     "text": [
      "Most negative words (below coefficient of -2):\n",
      "\n",
      "hours -3.180120172868922\n",
      "not -4.237871165068018\n",
      "delayed -2.704527096069908\n",
      "hour -2.0696846300381058\n",
      "but -2.2210484579850025\n",
      "cancelled -2.677062192785016\n",
      "nothing -2.0768244800471\n",
      "what -2.0143761861748595\n",
      "no -3.9708361705076376\n",
      "worst -3.190035509719835\n",
      "hold -2.7902315406903693\n",
      "why -2.2269879894607354\n",
      "luggage -2.1625444978103463\n"
     ]
    }
   ],
   "source": [
    "print(\"Most negative words (below coefficient of -2):\\n\")\n",
    "\n",
    "for word, index in word_map.items():\n",
    "    weight = logreg.coef_[0][index] \n",
    "    \n",
    "    if weight < -threshold:\n",
    "        print(word, weight)"
   ]
  },
  {
   "cell_type": "code",
   "execution_count": null,
   "id": "3cc82446",
   "metadata": {},
   "outputs": [],
   "source": [
    "# Words like 'delayed', 'cancelled', 'worst' etc. mean negative comments on the airline"
   ]
  },
  {
   "cell_type": "markdown",
   "id": "fd70fe4d",
   "metadata": {},
   "source": [
    "### EXERCISE: Print the most-wrong reviews for both classes\n",
    "\n",
    "\n",
    "* Find the negative review where the output probability `p(y = 1 | x)` is closest to 1. This means, out of all the negative comments that were incorrectly predicted as positive, this review is the one the model the model got most wrong.\n",
    "\n",
    "* Find a positive review where the output probability `p(y = 1 | x)` is closest to 0. This means, out of all the positive comments that were incorrectly predicted, this is the one the model got most wrong.\n",
    "\n",
    "**Print the probability values also.**"
   ]
  },
  {
   "cell_type": "code",
   "execution_count": 56,
   "id": "a4857e11",
   "metadata": {},
   "outputs": [
    {
     "data": {
      "text/html": [
       "<div>\n",
       "<style scoped>\n",
       "    .dataframe tbody tr th:only-of-type {\n",
       "        vertical-align: middle;\n",
       "    }\n",
       "\n",
       "    .dataframe tbody tr th {\n",
       "        vertical-align: top;\n",
       "    }\n",
       "\n",
       "    .dataframe thead th {\n",
       "        text-align: right;\n",
       "    }\n",
       "</style>\n",
       "<table border=\"1\" class=\"dataframe\">\n",
       "  <thead>\n",
       "    <tr style=\"text-align: right;\">\n",
       "      <th></th>\n",
       "      <th>airline_sentiment</th>\n",
       "      <th>text</th>\n",
       "      <th>target</th>\n",
       "    </tr>\n",
       "  </thead>\n",
       "  <tbody>\n",
       "    <tr>\n",
       "      <th>8515</th>\n",
       "      <td>positive</td>\n",
       "      <td>@JetBlue I'll pass along the advice. You guys ...</td>\n",
       "      <td>1</td>\n",
       "    </tr>\n",
       "    <tr>\n",
       "      <th>3439</th>\n",
       "      <td>negative</td>\n",
       "      <td>@united I sent you a dm with my file reference...</td>\n",
       "      <td>0</td>\n",
       "    </tr>\n",
       "    <tr>\n",
       "      <th>6439</th>\n",
       "      <td>positive</td>\n",
       "      <td>@SouthwestAir Black History Commercial is real...</td>\n",
       "      <td>1</td>\n",
       "    </tr>\n",
       "    <tr>\n",
       "      <th>5112</th>\n",
       "      <td>negative</td>\n",
       "      <td>@SouthwestAir why am I still in Baltimore?! @d...</td>\n",
       "      <td>0</td>\n",
       "    </tr>\n",
       "    <tr>\n",
       "      <th>5645</th>\n",
       "      <td>positive</td>\n",
       "      <td>@SouthwestAir SEA to DEN. South Sound Volleyba...</td>\n",
       "      <td>1</td>\n",
       "    </tr>\n",
       "  </tbody>\n",
       "</table>\n",
       "</div>"
      ],
      "text/plain": [
       "     airline_sentiment                                               text  \\\n",
       "8515          positive  @JetBlue I'll pass along the advice. You guys ...   \n",
       "3439          negative  @united I sent you a dm with my file reference...   \n",
       "6439          positive  @SouthwestAir Black History Commercial is real...   \n",
       "5112          negative  @SouthwestAir why am I still in Baltimore?! @d...   \n",
       "5645          positive  @SouthwestAir SEA to DEN. South Sound Volleyba...   \n",
       "\n",
       "      target  \n",
       "8515       1  \n",
       "3439       0  \n",
       "6439       1  \n",
       "5112       0  \n",
       "5645       1  "
      ]
     },
     "execution_count": 56,
     "metadata": {},
     "output_type": "execute_result"
    }
   ],
   "source": [
    "# Contains actual target values - add predicted labels and probabilities\n",
    "X_test_bin.head()"
   ]
  },
  {
   "cell_type": "code",
   "execution_count": null,
   "id": "f432af79",
   "metadata": {},
   "outputs": [],
   "source": [
    "test_data = X_test_bin.copy()"
   ]
  },
  {
   "cell_type": "code",
   "execution_count": 57,
   "id": "31b32a03",
   "metadata": {},
   "outputs": [
    {
     "name": "stderr",
     "output_type": "stream",
     "text": [
      "C:\\Users\\shmel\\Anaconda3\\lib\\site-packages\\ipykernel_launcher.py:2: SettingWithCopyWarning: \n",
      "A value is trying to be set on a copy of a slice from a DataFrame.\n",
      "Try using .loc[row_indexer,col_indexer] = value instead\n",
      "\n",
      "See the caveats in the documentation: https://pandas.pydata.org/pandas-docs/stable/user_guide/indexing.html#returning-a-view-versus-a-copy\n",
      "  \n"
     ]
    }
   ],
   "source": [
    "# Contains predicted target values\n",
    "test_data.loc[:, 'predictions'] = logreg.predict(X_test)"
   ]
  },
  {
   "cell_type": "code",
   "execution_count": 60,
   "id": "5c616d49",
   "metadata": {},
   "outputs": [
    {
     "name": "stderr",
     "output_type": "stream",
     "text": [
      "C:\\Users\\shmel\\Anaconda3\\lib\\site-packages\\ipykernel_launcher.py:2: SettingWithCopyWarning: \n",
      "A value is trying to be set on a copy of a slice from a DataFrame.\n",
      "Try using .loc[row_indexer,col_indexer] = value instead\n",
      "\n",
      "See the caveats in the documentation: https://pandas.pydata.org/pandas-docs/stable/user_guide/indexing.html#returning-a-view-versus-a-copy\n",
      "  \n"
     ]
    }
   ],
   "source": [
    "# Contains predicted probabilities (positive probability outcomes)\n",
    "test_data.loc[:, 'probability_preds'] = logreg.predict_proba(X_test)[:, 1]"
   ]
  },
  {
   "cell_type": "code",
   "execution_count": 61,
   "id": "3aba9e0a",
   "metadata": {},
   "outputs": [
    {
     "data": {
      "text/html": [
       "<div>\n",
       "<style scoped>\n",
       "    .dataframe tbody tr th:only-of-type {\n",
       "        vertical-align: middle;\n",
       "    }\n",
       "\n",
       "    .dataframe tbody tr th {\n",
       "        vertical-align: top;\n",
       "    }\n",
       "\n",
       "    .dataframe thead th {\n",
       "        text-align: right;\n",
       "    }\n",
       "</style>\n",
       "<table border=\"1\" class=\"dataframe\">\n",
       "  <thead>\n",
       "    <tr style=\"text-align: right;\">\n",
       "      <th></th>\n",
       "      <th>airline_sentiment</th>\n",
       "      <th>text</th>\n",
       "      <th>target</th>\n",
       "      <th>predictions</th>\n",
       "      <th>probability_preds</th>\n",
       "    </tr>\n",
       "  </thead>\n",
       "  <tbody>\n",
       "    <tr>\n",
       "      <th>8515</th>\n",
       "      <td>positive</td>\n",
       "      <td>@JetBlue I'll pass along the advice. You guys ...</td>\n",
       "      <td>1</td>\n",
       "      <td>1</td>\n",
       "      <td>0.678167</td>\n",
       "    </tr>\n",
       "    <tr>\n",
       "      <th>3439</th>\n",
       "      <td>negative</td>\n",
       "      <td>@united I sent you a dm with my file reference...</td>\n",
       "      <td>0</td>\n",
       "      <td>0</td>\n",
       "      <td>0.027243</td>\n",
       "    </tr>\n",
       "    <tr>\n",
       "      <th>6439</th>\n",
       "      <td>positive</td>\n",
       "      <td>@SouthwestAir Black History Commercial is real...</td>\n",
       "      <td>1</td>\n",
       "      <td>1</td>\n",
       "      <td>0.656320</td>\n",
       "    </tr>\n",
       "    <tr>\n",
       "      <th>5112</th>\n",
       "      <td>negative</td>\n",
       "      <td>@SouthwestAir why am I still in Baltimore?! @d...</td>\n",
       "      <td>0</td>\n",
       "      <td>0</td>\n",
       "      <td>0.039823</td>\n",
       "    </tr>\n",
       "    <tr>\n",
       "      <th>5645</th>\n",
       "      <td>positive</td>\n",
       "      <td>@SouthwestAir SEA to DEN. South Sound Volleyba...</td>\n",
       "      <td>1</td>\n",
       "      <td>1</td>\n",
       "      <td>0.576132</td>\n",
       "    </tr>\n",
       "  </tbody>\n",
       "</table>\n",
       "</div>"
      ],
      "text/plain": [
       "     airline_sentiment                                               text  \\\n",
       "8515          positive  @JetBlue I'll pass along the advice. You guys ...   \n",
       "3439          negative  @united I sent you a dm with my file reference...   \n",
       "6439          positive  @SouthwestAir Black History Commercial is real...   \n",
       "5112          negative  @SouthwestAir why am I still in Baltimore?! @d...   \n",
       "5645          positive  @SouthwestAir SEA to DEN. South Sound Volleyba...   \n",
       "\n",
       "      target  predictions  probability_preds  \n",
       "8515       1            1           0.678167  \n",
       "3439       0            0           0.027243  \n",
       "6439       1            1           0.656320  \n",
       "5112       0            0           0.039823  \n",
       "5645       1            1           0.576132  "
      ]
     },
     "execution_count": 61,
     "metadata": {},
     "output_type": "execute_result"
    }
   ],
   "source": [
    "test_data.head()"
   ]
  },
  {
   "cell_type": "markdown",
   "id": "eb8f1aaf",
   "metadata": {},
   "source": [
    "#### Most incorrectly predicted negative comment on airline\n",
    "\n",
    "The model obviously has a hard time understanding sarcasm."
   ]
  },
  {
   "cell_type": "code",
   "execution_count": 64,
   "id": "b743ac10",
   "metadata": {},
   "outputs": [],
   "source": [
    "# 1) All negative comments that are incorrectly predicted as positive\n",
    "\n",
    "incorrect_negs = test_data[(test_data['predictions'] == 1) & (test_data['target'] == 0)]"
   ]
  },
  {
   "cell_type": "code",
   "execution_count": 67,
   "id": "4248991a",
   "metadata": {},
   "outputs": [
    {
     "data": {
      "text/html": [
       "<div>\n",
       "<style scoped>\n",
       "    .dataframe tbody tr th:only-of-type {\n",
       "        vertical-align: middle;\n",
       "    }\n",
       "\n",
       "    .dataframe tbody tr th {\n",
       "        vertical-align: top;\n",
       "    }\n",
       "\n",
       "    .dataframe thead th {\n",
       "        text-align: right;\n",
       "    }\n",
       "</style>\n",
       "<table border=\"1\" class=\"dataframe\">\n",
       "  <thead>\n",
       "    <tr style=\"text-align: right;\">\n",
       "      <th></th>\n",
       "      <th>airline_sentiment</th>\n",
       "      <th>text</th>\n",
       "      <th>target</th>\n",
       "      <th>predictions</th>\n",
       "      <th>probability_preds</th>\n",
       "    </tr>\n",
       "  </thead>\n",
       "  <tbody>\n",
       "    <tr>\n",
       "      <th>4569</th>\n",
       "      <td>negative</td>\n",
       "      <td>@SouthwestAir oh, ok!  all good!  looking forw...</td>\n",
       "      <td>0</td>\n",
       "      <td>1</td>\n",
       "      <td>0.966299</td>\n",
       "    </tr>\n",
       "    <tr>\n",
       "      <th>7540</th>\n",
       "      <td>negative</td>\n",
       "      <td>@JetBlue Thanks for the THIRD gate change http...</td>\n",
       "      <td>0</td>\n",
       "      <td>1</td>\n",
       "      <td>0.892955</td>\n",
       "    </tr>\n",
       "    <tr>\n",
       "      <th>875</th>\n",
       "      <td>negative</td>\n",
       "      <td>@united Dmed you. Thank you</td>\n",
       "      <td>0</td>\n",
       "      <td>1</td>\n",
       "      <td>0.870627</td>\n",
       "    </tr>\n",
       "    <tr>\n",
       "      <th>7634</th>\n",
       "      <td>negative</td>\n",
       "      <td>@JetBlue I travel for business twice a week an...</td>\n",
       "      <td>0</td>\n",
       "      <td>1</td>\n",
       "      <td>0.712823</td>\n",
       "    </tr>\n",
       "    <tr>\n",
       "      <th>12493</th>\n",
       "      <td>negative</td>\n",
       "      <td>@AmericanAir thanks for the canned reply.</td>\n",
       "      <td>0</td>\n",
       "      <td>1</td>\n",
       "      <td>0.703868</td>\n",
       "    </tr>\n",
       "  </tbody>\n",
       "</table>\n",
       "</div>"
      ],
      "text/plain": [
       "      airline_sentiment                                               text  \\\n",
       "4569           negative  @SouthwestAir oh, ok!  all good!  looking forw...   \n",
       "7540           negative  @JetBlue Thanks for the THIRD gate change http...   \n",
       "875            negative                        @united Dmed you. Thank you   \n",
       "7634           negative  @JetBlue I travel for business twice a week an...   \n",
       "12493          negative          @AmericanAir thanks for the canned reply.   \n",
       "\n",
       "       target  predictions  probability_preds  \n",
       "4569        0            1           0.966299  \n",
       "7540        0            1           0.892955  \n",
       "875         0            1           0.870627  \n",
       "7634        0            1           0.712823  \n",
       "12493       0            1           0.703868  "
      ]
     },
     "execution_count": 67,
     "metadata": {},
     "output_type": "execute_result"
    }
   ],
   "source": [
    "# 2) Sort by predicted probabilities in descending order\n",
    "incorrect_negs.sort_values(by='probability_preds', ascending=False).head()"
   ]
  },
  {
   "cell_type": "code",
   "execution_count": 76,
   "id": "76719ddf",
   "metadata": {},
   "outputs": [
    {
     "data": {
      "text/plain": [
       "'@SouthwestAir oh, ok!  all good!  looking forward to escaping the cold for a bit!  thanks!'"
      ]
     },
     "execution_count": 76,
     "metadata": {},
     "output_type": "execute_result"
    }
   ],
   "source": [
    "# This negative comment was most incorrectly predicted (0.97 probability of being positive)\n",
    "\n",
    "incorrect_negs.loc[4569, 'text']"
   ]
  },
  {
   "cell_type": "markdown",
   "id": "4faccae4",
   "metadata": {},
   "source": [
    "#### Most incorrectly predicted positive comment on airline"
   ]
  },
  {
   "cell_type": "code",
   "execution_count": 69,
   "id": "085e1896",
   "metadata": {},
   "outputs": [],
   "source": [
    "# 1) All positive comments that are incorrectly predicted as negative\n",
    "\n",
    "incorrect_posits = test_data[(test_data['predictions'] == 0) & (test_data['target'] == 1)]"
   ]
  },
  {
   "cell_type": "code",
   "execution_count": 72,
   "id": "1a48b1ee",
   "metadata": {},
   "outputs": [
    {
     "data": {
      "text/html": [
       "<div>\n",
       "<style scoped>\n",
       "    .dataframe tbody tr th:only-of-type {\n",
       "        vertical-align: middle;\n",
       "    }\n",
       "\n",
       "    .dataframe tbody tr th {\n",
       "        vertical-align: top;\n",
       "    }\n",
       "\n",
       "    .dataframe thead th {\n",
       "        text-align: right;\n",
       "    }\n",
       "</style>\n",
       "<table border=\"1\" class=\"dataframe\">\n",
       "  <thead>\n",
       "    <tr style=\"text-align: right;\">\n",
       "      <th></th>\n",
       "      <th>airline_sentiment</th>\n",
       "      <th>text</th>\n",
       "      <th>target</th>\n",
       "      <th>predictions</th>\n",
       "      <th>probability_preds</th>\n",
       "    </tr>\n",
       "  </thead>\n",
       "  <tbody>\n",
       "    <tr>\n",
       "      <th>6917</th>\n",
       "      <td>positive</td>\n",
       "      <td>@JetBlue Not trying to make you look bad, on y...</td>\n",
       "      <td>1</td>\n",
       "      <td>0</td>\n",
       "      <td>0.020824</td>\n",
       "    </tr>\n",
       "    <tr>\n",
       "      <th>12625</th>\n",
       "      <td>positive</td>\n",
       "      <td>@AmericanAir No apology necessary. It was wind...</td>\n",
       "      <td>1</td>\n",
       "      <td>0</td>\n",
       "      <td>0.033795</td>\n",
       "    </tr>\n",
       "    <tr>\n",
       "      <th>1613</th>\n",
       "      <td>positive</td>\n",
       "      <td>@united can Cancelled Flight my flight anytime...</td>\n",
       "      <td>1</td>\n",
       "      <td>0</td>\n",
       "      <td>0.041129</td>\n",
       "    </tr>\n",
       "    <tr>\n",
       "      <th>10664</th>\n",
       "      <td>positive</td>\n",
       "      <td>@USAirways but don't worry! They found a hotel...</td>\n",
       "      <td>1</td>\n",
       "      <td>0</td>\n",
       "      <td>0.045347</td>\n",
       "    </tr>\n",
       "    <tr>\n",
       "      <th>8393</th>\n",
       "      <td>positive</td>\n",
       "      <td>@JetBlue no, but we're on the flight leaving f...</td>\n",
       "      <td>1</td>\n",
       "      <td>0</td>\n",
       "      <td>0.045901</td>\n",
       "    </tr>\n",
       "  </tbody>\n",
       "</table>\n",
       "</div>"
      ],
      "text/plain": [
       "      airline_sentiment                                               text  \\\n",
       "6917           positive  @JetBlue Not trying to make you look bad, on y...   \n",
       "12625          positive  @AmericanAir No apology necessary. It was wind...   \n",
       "1613           positive  @united can Cancelled Flight my flight anytime...   \n",
       "10664          positive  @USAirways but don't worry! They found a hotel...   \n",
       "8393           positive  @JetBlue no, but we're on the flight leaving f...   \n",
       "\n",
       "       target  predictions  probability_preds  \n",
       "6917        1            0           0.020824  \n",
       "12625       1            0           0.033795  \n",
       "1613        1            0           0.041129  \n",
       "10664       1            0           0.045347  \n",
       "8393        1            0           0.045901  "
      ]
     },
     "execution_count": 72,
     "metadata": {},
     "output_type": "execute_result"
    }
   ],
   "source": [
    "# 2) Sort by predicted probabilities\n",
    "\n",
    "incorrect_posits.sort_values(by='probability_preds').head()"
   ]
  },
  {
   "cell_type": "code",
   "execution_count": 73,
   "id": "9b34ee6d",
   "metadata": {},
   "outputs": [
    {
     "data": {
      "text/plain": [
       "'@JetBlue Not trying to make you look bad, on your website it says: \"Due to weather in the Charleston, NC\" Its actually in SC, not NC'"
      ]
     },
     "execution_count": 73,
     "metadata": {},
     "output_type": "execute_result"
    }
   ],
   "source": [
    "# This positive comment was most incorrectly predicted (0.02 probability of being positive)\n",
    "\n",
    "incorrect_posits.loc[6917, 'text']"
   ]
  },
  {
   "cell_type": "markdown",
   "id": "515c1107",
   "metadata": {},
   "source": [
    "## Adding 'weight' to model loss function\n",
    "\n",
    "When the classes are imbalanced as is the case in this dataset, you can help the model by setting its parameter `class_weight='balanced'` to 'weight' the loss function:\n",
    "\n",
    "`model = LogisticRegression(class_weight='balanced', max_iter=500)`\n",
    "\n",
    "The 'balanced' mode uses the actual target values to automatically adjust the model 'weights' as inversely proportional to the class frequencies in the input data.\n",
    "\n",
    "**Re-build your Logistic Regression for the binary data using this hyperparameter.**"
   ]
  },
  {
   "cell_type": "code",
   "execution_count": 77,
   "id": "6b344743",
   "metadata": {},
   "outputs": [
    {
     "name": "stdout",
     "output_type": "stream",
     "text": [
      "Training accuracy: 0.940843443096476\n",
      "Test accuracy: 0.9095634095634095\n"
     ]
    }
   ],
   "source": [
    "model_weight = LogisticRegression(class_weight='balanced', max_iter=500)\n",
    "\n",
    "model_weight.fit(X_train, y_train)\n",
    "\n",
    "print(\"Training accuracy:\", model_weight.score(X_train, y_train))\n",
    "print(\"Test accuracy:\", model_weight.score(X_test, y_test))"
   ]
  },
  {
   "cell_type": "code",
   "execution_count": 78,
   "id": "879890d3",
   "metadata": {},
   "outputs": [
    {
     "name": "stdout",
     "output_type": "stream",
     "text": [
      "Test AUC: 0.9546427562731771\n"
     ]
    }
   ],
   "source": [
    "probs = model_weight.predict_proba(X_test)[:, 1]\n",
    "\n",
    "print(\"Test AUC:\", roc_auc_score(y_test, probs))"
   ]
  },
  {
   "cell_type": "code",
   "execution_count": 79,
   "id": "121eb26a",
   "metadata": {},
   "outputs": [],
   "source": [
    "# Doesn't make much of a difference...\n",
    "\n",
    "preds = model_weight.predict(X_test)\n",
    "\n",
    "conf_matrix = confusion_matrix(y_test, preds)"
   ]
  },
  {
   "cell_type": "code",
   "execution_count": 80,
   "id": "a4854fe8",
   "metadata": {},
   "outputs": [
    {
     "data": {
      "image/png": "[encoded data removed]",
      "text/plain": [
       "<Figure size 640x480 with 2 Axes>"
      ]
     },
     "metadata": {},
     "output_type": "display_data"
    }
   ],
   "source": [
    "plot_cm_bin(conf_matrix)"
   ]
  },
  {
   "cell_type": "markdown",
   "id": "ff98701e",
   "metadata": {},
   "source": [
    "#### 261 misclassified labels - more than the classification model without weighted loss function"
   ]
  }
 ],
 "metadata": {
  "kernelspec": {
   "display_name": "Python 3 (ipykernel)",
   "language": "python",
   "name": "python3"
  },
  "language_info": {
   "codemirror_mode": {
    "name": "ipython",
    "version": 3
   },
   "file_extension": ".py",
   "mimetype": "text/x-python",
   "name": "python",
   "nbconvert_exporter": "python",
   "pygments_lexer": "ipython3",
   "version": "3.7.16"
  }
 },
 "nbformat": 4,
 "nbformat_minor": 5
}
