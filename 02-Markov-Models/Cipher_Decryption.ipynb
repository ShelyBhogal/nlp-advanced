{
 "cells": [
  {
   "cell_type": "markdown",
   "id": "ceb4c1de",
   "metadata": {},
   "source": [
    "# Encrypting and Decrypting text\n",
    "\n",
    "Using Moby Dick text as the training corpus, build a character-level Markov model to encode and decode a snippet of text from *The Adventures of Sherlock Holmes*.\n",
    "\n",
    "A **substitution cipher** is replacing each letter with another letter.\n",
    "\n",
    "1) Generate a random substitution cipher - this will be only be used to encode a message. You can use it to decode a returning message, but in this exercise, we will attempt to decode the message using the Markov model.\n",
    "\n",
    "2) Read in Moby Dick text to create character-level language model (unigrams and bigrams) that returns log likelihood of decrypted message\n",
    "    * There are 26 letters in the alphabet, so there are 26 unigrams and 26<sup>2</sup> bigrams\n",
    "    \n",
    "3) Create encoding function that uses the 'true' substitution cipher\n",
    "\n",
    "4) Create decoding function that uses an estimated substitution cipher\n",
    "\n",
    "5) Run **genetic algorithm** in a For Loop to the maximum number of iterations needed to converge upon a maximum likelihood estimate. This is used to decrypt a hidden message."
   ]
  },
  {
   "cell_type": "code",
   "execution_count": 1,
   "id": "7938f076",
   "metadata": {},
   "outputs": [],
   "source": [
    "import numpy as np\n",
    "import matplotlib.pyplot as plt\n",
    "\n",
    "import string\n",
    "import random\n",
    "\n",
    "# Regex library\n",
    "import re\n",
    "\n",
    "import requests\n",
    "\n",
    "# Miscellaneous tasks\n",
    "import os\n",
    "import textwrap\n",
    "\n",
    "%matplotlib inline"
   ]
  },
  {
   "cell_type": "markdown",
   "id": "e28c46f1",
   "metadata": {},
   "source": [
    "## Create random Substitution Cipher"
   ]
  },
  {
   "cell_type": "code",
   "execution_count": 2,
   "id": "6455b018",
   "metadata": {},
   "outputs": [],
   "source": [
    "# Two lists of letters - one will act as the key, the other as the cipher value\n",
    "letters1 = list(string.ascii_lowercase)\n",
    "letters2 = list(string.ascii_lowercase)\n",
    "\n",
    "true_mapping = {}\n",
    "\n",
    "# Shuffle second set of letters\n",
    "random.shuffle(letters2)\n",
    "\n",
    "# Populate true_mapping\n",
    "for k, v in zip(letters1, letters2):\n",
    "    true_mapping[k] = v"
   ]
  },
  {
   "cell_type": "code",
   "execution_count": 3,
   "id": "89e5360d",
   "metadata": {},
   "outputs": [
    {
     "data": {
      "text/plain": [
       "{'a': 'x',\n",
       " 'b': 'y',\n",
       " 'c': 'a',\n",
       " 'd': 'r',\n",
       " 'e': 't',\n",
       " 'f': 'c',\n",
       " 'g': 'w',\n",
       " 'h': 'p',\n",
       " 'i': 'm',\n",
       " 'j': 'g',\n",
       " 'k': 'n',\n",
       " 'l': 'e',\n",
       " 'm': 'f',\n",
       " 'n': 'z',\n",
       " 'o': 'h',\n",
       " 'p': 'k',\n",
       " 'q': 'b',\n",
       " 'r': 'j',\n",
       " 's': 'l',\n",
       " 't': 'q',\n",
       " 'u': 'd',\n",
       " 'v': 'v',\n",
       " 'w': 'i',\n",
       " 'x': 'o',\n",
       " 'y': 's',\n",
       " 'z': 'u'}"
      ]
     },
     "execution_count": 3,
     "metadata": {},
     "output_type": "execute_result"
    }
   ],
   "source": [
    "true_mapping"
   ]
  },
  {
   "cell_type": "code",
   "execution_count": 4,
   "id": "0fb72e14",
   "metadata": {},
   "outputs": [],
   "source": [
    "# Conceptually, only the sender and receiver have the true mapping (substitution cipher)\n",
    "# The person (you!) intercepting the message will use the genetic algorithm to decode the message"
   ]
  },
  {
   "cell_type": "markdown",
   "id": "5fa6e6e4",
   "metadata": {},
   "source": [
    "## Building the Language Model\n",
    "\n",
    "Start by defining the structures that you need for your language, e.g. *A* and *pi* arrays and the functions to update them according the training corpus."
   ]
  },
  {
   "cell_type": "code",
   "execution_count": 5,
   "id": "eaaec86a",
   "metadata": {},
   "outputs": [],
   "source": [
    "# Components to 'fit' the language model\n",
    "\n",
    "# Initialize bigram Markov matrix - use add-one smoothing\n",
    "M = np.ones((26, 26))\n",
    "\n",
    "# Initial state distribution for starting letters\n",
    "pi = np.zeros(26)\n",
    "\n",
    "\n",
    "# Function to update the Markov matrix - input arguments are start and end characters, and output is count of characters\n",
    "# ord() function converts chararacter to ascii number representation, e.g. ord('a') is 97, ..., ord('z') is 122\n",
    "def update_transition(ch1, ch2):\n",
    "    i = ord(ch1) - 97 \n",
    "    j = ord(ch2) - 97 \n",
    "    M[i,j] += 1\n",
    "    \n",
    "\n",
    "# Function to update the initial state distribution - input argument is initial character and output is count of character\n",
    "def update_pi(ch):\n",
    "    i = ord(ch) - 97 \n",
    "    pi[i] += 1\n"
   ]
  },
  {
   "cell_type": "code",
   "execution_count": 20,
   "id": "5fd86899",
   "metadata": {},
   "outputs": [],
   "source": [
    "### --------------------- THESE ARE TO BE USED IN THE GENETIC ALGORITHM ----------------------- ###\n",
    "\n",
    "\n",
    "# Get the log-probability of a given word, which is then invoked to get probability of a sentence\n",
    "\n",
    "def get_word_prob(word):\n",
    "    # Index the first-occurring letter\n",
    "    i = ord(word[0]) - 97 \n",
    "    # Find its probability by indexing it in pi\n",
    "    logp = np.log(pi[i]) \n",
    "    \n",
    "    # Loop through remaining letters in word\n",
    "    for ch in word[1:]:\n",
    "        j = ord(ch) - 97 \n",
    "        logp += np.log(M[i, j]) # Update probability by indexing characters in Markov matrix\n",
    "        i = j # Update j \n",
    "        \n",
    "    return logp\n",
    "\n",
    "\n",
    "# Get the probability of a given sequence of words (sentence or list of multiple words)\n",
    "\n",
    "def get_sequence_prob(words):\n",
    "    \n",
    "    # If input is a string, split into an array of tokens \n",
    "    if type(words) == str:\n",
    "        words = words.split() \n",
    "        \n",
    "    logp = 0 \n",
    "    \n",
    "    # Loop through each in word in sentence\n",
    "    for word in words:\n",
    "        # Update probability by finding probability for each word\n",
    "        logp += get_word_prob(word)\n",
    "        \n",
    "    return logp"
   ]
  },
  {
   "cell_type": "markdown",
   "id": "1e24ca39",
   "metadata": {},
   "source": [
    "### Populate Markov and pi arrays ('train' the model)\n",
    "\n",
    "The training corpus is based on an English version of 'Moby Dick' taken from https://www.gutenberg.org/ebooks/2701 (front and back matter removed). You can download the text file in the code below.\n",
    "        \n",
    "Using the Moby Dick text, you will populate your Markov matrix and initial pi state distribution."
   ]
  },
  {
   "cell_type": "code",
   "execution_count": 6,
   "id": "d90cae53",
   "metadata": {},
   "outputs": [],
   "source": [
    "if not os.path.exists('data/moby_dick.txt'):\n",
    "    print(\"Downloading moby dick...\") \n",
    "    r = requests.get('https://lazyprogrammer.me/course_files/moby_dick.txt') \n",
    "    with open('data/moby_dick.txt', 'w', encoding='utf-8') as f:\n",
    "        f.write(r.content.decode())"
   ]
  },
  {
   "cell_type": "code",
   "execution_count": 7,
   "id": "90cbf408",
   "metadata": {},
   "outputs": [],
   "source": [
    "# Helps to replace non-alpha characters\n",
    "regex = re.compile('[^a-zA-Z]')\n",
    "\n",
    "# Load in lines by line\n",
    "for line in open('data/moby_dick.txt', encoding='utf-8'):\n",
    "    line = line.rstrip() \n",
    "    \n",
    "    # Any blank lines should fail\n",
    "    if line:\n",
    "        line = regex.sub(' ', line) # Replace all non-alpha characters in line with space \n",
    "        \n",
    "        # Split the words in the line and lowercase \n",
    "        tokens = line.lower().split() \n",
    "        \n",
    "        # Update each word, i.e. populate arrays\n",
    "        for token in tokens:\n",
    "            # First letter \n",
    "            ch0 = token[0] \n",
    "            # Call function to input letter index and count in pi\n",
    "            update_pi(ch0) \n",
    "            \n",
    "            # Other letters \n",
    "            for ch1 in token[1:]:\n",
    "                # Call function to input letter index and count in Markov matrix\n",
    "                update_transition(ch0, ch1) \n",
    "                ch0 = ch1\n"
   ]
  },
  {
   "cell_type": "code",
   "execution_count": 8,
   "id": "eb85be68",
   "metadata": {},
   "outputs": [],
   "source": [
    "# Calculate the probabilities in both M and pi arrays\n",
    "\n",
    "pi /= pi.sum()\n",
    "\n",
    "M /= M.sum(axis=1, keepdims=True)"
   ]
  },
  {
   "cell_type": "code",
   "execution_count": 9,
   "id": "df1028ab",
   "metadata": {},
   "outputs": [
    {
     "data": {
      "text/plain": [
       "array([1.09454034e-01, 5.20069678e-02, 3.89842666e-02, 2.71213123e-02,\n",
       "       1.82485492e-02, 3.85045319e-02, 1.63296103e-02, 6.39397863e-02,\n",
       "       6.72094345e-02, 3.90774189e-03, 4.42939516e-03, 2.83136627e-02,\n",
       "       3.90727613e-02, 2.23239653e-02, 6.49737776e-02, 2.81599612e-02,\n",
       "       3.33485482e-03, 1.80063530e-02, 9.26074280e-02, 1.64227627e-01,\n",
       "       1.23054280e-02, 7.33574908e-03, 6.73817664e-02, 2.32880923e-05,\n",
       "       1.16393885e-02, 1.58359028e-04])"
      ]
     },
     "execution_count": 9,
     "metadata": {},
     "output_type": "execute_result"
    }
   ],
   "source": [
    "# 26 dimensions (entire array adds up to one)\n",
    "pi"
   ]
  },
  {
   "cell_type": "code",
   "execution_count": 10,
   "id": "049d04c7",
   "metadata": {},
   "outputs": [
    {
     "data": {
      "text/plain": [
       "array([[7.04046861e-05, 2.76127179e-02, 3.36111972e-02, 4.38621195e-02,\n",
       "        4.22428117e-04, 8.73018108e-03, 2.05018446e-02, 1.08704835e-02,\n",
       "        4.75090822e-02, 2.95699682e-04, 1.45456082e-02, 1.10633924e-01,\n",
       "        2.53034442e-02, 2.09721479e-01, 2.11214058e-04, 2.34306795e-02,\n",
       "        7.04046861e-05, 1.08395055e-01, 9.77076234e-02, 1.42217466e-01,\n",
       "        7.92756766e-03, 2.33602749e-02, 1.04198935e-02, 4.50589991e-04,\n",
       "        2.94854826e-02, 2.63313526e-03],\n",
       "       [6.00292826e-02, 2.66089503e-02, 6.36577758e-05, 5.72919982e-04,\n",
       "        2.54949392e-01, 6.36577758e-05, 1.27315552e-04, 4.45604431e-04,\n",
       "        3.79400344e-02, 5.47456872e-03, 6.36577758e-05, 1.20567827e-01,\n",
       "        8.91208861e-04, 1.27315552e-04, 1.52333057e-01, 6.36577758e-05,\n",
       "        6.36577758e-05, 5.88197848e-02, 1.89063594e-02, 7.25698644e-03,\n",
       "        1.67483608e-01, 8.27551085e-04, 1.27315552e-04, 6.36577758e-05,\n",
       "        8.60653129e-02, 6.36577758e-05],\n",
       "       [1.43763797e-01, 4.59896983e-05, 1.56364974e-02, 4.59896983e-05,\n",
       "        1.54341428e-01, 4.59896983e-05, 4.59896983e-05, 1.69150110e-01,\n",
       "        5.29341428e-02, 4.59896983e-05, 9.51526858e-02, 3.61019132e-02,\n",
       "        4.59896983e-05, 4.59896983e-05, 1.66528698e-01, 4.59896983e-05,\n",
       "        7.81824871e-04, 6.03844739e-02, 1.60963944e-03, 5.45437822e-02,\n",
       "        4.13907285e-02, 4.59896983e-05, 4.59896983e-05, 4.59896983e-05,\n",
       "        6.80647535e-03, 3.67917586e-04],\n",
       "       [7.47382109e-02, 2.05324755e-04, 1.36883170e-04, 2.79241667e-02,\n",
       "        3.35363767e-01, 5.06467730e-03, 8.55519814e-03, 9.58182191e-04,\n",
       "        1.81507084e-01, 4.79091096e-04, 3.42207926e-04, 3.73006639e-02,\n",
       "        3.96961194e-03, 1.21141606e-02, 1.16076928e-01, 4.10649511e-04,\n",
       "        6.84415851e-05, 5.22209294e-02, 7.89815892e-02, 1.43727329e-03,\n",
       "        2.63500103e-02, 6.70727534e-03, 3.28519609e-03, 6.84415851e-05,\n",
       "        2.56655944e-02, 6.84415851e-05],\n",
       "       [8.62590095e-02, 2.18827359e-03, 2.68337049e-02, 1.24334970e-01,\n",
       "        6.25709479e-02, 1.18577075e-02, 1.32800853e-02, 3.93889246e-03,\n",
       "        1.85182652e-02, 3.41917748e-04, 1.36767099e-03, 5.41187412e-02,\n",
       "        3.19624711e-02, 1.19944746e-01, 3.04990631e-03, 1.29791977e-02,\n",
       "        7.91881505e-03, 2.00295417e-01, 1.08989701e-01, 4.22610337e-02,\n",
       "        1.17619705e-03, 2.61635461e-02, 1.17893240e-02, 1.03122393e-02,\n",
       "        1.66855861e-02, 8.61632726e-04],\n",
       "       [9.47326417e-02, 7.98084597e-05, 7.98084597e-05, 7.98084597e-05,\n",
       "        1.09098164e-01, 6.32881085e-02, 1.59616919e-04, 7.98084597e-05,\n",
       "        1.43974461e-01, 7.98084597e-05, 7.98084597e-05, 6.47246608e-02,\n",
       "        2.39425379e-04, 7.98084597e-05, 2.62968875e-01, 7.98084597e-05,\n",
       "        7.98084597e-05, 1.24261772e-01, 2.87310455e-03, 7.15881883e-02,\n",
       "        5.83399840e-02, 7.98084597e-05, 1.59616919e-04, 7.98084597e-05,\n",
       "        2.63367917e-03, 7.98084597e-05],\n",
       "       [9.53941839e-02, 3.36190956e-04, 8.40477391e-05, 3.36190956e-04,\n",
       "        1.84652883e-01, 5.04286435e-04, 2.46259876e-02, 2.29702471e-01,\n",
       "        6.80786687e-02, 8.40477391e-05, 8.40477391e-05, 6.11027063e-02,\n",
       "        2.52143217e-03, 2.91645655e-02, 1.05227769e-01, 8.40477391e-05,\n",
       "        8.40477391e-05, 9.64027568e-02, 5.01765003e-02, 1.10943016e-02,\n",
       "        3.31988570e-02, 8.40477391e-05, 1.34476383e-03, 8.40477391e-05,\n",
       "        5.46310304e-03, 8.40477391e-05],\n",
       "       [2.04622129e-01, 3.24739757e-04, 1.80410976e-05, 3.78863050e-04,\n",
       "        4.70114922e-01, 5.41232929e-04, 3.60821952e-05, 7.21643905e-05,\n",
       "        1.70217756e-01, 1.80410976e-05, 1.80410976e-05, 1.28091793e-03,\n",
       "        1.26287683e-03, 8.65972686e-04, 8.06076242e-02, 1.80410976e-04,\n",
       "        1.26287683e-04, 1.42885493e-02, 1.87627415e-03, 3.10667701e-02,\n",
       "        1.47576179e-02, 1.80410976e-05, 7.75767198e-04, 1.80410976e-05,\n",
       "        6.49479514e-03, 1.80410976e-05],\n",
       "       [1.55619504e-02, 8.24719065e-03, 4.35027249e-02, 3.52233815e-02,\n",
       "        3.15579634e-02, 2.06260148e-02, 3.52555343e-02, 1.76840345e-04,\n",
       "        7.23437776e-04, 2.73298715e-04, 1.29254216e-02, 5.88717586e-02,\n",
       "        4.44190795e-02, 3.13779078e-01, 3.33102905e-02, 1.81984792e-02,\n",
       "        5.30521036e-04, 3.98051541e-02, 1.34495121e-01, 1.24881437e-01,\n",
       "        7.23437776e-04, 2.11243831e-02, 1.60763950e-05, 2.07385496e-03,\n",
       "        1.60763950e-05, 3.68149446e-03],\n",
       "       [2.00184502e-01, 9.22509225e-04, 9.22509225e-04, 9.22509225e-04,\n",
       "        2.21402214e-01, 9.22509225e-04, 9.22509225e-04, 9.22509225e-04,\n",
       "        1.84501845e-02, 9.22509225e-04, 9.22509225e-04, 9.22509225e-04,\n",
       "        9.22509225e-04, 9.22509225e-04, 2.94280443e-01, 9.22509225e-04,\n",
       "        9.22509225e-04, 9.22509225e-04, 9.22509225e-04, 9.22509225e-04,\n",
       "        2.46309963e-01, 9.22509225e-04, 9.22509225e-04, 9.22509225e-04,\n",
       "        9.22509225e-04, 9.22509225e-04],\n",
       "       [8.05847076e-03, 1.31184408e-03, 1.87406297e-04, 1.87406297e-04,\n",
       "        5.08620690e-01, 3.18590705e-03, 7.49625187e-04, 1.12443778e-03,\n",
       "        1.81596702e-01, 1.87406297e-04, 1.87406297e-04, 3.37331334e-02,\n",
       "        1.12443778e-03, 1.03635682e-01, 4.87256372e-03, 3.74812594e-04,\n",
       "        1.87406297e-04, 2.81109445e-03, 1.15442279e-01, 1.87406297e-04,\n",
       "        7.68365817e-03, 1.87406297e-04, 3.74812594e-03, 1.87406297e-04,\n",
       "        2.02398801e-02, 1.87406297e-04],\n",
       "       [1.00445990e-01, 1.37443550e-03, 1.15003787e-03, 6.64497490e-02,\n",
       "        2.29951474e-01, 1.73908165e-02, 6.45143194e-04, 2.80497041e-05,\n",
       "        1.27037110e-01, 2.80497041e-05, 5.91848756e-03, 1.65914000e-01,\n",
       "        1.06027881e-02, 1.26223668e-03, 9.60141371e-02, 3.70256094e-03,\n",
       "        2.80497041e-05, 1.31833609e-03, 2.37861491e-02, 1.35480071e-02,\n",
       "        2.08128804e-02, 5.91848756e-03, 3.42206390e-03, 2.80497041e-05,\n",
       "        1.03138762e-01, 8.41491122e-05],\n",
       "       [2.08541645e-01, 2.46250399e-02, 5.31858313e-05, 5.31858313e-05,\n",
       "        3.03584725e-01, 2.18061908e-03, 5.31858313e-05, 5.31858313e-05,\n",
       "        8.69056483e-02, 5.31858313e-05, 5.31858313e-05, 3.35070737e-03,\n",
       "        2.92522072e-02, 5.21221147e-03, 1.52324221e-01, 5.82384853e-02,\n",
       "        5.31858313e-05, 4.94628231e-03, 3.48899053e-02, 3.19114988e-04,\n",
       "        4.41442400e-02, 1.59557494e-04, 5.31858313e-05, 5.31858313e-05,\n",
       "        4.07935326e-02, 5.31858313e-05],\n",
       "       [3.29617063e-02, 8.00859871e-04, 4.86838500e-02, 2.27128074e-01,\n",
       "        1.10982318e-01, 5.41634176e-03, 2.07549158e-01, 1.32774136e-03,\n",
       "        3.88417037e-02, 7.37634091e-04, 1.35092415e-02, 1.47948323e-02,\n",
       "        1.34881662e-03, 1.13595650e-02, 8.79470589e-02, 6.74408312e-04,\n",
       "        1.41204240e-03, 1.43311766e-03, 5.09810533e-02, 1.12078231e-01,\n",
       "        5.85892221e-03, 5.66924487e-03, 2.78193429e-03, 6.95483572e-04,\n",
       "        1.48580581e-02, 1.68602078e-04],\n",
       "       [2.12623022e-02, 9.28756172e-03, 1.18235867e-02, 2.42853784e-02,\n",
       "        5.91179336e-03, 1.20486379e-01, 5.65987034e-03, 3.32538376e-03,\n",
       "        1.32343556e-02, 6.21410097e-04, 1.50649961e-02, 3.94343489e-02,\n",
       "        6.58862652e-02, 1.52782910e-01, 4.62698599e-02, 1.67780726e-02,\n",
       "        2.51923012e-04, 1.31470223e-01, 3.46646065e-02, 4.94105002e-02,\n",
       "        1.39145477e-01, 1.71979443e-02, 6.80528031e-02, 7.38974169e-04,\n",
       "        6.39884451e-03, 5.54230627e-04],\n",
       "       [1.19377163e-01, 5.32339633e-04, 1.33084908e-04, 6.65424541e-05,\n",
       "        2.26643599e-01, 1.99627362e-04, 6.65424541e-05, 2.08277881e-02,\n",
       "        8.02501996e-02, 6.65424541e-05, 7.31966995e-04, 8.23795582e-02,\n",
       "        3.65983497e-03, 2.66169816e-04, 1.62297046e-01, 5.27681661e-02,\n",
       "        6.65424541e-05, 1.15983497e-01, 2.88794251e-02, 6.05536332e-02,\n",
       "        3.85946234e-02, 6.65424541e-05, 1.99627362e-03, 6.65424541e-05,\n",
       "        3.46020761e-03, 6.65424541e-05],\n",
       "       [6.37348630e-04, 6.37348630e-04, 6.37348630e-04, 6.37348630e-04,\n",
       "        6.37348630e-04, 6.37348630e-04, 6.37348630e-04, 6.37348630e-04,\n",
       "        6.37348630e-04, 6.37348630e-04, 6.37348630e-04, 6.37348630e-04,\n",
       "        6.37348630e-04, 6.37348630e-04, 6.37348630e-04, 6.37348630e-04,\n",
       "        6.37348630e-04, 6.37348630e-04, 6.37348630e-04, 6.37348630e-04,\n",
       "        9.84066284e-01, 6.37348630e-04, 6.37348630e-04, 6.37348630e-04,\n",
       "        6.37348630e-04, 6.37348630e-04],\n",
       "       [8.47887819e-02, 1.11828714e-02, 1.41984771e-02, 4.44801850e-02,\n",
       "        2.89573543e-01, 4.37262835e-03, 1.00771492e-02, 3.21664614e-03,\n",
       "        1.04566130e-01, 2.51300480e-05, 1.62842711e-02, 1.43492574e-02,\n",
       "        2.59593396e-02, 2.96031965e-02, 1.17332194e-01, 1.57062800e-02,\n",
       "        2.01040384e-04, 2.00286483e-02, 6.22219988e-02, 5.86535320e-02,\n",
       "        2.17626216e-02, 8.11700550e-03, 3.44281658e-03, 7.53901440e-05,\n",
       "        3.97306059e-02, 5.02600960e-05],\n",
       "       [5.85774059e-02, 6.56329477e-04, 2.25066317e-02, 5.46941231e-04,\n",
       "        1.80709383e-01, 1.20327071e-03, 3.82858862e-04, 9.14485739e-02,\n",
       "        7.56966664e-02, 5.46941231e-05, 1.35094484e-02, 2.08384609e-02,\n",
       "        1.40290426e-02, 6.34451828e-03, 9.39098094e-02, 4.78026636e-02,\n",
       "        2.87144146e-03, 1.36735308e-04, 6.49492712e-02, 2.34282276e-01,\n",
       "        5.14671699e-02, 2.73470616e-05, 1.32906719e-02, 2.73470616e-05,\n",
       "        4.70369459e-03, 2.73470616e-05],\n",
       "       [5.42534654e-02, 1.25586725e-04, 6.37352632e-03, 3.13966814e-05,\n",
       "        1.10924475e-01, 6.12235287e-04, 4.70950221e-05, 4.83995542e-01,\n",
       "        7.71730428e-02, 1.56983407e-05, 1.56983407e-05, 1.78961084e-02,\n",
       "        9.57598782e-04, 1.28726394e-03, 1.12054756e-01, 9.41900441e-05,\n",
       "        1.56983407e-05, 3.29037221e-02, 2.89948352e-02, 2.12398549e-02,\n",
       "        2.67813692e-02, 1.56983407e-05, 9.46609943e-03, 1.56983407e-05,\n",
       "        1.45994568e-02, 1.09888385e-04],\n",
       "       [2.01641827e-02, 2.99673229e-02, 5.46345740e-02, 2.21566908e-02,\n",
       "        4.87766000e-02, 5.97752451e-03, 5.28014665e-02, 3.98501634e-05,\n",
       "        2.14393879e-02, 3.98501634e-05, 2.19175899e-03, 1.00422412e-01,\n",
       "        3.19199809e-02, 1.27241572e-01, 1.19151989e-02, 6.01338965e-02,\n",
       "        3.98501634e-05, 1.22818204e-01, 1.22579103e-01, 1.62070614e-01,\n",
       "        7.97003268e-05, 1.03610425e-03, 7.97003268e-05, 4.38351797e-04,\n",
       "        3.18801307e-04, 7.17302941e-04],\n",
       "       [8.74569835e-02, 1.18666192e-04, 1.18666192e-04, 1.18666192e-04,\n",
       "        6.69514655e-01, 1.18666192e-04, 1.18666192e-04, 1.18666192e-04,\n",
       "        1.73133974e-01, 1.18666192e-04, 1.18666192e-04, 1.18666192e-04,\n",
       "        1.18666192e-04, 1.18666192e-04, 5.92144298e-02, 1.18666192e-04,\n",
       "        1.18666192e-04, 4.74664768e-04, 1.18666192e-04, 1.18666192e-04,\n",
       "        2.25465765e-03, 1.18666192e-04, 1.18666192e-04, 1.18666192e-04,\n",
       "        5.69597722e-03, 1.18666192e-04],\n",
       "       [2.02223150e-01, 1.56559858e-04, 1.04373239e-04, 3.02682392e-03,\n",
       "        1.38659848e-01, 1.35685210e-03, 5.21866194e-05, 2.93340987e-01,\n",
       "        1.79261037e-01, 5.21866194e-05, 1.61778520e-03, 9.75889782e-03,\n",
       "        5.21866194e-05, 5.17691264e-02, 8.79866402e-02, 1.04373239e-04,\n",
       "        5.21866194e-05, 9.70671120e-03, 1.80043837e-02, 4.69679574e-04,\n",
       "        1.14810563e-03, 5.21866194e-05, 5.21866194e-05, 5.21866194e-05,\n",
       "        8.87172529e-04, 5.21866194e-05],\n",
       "       [9.73262032e-02, 1.06951872e-03, 1.71122995e-01, 1.06951872e-03,\n",
       "        1.22994652e-01, 1.06951872e-03, 1.06951872e-03, 3.74331551e-02,\n",
       "        9.62566845e-02, 1.06951872e-03, 1.06951872e-03, 2.13903743e-03,\n",
       "        1.39037433e-02, 1.06951872e-03, 8.55614973e-03, 1.90374332e-01,\n",
       "        2.13903743e-03, 1.06951872e-03, 1.06951872e-03, 2.24598930e-01,\n",
       "        8.55614973e-03, 2.13903743e-03, 1.06951872e-03, 3.20855615e-03,\n",
       "        7.48663102e-03, 1.06951872e-03],\n",
       "       [6.03391323e-02, 5.28517948e-03, 1.54151068e-03, 3.96388461e-03,\n",
       "        3.59832636e-01, 2.20215811e-03, 6.60647434e-04, 4.40431623e-03,\n",
       "        6.43030170e-02, 2.20215811e-04, 2.20215811e-04, 6.82669016e-03,\n",
       "        1.36533803e-02, 2.86280555e-03, 3.00154151e-01, 1.10107906e-02,\n",
       "        2.20215811e-04, 7.48733759e-03, 1.30147545e-01, 1.76172649e-02,\n",
       "        2.20215811e-04, 2.20215811e-04, 5.94582691e-03, 2.20215811e-04,\n",
       "        2.20215811e-04, 2.20215811e-04],\n",
       "       [7.82472613e-02, 6.25978091e-03, 1.56494523e-03, 1.56494523e-03,\n",
       "        4.42879499e-01, 1.56494523e-03, 1.56494523e-03, 3.12989045e-03,\n",
       "        1.73708920e-01, 1.56494523e-03, 1.56494523e-03, 3.28638498e-02,\n",
       "        1.56494523e-03, 1.56494523e-03, 1.18935837e-01, 1.56494523e-03,\n",
       "        1.56494523e-03, 1.56494523e-03, 1.56494523e-03, 1.56494523e-03,\n",
       "        1.25195618e-02, 1.56494523e-03, 1.56494523e-03, 1.56494523e-03,\n",
       "        3.91236307e-02, 6.72926448e-02]])"
      ]
     },
     "execution_count": 10,
     "metadata": {},
     "output_type": "execute_result"
    }
   ],
   "source": [
    "# 26x26 dimensions (each nested array adds up to one)\n",
    "M"
   ]
  },
  {
   "cell_type": "markdown",
   "id": "06a8fc60",
   "metadata": {},
   "source": [
    "### Encoding new text\n",
    "\n",
    "You now have the Markov matrix and initial state distribution pi array populated with the probabilities of two letters given one previous letter, as well as the probability of being the first letter, based on Moby Dick. \n",
    "\n",
    "Using a random excerpt from Project Gutenberg's 'The Adventures of Sherlock Holmes', by Arthur Conan Doyle, you encode the text with the random substitution cipher created at the start, which is the `true_mapping` dictionary (text to encode taken from https://www.gutenberg.org/ebooks/1661).\n",
    "\n",
    "NOTE: The excerpt is surrounded by three quotation marks to allow for the text to be formatted as it is in text file, but it will still be read by Python interpreter."
   ]
  },
  {
   "cell_type": "code",
   "execution_count": 11,
   "id": "512426f9",
   "metadata": {},
   "outputs": [],
   "source": [
    "original_message = '''I then lounged down the street and found,\n",
    "as I expected, that there was a mews in a lane which runs down\n",
    "by one wall of the garden. I lent the ostlers a hand in rubbing\n",
    "down their horses, and received in exchange twopence, a glass of\n",
    "half-and-half, two fills of shag tobacco, and as much information\n",
    "as I could desire about Miss Adler, to say nothing of half a dozen\n",
    "other people in the neighbourhood in whom I was not in the least\n",
    "interested, but whose biographies I was compelled to listen to.\n",
    "'''\n",
    "\n",
    "\n",
    "# OTHER PARAGRAPHS FROM SAME BOOK:\n",
    "\n",
    "# Away they went, and I was just wondering whether I should not do well\n",
    "# to follow them when up the lane came a neat little landau, the coachman\n",
    "# with his coat only half-buttoned, and his tie under his ear, while all\n",
    "# the tags of his harness were sticking out of the buckles. It hadn't\n",
    "# pulled up before she shot out of the hall door and into it. I only\n",
    "# caught a glimpse of her at the moment, but she was a lovely woman, with\n",
    "# a face that a man might die for.\n",
    "\n",
    "# My cabby drove fast. I don't think I ever drove faster, but the others\n",
    "# were there before us. The cab and the landau with their steaming horses\n",
    "# were in front of the door when I arrived. I paid the man and hurried\n",
    "# into the church. There was not a soul there save the two whom I had\n",
    "# followed and a surpliced clergyman, who seemed to be expostulating with\n",
    "# them. They were all three standing in a knot in front of the altar. I\n",
    "# lounged up the side aisle like any other idler who has dropped into a\n",
    "# church. Suddenly, to my surprise, the three at the altar faced round to\n",
    "# me, and Godfrey Norton came running as hard as he could towards me."
   ]
  },
  {
   "cell_type": "code",
   "execution_count": 12,
   "id": "959f34c0",
   "metadata": {},
   "outputs": [],
   "source": [
    "# Function to encode message by mapping letters with the random substitution cipher\n",
    "\n",
    "def encode_message(msg):\n",
    "    # Lower-case message\n",
    "    msg = msg.lower() \n",
    "    \n",
    "    # Replace non-alpha characters \n",
    "    msg = regex.sub(' ', msg) \n",
    "     \n",
    "    coded_msg = [] \n",
    "    \n",
    "    # Loop through each character in message\n",
    "    for ch in msg:\n",
    "        # Could be whitespace so keep as character\n",
    "        coded_ch = ch \n",
    "        if ch in true_mapping:\n",
    "            coded_ch = true_mapping[ch] \n",
    "            \n",
    "        coded_msg.append(coded_ch)\n",
    "            \n",
    "    return ''.join(coded_msg)\n",
    "\n",
    "\n",
    "encoded_message = encode_message(original_message)"
   ]
  },
  {
   "cell_type": "code",
   "execution_count": 13,
   "id": "6747c184",
   "metadata": {},
   "outputs": [
    {
     "data": {
      "text/plain": [
       "'m qptz ehdzwtr rhiz qpt lqjttq xzr chdzr  xl m toktaqtr  qpxq qptjt ixl x ftil mz x exzt ipmap jdzl rhiz ys hzt ixee hc qpt wxjrtz  m etzq qpt hlqetjl x pxzr mz jdyymzw rhiz qptmj phjltl  xzr jtatmvtr mz toapxzwt qihktzat  x wexll hc pxec xzr pxec  qih cmeel hc lpxw qhyxaah  xzr xl fdap mzchjfxqmhz xl m ahder rtlmjt xyhdq fmll xretj  qh lxs zhqpmzw hc pxec x rhutz hqptj kthket mz qpt ztmwpyhdjphhr mz iphf m ixl zhq mz qpt etxlq mzqtjtlqtr  ydq iphlt ymhwjxkpmtl m ixl ahfkteetr qh emlqtz qh  '"
      ]
     },
     "execution_count": 13,
     "metadata": {},
     "output_type": "execute_result"
    }
   ],
   "source": [
    "# e.g. 'm' is meant to be 'i' and 't' is meant to be 'e'\n",
    "\n",
    "encoded_message"
   ]
  },
  {
   "cell_type": "code",
   "execution_count": 14,
   "id": "8161107a",
   "metadata": {},
   "outputs": [],
   "source": [
    "# Function to decode a message - not to be used until we have estimated new substitution cipher, i.e. word_map\n",
    "\n",
    "def decode_message(msg, word_map):\n",
    "    decoded_msg = [] \n",
    "    \n",
    "    for ch in msg:\n",
    "        decoded_ch = ch\n",
    "        if ch in word_map:\n",
    "            decoded_ch = word_map[ch] \n",
    "            \n",
    "        decoded_msg.append(decoded_ch) \n",
    "        \n",
    "    return ''.join(decoded_msg)"
   ]
  },
  {
   "cell_type": "markdown",
   "id": "173f74f3",
   "metadata": {},
   "source": [
    "### Create Genetic Algorithm\n",
    "\n",
    "Also known as the 'evolutionary algorithm', this optimtization method will be used to decode the message. In terms of evolution, the letters of the alphabet (and/or punctuation) are the DNA from which we build words and sentences. The DNA pool refers to several variants of the English alphabet (lowercase) that have all been randomly shuffled, e.g. [['a', 'd', 'x', 't', ...], ['i', 'f', 'n', 'l', ...], ...].\n",
    "\n",
    "In this model, you need a DNA pool containing random DNA strings, which are essentially several random substitution ciphers. Each DNA string acts like a parent from which evolves n-number of children. The 'offspring' is generated by randomly selecting two letters from the parent and swapping them round and evaluating the log likelihood. In this model, we will loop through each DNA string three times to produce three offspring, i.e. three variations of the original DNA string (created and stored using the `evolve_offspring` function). \n",
    "\n",
    "The DNA string that yields the highest word and sentence probabilities based on the language model trained by 'Moby Dick' is stored as `best_dna`, `best_map` and `best_score`.\n"
   ]
  },
  {
   "cell_type": "code",
   "execution_count": 15,
   "id": "1e98e688",
   "metadata": {},
   "outputs": [],
   "source": [
    "# Create list of 20 alphabet strings (shuffled)\n",
    "\n",
    "dna_pool = []\n",
    "\n",
    "for _ in range(20):\n",
    "    # One DNA is lower-case alphabet shuffled\n",
    "    dna = list(string.ascii_lowercase) \n",
    "    random.shuffle(dna) \n",
    "    dna_pool.append(dna)"
   ]
  },
  {
   "cell_type": "code",
   "execution_count": 17,
   "id": "7de1b1e7",
   "metadata": {},
   "outputs": [
    {
     "data": {
      "text/plain": [
       "['m',\n",
       " 'i',\n",
       " 'x',\n",
       " 'n',\n",
       " 'v',\n",
       " 'u',\n",
       " 'k',\n",
       " 'h',\n",
       " 'r',\n",
       " 'd',\n",
       " 'e',\n",
       " 'q',\n",
       " 'y',\n",
       " 'a',\n",
       " 'p',\n",
       " 's',\n",
       " 'l',\n",
       " 'c',\n",
       " 'j',\n",
       " 'g',\n",
       " 'f',\n",
       " 'w',\n",
       " 't',\n",
       " 'b',\n",
       " 'z',\n",
       " 'o']"
      ]
     },
     "execution_count": 17,
     "metadata": {},
     "output_type": "execute_result"
    }
   ],
   "source": [
    "# 11th DNA string\n",
    "dna_pool[10]"
   ]
  },
  {
   "cell_type": "code",
   "execution_count": 18,
   "id": "e14c5edd",
   "metadata": {},
   "outputs": [],
   "source": [
    "# Function to create n-children from each DNA string in the pool, i.e. 3 variations of shuffled alphabet\n",
    "\n",
    "def evolve_offspring(dna_pool, n_children):\n",
    "    # Make n_children per offspring \n",
    "    offspring = [] \n",
    "    \n",
    "    # Loop through each DNA string the same number of times as children\n",
    "    for dna in dna_pool:\n",
    "        for _ in range(n_children):\n",
    "            copy = dna.copy() \n",
    "            # Randomly select two numbers between 0 and 25\n",
    "            j = np.random.randint(len(copy)) \n",
    "            k = np.random.randint(len(copy)) \n",
    "            \n",
    "            # Swap position of letters and append to offspring\n",
    "            tmp = copy[j] \n",
    "            copy[j] = copy[k] \n",
    "            copy[k] = tmp \n",
    "            offspring.append(copy) \n",
    "            \n",
    "    return offspring + dna_pool"
   ]
  },
  {
   "cell_type": "code",
   "execution_count": 21,
   "id": "d4cb5bdc",
   "metadata": {},
   "outputs": [
    {
     "name": "stdout",
     "output_type": "stream",
     "text": [
      "iteration no: 0 current score: -2113.8236067480607 best score so far: -1927.000990489332\n",
      "iteration no: 200 current score: -1058.07948870164 best score so far: -978.9403621422695\n",
      "iteration no: 400 current score: -1036.3740687626264 best score so far: -929.5902922650557\n",
      "iteration no: 600 current score: -1018.6066696695509 best score so far: -929.5902922650557\n",
      "iteration no: 800 current score: -1038.1665643624087 best score so far: -929.5902922650557\n"
     ]
    }
   ],
   "source": [
    "### ------------------- MAIN LOOP TO RUN GENETIC ALGORITHM ------------------ ###\n",
    "# 1000 iterations means 1000 generations of offspring to be evolved\n",
    "# Need function evolve_offspring to create the children \n",
    "# Need function decode_message to decode text with new cipher\n",
    "# Need function get_sequence_prob to find log likelihood of sentence in decoded text\n",
    "\n",
    "num_iters = 1000\n",
    "# Store average score at end of loop\n",
    "scores = np.zeros(num_iters)\n",
    "# Keep track of best DNA string\n",
    "best_dna = None\n",
    "# Keep track of best substitution cipher\n",
    "best_map = None\n",
    "# Set to minimum possible score, minus infinity\n",
    "best_score = float('-inf')\n",
    "\n",
    "for i in range(num_iters):\n",
    "    if i > 0:\n",
    "        # Get 3 offspring from each DNA string in pool\n",
    "        dna_pool = evolve_offspring(dna_pool, 3)\n",
    "        \n",
    "    # Calculate score for each DNA string \n",
    "    dna2score = {} \n",
    "    for dna in dna_pool:\n",
    "        # Populate map \n",
    "        current_map = {} \n",
    "        for k, v in zip(letters1, dna):\n",
    "            current_map[k] = v \n",
    "            \n",
    "        decoded_message = decode_message(encoded_message, current_map) \n",
    "        score = get_sequence_prob(decoded_message)\n",
    "        \n",
    "        # Store DNA as joined string to be a dict key and score as the value \n",
    "        dna2score[''.join(dna)] = score \n",
    "        \n",
    "        # Record the best score so far \n",
    "        if score > best_score:\n",
    "            best_dna = dna \n",
    "            best_map = current_map \n",
    "            best_score = score \n",
    "            \n",
    "    # Average score for each generation (plot later) \n",
    "    scores[i] = np.mean(list(dna2score.values()))\n",
    "    \n",
    "    # Keep the best 5 dna and turn them back into list of single chars \n",
    "    sorted_dna = sorted(dna2score.items(), key=lambda x: x[1], reverse=True) \n",
    "    dna_pool = [list(k) for k, v in sorted_dna[:5]] \n",
    "    \n",
    "    # Print iteration, current score and best score so far every 200 iterations (debugging)\n",
    "    if i % 200 == 0:\n",
    "        print(\"iteration no:\", i, \"current score:\", scores[i], \"best score so far:\", best_score)"
   ]
  },
  {
   "cell_type": "code",
   "execution_count": 29,
   "id": "c4120fee",
   "metadata": {},
   "outputs": [],
   "source": [
    "# Note that best score does not improve after 400 iterations"
   ]
  },
  {
   "cell_type": "code",
   "execution_count": 22,
   "id": "4d35016c",
   "metadata": {},
   "outputs": [
    {
     "data": {
      "text/plain": [
       "[('cjfulmqowrpsizxhtdyekvgabn', -929.5902922650557),\n",
       " ('czfulmjowrpsiqxhtdyekvgabn', -929.5902922650557),\n",
       " ('czfulmqowrpsijxhtdyekvgabn', -929.5902922650557),\n",
       " ('cqfulmzowrpsijxhtdyekvgabn', -929.5902922650557),\n",
       " ('cjfulmzowrpsiqxhtdyekvgabn', -929.5902922650557),\n",
       " ('ckfulmzowrpsijxhtdyeqvgabn', -940.3634389315447),\n",
       " ('czmulfjowrpsiqxhtdyekvgabn', -944.6863798591762),\n",
       " ('cqfulmzowrksijxhtdyepvgabn', -945.5915699299015),\n",
       " ('cjfurmzowlpsiqxhtdyekvgabn', -954.2357477323015),\n",
       " ('czfulmjowrpsiqxhtdgekvyabn', -962.7262201697359),\n",
       " ('cjfulsqowrpmizxhtdyekvgabn', -1000.2429288540709),\n",
       " ('czfuliqowrpsmjxhtdyekvgabn', -1047.2091612206857),\n",
       " ('czfulmqowtpsijxhrdyekvgabn', -1072.0234899753198),\n",
       " ('cqfulmzowrpjisxhtdyekvgabn', -1102.006261156753),\n",
       " ('cjfulmqowrhsizxptdyekvgabn', -1110.214795665224),\n",
       " ('cjfuemzowrpsiqxhtdylkvgabn', -1149.6506532236474),\n",
       " ('czfulmjowrpsiqnhtdyekvgabx', -1168.8832702120683),\n",
       " ('cjfulmtowrpsiqxhzdyekvgabn', -1188.113306189231),\n",
       " ('cjfulmqowrpsizhxtdyekvgabn', -1203.7420450306083),\n",
       " ('czfulmqvwrpsijxhtdyekogabn', -1272.03035932843)]"
      ]
     },
     "execution_count": 22,
     "metadata": {},
     "output_type": "execute_result"
    }
   ],
   "source": [
    "# Each DNA string is slightly different\n",
    "sorted_dna"
   ]
  },
  {
   "cell_type": "code",
   "execution_count": 24,
   "id": "56743836",
   "metadata": {},
   "outputs": [
    {
     "data": {
      "text/plain": [
       "5"
      ]
     },
     "execution_count": 24,
     "metadata": {},
     "output_type": "execute_result"
    }
   ],
   "source": [
    "len(dna_pool)"
   ]
  },
  {
   "cell_type": "code",
   "execution_count": 30,
   "id": "7a371c3f",
   "metadata": {},
   "outputs": [
    {
     "data": {
      "text/plain": [
       "['c',\n",
       " 'z',\n",
       " 'f',\n",
       " 'u',\n",
       " 'l',\n",
       " 'm',\n",
       " 'q',\n",
       " 'o',\n",
       " 'w',\n",
       " 'r',\n",
       " 'p',\n",
       " 's',\n",
       " 'i',\n",
       " 'j',\n",
       " 'x',\n",
       " 'h',\n",
       " 't',\n",
       " 'd',\n",
       " 'y',\n",
       " 'e',\n",
       " 'k',\n",
       " 'v',\n",
       " 'g',\n",
       " 'a',\n",
       " 'b',\n",
       " 'n']"
      ]
     },
     "execution_count": 30,
     "metadata": {},
     "output_type": "execute_result"
    }
   ],
   "source": [
    "best_dna"
   ]
  },
  {
   "cell_type": "code",
   "execution_count": 31,
   "id": "833e0ba5",
   "metadata": {},
   "outputs": [
    {
     "data": {
      "text/plain": [
       "{'a': 'c',\n",
       " 'b': 'z',\n",
       " 'c': 'f',\n",
       " 'd': 'u',\n",
       " 'e': 'l',\n",
       " 'f': 'm',\n",
       " 'g': 'q',\n",
       " 'h': 'o',\n",
       " 'i': 'w',\n",
       " 'j': 'r',\n",
       " 'k': 'p',\n",
       " 'l': 's',\n",
       " 'm': 'i',\n",
       " 'n': 'j',\n",
       " 'o': 'x',\n",
       " 'p': 'h',\n",
       " 'q': 't',\n",
       " 'r': 'd',\n",
       " 's': 'y',\n",
       " 't': 'e',\n",
       " 'u': 'k',\n",
       " 'v': 'v',\n",
       " 'w': 'g',\n",
       " 'x': 'a',\n",
       " 'y': 'b',\n",
       " 'z': 'n'}"
      ]
     },
     "execution_count": 31,
     "metadata": {},
     "output_type": "execute_result"
    }
   ],
   "source": [
    "best_map"
   ]
  },
  {
   "cell_type": "code",
   "execution_count": 32,
   "id": "419820f3",
   "metadata": {},
   "outputs": [
    {
     "data": {
      "text/plain": [
       "-929.5902922650557"
      ]
     },
     "execution_count": 32,
     "metadata": {},
     "output_type": "execute_result"
    }
   ],
   "source": [
    "best_score"
   ]
  },
  {
   "cell_type": "code",
   "execution_count": 33,
   "id": "09703bbe",
   "metadata": {},
   "outputs": [
    {
     "name": "stdout",
     "output_type": "stream",
     "text": [
      "Log Likelihood of decoded message: -929.5902922650557\n",
      "Log Likelihood of true message: -933.0312453751817\n",
      "true: j, pred: q\n",
      "true: k, pred: j\n",
      "true: q, pred: z\n",
      "true: z, pred: k\n"
     ]
    }
   ],
   "source": [
    "# Use best map to decode the messsage\n",
    "decoded_message = decode_message(encoded_message, best_map)\n",
    "\n",
    "# Compare likelihoods between the true message and the decoded message\n",
    "print(\"Log Likelihood of decoded message:\", get_sequence_prob(decoded_message))\n",
    "print(\"Log Likelihood of true message:\", get_sequence_prob(regex.sub(' ', original_message.lower())))\n",
    "\n",
    "# Which letters do not match to the true substitution cipher?\n",
    "for true, v in true_mapping.items():\n",
    "    pred = best_map[v] \n",
    "    \n",
    "    if true != pred:\n",
    "        print(\"true: %s, pred: %s\" % (true, pred))"
   ]
  },
  {
   "cell_type": "code",
   "execution_count": 35,
   "id": "e9cd3a5c",
   "metadata": {},
   "outputs": [],
   "source": [
    "# Very good! Only 4 letters were mapped incorrectly, and 'oz' and 'ze' letters appear rarely\n",
    "# The log likelihood of your cipher is slightly higher than the true cipher, interestingly - it should be lower"
   ]
  },
  {
   "cell_type": "code",
   "execution_count": 34,
   "id": "315111a0",
   "metadata": {},
   "outputs": [
    {
     "name": "stdout",
     "output_type": "stream",
     "text": [
      "Decoded message:\n",
      " i then lounged down the street and found  as i expected  that there\n",
      "was a mews in a lane which runs down by one wall of the garden  i lent\n",
      "the ostlers a hand in rubbing down their horses  and received in\n",
      "exchange twopence  a glass of half and half  two fills of shag tobacco\n",
      "and as much information as i could desire about miss adler  to say\n",
      "nothing of half a doken other people in the neighbourhood in whom i\n",
      "was not in the least interested  but whose biographies i was compelled\n",
      "to listen to\n",
      "\n",
      "True message:\n",
      " I then lounged down the street and found,\n",
      "as I expected, that there was a mews in a lane which runs down\n",
      "by one wall of the garden. I lent the ostlers a hand in rubbing\n",
      "down their horses, and received in exchange twopence, a glass of\n",
      "half-and-half, two fills of shag tobacco, and as much information\n",
      "as I could desire about Miss Adler, to say nothing of half a dozen\n",
      "other people in the neighbourhood in whom I was not in the least\n",
      "interested, but whose biographies I was compelled to listen to.\n",
      "\n"
     ]
    }
   ],
   "source": [
    "# Print final decoded message using textwrap (remember punctuation is removed in decoded message)\n",
    "\n",
    "print(\"Decoded message:\\n\", textwrap.fill(decoded_message))\n",
    "\n",
    "print(\"\\nTrue message:\\n\", original_message)"
   ]
  },
  {
   "cell_type": "code",
   "execution_count": 36,
   "id": "0d25de0d",
   "metadata": {},
   "outputs": [],
   "source": [
    "# See the word 'doken' should be 'dozen' - your language model has no record of either word"
   ]
  },
  {
   "cell_type": "code",
   "execution_count": 37,
   "id": "7e052835",
   "metadata": {},
   "outputs": [
    {
     "data": {
      "image/png": "[encoded data removed]",
      "text/plain": [
       "<Figure size 640x480 with 1 Axes>"
      ]
     },
     "metadata": {},
     "output_type": "display_data"
    }
   ],
   "source": [
    "# Plot the scores per iteration - should improve quickly and then plateau as algorithm converges\n",
    "\n",
    "plt.plot(scores);"
   ]
  },
  {
   "cell_type": "code",
   "execution_count": null,
   "id": "f5e110b7",
   "metadata": {},
   "outputs": [],
   "source": [
    "# This is a good indicator that you have used sufficient number of iterations (sanity check!)"
   ]
  }
 ],
 "metadata": {
  "kernelspec": {
   "display_name": "Python 3 (ipykernel)",
   "language": "python",
   "name": "python3"
  },
  "language_info": {
   "codemirror_mode": {
    "name": "ipython",
    "version": 3
   },
   "file_extension": ".py",
   "mimetype": "text/x-python",
   "name": "python",
   "nbconvert_exporter": "python",
   "pygments_lexer": "ipython3",
   "version": "3.7.16"
  }
 },
 "nbformat": 4,
 "nbformat_minor": 5
}
