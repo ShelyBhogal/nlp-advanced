{
 "cells": [
  {
   "cell_type": "markdown",
   "id": "254e16f8",
   "metadata": {},
   "source": [
    "**Using business articles from online BBC News classification content, you are going to 'spin' some business articles based on existing content.**"
   ]
  },
  {
   "cell_type": "code",
   "execution_count": 1,
   "id": "63720a99",
   "metadata": {},
   "outputs": [],
   "source": [
    "import numpy as np\n",
    "import pandas as pd\n",
    "\n",
    "# Useful when printing results - wraps the text onscreen\n",
    "import textwrap\n",
    "\n",
    "# Tokenize string & De-tokenize back into single string\n",
    "import nltk\n",
    "from nltk import word_tokenize\n",
    "from nltk.tokenize.treebank import TreebankWordDetokenizer"
   ]
  },
  {
   "cell_type": "code",
   "execution_count": 2,
   "id": "22a58ab1",
   "metadata": {},
   "outputs": [
    {
     "name": "stderr",
     "output_type": "stream",
     "text": [
      "[nltk_data] Downloading package punkt to\n",
      "[nltk_data]     C:\\Users\\shmel\\AppData\\Roaming\\nltk_data...\n",
      "[nltk_data]   Package punkt is already up-to-date!\n"
     ]
    },
    {
     "data": {
      "text/plain": [
       "True"
      ]
     },
     "execution_count": 2,
     "metadata": {},
     "output_type": "execute_result"
    }
   ],
   "source": [
    "nltk.download('punkt')"
   ]
  },
  {
   "cell_type": "code",
   "execution_count": 3,
   "id": "e9e0a27e",
   "metadata": {},
   "outputs": [],
   "source": [
    "df = pd.read_csv('data/bbc_text_cls.csv')"
   ]
  },
  {
   "cell_type": "code",
   "execution_count": 4,
   "id": "1e0c4f1f",
   "metadata": {},
   "outputs": [
    {
     "data": {
      "text/html": [
       "<div>\n",
       "<style scoped>\n",
       "    .dataframe tbody tr th:only-of-type {\n",
       "        vertical-align: middle;\n",
       "    }\n",
       "\n",
       "    .dataframe tbody tr th {\n",
       "        vertical-align: top;\n",
       "    }\n",
       "\n",
       "    .dataframe thead th {\n",
       "        text-align: right;\n",
       "    }\n",
       "</style>\n",
       "<table border=\"1\" class=\"dataframe\">\n",
       "  <thead>\n",
       "    <tr style=\"text-align: right;\">\n",
       "      <th></th>\n",
       "      <th>text</th>\n",
       "      <th>labels</th>\n",
       "    </tr>\n",
       "  </thead>\n",
       "  <tbody>\n",
       "    <tr>\n",
       "      <th>0</th>\n",
       "      <td>Ad sales boost Time Warner profit\\n\\nQuarterly...</td>\n",
       "      <td>business</td>\n",
       "    </tr>\n",
       "    <tr>\n",
       "      <th>1</th>\n",
       "      <td>Dollar gains on Greenspan speech\\n\\nThe dollar...</td>\n",
       "      <td>business</td>\n",
       "    </tr>\n",
       "    <tr>\n",
       "      <th>2</th>\n",
       "      <td>Yukos unit buyer faces loan claim\\n\\nThe owner...</td>\n",
       "      <td>business</td>\n",
       "    </tr>\n",
       "    <tr>\n",
       "      <th>3</th>\n",
       "      <td>High fuel prices hit BA's profits\\n\\nBritish A...</td>\n",
       "      <td>business</td>\n",
       "    </tr>\n",
       "    <tr>\n",
       "      <th>4</th>\n",
       "      <td>Pernod takeover talk lifts Domecq\\n\\nShares in...</td>\n",
       "      <td>business</td>\n",
       "    </tr>\n",
       "  </tbody>\n",
       "</table>\n",
       "</div>"
      ],
      "text/plain": [
       "                                                text    labels\n",
       "0  Ad sales boost Time Warner profit\\n\\nQuarterly...  business\n",
       "1  Dollar gains on Greenspan speech\\n\\nThe dollar...  business\n",
       "2  Yukos unit buyer faces loan claim\\n\\nThe owner...  business\n",
       "3  High fuel prices hit BA's profits\\n\\nBritish A...  business\n",
       "4  Pernod takeover talk lifts Domecq\\n\\nShares in...  business"
      ]
     },
     "execution_count": 4,
     "metadata": {},
     "output_type": "execute_result"
    }
   ],
   "source": [
    "df.head()"
   ]
  },
  {
   "cell_type": "code",
   "execution_count": 5,
   "id": "6fff71aa",
   "metadata": {},
   "outputs": [
    {
     "data": {
      "text/plain": [
       "sport            511\n",
       "business         510\n",
       "politics         417\n",
       "tech             401\n",
       "entertainment    386\n",
       "Name: labels, dtype: int64"
      ]
     },
     "execution_count": 5,
     "metadata": {},
     "output_type": "execute_result"
    }
   ],
   "source": [
    "df['labels'].value_counts()"
   ]
  },
  {
   "cell_type": "code",
   "execution_count": 6,
   "id": "72c5398f",
   "metadata": {},
   "outputs": [],
   "source": [
    "# We only want the business-related articles\n",
    "\n",
    "texts = df[df['labels'] == 'business']['text']"
   ]
  },
  {
   "cell_type": "code",
   "execution_count": 7,
   "id": "8ef56b04",
   "metadata": {},
   "outputs": [
    {
     "data": {
      "text/plain": [
       "0    Ad sales boost Time Warner profit\\n\\nQuarterly...\n",
       "1    Dollar gains on Greenspan speech\\n\\nThe dollar...\n",
       "2    Yukos unit buyer faces loan claim\\n\\nThe owner...\n",
       "3    High fuel prices hit BA's profits\\n\\nBritish A...\n",
       "4    Pernod takeover talk lifts Domecq\\n\\nShares in...\n",
       "Name: text, dtype: object"
      ]
     },
     "execution_count": 7,
     "metadata": {},
     "output_type": "execute_result"
    }
   ],
   "source": [
    "texts.head()"
   ]
  },
  {
   "cell_type": "code",
   "execution_count": 16,
   "id": "c8dc2f8c",
   "metadata": {},
   "outputs": [
    {
     "data": {
      "text/plain": [
       "['Ad sales boost Time Warner profit',\n",
       " '',\n",
       " 'Quarterly profits at US media giant TimeWarner jumped 76% to $1.13bn (£600m) for the three months to December, from $639m year-earlier.',\n",
       " '',\n",
       " 'The firm, which is now one of the biggest investors in Google, benefited from sales of high-speed internet connections and higher advert sales. TimeWarner said fourth quarter sales rose 2% to $11.1bn from $10.9bn. Its profits were buoyed by one-off gains which offset a profit dip at Warner Bros, and less users for AOL.',\n",
       " '',\n",
       " \"Time Warner said on Friday that it now owns 8% of search-engine Google. But its own internet business, AOL, had has mixed fortunes. It lost 464,000 subscribers in the fourth quarter profits were lower than in the preceding three quarters. However, the company said AOL's underlying profit before exceptional items rose 8% on the back of stronger internet advertising revenues. It hopes to increase subscribers by offering the online service free to TimeWarner internet customers and will try to sign up AOL's existing customers for high-speed broadband. TimeWarner also has to restate 2000 and 2003 results following a probe by the US Securities Exchange Commission (SEC), which is close to concluding.\",\n",
       " '',\n",
       " 'Time Warner\\'s fourth quarter profits were slightly better than analysts\\' expectations. But its film division saw profits slump 27% to $284m, helped by box-office flops Alexander and Catwoman, a sharp contrast to year-earlier, when the third and final film in the Lord of the Rings trilogy boosted results. For the full-year, TimeWarner posted a profit of $3.36bn, up 27% from its 2003 performance, while revenues grew 6.4% to $42.09bn. \"Our financial performance was strong, meeting or exceeding all of our full-year objectives and greatly enhancing our flexibility,\" chairman and chief executive Richard Parsons said. For 2005, TimeWarner is projecting operating earnings growth of around 5%, and also expects higher revenue and wider profit margins.',\n",
       " '',\n",
       " \"TimeWarner is to restate its accounts as part of efforts to resolve an inquiry into AOL by US market regulators. It has already offered to pay $300m to settle charges, in a deal that is under review by the SEC. The company said it was unable to estimate the amount it needed to set aside for legal reserves, which it previously set at $500m. It intends to adjust the way it accounts for a deal with German music publisher Bertelsmann's purchase of a stake in AOL Europe, which it had reported as advertising revenue. It will now book the sale of its stake in AOL Europe as a loss on the value of that stake.\"]"
      ]
     },
     "execution_count": 16,
     "metadata": {},
     "output_type": "execute_result"
    }
   ],
   "source": [
    "texts.iloc[0].split('\\n')"
   ]
  },
  {
   "cell_type": "code",
   "execution_count": 9,
   "id": "ea4932d9",
   "metadata": {},
   "outputs": [],
   "source": [
    "# Each paragraph starts & ends with '\\n'. This refers to difference between title and body also"
   ]
  },
  {
   "cell_type": "markdown",
   "id": "c5d9c553",
   "metadata": {},
   "source": [
    "# Create word probability dictionary"
   ]
  },
  {
   "cell_type": "code",
   "execution_count": 10,
   "id": "dda2ffdb",
   "metadata": {},
   "outputs": [],
   "source": [
    "# Collect word counts then find probability and populate probability dictionary (dictionary of dictionaries):\n",
    "# Dictionary Key: (w(t-1), w(t+1)) \n",
    "# Dictionary Value: {w(t): count(w(t))}\n",
    "\n",
    "probs = {} \n",
    "\n",
    "for doc in texts:\n",
    "    lines = doc.split(\"\\n\") \n",
    "    \n",
    "    # Loop through each paragraph and tokenize the lines\n",
    "    for line in lines:\n",
    "        tokens = word_tokenize(line) \n",
    "        \n",
    "        # Loop through the lines and grab 3 consecutive words simultaneously\n",
    "        for i in range(len(tokens) - 2):\n",
    "            t_0 = tokens[i] \n",
    "            t_1 = tokens[i + 1] \n",
    "            t_2 = tokens[i + 2] \n",
    "            # Form the dictionary key and add to dictionary\n",
    "            key = (t_0, t_2) \n",
    "            if key not in probs:\n",
    "                probs[key] = {}\n",
    "            \n",
    "            # Add count value for middle token with key given\n",
    "            if t_1 not in probs[key]:\n",
    "                probs[key][t_1] = 1 \n",
    "            else:\n",
    "                probs[key][t_1] += 1"
   ]
  },
  {
   "cell_type": "code",
   "execution_count": 12,
   "id": "e9a18bc7",
   "metadata": {},
   "outputs": [
    {
     "data": {
      "text/plain": [
       "{('Ad', 'boost'): {'sales': 1},\n",
       " ('sales', 'Time'): {'boost': 1},\n",
       " ('boost', 'Warner'): {'Time': 1}}"
      ]
     },
     "execution_count": 12,
     "metadata": {},
     "output_type": "execute_result"
    }
   ],
   "source": [
    "dict(list(probs.items())[:3])"
   ]
  },
  {
   "cell_type": "code",
   "execution_count": 13,
   "id": "8d93185f",
   "metadata": {},
   "outputs": [],
   "source": [
    "# Normalize counts to probabilities\n",
    "\n",
    "# Loop through each key-value pair\n",
    "for key, d in probs.items():\n",
    "    total = sum(d.values()) \n",
    "    \n",
    "    # Loop through middle words and calculate probability\n",
    "    for k, v in d.items():\n",
    "        d[k] = v / total"
   ]
  },
  {
   "cell_type": "code",
   "execution_count": 15,
   "id": "4b75469d",
   "metadata": {},
   "outputs": [
    {
     "data": {
      "text/plain": [
       "{('Ad', 'boost'): {'sales': 1.0},\n",
       " ('sales', 'Time'): {'boost': 1.0},\n",
       " ('boost', 'Warner'): {'Time': 1.0},\n",
       " ('Time', 'profit'): {'Warner': 1.0},\n",
       " ('Quarterly', 'at'): {'profits': 1.0},\n",
       " ('profits', 'US'): {'at': 1.0},\n",
       " ('at', 'media'): {'US': 1.0},\n",
       " ('US', 'giant'): {'media': 0.1,\n",
       "  'telecoms': 0.1,\n",
       "  'banking': 0.2,\n",
       "  'foods': 0.1,\n",
       "  'retail': 0.1,\n",
       "  'oil': 0.2,\n",
       "  'mortgage': 0.1,\n",
       "  'agrochemical': 0.1},\n",
       " ('media', 'TimeWarner'): {'giant': 1.0},\n",
       " ('giant', 'jumped'): {'TimeWarner': 1.0}}"
      ]
     },
     "execution_count": 15,
     "metadata": {},
     "output_type": "execute_result"
    }
   ],
   "source": [
    "dict(list(probs.items())[:10])"
   ]
  },
  {
   "cell_type": "code",
   "execution_count": 17,
   "id": "bd760ee8",
   "metadata": {},
   "outputs": [],
   "source": [
    "# Note that a lot of words have 1 probability, which means no other option for a middle word - don't bother to replace"
   ]
  },
  {
   "cell_type": "markdown",
   "id": "8e7315de",
   "metadata": {},
   "source": [
    "Your Markov model is ready! \n",
    "\n",
    "# 'Spin' your article\n",
    "\n",
    "You are going to spin your article **paragraph-by-paragraph**. You can spin sentence-by-sentence, but we want to retain the same structure as much as possible.\n",
    "\n",
    "You need to:\n",
    "1. Tokenize each paragraph in order to spin the article\n",
    "2. Once the article has been spun, you need to turn the list of tokens back into a single string using NLTK **`TreebankWordDetokenizer`** Class, which takes into account the difference between words and punctuation and whether there should be a whitespace or not, e.g. \"the end\" vs \"end. The\"\n",
    "\n"
   ]
  },
  {
   "cell_type": "code",
   "execution_count": 18,
   "id": "fa380eed",
   "metadata": {},
   "outputs": [],
   "source": [
    "# Function to spin each paragraph by calling spin_line function (defined below), and join paragraphs together to make article \n",
    "# Input is existing article\n",
    "\n",
    "def spin_document(doc):\n",
    "    # Split document into lines (paragraphs) \n",
    "    lines = doc.split(\"\\n\") \n",
    "    output = [] \n",
    "    \n",
    "    # Loop through each paragraph\n",
    "    for line in lines:\n",
    "        # Check if line has content and spin line\n",
    "        if line:\n",
    "            new_line = spin_line(line)\n",
    "        else:\n",
    "            new_line = line \n",
    "        \n",
    "        output.append(new_line)\n",
    "            \n",
    "    return \"\\n\".join(output)"
   ]
  },
  {
   "cell_type": "code",
   "execution_count": 19,
   "id": "47c5964d",
   "metadata": {},
   "outputs": [],
   "source": [
    "# Set up detokenizer object\n",
    "\n",
    "detokenizer = TreebankWordDetokenizer()"
   ]
  },
  {
   "cell_type": "code",
   "execution_count": 20,
   "id": "aba15eee",
   "metadata": {},
   "outputs": [
    {
     "data": {
      "text/plain": [
       "'Quarterly profits at US media giant TimeWarner jumped 76% to $1.13bn (£600m) for the three months to December, from $639m year-earlier.'"
      ]
     },
     "execution_count": 20,
     "metadata": {},
     "output_type": "execute_result"
    }
   ],
   "source": [
    "# Pick random paragraph from text document\n",
    "\n",
    "texts.iloc[0].split(\"\\n\")[2]"
   ]
  },
  {
   "cell_type": "code",
   "execution_count": 21,
   "id": "350f4f6a",
   "metadata": {},
   "outputs": [
    {
     "data": {
      "text/plain": [
       "'Quarterly profits at US media giant TimeWarner jumped 76% to $1.13bn (£600m) for the three months to December, from $639m year-earlier.'"
      ]
     },
     "execution_count": 21,
     "metadata": {},
     "output_type": "execute_result"
    }
   ],
   "source": [
    "# Tokenize paragraph then detokenize!\n",
    "\n",
    "detokenizer.detokenize(word_tokenize(texts.iloc[0].split(\"\\n\")[2]))"
   ]
  },
  {
   "cell_type": "code",
   "execution_count": 22,
   "id": "6496ace3",
   "metadata": {},
   "outputs": [],
   "source": [
    "# Result is identical, which shows that the sentence and punctuation, spacing etc. is all treated correctly"
   ]
  },
  {
   "cell_type": "markdown",
   "id": "492133f9",
   "metadata": {},
   "source": [
    "### Random sampling of words from probability distribution"
   ]
  },
  {
   "cell_type": "code",
   "execution_count": 23,
   "id": "6bb1173f",
   "metadata": {},
   "outputs": [],
   "source": [
    "# Same as used with text generation (input is dictionary)\n",
    "\n",
    "def sample_word(d):\n",
    "    p0 = np.random.random() \n",
    "    cumulative = 0 \n",
    "    \n",
    "    for t, p in d.items():\n",
    "        cumulative += p \n",
    "        if p0 < cumulative:\n",
    "            return t \n",
    "    \n",
    "    assert(False) # Should never get here!"
   ]
  },
  {
   "cell_type": "code",
   "execution_count": 24,
   "id": "ca062fb0",
   "metadata": {},
   "outputs": [],
   "source": [
    "# Spin line function that inputs paragraph, then:\n",
    "# tokenizes the paragraphs 3 words at a time,\n",
    "# if there is more than one word in token with a randomly-picked probability under 30%, \n",
    "# it replaces the middle word with another randomly-picked middle word, then skips ahead two words, i.e. spinning!\n",
    "# In order to compare results and see how function works, append new word in < > brackets, next to original word,\n",
    "# and you will never replace two words in a row\n",
    "\n",
    "def spin_line(line):\n",
    "    tokens = word_tokenize(line) \n",
    "    i = 0 \n",
    "    output = [tokens[0]] \n",
    "    \n",
    "    # Grab 3 words at a time\n",
    "    while i < (len(tokens) - 2):\n",
    "        t_0 = tokens[i] \n",
    "        t_1 = tokens[i + 1] \n",
    "        t_2 = tokens[i + 2] \n",
    "        key = (t_0, t_2) \n",
    "        p_dist = probs[key] \n",
    "        \n",
    "        if len(p_dist) > 1 and np.random.random() < 0.3:\n",
    "            # Replace the middle word \n",
    "            middle = sample_word(p_dist) \n",
    "            output.append(t_1) \n",
    "            output.append(\"<\" + middle + \">\") \n",
    "            output.append(t_2) \n",
    "            # Don't replace 3rd token since the middle token was dependent on it \n",
    "            # By adding two new words, skip ahead 2 steps in the index\n",
    "            i += 2 \n",
    "        else:\n",
    "            # Do not replace this middle word \n",
    "            output.append(t_1) \n",
    "            i += 1 \n",
    "            \n",
    "    # Append the final token - in case there was no replacement for i\n",
    "    if i == len(tokens) - 2:\n",
    "        output.append(tokens[-1]) \n",
    "    \n",
    "    return detokenizer.detokenize(output)"
   ]
  },
  {
   "cell_type": "code",
   "execution_count": 25,
   "id": "b4c64f5c",
   "metadata": {},
   "outputs": [],
   "source": [
    "np.random.seed(42)"
   ]
  },
  {
   "cell_type": "markdown",
   "id": "8a64c7a2",
   "metadata": {},
   "source": [
    "**Randomly select an article (document) to input to the `spin_document` function, that calls the 'spin_line' function, which in turn calls the 'sample_word' function:**\n",
    "\n",
    "Use the `textwrap.fill()` function to print the output nicely."
   ]
  },
  {
   "cell_type": "code",
   "execution_count": 28,
   "id": "f116887a",
   "metadata": {},
   "outputs": [],
   "source": [
    "# Randomly select article by index number within number of total articles\n",
    "i = np.random.choice(texts.shape[0])\n",
    "\n",
    "# Find document at random index location\n",
    "doc = texts.iloc[i]\n",
    "\n",
    "# Spin new document from random document\n",
    "new_doc = spin_document(doc)"
   ]
  },
  {
   "cell_type": "code",
   "execution_count": 29,
   "id": "0a24b73a",
   "metadata": {},
   "outputs": [
    {
     "name": "stdout",
     "output_type": "stream",
     "text": [
      "Weak dollar trims Cadbury profits\n",
      "\n",
      "The world's biggest confectionery\n",
      "<confectionery> firm, Cadbury Schweppes, has <have> reported a modest\n",
      "rise in profits <Asia> after the weak <falling> dollar took a bite out\n",
      "of its <positive> results.\n",
      "\n",
      "Underlying pre-tax profits rose 1% <%> to\n",
      "£933m <£6.2bn> ($1.78bn) in 2004, but would have been 8% higher if\n",
      "currency movements were stripped out . The owner <owner> of brands\n",
      "<products> such as Dairy Milk, Dr Pepper and Snapple generates more\n",
      "than 80% of its sales <sales> outside the UK <news>. Cadbury said it\n",
      "was confident <finding> it would hit its targets for 2005 . <.> \"While\n",
      "the external commercial environment remains competitive <high>, we\n",
      "<which> are confident that we have the strategy <pound>, brands and\n",
      "people <Russia> to deliver within our goal ranges in 2005, <,>\" said\n",
      "chief executive Todd Stitzer.\n",
      "\n",
      "The modest profit rise had been\n",
      "expected by analysts after the company <company> said in December\n",
      "<Europe> that the poor summer weather had hit soft drink sales in\n",
      "Europe.\n",
      "\n",
      "Cadbury said its underlying sales were up by 4% in 2004 .\n",
      "Growth was helped by <by> its confectionery brands - including Cadbury\n",
      "<hotels>, Trident <Strongbow> and Halls <Halls> - which enjoyed a <a>\n",
      "\"successful <exceptional>\" year, with like-for-like sales up 6% .\n",
      "Drinks sales were <were> up 2% with strong growth in US carbonated\n",
      "soft drinks, led by Dr Pepper and diet drinks, offset by the weaker\n",
      "sales in Europe . Cadbury added that its Fuel for Growth cost-cutting\n",
      "programme had saved £75m in 2004, bringing <although> total cost\n",
      "savings to £100m since the scheme began in mid-2003 . The programme is\n",
      "set to close <buy> 20% of <in> the group's factories and shed 10% of\n",
      "the workforce <group>. Cadbury Schweppes employs more than 50,000\n",
      "people worldwide, with about 7,000 in the <the> UK.\n"
     ]
    }
   ],
   "source": [
    "# Use textwrap.fill() to print output\n",
    "\n",
    "print(textwrap.fill(new_doc, replace_whitespace=False, fix_sentence_endings=True))"
   ]
  },
  {
   "cell_type": "code",
   "execution_count": null,
   "id": "8ed9bff9",
   "metadata": {},
   "outputs": [],
   "source": [
    "# You'll notice that sometimes the original word is replaced with the same word\n",
    "# If you want to force a change, modify its random probability from 0.3 to 0\n",
    "\n",
    "# Notice that detokenizer is failing at the end of some sentences by inserting whitespace before full-stop - you may want to add\n",
    "# transformation rule"
   ]
  },
  {
   "cell_type": "markdown",
   "id": "eb132d8b",
   "metadata": {},
   "source": [
    "# Extension exercises:\n",
    "\n",
    "### POS tags\n",
    "\n",
    "Take parts-of-speech into account by tagging\n",
    "\n",
    "### Synonyms\n",
    "\n",
    "Use a dictionary of synonyms \n",
    "\n",
    "### Larger context window\n",
    "\n",
    "You can change the size of the context window, by including more previous words and more words after the word in question. You can only judge this by understanding how the 'spinner' is behaving in its present state. Note that this adds more dimensions.\n",
    "\n",
    "The number of words before-and-after do not have to be symmetrical, i.e. you can have one previous word and two words after. "
   ]
  },
  {
   "cell_type": "code",
   "execution_count": null,
   "id": "a65da56f",
   "metadata": {},
   "outputs": [],
   "source": []
  }
 ],
 "metadata": {
  "kernelspec": {
   "display_name": "Python 3 (ipykernel)",
   "language": "python",
   "name": "python3"
  },
  "language_info": {
   "codemirror_mode": {
    "name": "ipython",
    "version": 3
   },
   "file_extension": ".py",
   "mimetype": "text/x-python",
   "name": "python",
   "nbconvert_exporter": "python",
   "pygments_lexer": "ipython3",
   "version": "3.7.16"
  }
 },
 "nbformat": 4,
 "nbformat_minor": 5
}
